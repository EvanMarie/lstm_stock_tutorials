{
 "cells": [
  {
   "cell_type": "markdown",
   "id": "4a24b847-3ec5-49ef-b03d-75f73467496f",
   "metadata": {},
   "source": [
    "<a name=\"top\"></a>\n",
    "\n",
    "# **Predict Sales: Neural Network & PyTorch** [[YouTube]](https://www.youtube.com/watch?v=SugVN2t3M8I)\n",
    "<br>\n",
    "\n",
    "[Notebook](https://colab.research.google.com/drive/14XsXF-8Jl67Rwb_ElnWCKwTLNZpx037h#scrollTo=9FhUIQHTMt2j)"
   ]
  },
  {
   "cell_type": "code",
   "execution_count": 1,
   "id": "bf5ce19e-456c-4c63-84de-81341b7ba8f2",
   "metadata": {},
   "outputs": [],
   "source": [
    "import pandas as pd\n",
    "import numpy as np\n",
    "import torch\n",
    "import torch.nn as nn\n",
    "import torch.optim as optim\n",
    "import matplotlib.pyplot as plt\n",
    "%matplotlib inline\n",
    "from helpers import *\n",
    "pd.options.display.float_format = '${:,.2f}'.format"
   ]
  },
  {
   "cell_type": "markdown",
   "id": "6b872da6-6670-4985-8d71-50bd1b9ec363",
   "metadata": {},
   "source": [
    "<font size = 4><span style = 'background-color: #ddddff; padding: 5px 5px 3px 5px; line-height: 1.5; color:black;border-radius: 3px;'>**Establishing and checking device**"
   ]
  },
  {
   "cell_type": "code",
   "execution_count": 2,
   "id": "91414a42-a025-4451-9e2c-1bc140cd68db",
   "metadata": {},
   "outputs": [
    {
     "name": "stdout",
     "output_type": "stream",
     "text": [
      "cpu device is the current processing unit\n"
     ]
    }
   ],
   "source": [
    "# Check to see if we have a GPU to use for training\n",
    "device = 'cuda' if torch.cuda.is_available() else 'cpu'\n",
    "print('{} device is the current processing unit'.format(device))\n",
    "\n",
    "if device=='cuda':\n",
    "    print (\"GPU is available: \", torch.cuda.get_device_(device=device))"
   ]
  },
  {
   "cell_type": "markdown",
   "id": "cbec844f-9b02-4ffa-bd56-56ded35e47f2",
   "metadata": {},
   "source": [
    "<font size = 4><span style = 'background-color: #ddddff; padding: 5px 5px 3px 5px; line-height: 1.5; color:black;border-radius: 3px;'>**The Dataset**\n",
    "* `Weekend`, `Sunny`, `Warm`, `BigSign` - One-hot encoded"
   ]
  },
  {
   "cell_type": "code",
   "execution_count": 3,
   "id": "48c0df42-b32a-41ce-92d8-fd9411821687",
   "metadata": {},
   "outputs": [
    {
     "data": {
      "text/html": [
       "<span style = 'display: block; width: 140.0px; \t\t\t\t\t\tline-height: 2; background: #333333;\t\t\t\t\t\tmargin-left: auto; margin-right: auto;\t\t\t\t\t\tborder: 1px solid text_color;\t\t\t\t\t\tborder-radius: 3px; text-align: center;\t\t\t\t\t\tpadding: 3px 8px 3px 8px;'>\t\t\t\t\t\t<b><font size=4><text style=color:white>Lemonade Sales\t\t\t\t\t\t</text></font></b></style>"
      ],
      "text/plain": [
       "<IPython.core.display.HTML object>"
      ]
     },
     "metadata": {},
     "output_type": "display_data"
    },
    {
     "data": {
      "text/html": [
       "<center><style type=\"text/css\">\n",
       "#T_346e2 caption {\n",
       "  background: #333333;\n",
       "  border-radius: 3px;\n",
       "  padding: 5px;\n",
       "  color: white;\n",
       "  font-size: 12px;\n",
       "  font-weight: bold;\n",
       "}\n",
       "</style>\n",
       "<table id=\"T_346e2\" style='display:inline-block'>\n",
       "  <caption>head(5)</caption>\n",
       "  <thead>\n",
       "    <tr>\n",
       "      <th class=\"blank level0\" >&nbsp;</th>\n",
       "      <th id=\"T_346e2_level0_col0\" class=\"col_heading level0 col0\" >weekend</th>\n",
       "      <th id=\"T_346e2_level0_col1\" class=\"col_heading level0 col1\" >sunny</th>\n",
       "      <th id=\"T_346e2_level0_col2\" class=\"col_heading level0 col2\" >warm_weather</th>\n",
       "      <th id=\"T_346e2_level0_col3\" class=\"col_heading level0 col3\" >big_sign</th>\n",
       "      <th id=\"T_346e2_level0_col4\" class=\"col_heading level0 col4\" >price</th>\n",
       "      <th id=\"T_346e2_level0_col5\" class=\"col_heading level0 col5\" >total_sales</th>\n",
       "    </tr>\n",
       "  </thead>\n",
       "  <tbody>\n",
       "    <tr>\n",
       "      <th id=\"T_346e2_level0_row0\" class=\"row_heading level0 row0\" >0</th>\n",
       "      <td id=\"T_346e2_row0_col0\" class=\"data row0 col0\" >1</td>\n",
       "      <td id=\"T_346e2_row0_col1\" class=\"data row0 col1\" >0</td>\n",
       "      <td id=\"T_346e2_row0_col2\" class=\"data row0 col2\" >0</td>\n",
       "      <td id=\"T_346e2_row0_col3\" class=\"data row0 col3\" >1</td>\n",
       "      <td id=\"T_346e2_row0_col4\" class=\"data row0 col4\" >9</td>\n",
       "      <td id=\"T_346e2_row0_col5\" class=\"data row0 col5\" >71</td>\n",
       "    </tr>\n",
       "    <tr>\n",
       "      <th id=\"T_346e2_level0_row1\" class=\"row_heading level0 row1\" >1</th>\n",
       "      <td id=\"T_346e2_row1_col0\" class=\"data row1 col0\" >1</td>\n",
       "      <td id=\"T_346e2_row1_col1\" class=\"data row1 col1\" >1</td>\n",
       "      <td id=\"T_346e2_row1_col2\" class=\"data row1 col2\" >1</td>\n",
       "      <td id=\"T_346e2_row1_col3\" class=\"data row1 col3\" >0</td>\n",
       "      <td id=\"T_346e2_row1_col4\" class=\"data row1 col4\" >10</td>\n",
       "      <td id=\"T_346e2_row1_col5\" class=\"data row1 col5\" >137</td>\n",
       "    </tr>\n",
       "    <tr>\n",
       "      <th id=\"T_346e2_level0_row2\" class=\"row_heading level0 row2\" >2</th>\n",
       "      <td id=\"T_346e2_row2_col0\" class=\"data row2 col0\" >0</td>\n",
       "      <td id=\"T_346e2_row2_col1\" class=\"data row2 col1\" >1</td>\n",
       "      <td id=\"T_346e2_row2_col2\" class=\"data row2 col2\" >0</td>\n",
       "      <td id=\"T_346e2_row2_col3\" class=\"data row2 col3\" >0</td>\n",
       "      <td id=\"T_346e2_row2_col4\" class=\"data row2 col4\" >10</td>\n",
       "      <td id=\"T_346e2_row2_col5\" class=\"data row2 col5\" >0</td>\n",
       "    </tr>\n",
       "    <tr>\n",
       "      <th id=\"T_346e2_level0_row3\" class=\"row_heading level0 row3\" >3</th>\n",
       "      <td id=\"T_346e2_row3_col0\" class=\"data row3 col0\" >1</td>\n",
       "      <td id=\"T_346e2_row3_col1\" class=\"data row3 col1\" >0</td>\n",
       "      <td id=\"T_346e2_row3_col2\" class=\"data row3 col2\" >0</td>\n",
       "      <td id=\"T_346e2_row3_col3\" class=\"data row3 col3\" >1</td>\n",
       "      <td id=\"T_346e2_row3_col4\" class=\"data row3 col4\" >6</td>\n",
       "      <td id=\"T_346e2_row3_col5\" class=\"data row3 col5\" >107</td>\n",
       "    </tr>\n",
       "    <tr>\n",
       "      <th id=\"T_346e2_level0_row4\" class=\"row_heading level0 row4\" >4</th>\n",
       "      <td id=\"T_346e2_row4_col0\" class=\"data row4 col0\" >1</td>\n",
       "      <td id=\"T_346e2_row4_col1\" class=\"data row4 col1\" >0</td>\n",
       "      <td id=\"T_346e2_row4_col2\" class=\"data row4 col2\" >0</td>\n",
       "      <td id=\"T_346e2_row4_col3\" class=\"data row4 col3\" >1</td>\n",
       "      <td id=\"T_346e2_row4_col4\" class=\"data row4 col4\" >8</td>\n",
       "      <td id=\"T_346e2_row4_col5\" class=\"data row4 col5\" >80</td>\n",
       "    </tr>\n",
       "  </tbody>\n",
       "</table>\n",
       "&nbsp;&nbsp;&nbsp;<style type=\"text/css\">\n",
       "#T_61231 caption {\n",
       "  background: #333333;\n",
       "  border-radius: 3px;\n",
       "  padding: 5px;\n",
       "  color: white;\n",
       "  font-size: 12px;\n",
       "  font-weight: bold;\n",
       "}\n",
       "</style>\n",
       "<table id=\"T_61231\" style='display:inline-block'>\n",
       "  <caption>tail(5)</caption>\n",
       "  <thead>\n",
       "    <tr>\n",
       "      <th class=\"blank level0\" >&nbsp;</th>\n",
       "      <th id=\"T_61231_level0_col0\" class=\"col_heading level0 col0\" >weekend</th>\n",
       "      <th id=\"T_61231_level0_col1\" class=\"col_heading level0 col1\" >sunny</th>\n",
       "      <th id=\"T_61231_level0_col2\" class=\"col_heading level0 col2\" >warm_weather</th>\n",
       "      <th id=\"T_61231_level0_col3\" class=\"col_heading level0 col3\" >big_sign</th>\n",
       "      <th id=\"T_61231_level0_col4\" class=\"col_heading level0 col4\" >price</th>\n",
       "      <th id=\"T_61231_level0_col5\" class=\"col_heading level0 col5\" >total_sales</th>\n",
       "    </tr>\n",
       "  </thead>\n",
       "  <tbody>\n",
       "    <tr>\n",
       "      <th id=\"T_61231_level0_row0\" class=\"row_heading level0 row0\" >360</th>\n",
       "      <td id=\"T_61231_row0_col0\" class=\"data row0 col0\" >0</td>\n",
       "      <td id=\"T_61231_row0_col1\" class=\"data row0 col1\" >1</td>\n",
       "      <td id=\"T_61231_row0_col2\" class=\"data row0 col2\" >1</td>\n",
       "      <td id=\"T_61231_row0_col3\" class=\"data row0 col3\" >1</td>\n",
       "      <td id=\"T_61231_row0_col4\" class=\"data row0 col4\" >7</td>\n",
       "      <td id=\"T_61231_row0_col5\" class=\"data row0 col5\" >0</td>\n",
       "    </tr>\n",
       "    <tr>\n",
       "      <th id=\"T_61231_level0_row1\" class=\"row_heading level0 row1\" >361</th>\n",
       "      <td id=\"T_61231_row1_col0\" class=\"data row1 col0\" >0</td>\n",
       "      <td id=\"T_61231_row1_col1\" class=\"data row1 col1\" >0</td>\n",
       "      <td id=\"T_61231_row1_col2\" class=\"data row1 col2\" >1</td>\n",
       "      <td id=\"T_61231_row1_col3\" class=\"data row1 col3\" >1</td>\n",
       "      <td id=\"T_61231_row1_col4\" class=\"data row1 col4\" >8</td>\n",
       "      <td id=\"T_61231_row1_col5\" class=\"data row1 col5\" >0</td>\n",
       "    </tr>\n",
       "    <tr>\n",
       "      <th id=\"T_61231_level0_row2\" class=\"row_heading level0 row2\" >362</th>\n",
       "      <td id=\"T_61231_row2_col0\" class=\"data row2 col0\" >1</td>\n",
       "      <td id=\"T_61231_row2_col1\" class=\"data row2 col1\" >0</td>\n",
       "      <td id=\"T_61231_row2_col2\" class=\"data row2 col2\" >0</td>\n",
       "      <td id=\"T_61231_row2_col3\" class=\"data row2 col3\" >1</td>\n",
       "      <td id=\"T_61231_row2_col4\" class=\"data row2 col4\" >9</td>\n",
       "      <td id=\"T_61231_row2_col5\" class=\"data row2 col5\" >71</td>\n",
       "    </tr>\n",
       "    <tr>\n",
       "      <th id=\"T_61231_level0_row3\" class=\"row_heading level0 row3\" >363</th>\n",
       "      <td id=\"T_61231_row3_col0\" class=\"data row3 col0\" >0</td>\n",
       "      <td id=\"T_61231_row3_col1\" class=\"data row3 col1\" >0</td>\n",
       "      <td id=\"T_61231_row3_col2\" class=\"data row3 col2\" >1</td>\n",
       "      <td id=\"T_61231_row3_col3\" class=\"data row3 col3\" >1</td>\n",
       "      <td id=\"T_61231_row3_col4\" class=\"data row3 col4\" >10</td>\n",
       "      <td id=\"T_61231_row3_col5\" class=\"data row3 col5\" >0</td>\n",
       "    </tr>\n",
       "    <tr>\n",
       "      <th id=\"T_61231_level0_row4\" class=\"row_heading level0 row4\" >364</th>\n",
       "      <td id=\"T_61231_row4_col0\" class=\"data row4 col0\" >0</td>\n",
       "      <td id=\"T_61231_row4_col1\" class=\"data row4 col1\" >0</td>\n",
       "      <td id=\"T_61231_row4_col2\" class=\"data row4 col2\" >1</td>\n",
       "      <td id=\"T_61231_row4_col3\" class=\"data row4 col3\" >0</td>\n",
       "      <td id=\"T_61231_row4_col4\" class=\"data row4 col4\" >6</td>\n",
       "      <td id=\"T_61231_row4_col5\" class=\"data row4 col5\" >0</td>\n",
       "    </tr>\n",
       "  </tbody>\n",
       "</table>\n",
       "&nbsp;&nbsp;&nbsp;"
      ]
     },
     "metadata": {},
     "output_type": "display_data"
    },
    {
     "name": "stdout",
     "output_type": "stream",
     "text": [
      "\n"
     ]
    }
   ],
   "source": [
    "url = 'https://raw.githubusercontent.com/LeakyAI/FirstNeuralNet/main/lemons.csv'\n",
    "df = pd.read_csv(url)\n",
    "df.columns = ['weekend', 'sunny', 'warm_weather', 'big_sign', 'price', 'total_sales']\n",
    "\n",
    "head_tail_horz(df, 5, \"Lemonade Sales\")"
   ]
  },
  {
   "cell_type": "code",
   "execution_count": 23,
   "id": "e32ef7d7-d931-4aa0-8b9a-e53cd9b375ed",
   "metadata": {},
   "outputs": [
    {
     "data": {
      "text/plain": [
       "(365, 6)"
      ]
     },
     "execution_count": 23,
     "metadata": {},
     "output_type": "execute_result"
    }
   ],
   "source": [
    "df.shape"
   ]
  },
  {
   "cell_type": "markdown",
   "id": "7277ad65-a80e-448e-93d6-029ba928df3b",
   "metadata": {},
   "source": [
    "<font size = 4><span style = 'background-color: #ddddff; padding: 5px 5px 3px 5px; line-height: 1.5; color:black;border-radius: 3px;'>**Standardizing the values**\n",
    "* range -1 to 1\n",
    "* calculating the mean and standard deviation of `price`\n",
    "* stardardizing the values in `price`\n",
    "* calculating mean and standard deviation of `num_sold`\n",
    "* stardardizing the values `num_sold`"
   ]
  },
  {
   "cell_type": "code",
   "execution_count": 4,
   "id": "6cfc9faa-49ee-412d-9bef-017ce6228976",
   "metadata": {},
   "outputs": [],
   "source": [
    "price_avg = df.price.mean()\n",
    "price_std = df.price.std()\n",
    "df['price'] = (df['price'] - price_avg) / price_std\n",
    "\n",
    "sales_avg = df.total_sales.mean()\n",
    "sales_std = df.total_sales.std()\n",
    "df['total_sales'] = (df['total_sales'] - sales_avg) / sales_std"
   ]
  },
  {
   "cell_type": "code",
   "execution_count": 5,
   "id": "42efbf70-0a8a-41dd-89c1-c816d564d697",
   "metadata": {},
   "outputs": [
    {
     "data": {
      "text/html": [
       "<span style = 'display: block; width: 160.0px; \t\t\t\t\t\tline-height: 2; background: #333333;\t\t\t\t\t\tmargin-left: auto; margin-right: auto;\t\t\t\t\t\tborder: 1px solid text_color;\t\t\t\t\t\tborder-radius: 3px; text-align: center;\t\t\t\t\t\tpadding: 3px 8px 3px 8px;'>\t\t\t\t\t\t<b><font size=4><text style=color:white>Stardized Values\t\t\t\t\t\t</text></font></b></style>"
      ],
      "text/plain": [
       "<IPython.core.display.HTML object>"
      ]
     },
     "metadata": {},
     "output_type": "display_data"
    },
    {
     "data": {
      "text/html": [
       "<center><style type=\"text/css\">\n",
       "#T_68d98 caption {\n",
       "  background: #333333;\n",
       "  border-radius: 3px;\n",
       "  padding: 5px;\n",
       "  color: white;\n",
       "  font-size: 12px;\n",
       "  font-weight: bold;\n",
       "}\n",
       "</style>\n",
       "<table id=\"T_68d98\" style='display:inline-block'>\n",
       "  <caption>head(5)</caption>\n",
       "  <thead>\n",
       "    <tr>\n",
       "      <th class=\"blank level0\" >&nbsp;</th>\n",
       "      <th id=\"T_68d98_level0_col0\" class=\"col_heading level0 col0\" >weekend</th>\n",
       "      <th id=\"T_68d98_level0_col1\" class=\"col_heading level0 col1\" >sunny</th>\n",
       "      <th id=\"T_68d98_level0_col2\" class=\"col_heading level0 col2\" >warm_weather</th>\n",
       "      <th id=\"T_68d98_level0_col3\" class=\"col_heading level0 col3\" >big_sign</th>\n",
       "      <th id=\"T_68d98_level0_col4\" class=\"col_heading level0 col4\" >price</th>\n",
       "      <th id=\"T_68d98_level0_col5\" class=\"col_heading level0 col5\" >total_sales</th>\n",
       "    </tr>\n",
       "  </thead>\n",
       "  <tbody>\n",
       "    <tr>\n",
       "      <th id=\"T_68d98_level0_row0\" class=\"row_heading level0 row0\" >0</th>\n",
       "      <td id=\"T_68d98_row0_col0\" class=\"data row0 col0\" >1</td>\n",
       "      <td id=\"T_68d98_row0_col1\" class=\"data row0 col1\" >0</td>\n",
       "      <td id=\"T_68d98_row0_col2\" class=\"data row0 col2\" >0</td>\n",
       "      <td id=\"T_68d98_row0_col3\" class=\"data row0 col3\" >1</td>\n",
       "      <td id=\"T_68d98_row0_col4\" class=\"data row0 col4\" >0.85</td>\n",
       "      <td id=\"T_68d98_row0_col5\" class=\"data row0 col5\" >-0.02</td>\n",
       "    </tr>\n",
       "    <tr>\n",
       "      <th id=\"T_68d98_level0_row1\" class=\"row_heading level0 row1\" >1</th>\n",
       "      <td id=\"T_68d98_row1_col0\" class=\"data row1 col0\" >1</td>\n",
       "      <td id=\"T_68d98_row1_col1\" class=\"data row1 col1\" >1</td>\n",
       "      <td id=\"T_68d98_row1_col2\" class=\"data row1 col2\" >1</td>\n",
       "      <td id=\"T_68d98_row1_col3\" class=\"data row1 col3\" >0</td>\n",
       "      <td id=\"T_68d98_row1_col4\" class=\"data row1 col4\" >1.45</td>\n",
       "      <td id=\"T_68d98_row1_col5\" class=\"data row1 col5\" >0.74</td>\n",
       "    </tr>\n",
       "    <tr>\n",
       "      <th id=\"T_68d98_level0_row2\" class=\"row_heading level0 row2\" >2</th>\n",
       "      <td id=\"T_68d98_row2_col0\" class=\"data row2 col0\" >0</td>\n",
       "      <td id=\"T_68d98_row2_col1\" class=\"data row2 col1\" >1</td>\n",
       "      <td id=\"T_68d98_row2_col2\" class=\"data row2 col2\" >0</td>\n",
       "      <td id=\"T_68d98_row2_col3\" class=\"data row2 col3\" >0</td>\n",
       "      <td id=\"T_68d98_row2_col4\" class=\"data row2 col4\" >1.45</td>\n",
       "      <td id=\"T_68d98_row2_col5\" class=\"data row2 col5\" >-0.85</td>\n",
       "    </tr>\n",
       "    <tr>\n",
       "      <th id=\"T_68d98_level0_row3\" class=\"row_heading level0 row3\" >3</th>\n",
       "      <td id=\"T_68d98_row3_col0\" class=\"data row3 col0\" >1</td>\n",
       "      <td id=\"T_68d98_row3_col1\" class=\"data row3 col1\" >0</td>\n",
       "      <td id=\"T_68d98_row3_col2\" class=\"data row3 col2\" >0</td>\n",
       "      <td id=\"T_68d98_row3_col3\" class=\"data row3 col3\" >1</td>\n",
       "      <td id=\"T_68d98_row3_col4\" class=\"data row3 col4\" >-0.97</td>\n",
       "      <td id=\"T_68d98_row3_col5\" class=\"data row3 col5\" >0.39</td>\n",
       "    </tr>\n",
       "    <tr>\n",
       "      <th id=\"T_68d98_level0_row4\" class=\"row_heading level0 row4\" >4</th>\n",
       "      <td id=\"T_68d98_row4_col0\" class=\"data row4 col0\" >1</td>\n",
       "      <td id=\"T_68d98_row4_col1\" class=\"data row4 col1\" >0</td>\n",
       "      <td id=\"T_68d98_row4_col2\" class=\"data row4 col2\" >0</td>\n",
       "      <td id=\"T_68d98_row4_col3\" class=\"data row4 col3\" >1</td>\n",
       "      <td id=\"T_68d98_row4_col4\" class=\"data row4 col4\" >0.24</td>\n",
       "      <td id=\"T_68d98_row4_col5\" class=\"data row4 col5\" >0.08</td>\n",
       "    </tr>\n",
       "  </tbody>\n",
       "</table>\n",
       "&nbsp;&nbsp;&nbsp;<style type=\"text/css\">\n",
       "#T_9f866 caption {\n",
       "  background: #333333;\n",
       "  border-radius: 3px;\n",
       "  padding: 5px;\n",
       "  color: white;\n",
       "  font-size: 12px;\n",
       "  font-weight: bold;\n",
       "}\n",
       "</style>\n",
       "<table id=\"T_9f866\" style='display:inline-block'>\n",
       "  <caption>tail(5)</caption>\n",
       "  <thead>\n",
       "    <tr>\n",
       "      <th class=\"blank level0\" >&nbsp;</th>\n",
       "      <th id=\"T_9f866_level0_col0\" class=\"col_heading level0 col0\" >weekend</th>\n",
       "      <th id=\"T_9f866_level0_col1\" class=\"col_heading level0 col1\" >sunny</th>\n",
       "      <th id=\"T_9f866_level0_col2\" class=\"col_heading level0 col2\" >warm_weather</th>\n",
       "      <th id=\"T_9f866_level0_col3\" class=\"col_heading level0 col3\" >big_sign</th>\n",
       "      <th id=\"T_9f866_level0_col4\" class=\"col_heading level0 col4\" >price</th>\n",
       "      <th id=\"T_9f866_level0_col5\" class=\"col_heading level0 col5\" >total_sales</th>\n",
       "    </tr>\n",
       "  </thead>\n",
       "  <tbody>\n",
       "    <tr>\n",
       "      <th id=\"T_9f866_level0_row0\" class=\"row_heading level0 row0\" >360</th>\n",
       "      <td id=\"T_9f866_row0_col0\" class=\"data row0 col0\" >0</td>\n",
       "      <td id=\"T_9f866_row0_col1\" class=\"data row0 col1\" >1</td>\n",
       "      <td id=\"T_9f866_row0_col2\" class=\"data row0 col2\" >1</td>\n",
       "      <td id=\"T_9f866_row0_col3\" class=\"data row0 col3\" >1</td>\n",
       "      <td id=\"T_9f866_row0_col4\" class=\"data row0 col4\" >-0.37</td>\n",
       "      <td id=\"T_9f866_row0_col5\" class=\"data row0 col5\" >-0.85</td>\n",
       "    </tr>\n",
       "    <tr>\n",
       "      <th id=\"T_9f866_level0_row1\" class=\"row_heading level0 row1\" >361</th>\n",
       "      <td id=\"T_9f866_row1_col0\" class=\"data row1 col0\" >0</td>\n",
       "      <td id=\"T_9f866_row1_col1\" class=\"data row1 col1\" >0</td>\n",
       "      <td id=\"T_9f866_row1_col2\" class=\"data row1 col2\" >1</td>\n",
       "      <td id=\"T_9f866_row1_col3\" class=\"data row1 col3\" >1</td>\n",
       "      <td id=\"T_9f866_row1_col4\" class=\"data row1 col4\" >0.24</td>\n",
       "      <td id=\"T_9f866_row1_col5\" class=\"data row1 col5\" >-0.85</td>\n",
       "    </tr>\n",
       "    <tr>\n",
       "      <th id=\"T_9f866_level0_row2\" class=\"row_heading level0 row2\" >362</th>\n",
       "      <td id=\"T_9f866_row2_col0\" class=\"data row2 col0\" >1</td>\n",
       "      <td id=\"T_9f866_row2_col1\" class=\"data row2 col1\" >0</td>\n",
       "      <td id=\"T_9f866_row2_col2\" class=\"data row2 col2\" >0</td>\n",
       "      <td id=\"T_9f866_row2_col3\" class=\"data row2 col3\" >1</td>\n",
       "      <td id=\"T_9f866_row2_col4\" class=\"data row2 col4\" >0.85</td>\n",
       "      <td id=\"T_9f866_row2_col5\" class=\"data row2 col5\" >-0.02</td>\n",
       "    </tr>\n",
       "    <tr>\n",
       "      <th id=\"T_9f866_level0_row3\" class=\"row_heading level0 row3\" >363</th>\n",
       "      <td id=\"T_9f866_row3_col0\" class=\"data row3 col0\" >0</td>\n",
       "      <td id=\"T_9f866_row3_col1\" class=\"data row3 col1\" >0</td>\n",
       "      <td id=\"T_9f866_row3_col2\" class=\"data row3 col2\" >1</td>\n",
       "      <td id=\"T_9f866_row3_col3\" class=\"data row3 col3\" >1</td>\n",
       "      <td id=\"T_9f866_row3_col4\" class=\"data row3 col4\" >1.45</td>\n",
       "      <td id=\"T_9f866_row3_col5\" class=\"data row3 col5\" >-0.85</td>\n",
       "    </tr>\n",
       "    <tr>\n",
       "      <th id=\"T_9f866_level0_row4\" class=\"row_heading level0 row4\" >364</th>\n",
       "      <td id=\"T_9f866_row4_col0\" class=\"data row4 col0\" >0</td>\n",
       "      <td id=\"T_9f866_row4_col1\" class=\"data row4 col1\" >0</td>\n",
       "      <td id=\"T_9f866_row4_col2\" class=\"data row4 col2\" >1</td>\n",
       "      <td id=\"T_9f866_row4_col3\" class=\"data row4 col3\" >0</td>\n",
       "      <td id=\"T_9f866_row4_col4\" class=\"data row4 col4\" >-0.97</td>\n",
       "      <td id=\"T_9f866_row4_col5\" class=\"data row4 col5\" >-0.85</td>\n",
       "    </tr>\n",
       "  </tbody>\n",
       "</table>\n",
       "&nbsp;&nbsp;&nbsp;"
      ]
     },
     "metadata": {},
     "output_type": "display_data"
    },
    {
     "name": "stdout",
     "output_type": "stream",
     "text": [
      "\n"
     ]
    }
   ],
   "source": [
    "head_tail_horz(df, 5, \"Stardized Values\")"
   ]
  },
  {
   "cell_type": "markdown",
   "id": "3bf63fd0-9334-442b-99f8-177ac121c964",
   "metadata": {},
   "source": [
    "<font size = 4><span style = 'background-color: #ddddff; padding: 5px 5px 3px 5px; line-height: 1.5; color:black;border-radius: 3px;'>**Establishing input data and target data**\n",
    "* Creating tensors for both groups"
   ]
  },
  {
   "cell_type": "code",
   "execution_count": 6,
   "id": "5898eade-a373-4560-ae65-693e5f99ab7f",
   "metadata": {},
   "outputs": [],
   "source": [
    "inputs =  ['weekend', 'sunny', 'warm_weather', 'big_sign', 'price']\n",
    "input_data = torch.tensor(df[inputs].values, dtype=torch.float, device=device)\n",
    "\n",
    "outputs = ['total_sales']\n",
    "target_data = torch.tensor(df[outputs].values,dtype=torch.float, device=device)"
   ]
  },
  {
   "cell_type": "code",
   "execution_count": 7,
   "id": "16876fed-69bb-4ca6-9fbb-610a4986246e",
   "metadata": {},
   "outputs": [
    {
     "data": {
      "text/plain": [
       "tensor([[ 1.0000,  0.0000,  0.0000,  1.0000,  0.8467],\n",
       "        [ 1.0000,  1.0000,  1.0000,  0.0000,  1.4526],\n",
       "        [ 0.0000,  1.0000,  0.0000,  0.0000,  1.4526],\n",
       "        [ 1.0000,  0.0000,  0.0000,  1.0000, -0.9712],\n",
       "        [ 1.0000,  0.0000,  0.0000,  1.0000,  0.2407]])"
      ]
     },
     "execution_count": 7,
     "metadata": {},
     "output_type": "execute_result"
    }
   ],
   "source": [
    "input_data[0:5]"
   ]
  },
  {
   "cell_type": "code",
   "execution_count": 8,
   "id": "704e305f-f514-4d9c-9c20-7ddd76f652d4",
   "metadata": {},
   "outputs": [
    {
     "data": {
      "text/plain": [
       "tensor([[-0.0237],\n",
       "        [ 0.7437],\n",
       "        [-0.8492],\n",
       "        [ 0.3949],\n",
       "        [ 0.0810]])"
      ]
     },
     "execution_count": 8,
     "metadata": {},
     "output_type": "execute_result"
    }
   ],
   "source": [
    "target_data[0:5]"
   ]
  },
  {
   "cell_type": "markdown",
   "id": "01a6bd07-8e2a-49ea-bb0c-99bd0f408414",
   "metadata": {},
   "source": [
    "<font size = 4><span style = 'background-color: #ddddff; padding: 5px 5px 3px 5px; line-height: 1.5; color:black;border-radius: 3px;'>**Building the neural network**\n",
    "\t\n",
    "<font size = 4>VERY Basic Neural Network Architecture:\n",
    "* Number of inputs: 5\n",
    "* Number of outputs: 1\n",
    "* Number of hidden neurons: 100\n",
    "* Number of hidden layers: 1\n",
    "* Activation function: ReLU"
   ]
  },
  {
   "cell_type": "code",
   "execution_count": 9,
   "id": "252687a9-ce28-42ed-ad53-0a7da6940a52",
   "metadata": {},
   "outputs": [
    {
     "data": {
      "text/plain": [
       "Sequential(\n",
       "  (0): Linear(in_features=5, out_features=100, bias=True)\n",
       "  (1): ReLU()\n",
       "  (2): Linear(in_features=100, out_features=1, bias=True)\n",
       ")"
      ]
     },
     "execution_count": 9,
     "metadata": {},
     "output_type": "execute_result"
    }
   ],
   "source": [
    "model = nn.Sequential(\n",
    "            nn.Linear(5, 100),\n",
    "\t\t\tnn.ReLU(),\n",
    "\t\t\tnn.Linear(100, 1)\n",
    "        )\n",
    "\n",
    "model.to(device)"
   ]
  },
  {
   "cell_type": "markdown",
   "id": "ab06dfbf-1cc6-4a00-9600-f7aba87d957e",
   "metadata": {},
   "source": [
    "<font size = 4><span style = 'background-color: #ddddff; padding: 5px 5px 3px 5px; line-height: 1.5; color:black;border-radius: 3px;'>**Defining loss function and optimizer**"
   ]
  },
  {
   "cell_type": "code",
   "execution_count": 10,
   "id": "6a765ef4-1e7d-4bcc-99bd-076929939fb0",
   "metadata": {},
   "outputs": [],
   "source": [
    "loss_function = torch.nn.MSELoss()\n",
    "optimizer = optim.SGD(model.parameters(), lr = 0.01, momentum = 0.9)"
   ]
  },
  {
   "cell_type": "markdown",
   "id": "423c15ac-2976-44d4-a9f6-6c074c9dd736",
   "metadata": {},
   "source": [
    "<font size = 4><span style = 'background-color: #ddddff; padding: 5px 5px 3px 5px; line-height: 1.5; color:black;border-radius: 3px;'>**Training the neural network**"
   ]
  },
  {
   "cell_type": "code",
   "execution_count": 11,
   "id": "2a09742f-c56e-414a-9c86-0845918a5611",
   "metadata": {},
   "outputs": [],
   "source": [
    "def train_model(model, epochs, input_data, target_data):\n",
    "\t\n",
    "\tloss_log = []\n",
    "\t\n",
    "\tfor epoch in range(epochs):\n",
    "\t\tepoch_loss = 0\n",
    "\t\t\n",
    "\t\tfor item in range(len(input_data)):\n",
    "\t\t\tprediction = model(input_data[item])\n",
    "\t\t\tloss = loss_function(prediction, target_data[item])\n",
    "\t\t\t\n",
    "\t\t\tepoch_loss += loss.item()\n",
    "\t\t\t\n",
    "\t\t\toptimizer.zero_grad()\n",
    "\t\t\tloss.backward()\n",
    "\t\t\toptimizer.step()\n",
    "\t\t\n",
    "\t\tloss_append = epoch_loss\n",
    "\t\tloss_log.append([epoch, float(loss_append)])\n",
    "\t\tif epoch > 0:\n",
    "\t\t\tif epoch % 25 == 0:\n",
    "\t\t\t\tprint(f\"Epoch {epoch}/{epochs} loss:\\t{epoch_loss}\")\n",
    "\t\n",
    "\tloss_df = pd.DataFrame(loss_log, columns = [\"epoch\", \"loss\"]).set_index(\"epoch\")\n",
    "\t\n",
    "\treturn loss_df"
   ]
  },
  {
   "cell_type": "code",
   "execution_count": 12,
   "id": "f5fadc37-77d6-4d92-a9a8-746996bb999f",
   "metadata": {},
   "outputs": [
    {
     "name": "stdout",
     "output_type": "stream",
     "text": [
      "Epoch 10/350 loss:\t1.5571909384319458\n",
      "Epoch 20/350 loss:\t0.5863208042618169\n",
      "Epoch 30/350 loss:\t0.24277418241194226\n",
      "Epoch 40/350 loss:\t0.08789317101296934\n",
      "Epoch 50/350 loss:\t0.03218951146859883\n",
      "Epoch 60/350 loss:\t0.01473009477058751\n",
      "Epoch 70/350 loss:\t0.009291722111190115\n",
      "Epoch 80/350 loss:\t0.005546251554003234\n",
      "Epoch 90/350 loss:\t0.003758392960586665\n",
      "Epoch 100/350 loss:\t0.002415488048130715\n",
      "Epoch 110/350 loss:\t0.001774602894853372\n",
      "Epoch 120/350 loss:\t0.0013976288644570733\n",
      "Epoch 130/350 loss:\t0.0010741114149530606\n",
      "Epoch 140/350 loss:\t0.00081670589431607\n",
      "Epoch 150/350 loss:\t0.0006984547492463467\n",
      "Epoch 160/350 loss:\t0.000556560566687736\n",
      "Epoch 170/350 loss:\t0.00047097532408710285\n",
      "Epoch 180/350 loss:\t0.0003830859710083935\n",
      "Epoch 190/350 loss:\t0.0003360207007463978\n",
      "Epoch 200/350 loss:\t0.00028590525848826154\n",
      "Epoch 210/350 loss:\t0.0002454689320003922\n",
      "Epoch 220/350 loss:\t0.00021245907678713039\n",
      "Epoch 230/350 loss:\t0.0001857689169246779\n",
      "Epoch 240/350 loss:\t0.0001650265988502042\n",
      "Epoch 250/350 loss:\t0.00015169724321742462\n",
      "Epoch 260/350 loss:\t0.00013468216329776128\n",
      "Epoch 270/350 loss:\t0.0001199256435558127\n",
      "Epoch 280/350 loss:\t0.00010976603725179612\n",
      "Epoch 290/350 loss:\t0.00010235923040705433\n",
      "Epoch 300/350 loss:\t9.274259633473836e-05\n",
      "Epoch 310/350 loss:\t8.384796716657053e-05\n",
      "Epoch 320/350 loss:\t7.732958201162043e-05\n",
      "Epoch 330/350 loss:\t7.205151154141345e-05\n",
      "Epoch 340/350 loss:\t6.707620659618385e-05\n"
     ]
    }
   ],
   "source": [
    "loss_df = train_model(model, 350, input_data, target_data)"
   ]
  },
  {
   "cell_type": "code",
   "execution_count": 17,
   "id": "e1ab30c2-10b4-44f0-ab48-1c16e0e79eb8",
   "metadata": {},
   "outputs": [
    {
     "data": {
      "image/png": "[encoded data removed]",
      "text/plain": [
       "<Figure size 1300x700 with 2 Axes>"
      ]
     },
     "metadata": {},
     "output_type": "display_data"
    }
   ],
   "source": [
    "fancy_plot(loss_df, \n",
    "\t\t   xlabel = \"Epochs\", \n",
    "\t\t   ylabel = \"Loss (log values)\",\n",
    "\t\t   title = \"Training Loss\",\n",
    "\t\t   logy = True)"
   ]
  },
  {
   "cell_type": "markdown",
   "id": "a51b2302-e661-4009-8ade-b4c9fa93747d",
   "metadata": {},
   "source": [
    "<font size = 4><span style = 'background-color: #ddddff; padding: 5px 5px 3px 5px; line-height: 1.5; color:black;border-radius: 3px;'>Analyze Model Performance"
   ]
  },
  {
   "cell_type": "code",
   "execution_count": 20,
   "id": "065e4e6c-6967-4ed1-a236-ea36e13410b8",
   "metadata": {},
   "outputs": [],
   "source": [
    "@torch.no_grad() \n",
    "def evaluate_mode(model, input_data, target_data, min_value, max_value):\n",
    "    \n",
    "    model.eval()\n",
    "    \n",
    "    predictions = []\n",
    "    actuals = []\n",
    "    \n",
    "    input_data.to(device)\n",
    "    target_data.to(device)\n",
    "    model.to(device)\n",
    "    \n",
    "    for item in range(len(input_data)):\n",
    "\t\t# one forward pass\n",
    "        prediction = model(input_data[item])                               \n",
    "\n",
    "        # reversing normalization\n",
    "        prediction = prediction * sales_std + sales_avg\n",
    "        actual = target_data[item] * sales_std + sales_avg\n",
    "        \n",
    "        predictions.append(prediction.tolist())\n",
    "        actuals.append(actual.item())\n",
    "    \n",
    "    plt.scatter(actuals, predictions)\n",
    "    plt.xlabel('Actual Sales')\n",
    "    plt.ylabel('Predicted Sales')\n",
    "    plt.plot([min_value, max_value], [min_value, max_value]) \n",
    "    plt.xlim(min_value, max_value)\n",
    "    plt.ylim(min_value, max_value)\n",
    " \n",
    "    # Make the display equal in both dimensions\n",
    "    plt.gca().set_aspect('equal', adjustable='box')\n",
    "    plt.show()"
   ]
  },
  {
   "cell_type": "code",
   "execution_count": 21,
   "id": "68e8ae5f-49ac-4e15-9bd1-41abac3f6eec",
   "metadata": {},
   "outputs": [
    {
     "data": {
      "image/png": "[encoded data removed]",
      "text/plain": [
       "<Figure size 640x480 with 1 Axes>"
      ]
     },
     "metadata": {},
     "output_type": "display_data"
    }
   ],
   "source": [
    "evaluate_mode(model, input_data, target_data, 0, 300)"
   ]
  },
  {
   "cell_type": "markdown",
   "id": "7320b38d-7381-4247-8fe9-6cb519db3b5d",
   "metadata": {},
   "source": [
    "<font size = 4><span style = 'background-color: #ddddff; padding: 5px 5px 3px 5px; line-height: 1.5; color:black;border-radius: 3px;'>Creating synthetic data to work with"
   ]
  },
  {
   "cell_type": "code",
   "execution_count": 24,
   "id": "59d58d78-1fe1-48f9-a893-65c4db44d556",
   "metadata": {},
   "outputs": [],
   "source": [
    "# Below we use the synthetic data generator forumla to\n",
    "# determine what the actual result should have been.\n",
    "def dataset_creator(weekend, sunny, warm, big_sign, price):\n",
    "\t\n",
    "    num_sold = 0\n",
    "\t\n",
    "    if weekend:\n",
    "        num_sold = (sunny * 5  + int(500 / price))\n",
    "        if big_sign:\n",
    "            num_sold = 1.3 * num_sold\n",
    "        if warm:\n",
    "            num_sold = 2 * num_sold\n",
    "        if sunny:\n",
    "            num_sold = 1.25 * num_sold\n",
    "    num_sold = int(num_sold)    \n",
    "    return num_sold"
   ]
  },
  {
   "cell_type": "markdown",
   "id": "8c9742fd-3ca1-4f59-8d7b-7ef71d5a2c62",
   "metadata": {},
   "source": [
    "<font size = 4><span style = 'background-color: #ddddff; padding: 5px 5px 3px 5px; line-height: 1.5; color:black;border-radius: 3px;'>Text"
   ]
  },
  {
   "cell_type": "code",
   "execution_count": null,
   "id": "74f48240-be4c-4b38-9846-7d85e90c8daf",
   "metadata": {},
   "outputs": [],
   "source": [
    "# Data that affects the number of lemons sold in one day\n",
    "weekend = 1\n",
    "sunny = 0\n",
    "warm = 0    \n",
    "bigsign = 1\n",
    "price = 5\n",
    "\n",
    "# Calculate what would have been the actual result using\n",
    "# the synthetic dataset's algorithm\n",
    "actual = dataset_creator(weekend, sunny, warm, bigsign, price) \n",
    "\n",
    "# Use the CPU as we just need to do a single pass\n",
    "[TBD]\n",
    "\n",
    "# Normalize our inputs using the same values for our training\n",
    "price = [price - price_avg]\n",
    "\n",
    "# Create our input tensor\n",
    "input_01 = torch.tensor([TBD],dtype=float)\n",
    "\n",
    "# Pass the input into the neural network\n",
    "y1 = [TBD]\n",
    "\n",
    "# Un-normalize our output y1\n",
    "y1 = y1*numSoldStd+numSoldMean\n",
    "   \n",
    "# Compare what your network predicted to the actual\n",
    "print (\"Neural Network Predicts: \", y1.item())\n",
    "print (\"Actual Result: \", actual)"
   ]
  },
  {
   "cell_type": "markdown",
   "id": "5d5410af-86cc-42e3-90e9-1f68bea36526",
   "metadata": {},
   "source": [
    "<font size = 4><span style = 'background-color: #ddddff; padding: 5px 5px 3px 5px; line-height: 1.5; color:black;border-radius: 3px;'>Text"
   ]
  },
  {
   "cell_type": "code",
   "execution_count": null,
   "id": "075aa7f0-7cda-4046-8c31-1478d4f6ed93",
   "metadata": {},
   "outputs": [],
   "source": []
  },
  {
   "cell_type": "markdown",
   "id": "145f6887-4851-4ca3-a392-cbb5e8fd766e",
   "metadata": {},
   "source": [
    "<font size = 4><span style = 'background-color: #ddddff; padding: 5px 5px 3px 5px; line-height: 1.5; color:black;border-radius: 3px;'>Text"
   ]
  },
  {
   "cell_type": "code",
   "execution_count": null,
   "id": "5ba886de-42d2-4b3d-b248-76d655a8b536",
   "metadata": {},
   "outputs": [],
   "source": []
  },
  {
   "cell_type": "markdown",
   "id": "de180f9c-c60b-43ed-8f24-cb9135e9353f",
   "metadata": {},
   "source": [
    "<font size = 4><span style = 'background-color: #ddddff; padding: 5px 5px 3px 5px; line-height: 1.5; color:black;border-radius: 3px;'>Text"
   ]
  },
  {
   "cell_type": "code",
   "execution_count": null,
   "id": "8687607e-69c1-4107-8dd6-74423a2c1e33",
   "metadata": {},
   "outputs": [],
   "source": []
  },
  {
   "cell_type": "markdown",
   "id": "8f3a2034-c7b0-46ff-8a97-14f3881b973e",
   "metadata": {},
   "source": [
    "<font size = 4><span style = 'background-color: #ddddff; padding: 5px 5px 3px 5px; line-height: 1.5; color:black;border-radius: 3px;'>Text"
   ]
  },
  {
   "cell_type": "code",
   "execution_count": null,
   "id": "bae90f22-9eab-4f77-851a-b9386ba339cb",
   "metadata": {},
   "outputs": [],
   "source": []
  },
  {
   "cell_type": "markdown",
   "id": "3edcb546-aca2-41c3-b6f3-3b737e95ae61",
   "metadata": {},
   "source": [
    "<font size = 4><span style = 'background-color: #ddddff; padding: 5px 5px 3px 5px; line-height: 1.5; color:black;border-radius: 3px;'>Text"
   ]
  },
  {
   "cell_type": "code",
   "execution_count": null,
   "id": "b2a530ce-65e7-403e-a573-836cae9e052f",
   "metadata": {},
   "outputs": [],
   "source": []
  },
  {
   "cell_type": "markdown",
   "id": "0347276e-874e-43bf-aa7d-a9e3ac542654",
   "metadata": {
    "tags": []
   },
   "source": [
    "<a name=''></a>\n",
    "\n",
    "---\n",
    "\n",
    "**Sections:**  ●  [LINK](#link)  ●  [LINK](#link)  ●  [LINK](#link)  ●  [LINK](#link)  ●  [LINK](#link)   ●  [LINK](#link)   ●  [LINK](#link)   ●  [LINK](#link)   ●  [LINK](#link)   ●  [LINK](#link)   ●  [LINK](#link)   ●  [LINK](#link)   ●  [LINK](#link)   ●  [LINK](#link)\n",
    "\n",
    "---\n",
    "\n",
    "<span style = 'background-color: purple; padding: 5px 5px 3px 5px; line-height: 1.5; color:white;border-radius: 3px;'><font size = 4>label</font></span>"
   ]
  },
  {
   "cell_type": "code",
   "execution_count": 15,
   "id": "ecda0e54-09d2-47bd-a4ff-d868b8a9666e",
   "metadata": {},
   "outputs": [],
   "source": [
    "import_all()"
   ]
  },
  {
   "cell_type": "markdown",
   "id": "ff3ed35a-c024-479b-80f8-84607f6ede4c",
   "metadata": {},
   "source": [
    "<font size = 4><span style = 'background-color: #ddddff; padding: 5px 5px 3px 5px; line-height: 1.5; color:black;border-radius: 3px;'>Text"
   ]
  },
  {
   "cell_type": "code",
   "execution_count": null,
   "id": "7448f2e3-2620-44a9-9cfa-ae003843fd72",
   "metadata": {},
   "outputs": [],
   "source": []
  },
  {
   "cell_type": "markdown",
   "id": "fa8d82a6-ce78-4365-a0eb-ae1b0a14b1ac",
   "metadata": {},
   "source": [
    "<font size = 4><span style = 'background-color: #ddddff; padding: 5px 5px 3px 5px; line-height: 1.5; color:black;border-radius: 3px;'>Text"
   ]
  },
  {
   "cell_type": "code",
   "execution_count": null,
   "id": "1f26c2c8-ea65-4f4c-978b-67cb59b83e9c",
   "metadata": {},
   "outputs": [],
   "source": []
  },
  {
   "cell_type": "markdown",
   "id": "69cf6176-6443-48ef-862a-d7bdd1e56fb7",
   "metadata": {},
   "source": [
    "<font size = 4><span style = 'background-color: #ddddff; padding: 5px 5px 3px 5px; line-height: 1.5; color:black;border-radius: 3px;'>Text"
   ]
  },
  {
   "cell_type": "code",
   "execution_count": null,
   "id": "c7006391-85f6-4743-b3f3-2f24cf066b09",
   "metadata": {},
   "outputs": [],
   "source": []
  },
  {
   "cell_type": "markdown",
   "id": "1b6b7876-7351-4882-ae4b-d265618ccbf6",
   "metadata": {},
   "source": [
    "<font size = 4><span style = 'background-color: #ddddff; padding: 5px 5px 3px 5px; line-height: 1.5; color:black;border-radius: 3px;'>Text"
   ]
  },
  {
   "cell_type": "code",
   "execution_count": null,
   "id": "c21c3e0b-2258-4690-93bc-02bd19cef186",
   "metadata": {},
   "outputs": [],
   "source": []
  },
  {
   "cell_type": "markdown",
   "id": "925bdcb1-be68-4c79-95f9-d11d3043452b",
   "metadata": {},
   "source": [
    "<font size = 4><span style = 'background-color: #ddddff; padding: 5px 5px 3px 5px; line-height: 1.5; color:black;border-radius: 3px;'>Text"
   ]
  },
  {
   "cell_type": "code",
   "execution_count": null,
   "id": "2bc9efe1-a8a8-4242-8ed4-740fd46361a9",
   "metadata": {},
   "outputs": [],
   "source": []
  },
  {
   "cell_type": "markdown",
   "id": "03058019-3d29-49a7-9294-f69255d71109",
   "metadata": {},
   "source": [
    "<font size = 4><span style = 'background-color: #ddddff; padding: 5px 5px 3px 5px; line-height: 1.5; color:black;border-radius: 3px;'>Text"
   ]
  },
  {
   "cell_type": "code",
   "execution_count": null,
   "id": "5d3f4490-f093-447f-bee8-8e281340b862",
   "metadata": {},
   "outputs": [],
   "source": []
  },
  {
   "cell_type": "markdown",
   "id": "5e0fd389-54de-4fb8-9ace-c1f5448eaa2b",
   "metadata": {},
   "source": [
    "<font size = 4><span style = 'background-color: #ddddff; padding: 5px 5px 3px 5px; line-height: 1.5; color:black;border-radius: 3px;'>Text"
   ]
  },
  {
   "cell_type": "code",
   "execution_count": null,
   "id": "b045e501-fc91-4201-8bc0-a9931e9c85e7",
   "metadata": {},
   "outputs": [],
   "source": []
  }
 ],
 "metadata": {
  "kernelspec": {
   "display_name": "Python 3 (ipykernel)",
   "language": "python",
   "name": "python3"
  },
  "language_info": {
   "codemirror_mode": {
    "name": "ipython",
    "version": 3
   },
   "file_extension": ".py",
   "mimetype": "text/x-python",
   "name": "python",
   "nbconvert_exporter": "python",
   "pygments_lexer": "ipython3",
   "version": "3.10.9"
  }
 },
 "nbformat": 4,
 "nbformat_minor": 5
}
