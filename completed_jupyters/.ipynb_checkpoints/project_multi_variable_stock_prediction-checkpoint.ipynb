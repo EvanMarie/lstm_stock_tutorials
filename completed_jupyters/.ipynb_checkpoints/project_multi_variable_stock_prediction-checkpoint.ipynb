{
 "cells": [
  {
   "cell_type": "markdown",
   "id": "52fc3297-256c-4820-96e9-8a40697caba9",
   "metadata": {
    "id": "52fc3297-256c-4820-96e9-8a40697caba9"
   },
   "source": [
    "<a name = 'top'></a>\n",
    "\n",
    "---\n",
    "\n",
    "**SECTIONS: [Top](#top)  |  [Compile Stocks](#compile_stocks)  |  [The Data](#the_data)  |  [Add Change Column](#change_column)  |  [Feature Engineering](#feature_engineering)  |  [Splitting & Scaling](#splitting)  |  [Creating Sequences](#sequences)  |  [PyTorch Datasets](#datasets)  |  [LSTM](#lstm)  |  [Tensorboard](#tensorboard)  |  [Trainer](#trainer)  |  [Results](#results)  |**\n",
    "\n",
    "---\n",
    "\n",
    "<font size = 6>**Multiple Variable Stock Price Prediction**"
   ]
  },
  {
   "cell_type": "code",
   "execution_count": 1,
   "id": "ae577c68-7856-4f3a-9a09-b09d804599d5",
   "metadata": {
    "id": "ae577c68-7856-4f3a-9a09-b09d804599d5"
   },
   "outputs": [],
   "source": [
    "import pandas as pd\n",
    "import numpy as np\n",
    "import seaborn as sns\n",
    "import math\n",
    "import torch\n",
    "import torch.nn as nn\n",
    "import torch.optim as optim\n",
    "import pytorch_lightning as pl\n",
    "from pytorch_lightning.callbacks import ModelCheckpoint, EarlyStopping\n",
    "from pytorch_lightning.loggers import TensorBoardLogger\n",
    "from torch.utils.data import Dataset, DataLoader\n",
    "from sklearn.preprocessing import MinMaxScaler\n",
    "import matplotlib.pyplot as plt\n",
    "%matplotlib inline\n",
    "from helpers import *\n",
    "import tqdm as tq\n",
    "import tensorboard"
   ]
  },
  {
   "cell_type": "code",
   "execution_count": 2,
   "id": "70d20bb2-e90b-43be-a1e8-95c8821d8b83",
   "metadata": {
    "colab": {
     "base_uri": "https://localhost:8080/"
    },
    "id": "70d20bb2-e90b-43be-a1e8-95c8821d8b83",
    "outputId": "c5b3b6d5-6d47-4757-b27e-c29cc99b22d1"
   },
   "outputs": [
    {
     "name": "stderr",
     "output_type": "stream",
     "text": [
      "Global seed set to 123\n"
     ]
    }
   ],
   "source": [
    "pl.seed_everything(123)\n",
    "import yfinance as yf\n",
    "tq.tqdm.pandas()"
   ]
  },
  {
   "cell_type": "markdown",
   "id": "b7223520-c0a9-448e-80c8-0068cdd178e3",
   "metadata": {
    "id": "b7223520-c0a9-448e-80c8-0068cdd178e3"
   },
   "source": [
    "<font size = 4><span style = 'background-color: #ddddff; padding: 5px 5px 3px 5px; line-height: 1.5; color:black;border-radius: 3px;'>**compile_stocks()**\n",
    "* Yahoo Finance only allows 7 days worth of data at 1 minute intervals\n",
    "* This function will compile dataframes in 7 day increments for an entire range of dates\n",
    "* They also only allow 1 min data for up to 30 days prior\n",
    "* This can be used for other intervals that allow for longer time periods"
   ]
  },
  {
   "cell_type": "markdown",
   "id": "ee5ac629-a8ad-4489-ba5e-8825200b69b2",
   "metadata": {
    "id": "ee5ac629-a8ad-4489-ba5e-8825200b69b2",
    "tags": []
   },
   "source": [
    "<a name = 'compile_stocks'></a>\n",
    "\n",
    "---\n",
    "\n",
    "**SECTIONS: [Top](#top)  |  [Compile Stocks](#compile_stocks)  |  [The Data](#the_data)  |  [Add Change Column](#change_column)  |  [Feature Engineering](#feature_engineering)  |  [Splitting & Scaling](#splitting)  |  [Creating Sequences](#sequences)  |  [PyTorch Datasets](#datasets)  |  [LSTM](#lstm)  |  [Tensorboard](#tensorboard)  |  [Trainer](#trainer)  |  [Results](#results)  |**\n",
    "\n",
    "---\n",
    "\n",
    "## **`compile_stocks()`**"
   ]
  },
  {
   "cell_type": "code",
   "execution_count": 3,
   "id": "5fabab05-f49a-4f3b-9356-f66b6ab5f226",
   "metadata": {
    "id": "5fabab05-f49a-4f3b-9356-f66b6ab5f226"
   },
   "outputs": [],
   "source": [
    "def compile_stocks(symbol, end, start, day_window, interval):\n",
    "\timport datetime\n",
    "\timport yfinance as yf\n",
    "\t\n",
    "\tend_date = end\n",
    "\tstart_date = (pd.to_datetime(end) - datetime.timedelta(days = day_window))\n",
    "\t\n",
    "\tdfs = []\n",
    "\tstop_me = False\n",
    "\t\n",
    "\twhile pd.to_datetime(start_date) >= pd.to_datetime(start):\n",
    "\t\tdf = yf.download(symbol, \n",
    "\t\t\t\t\t\t start = start_date,\n",
    "\t\t\t\t\t\t end = end_date, \n",
    "\t\t\t\t\t\t interval = interval)\n",
    "\n",
    "\t\tdfs.append(df)\n",
    "\t\tend_date = start_date\n",
    "\t\tstart_date = start_date - datetime.timedelta(days = day_window)\n",
    "\n",
    "\t\tif start_date < pd.to_datetime(start):\n",
    "\t\t\tstart_date = pd.to_datetime(start)\n",
    "\t\telse:\n",
    "\t\t\tstart_date = start_date\n",
    "\n",
    "\t\tif start_date == end_date:\n",
    "\t\t\tbreak\n",
    "\t\t\n",
    "\tmaster_df = pd.concat(dfs).sort_values(by=\"Datetime\")\n",
    "\t\t\n",
    "\treturn master_df"
   ]
  },
  {
   "cell_type": "code",
   "execution_count": 20,
   "id": "0dee00b8-5347-4778-9d32-ec16178d8ccb",
   "metadata": {},
   "outputs": [
    {
     "name": "stdout",
     "output_type": "stream",
     "text": [
      "[*********************100%***********************]  1 of 1 completed\n"
     ]
    }
   ],
   "source": [
    "data = yf.download('ETH-USD', period = '2y', interval = '1h')"
   ]
  },
  {
   "cell_type": "markdown",
   "id": "512498eb-04a5-438f-b15c-a16a2bd66f8b",
   "metadata": {
    "id": "512498eb-04a5-438f-b15c-a16a2bd66f8b"
   },
   "source": [
    "<a name = 'the_data'></a>\n",
    "\n",
    "---\n",
    "\n",
    "**SECTIONS: [Top](#top)  |  [Compile Stocks](#compile_stocks)  |  [The Data](#the_data)  |  [Add Change Column](#change_column)  |  [Feature Engineering](#feature_engineering)  |  [Splitting & Scaling](#splitting)  |  [Creating Sequences](#sequences)  |  [PyTorch Datasets](#datasets)  |  [LSTM](#lstm)  |  [Tensorboard](#tensorboard)  |  [Trainer](#trainer)  |  [Results](#results)  |**\n",
    "\n",
    "---\n",
    "\n",
    "<font size = 4><span style = 'background-color: #ddddff; padding: 5px 5px 3px 5px; line-height: 1.5; color:black;border-radius: 3px;'>**The Data**"
   ]
  },
  {
   "cell_type": "code",
   "execution_count": 22,
   "id": "2dc6aa61-709d-43c2-8694-7488c35fa066",
   "metadata": {
    "colab": {
     "base_uri": "https://localhost:8080/",
     "height": 472
    },
    "id": "2dc6aa61-709d-43c2-8694-7488c35fa066",
    "outputId": "4ffad404-48dd-4232-f20a-0b15bfba0086"
   },
   "outputs": [
    {
     "name": "stdout",
     "output_type": "stream",
     "text": [
      "\n"
     ]
    },
    {
     "data": {
      "text/html": [
       "<span style = 'display: block; width: 260.0px; \t\t\t\t\t\tline-height: 2; background: #333333;\t\t\t\t\t\tmargin-left: auto; margin-right: auto;\t\t\t\t\t\tborder: 1px solid text_color;\t\t\t\t\t\tborder-radius: 3px; text-align: center;\t\t\t\t\t\tpadding: 3px 8px 3px 8px;'>\t\t\t\t\t\t<b><font size=4><text style=color:white>Raw Ethereum Data: head(3)\t\t\t\t\t\t</text></font></b></style>"
      ],
      "text/plain": [
       "<IPython.core.display.HTML object>"
      ]
     },
     "metadata": {},
     "output_type": "display_data"
    },
    {
     "data": {
      "text/html": [
       "<center><table border=\"1\" class=\"dataframe\">\n",
       "  <thead>\n",
       "    <tr style=\"text-align: right;\">\n",
       "      <th></th>\n",
       "      <th>open</th>\n",
       "      <th>high</th>\n",
       "      <th>low</th>\n",
       "      <th>close</th>\n",
       "      <th>adj close</th>\n",
       "      <th>volume</th>\n",
       "    </tr>\n",
       "    <tr>\n",
       "      <th>Datetime</th>\n",
       "      <th></th>\n",
       "      <th></th>\n",
       "      <th></th>\n",
       "      <th></th>\n",
       "      <th></th>\n",
       "      <th></th>\n",
       "    </tr>\n",
       "  </thead>\n",
       "  <tbody>\n",
       "    <tr>\n",
       "      <th>2021-01-24 02:00:00+00:00</th>\n",
       "      <td>1,240.81</td>\n",
       "      <td>1,262.60</td>\n",
       "      <td>1,237.47</td>\n",
       "      <td>1,258.09</td>\n",
       "      <td>1,258.09</td>\n",
       "      <td>0</td>\n",
       "    </tr>\n",
       "    <tr>\n",
       "      <th>2021-01-24 03:00:00+00:00</th>\n",
       "      <td>1,257.90</td>\n",
       "      <td>1,282.91</td>\n",
       "      <td>1,257.90</td>\n",
       "      <td>1,282.91</td>\n",
       "      <td>1,282.91</td>\n",
       "      <td>734695424</td>\n",
       "    </tr>\n",
       "    <tr>\n",
       "      <th>2021-01-24 04:00:00+00:00</th>\n",
       "      <td>1,283.56</td>\n",
       "      <td>1,317.30</td>\n",
       "      <td>1,283.56</td>\n",
       "      <td>1,317.30</td>\n",
       "      <td>1,317.30</td>\n",
       "      <td>1871126528</td>\n",
       "    </tr>\n",
       "  </tbody>\n",
       "</table>"
      ],
      "text/plain": [
       "<IPython.core.display.HTML object>"
      ]
     },
     "metadata": {},
     "output_type": "display_data"
    },
    {
     "name": "stdout",
     "output_type": "stream",
     "text": [
      "\n"
     ]
    },
    {
     "data": {
      "text/html": [
       "<span style = 'display: block; width: 260.0px; \t\t\t\t\t\tline-height: 2; background: #333333;\t\t\t\t\t\tmargin-left: auto; margin-right: auto;\t\t\t\t\t\tborder: 1px solid text_color;\t\t\t\t\t\tborder-radius: 3px; text-align: center;\t\t\t\t\t\tpadding: 3px 8px 3px 8px;'>\t\t\t\t\t\t<b><font size=4><text style=color:white>Raw Ethereum Data: tail(3)\t\t\t\t\t\t</text></font></b></style>"
      ],
      "text/plain": [
       "<IPython.core.display.HTML object>"
      ]
     },
     "metadata": {},
     "output_type": "display_data"
    },
    {
     "data": {
      "text/html": [
       "<center><table border=\"1\" class=\"dataframe\">\n",
       "  <thead>\n",
       "    <tr style=\"text-align: right;\">\n",
       "      <th></th>\n",
       "      <th>open</th>\n",
       "      <th>high</th>\n",
       "      <th>low</th>\n",
       "      <th>close</th>\n",
       "      <th>adj close</th>\n",
       "      <th>volume</th>\n",
       "    </tr>\n",
       "    <tr>\n",
       "      <th>Datetime</th>\n",
       "      <th></th>\n",
       "      <th></th>\n",
       "      <th></th>\n",
       "      <th></th>\n",
       "      <th></th>\n",
       "      <th></th>\n",
       "    </tr>\n",
       "  </thead>\n",
       "  <tbody>\n",
       "    <tr>\n",
       "      <th>2023-01-24 00:00:00+00:00</th>\n",
       "      <td>1,627.85</td>\n",
       "      <td>1,631.37</td>\n",
       "      <td>1,625.53</td>\n",
       "      <td>1,630.56</td>\n",
       "      <td>1,630.56</td>\n",
       "      <td>59650560</td>\n",
       "    </tr>\n",
       "    <tr>\n",
       "      <th>2023-01-24 01:00:00+00:00</th>\n",
       "      <td>1,630.74</td>\n",
       "      <td>1,635.37</td>\n",
       "      <td>1,628.71</td>\n",
       "      <td>1,635.37</td>\n",
       "      <td>1,635.37</td>\n",
       "      <td>94061056</td>\n",
       "    </tr>\n",
       "    <tr>\n",
       "      <th>2023-01-24 02:00:00+00:00</th>\n",
       "      <td>1,635.65</td>\n",
       "      <td>1,639.72</td>\n",
       "      <td>1,635.65</td>\n",
       "      <td>1,637.44</td>\n",
       "      <td>1,637.44</td>\n",
       "      <td>95740928</td>\n",
       "    </tr>\n",
       "  </tbody>\n",
       "</table>"
      ],
      "text/plain": [
       "<IPython.core.display.HTML object>"
      ]
     },
     "metadata": {},
     "output_type": "display_data"
    },
    {
     "name": "stdout",
     "output_type": "stream",
     "text": [
      "\n"
     ]
    }
   ],
   "source": [
    "df = data.copy()\n",
    "df.columns = [x.lower() for x in df.columns]\n",
    "head_tail_vert(df, 3, 'Raw Ethereum Data', intraday=True)"
   ]
  },
  {
   "cell_type": "code",
   "execution_count": 23,
   "id": "d82fb65e-718f-4a21-a724-1746dbdd308c",
   "metadata": {
    "colab": {
     "base_uri": "https://localhost:8080/"
    },
    "id": "d82fb65e-718f-4a21-a724-1746dbdd308c",
    "outputId": "0312142a-e27f-46d0-ad30-7ec2934c93b5"
   },
   "outputs": [
    {
     "name": "stdout",
     "output_type": "stream",
     "text": [
      "<class 'pandas.core.frame.DataFrame'>\n",
      "DatetimeIndex: 17292 entries, 2021-01-24 02:00:00+00:00 to 2023-01-24 02:00:00+00:00\n",
      "Data columns (total 6 columns):\n",
      " #   Column     Non-Null Count  Dtype  \n",
      "---  ------     --------------  -----  \n",
      " 0   open       17292 non-null  float64\n",
      " 1   high       17292 non-null  float64\n",
      " 2   low        17292 non-null  float64\n",
      " 3   close      17292 non-null  float64\n",
      " 4   adj close  17292 non-null  float64\n",
      " 5   volume     17292 non-null  int64  \n",
      "dtypes: float64(5), int64(1)\n",
      "memory usage: 945.7 KB\n"
     ]
    }
   ],
   "source": [
    "df.info()"
   ]
  },
  {
   "cell_type": "code",
   "execution_count": 24,
   "id": "77512298-6519-4c9b-9dff-016dca30d807",
   "metadata": {
    "colab": {
     "base_uri": "https://localhost:8080/"
    },
    "id": "77512298-6519-4c9b-9dff-016dca30d807",
    "outputId": "d2726d6a-2a26-4829-ac25-62ca7ac384e6"
   },
   "outputs": [
    {
     "data": {
      "text/plain": [
       "(17292, 6)"
      ]
     },
     "execution_count": 24,
     "metadata": {},
     "output_type": "execute_result"
    }
   ],
   "source": [
    "df.shape"
   ]
  },
  {
   "cell_type": "markdown",
   "id": "5d9f3ef0-9138-4144-9f0a-fdcaa71b715b",
   "metadata": {
    "id": "5d9f3ef0-9138-4144-9f0a-fdcaa71b715b"
   },
   "source": [
    "<a name = 'change_column'></a>\n",
    "\n",
    "---\n",
    "\n",
    "**SECTIONS: [Top](#top)  |  [Compile Stocks](#compile_stocks)  |  [The Data](#the_data)  |  [Add Change Column](#change_column)  |  [Feature Engineering](#feature_engineering)  |  [Splitting & Scaling](#splitting)  |  [Creating Sequences](#sequences)  |  [PyTorch Datasets](#datasets)  |  [LSTM](#lstm)  |  [Tensorboard](#tensorboard)  |  [Trainer](#trainer)  |  [Results](#results)  |**\n",
    "\n",
    "---"
   ]
  },
  {
   "cell_type": "markdown",
   "id": "32549be4-a873-4e6f-8f8b-c1907ce90f61",
   "metadata": {
    "id": "32549be4-a873-4e6f-8f8b-c1907ce90f61",
    "tags": []
   },
   "source": [
    "## **`add_change_column()`**\n",
    "\n",
    "<font size = 3><span style = 'background-color: #ddddff; padding: 5px 5px 3px 5px; line-height: 1.5; color:black;border-radius: 3px;'>**Shift Method**\n",
    "* using `shift()` to add the previous timestamp value\n",
    "* then creating a difference column to show change since last\n",
    "* `add_change_column()` is the function that will do all this"
   ]
  },
  {
   "cell_type": "code",
   "execution_count": 25,
   "id": "c11bc431-4ba2-4383-a872-2cfb06e8429e",
   "metadata": {
    "id": "c11bc431-4ba2-4383-a872-2cfb06e8429e"
   },
   "outputs": [],
   "source": [
    "def add_change_column(df, column_changing, new_col_name):\n",
    "\tdf['previous'] = df[column_changing].shift()\n",
    "\tdf = df.drop(df.index[0])\n",
    "\tdf[new_col_name] = df[column_changing] - df.previous\n",
    "\tdf = df.drop(columns = ['previous'])\n",
    "\treturn df"
   ]
  },
  {
   "cell_type": "code",
   "execution_count": 26,
   "id": "f8705277-cb83-464c-afb3-0a76d0aed1e6",
   "metadata": {
    "id": "f8705277-cb83-464c-afb3-0a76d0aed1e6"
   },
   "outputs": [],
   "source": [
    "df = add_change_column(df, 'close', 'change')"
   ]
  },
  {
   "cell_type": "code",
   "execution_count": 27,
   "id": "bc0eb874-3693-42f4-bf47-9677e4c1a900",
   "metadata": {
    "colab": {
     "base_uri": "https://localhost:8080/",
     "height": 472
    },
    "id": "bc0eb874-3693-42f4-bf47-9677e4c1a900",
    "outputId": "fcf4535d-0266-4273-bdc5-d5974d4a6d00"
   },
   "outputs": [
    {
     "name": "stdout",
     "output_type": "stream",
     "text": [
      "\n"
     ]
    },
    {
     "data": {
      "text/html": [
       "<span style = 'display: block; width: 280.0px; \t\t\t\t\t\tline-height: 2; background: #333333;\t\t\t\t\t\tmargin-left: auto; margin-right: auto;\t\t\t\t\t\tborder: 1px solid text_color;\t\t\t\t\t\tborder-radius: 3px; text-align: center;\t\t\t\t\t\tpadding: 3px 8px 3px 8px;'>\t\t\t\t\t\t<b><font size=4><text style=color:white>Change column added: head(3)\t\t\t\t\t\t</text></font></b></style>"
      ],
      "text/plain": [
       "<IPython.core.display.HTML object>"
      ]
     },
     "metadata": {},
     "output_type": "display_data"
    },
    {
     "data": {
      "text/html": [
       "<center><table border=\"1\" class=\"dataframe\">\n",
       "  <thead>\n",
       "    <tr style=\"text-align: right;\">\n",
       "      <th></th>\n",
       "      <th>open</th>\n",
       "      <th>high</th>\n",
       "      <th>low</th>\n",
       "      <th>close</th>\n",
       "      <th>adj close</th>\n",
       "      <th>volume</th>\n",
       "      <th>change</th>\n",
       "    </tr>\n",
       "    <tr>\n",
       "      <th>Datetime</th>\n",
       "      <th></th>\n",
       "      <th></th>\n",
       "      <th></th>\n",
       "      <th></th>\n",
       "      <th></th>\n",
       "      <th></th>\n",
       "      <th></th>\n",
       "    </tr>\n",
       "  </thead>\n",
       "  <tbody>\n",
       "    <tr>\n",
       "      <th>2021-01-24 03:00:00+00:00</th>\n",
       "      <td>1,257.90</td>\n",
       "      <td>1,282.91</td>\n",
       "      <td>1,257.90</td>\n",
       "      <td>1,282.91</td>\n",
       "      <td>1,282.91</td>\n",
       "      <td>734695424</td>\n",
       "      <td>24.82</td>\n",
       "    </tr>\n",
       "    <tr>\n",
       "      <th>2021-01-24 04:00:00+00:00</th>\n",
       "      <td>1,283.56</td>\n",
       "      <td>1,317.30</td>\n",
       "      <td>1,283.56</td>\n",
       "      <td>1,317.30</td>\n",
       "      <td>1,317.30</td>\n",
       "      <td>1871126528</td>\n",
       "      <td>34.39</td>\n",
       "    </tr>\n",
       "    <tr>\n",
       "      <th>2021-01-24 05:00:00+00:00</th>\n",
       "      <td>1,317.57</td>\n",
       "      <td>1,330.97</td>\n",
       "      <td>1,316.33</td>\n",
       "      <td>1,323.85</td>\n",
       "      <td>1,323.85</td>\n",
       "      <td>1106038784</td>\n",
       "      <td>6.55</td>\n",
       "    </tr>\n",
       "  </tbody>\n",
       "</table>"
      ],
      "text/plain": [
       "<IPython.core.display.HTML object>"
      ]
     },
     "metadata": {},
     "output_type": "display_data"
    },
    {
     "name": "stdout",
     "output_type": "stream",
     "text": [
      "\n"
     ]
    },
    {
     "data": {
      "text/html": [
       "<span style = 'display: block; width: 280.0px; \t\t\t\t\t\tline-height: 2; background: #333333;\t\t\t\t\t\tmargin-left: auto; margin-right: auto;\t\t\t\t\t\tborder: 1px solid text_color;\t\t\t\t\t\tborder-radius: 3px; text-align: center;\t\t\t\t\t\tpadding: 3px 8px 3px 8px;'>\t\t\t\t\t\t<b><font size=4><text style=color:white>Change column added: tail(3)\t\t\t\t\t\t</text></font></b></style>"
      ],
      "text/plain": [
       "<IPython.core.display.HTML object>"
      ]
     },
     "metadata": {},
     "output_type": "display_data"
    },
    {
     "data": {
      "text/html": [
       "<center><table border=\"1\" class=\"dataframe\">\n",
       "  <thead>\n",
       "    <tr style=\"text-align: right;\">\n",
       "      <th></th>\n",
       "      <th>open</th>\n",
       "      <th>high</th>\n",
       "      <th>low</th>\n",
       "      <th>close</th>\n",
       "      <th>adj close</th>\n",
       "      <th>volume</th>\n",
       "      <th>change</th>\n",
       "    </tr>\n",
       "    <tr>\n",
       "      <th>Datetime</th>\n",
       "      <th></th>\n",
       "      <th></th>\n",
       "      <th></th>\n",
       "      <th></th>\n",
       "      <th></th>\n",
       "      <th></th>\n",
       "      <th></th>\n",
       "    </tr>\n",
       "  </thead>\n",
       "  <tbody>\n",
       "    <tr>\n",
       "      <th>2023-01-24 00:00:00+00:00</th>\n",
       "      <td>1,627.85</td>\n",
       "      <td>1,631.37</td>\n",
       "      <td>1,625.53</td>\n",
       "      <td>1,630.56</td>\n",
       "      <td>1,630.56</td>\n",
       "      <td>59650560</td>\n",
       "      <td>2.03</td>\n",
       "    </tr>\n",
       "    <tr>\n",
       "      <th>2023-01-24 01:00:00+00:00</th>\n",
       "      <td>1,630.74</td>\n",
       "      <td>1,635.37</td>\n",
       "      <td>1,628.71</td>\n",
       "      <td>1,635.37</td>\n",
       "      <td>1,635.37</td>\n",
       "      <td>94061056</td>\n",
       "      <td>4.81</td>\n",
       "    </tr>\n",
       "    <tr>\n",
       "      <th>2023-01-24 02:00:00+00:00</th>\n",
       "      <td>1,635.65</td>\n",
       "      <td>1,639.72</td>\n",
       "      <td>1,635.65</td>\n",
       "      <td>1,637.44</td>\n",
       "      <td>1,637.44</td>\n",
       "      <td>95740928</td>\n",
       "      <td>2.06</td>\n",
       "    </tr>\n",
       "  </tbody>\n",
       "</table>"
      ],
      "text/plain": [
       "<IPython.core.display.HTML object>"
      ]
     },
     "metadata": {},
     "output_type": "display_data"
    },
    {
     "name": "stdout",
     "output_type": "stream",
     "text": [
      "\n"
     ]
    }
   ],
   "source": [
    "head_tail_vert(df, 3, \"Change column added\", intraday=True)"
   ]
  },
  {
   "cell_type": "markdown",
   "id": "851ed967-8a86-471e-a4f8-7fc3bb4a15c2",
   "metadata": {
    "id": "851ed967-8a86-471e-a4f8-7fc3bb4a15c2"
   },
   "source": [
    "<a name = 'feature_engineering'></a>\n",
    "\n",
    "---\n",
    "\n",
    "**SECTIONS: [Top](#top)  |  [Compile Stocks](#compile_stocks)  |  [The Data](#the_data)  |  [Add Change Column](#change_column)  |  [Feature Engineering](#feature_engineering)  |  [Splitting & Scaling](#splitting)  |  [Creating Sequences](#sequences)  |  [PyTorch Datasets](#datasets)  |  [LSTM](#lstm)  |  [Tensorboard](#tensorboard)  |  [Trainer](#trainer)  |  [Results](#results)  |**\n",
    "\n",
    "---"
   ]
  },
  {
   "cell_type": "markdown",
   "id": "442e4543-12b5-4e46-bb84-3bd42491184c",
   "metadata": {
    "id": "442e4543-12b5-4e46-bb84-3bd42491184c",
    "tags": []
   },
   "source": [
    "## **`featurize_stocks()`** - <font size = 4><span style = 'background-color: #ddddff; padding: 5px 5px 3px 5px; line-height: 1.5; color:black;border-radius: 3px;'>**Feature Engineering**"
   ]
  },
  {
   "cell_type": "code",
   "execution_count": 28,
   "id": "8e5e20e5-3a05-412e-930c-71d8d3f7928c",
   "metadata": {
    "id": "8e5e20e5-3a05-412e-930c-71d8d3f7928c"
   },
   "outputs": [],
   "source": [
    "def featurize_stocks(df):\n",
    "\tdf['weekday'] = df.index.dayofweek\n",
    "\tdf['month_day'] = df.index.day\n",
    "\tdf['year_week'] = df.index.isocalendar().week\n",
    "\tdf['month'] = df.index.month\n",
    "\t\n",
    "\treturn df"
   ]
  },
  {
   "cell_type": "code",
   "execution_count": 30,
   "id": "2193b517-df04-417b-888c-5c5524208ae8",
   "metadata": {
    "colab": {
     "base_uri": "https://localhost:8080/"
    },
    "id": "2193b517-df04-417b-888c-5c5524208ae8",
    "outputId": "6357484f-5f5b-48cc-ca90-e3ed26db9216"
   },
   "outputs": [],
   "source": [
    "df = featurize_stocks(df)"
   ]
  },
  {
   "cell_type": "code",
   "execution_count": 31,
   "id": "bf56e17e-8d57-48da-969d-c22f22f295d3",
   "metadata": {
    "colab": {
     "base_uri": "https://localhost:8080/",
     "height": 472
    },
    "id": "bf56e17e-8d57-48da-969d-c22f22f295d3",
    "outputId": "3cb8cfbf-e270-42c1-d3f0-ea1016d88d28"
   },
   "outputs": [
    {
     "name": "stdout",
     "output_type": "stream",
     "text": [
      "\n"
     ]
    },
    {
     "data": {
      "text/html": [
       "<span style = 'display: block; width: 310.0px; \t\t\t\t\t\tline-height: 2; background: #333333;\t\t\t\t\t\tmargin-left: auto; margin-right: auto;\t\t\t\t\t\tborder: 1px solid text_color;\t\t\t\t\t\tborder-radius: 3px; text-align: center;\t\t\t\t\t\tpadding: 3px 8px 3px 8px;'>\t\t\t\t\t\t<b><font size=4><text style=color:white>df with added features: head(3)\t\t\t\t\t\t</text></font></b></style>"
      ],
      "text/plain": [
       "<IPython.core.display.HTML object>"
      ]
     },
     "metadata": {},
     "output_type": "display_data"
    },
    {
     "data": {
      "text/html": [
       "<center><table border=\"1\" class=\"dataframe\">\n",
       "  <thead>\n",
       "    <tr style=\"text-align: right;\">\n",
       "      <th></th>\n",
       "      <th>open</th>\n",
       "      <th>high</th>\n",
       "      <th>low</th>\n",
       "      <th>close</th>\n",
       "      <th>adj close</th>\n",
       "      <th>volume</th>\n",
       "      <th>change</th>\n",
       "      <th>weekday</th>\n",
       "      <th>month_day</th>\n",
       "      <th>year_week</th>\n",
       "      <th>month</th>\n",
       "    </tr>\n",
       "    <tr>\n",
       "      <th>Datetime</th>\n",
       "      <th></th>\n",
       "      <th></th>\n",
       "      <th></th>\n",
       "      <th></th>\n",
       "      <th></th>\n",
       "      <th></th>\n",
       "      <th></th>\n",
       "      <th></th>\n",
       "      <th></th>\n",
       "      <th></th>\n",
       "      <th></th>\n",
       "    </tr>\n",
       "  </thead>\n",
       "  <tbody>\n",
       "    <tr>\n",
       "      <th>2021-01-24</th>\n",
       "      <td>1,257.90</td>\n",
       "      <td>1,282.91</td>\n",
       "      <td>1,257.90</td>\n",
       "      <td>1,282.91</td>\n",
       "      <td>1,282.91</td>\n",
       "      <td>734695424</td>\n",
       "      <td>24.82</td>\n",
       "      <td>6</td>\n",
       "      <td>24</td>\n",
       "      <td>3</td>\n",
       "      <td>1</td>\n",
       "    </tr>\n",
       "    <tr>\n",
       "      <th>2021-01-24</th>\n",
       "      <td>1,283.56</td>\n",
       "      <td>1,317.30</td>\n",
       "      <td>1,283.56</td>\n",
       "      <td>1,317.30</td>\n",
       "      <td>1,317.30</td>\n",
       "      <td>1871126528</td>\n",
       "      <td>34.39</td>\n",
       "      <td>6</td>\n",
       "      <td>24</td>\n",
       "      <td>3</td>\n",
       "      <td>1</td>\n",
       "    </tr>\n",
       "    <tr>\n",
       "      <th>2021-01-24</th>\n",
       "      <td>1,317.57</td>\n",
       "      <td>1,330.97</td>\n",
       "      <td>1,316.33</td>\n",
       "      <td>1,323.85</td>\n",
       "      <td>1,323.85</td>\n",
       "      <td>1106038784</td>\n",
       "      <td>6.55</td>\n",
       "      <td>6</td>\n",
       "      <td>24</td>\n",
       "      <td>3</td>\n",
       "      <td>1</td>\n",
       "    </tr>\n",
       "  </tbody>\n",
       "</table>"
      ],
      "text/plain": [
       "<IPython.core.display.HTML object>"
      ]
     },
     "metadata": {},
     "output_type": "display_data"
    },
    {
     "name": "stdout",
     "output_type": "stream",
     "text": [
      "\n"
     ]
    },
    {
     "data": {
      "text/html": [
       "<span style = 'display: block; width: 310.0px; \t\t\t\t\t\tline-height: 2; background: #333333;\t\t\t\t\t\tmargin-left: auto; margin-right: auto;\t\t\t\t\t\tborder: 1px solid text_color;\t\t\t\t\t\tborder-radius: 3px; text-align: center;\t\t\t\t\t\tpadding: 3px 8px 3px 8px;'>\t\t\t\t\t\t<b><font size=4><text style=color:white>df with added features: tail(3)\t\t\t\t\t\t</text></font></b></style>"
      ],
      "text/plain": [
       "<IPython.core.display.HTML object>"
      ]
     },
     "metadata": {},
     "output_type": "display_data"
    },
    {
     "data": {
      "text/html": [
       "<center><table border=\"1\" class=\"dataframe\">\n",
       "  <thead>\n",
       "    <tr style=\"text-align: right;\">\n",
       "      <th></th>\n",
       "      <th>open</th>\n",
       "      <th>high</th>\n",
       "      <th>low</th>\n",
       "      <th>close</th>\n",
       "      <th>adj close</th>\n",
       "      <th>volume</th>\n",
       "      <th>change</th>\n",
       "      <th>weekday</th>\n",
       "      <th>month_day</th>\n",
       "      <th>year_week</th>\n",
       "      <th>month</th>\n",
       "    </tr>\n",
       "    <tr>\n",
       "      <th>Datetime</th>\n",
       "      <th></th>\n",
       "      <th></th>\n",
       "      <th></th>\n",
       "      <th></th>\n",
       "      <th></th>\n",
       "      <th></th>\n",
       "      <th></th>\n",
       "      <th></th>\n",
       "      <th></th>\n",
       "      <th></th>\n",
       "      <th></th>\n",
       "    </tr>\n",
       "  </thead>\n",
       "  <tbody>\n",
       "    <tr>\n",
       "      <th>2023-01-24</th>\n",
       "      <td>1,627.85</td>\n",
       "      <td>1,631.37</td>\n",
       "      <td>1,625.53</td>\n",
       "      <td>1,630.56</td>\n",
       "      <td>1,630.56</td>\n",
       "      <td>59650560</td>\n",
       "      <td>2.03</td>\n",
       "      <td>1</td>\n",
       "      <td>24</td>\n",
       "      <td>4</td>\n",
       "      <td>1</td>\n",
       "    </tr>\n",
       "    <tr>\n",
       "      <th>2023-01-24</th>\n",
       "      <td>1,630.74</td>\n",
       "      <td>1,635.37</td>\n",
       "      <td>1,628.71</td>\n",
       "      <td>1,635.37</td>\n",
       "      <td>1,635.37</td>\n",
       "      <td>94061056</td>\n",
       "      <td>4.81</td>\n",
       "      <td>1</td>\n",
       "      <td>24</td>\n",
       "      <td>4</td>\n",
       "      <td>1</td>\n",
       "    </tr>\n",
       "    <tr>\n",
       "      <th>2023-01-24</th>\n",
       "      <td>1,635.65</td>\n",
       "      <td>1,639.72</td>\n",
       "      <td>1,635.65</td>\n",
       "      <td>1,637.44</td>\n",
       "      <td>1,637.44</td>\n",
       "      <td>95740928</td>\n",
       "      <td>2.06</td>\n",
       "      <td>1</td>\n",
       "      <td>24</td>\n",
       "      <td>4</td>\n",
       "      <td>1</td>\n",
       "    </tr>\n",
       "  </tbody>\n",
       "</table>"
      ],
      "text/plain": [
       "<IPython.core.display.HTML object>"
      ]
     },
     "metadata": {},
     "output_type": "display_data"
    },
    {
     "name": "stdout",
     "output_type": "stream",
     "text": [
      "\n"
     ]
    }
   ],
   "source": [
    "head_tail_vert(df, 3, 'df with added features')"
   ]
  },
  {
   "cell_type": "code",
   "execution_count": 32,
   "id": "09a5ae31-17db-46e1-b69f-a9b4463911f1",
   "metadata": {
    "colab": {
     "base_uri": "https://localhost:8080/",
     "height": 263
    },
    "id": "09a5ae31-17db-46e1-b69f-a9b4463911f1",
    "outputId": "3bb4de63-a862-4bbb-e5b4-c584c8e68e69"
   },
   "outputs": [
    {
     "data": {
      "text/html": [
       "<center><style type=\"text/css\">\n",
       "#T_37d7d caption {\n",
       "  background: #333333;\n",
       "  border-radius: 3px;\n",
       "  padding: 5px;\n",
       "  color: white;\n",
       "  font-size: 15px;\n",
       "  font-weight: bold;\n",
       "}\n",
       "</style>\n",
       "<table id=\"T_37d7d\" style='display:inline-block'>\n",
       "  <caption>df.close</caption>\n",
       "  <thead>\n",
       "    <tr>\n",
       "      <th class=\"blank level0\" >&nbsp;</th>\n",
       "      <th id=\"T_37d7d_level0_col0\" class=\"col_heading level0 col0\" >close</th>\n",
       "    </tr>\n",
       "  </thead>\n",
       "  <tbody>\n",
       "    <tr>\n",
       "      <th id=\"T_37d7d_level0_row0\" class=\"row_heading level0 row0\" >count</th>\n",
       "      <td id=\"T_37d7d_row0_col0\" class=\"data row0 col0\" >17,291.00</td>\n",
       "    </tr>\n",
       "    <tr>\n",
       "      <th id=\"T_37d7d_level0_row1\" class=\"row_heading level0 row1\" >mean</th>\n",
       "      <td id=\"T_37d7d_row1_col0\" class=\"data row1 col0\" >2,383.55</td>\n",
       "    </tr>\n",
       "    <tr>\n",
       "      <th id=\"T_37d7d_level0_row2\" class=\"row_heading level0 row2\" >std</th>\n",
       "      <td id=\"T_37d7d_row2_col0\" class=\"data row2 col0\" >982.20</td>\n",
       "    </tr>\n",
       "    <tr>\n",
       "      <th id=\"T_37d7d_level0_row3\" class=\"row_heading level0 row3\" >min</th>\n",
       "      <td id=\"T_37d7d_row3_col0\" class=\"data row3 col0\" >896.58</td>\n",
       "    </tr>\n",
       "    <tr>\n",
       "      <th id=\"T_37d7d_level0_row4\" class=\"row_heading level0 row4\" >25%</th>\n",
       "      <td id=\"T_37d7d_row4_col0\" class=\"data row4 col0\" >1,553.16</td>\n",
       "    </tr>\n",
       "    <tr>\n",
       "      <th id=\"T_37d7d_level0_row5\" class=\"row_heading level0 row5\" >50%</th>\n",
       "      <td id=\"T_37d7d_row5_col0\" class=\"data row5 col0\" >2,145.63</td>\n",
       "    </tr>\n",
       "    <tr>\n",
       "      <th id=\"T_37d7d_level0_row6\" class=\"row_heading level0 row6\" >75%</th>\n",
       "      <td id=\"T_37d7d_row6_col0\" class=\"data row6 col0\" >3,120.47</td>\n",
       "    </tr>\n",
       "    <tr>\n",
       "      <th id=\"T_37d7d_level0_row7\" class=\"row_heading level0 row7\" >max</th>\n",
       "      <td id=\"T_37d7d_row7_col0\" class=\"data row7 col0\" >4,844.15</td>\n",
       "    </tr>\n",
       "  </tbody>\n",
       "</table>\n",
       "&nbsp;&nbsp;&nbsp;<style type=\"text/css\">\n",
       "#T_0808b caption {\n",
       "  background: #333333;\n",
       "  border-radius: 3px;\n",
       "  padding: 5px;\n",
       "  color: white;\n",
       "  font-size: 15px;\n",
       "  font-weight: bold;\n",
       "}\n",
       "</style>\n",
       "<table id=\"T_0808b\" style='display:inline-block'>\n",
       "  <caption>df.volume</caption>\n",
       "  <thead>\n",
       "    <tr>\n",
       "      <th class=\"blank level0\" >&nbsp;</th>\n",
       "      <th id=\"T_0808b_level0_col0\" class=\"col_heading level0 col0\" >volume</th>\n",
       "    </tr>\n",
       "  </thead>\n",
       "  <tbody>\n",
       "    <tr>\n",
       "      <th id=\"T_0808b_level0_row0\" class=\"row_heading level0 row0\" >count</th>\n",
       "      <td id=\"T_0808b_row0_col0\" class=\"data row0 col0\" >17,291.00</td>\n",
       "    </tr>\n",
       "    <tr>\n",
       "      <th id=\"T_0808b_level0_row1\" class=\"row_heading level0 row1\" >mean</th>\n",
       "      <td id=\"T_0808b_row1_col0\" class=\"data row1 col0\" >432,553,974.63</td>\n",
       "    </tr>\n",
       "    <tr>\n",
       "      <th id=\"T_0808b_level0_row2\" class=\"row_heading level0 row2\" >std</th>\n",
       "      <td id=\"T_0808b_row2_col0\" class=\"data row2 col0\" >26,628,371,853.08</td>\n",
       "    </tr>\n",
       "    <tr>\n",
       "      <th id=\"T_0808b_level0_row3\" class=\"row_heading level0 row3\" >min</th>\n",
       "      <td id=\"T_0808b_row3_col0\" class=\"data row3 col0\" >0.00</td>\n",
       "    </tr>\n",
       "    <tr>\n",
       "      <th id=\"T_0808b_level0_row4\" class=\"row_heading level0 row4\" >25%</th>\n",
       "      <td id=\"T_0808b_row4_col0\" class=\"data row4 col0\" >0.00</td>\n",
       "    </tr>\n",
       "    <tr>\n",
       "      <th id=\"T_0808b_level0_row5\" class=\"row_heading level0 row5\" >50%</th>\n",
       "      <td id=\"T_0808b_row5_col0\" class=\"data row5 col0\" >0.00</td>\n",
       "    </tr>\n",
       "    <tr>\n",
       "      <th id=\"T_0808b_level0_row6\" class=\"row_heading level0 row6\" >75%</th>\n",
       "      <td id=\"T_0808b_row6_col0\" class=\"data row6 col0\" >198,964,736.00</td>\n",
       "    </tr>\n",
       "    <tr>\n",
       "      <th id=\"T_0808b_level0_row7\" class=\"row_heading level0 row7\" >max</th>\n",
       "      <td id=\"T_0808b_row7_col0\" class=\"data row7 col0\" >3,443,679,819,776.00</td>\n",
       "    </tr>\n",
       "  </tbody>\n",
       "</table>\n",
       "&nbsp;&nbsp;&nbsp;<style type=\"text/css\">\n",
       "#T_692ca caption {\n",
       "  background: #333333;\n",
       "  border-radius: 3px;\n",
       "  padding: 5px;\n",
       "  color: white;\n",
       "  font-size: 15px;\n",
       "  font-weight: bold;\n",
       "}\n",
       "</style>\n",
       "<table id=\"T_692ca\" style='display:inline-block'>\n",
       "  <caption>df.change</caption>\n",
       "  <thead>\n",
       "    <tr>\n",
       "      <th class=\"blank level0\" >&nbsp;</th>\n",
       "      <th id=\"T_692ca_level0_col0\" class=\"col_heading level0 col0\" >change</th>\n",
       "    </tr>\n",
       "  </thead>\n",
       "  <tbody>\n",
       "    <tr>\n",
       "      <th id=\"T_692ca_level0_row0\" class=\"row_heading level0 row0\" >count</th>\n",
       "      <td id=\"T_692ca_row0_col0\" class=\"data row0 col0\" >17,291.00</td>\n",
       "    </tr>\n",
       "    <tr>\n",
       "      <th id=\"T_692ca_level0_row1\" class=\"row_heading level0 row1\" >mean</th>\n",
       "      <td id=\"T_692ca_row1_col0\" class=\"data row1 col0\" >0.02</td>\n",
       "    </tr>\n",
       "    <tr>\n",
       "      <th id=\"T_692ca_level0_row2\" class=\"row_heading level0 row2\" >std</th>\n",
       "      <td id=\"T_692ca_row2_col0\" class=\"data row2 col0\" >24.53</td>\n",
       "    </tr>\n",
       "    <tr>\n",
       "      <th id=\"T_692ca_level0_row3\" class=\"row_heading level0 row3\" >min</th>\n",
       "      <td id=\"T_692ca_row3_col0\" class=\"data row3 col0\" >-458.96</td>\n",
       "    </tr>\n",
       "    <tr>\n",
       "      <th id=\"T_692ca_level0_row4\" class=\"row_heading level0 row4\" >25%</th>\n",
       "      <td id=\"T_692ca_row4_col0\" class=\"data row4 col0\" >-8.32</td>\n",
       "    </tr>\n",
       "    <tr>\n",
       "      <th id=\"T_692ca_level0_row5\" class=\"row_heading level0 row5\" >50%</th>\n",
       "      <td id=\"T_692ca_row5_col0\" class=\"data row5 col0\" >0.19</td>\n",
       "    </tr>\n",
       "    <tr>\n",
       "      <th id=\"T_692ca_level0_row6\" class=\"row_heading level0 row6\" >75%</th>\n",
       "      <td id=\"T_692ca_row6_col0\" class=\"data row6 col0\" >8.92</td>\n",
       "    </tr>\n",
       "    <tr>\n",
       "      <th id=\"T_692ca_level0_row7\" class=\"row_heading level0 row7\" >max</th>\n",
       "      <td id=\"T_692ca_row7_col0\" class=\"data row7 col0\" >208.61</td>\n",
       "    </tr>\n",
       "  </tbody>\n",
       "</table>\n",
       "&nbsp;&nbsp;&nbsp;"
      ]
     },
     "metadata": {},
     "output_type": "display_data"
    },
    {
     "name": "stdout",
     "output_type": "stream",
     "text": [
      "\n"
     ]
    }
   ],
   "source": [
    "describe_em(df, ['close', 'volume', 'change'])"
   ]
  },
  {
   "cell_type": "code",
   "execution_count": 33,
   "id": "cc67b7a7-7041-4461-9d80-8e01d52999f9",
   "metadata": {
    "colab": {
     "base_uri": "https://localhost:8080/"
    },
    "id": "cc67b7a7-7041-4461-9d80-8e01d52999f9",
    "outputId": "be1f4d6b-f037-4796-88b4-f630a16eee3f"
   },
   "outputs": [
    {
     "data": {
      "text/plain": [
       "(17291, 11)"
      ]
     },
     "execution_count": 33,
     "metadata": {},
     "output_type": "execute_result"
    }
   ],
   "source": [
    "df.shape"
   ]
  },
  {
   "cell_type": "markdown",
   "id": "bddb92c3-c867-4d1b-8e8a-aee894b7836a",
   "metadata": {
    "id": "bddb92c3-c867-4d1b-8e8a-aee894b7836a"
   },
   "source": [
    "<a name = 'splitting'></a>\n",
    "\n",
    "---\n",
    "\n",
    "**SECTIONS: [Top](#top)  |  [Compile Stocks](#compile_stocks)  |  [The Data](#the_data)  |  [Add Change Column](#change_column)  |  [Feature Engineering](#feature_engineering)  |  [Splitting & Scaling](#splitting)  |  [Creating Sequences](#sequences)  |  [PyTorch Datasets](#datasets)  |  [LSTM](#lstm)  |  [Tensorboard](#tensorboard)  |  [Trainer](#trainer)  |  [Results](#results)  |**\n",
    "\n",
    "---\n",
    "\n",
    "<font size = 4><span style = 'background-color: #ddddff; padding: 5px 5px 3px 5px; line-height: 1.5; color:black;border-radius: 3px;'>**Splitting & Scaling the Data**"
   ]
  },
  {
   "cell_type": "code",
   "execution_count": 34,
   "id": "93b2d601-3e4e-4129-8c05-2f6f5ff85a1f",
   "metadata": {
    "colab": {
     "base_uri": "https://localhost:8080/",
     "height": 81
    },
    "id": "93b2d601-3e4e-4129-8c05-2f6f5ff85a1f",
    "outputId": "da5b7f79-b32c-47d5-e0ae-c18483348e49"
   },
   "outputs": [
    {
     "data": {
      "text/html": [
       "<span style = 'line-height: 2;                                 background: #444444; width: None;                                 border: 1px solid text_color;                                border-radius: 0px; text-align: center;                                padding: 5px;'>                                <b><font size=3><text style=color:white>number of training inputs: 13,832.                                </text></font></b></style>"
      ],
      "text/plain": [
       "<IPython.core.display.HTML object>"
      ]
     },
     "metadata": {},
     "output_type": "display_data"
    },
    {
     "data": {
      "text/html": [
       "<span style = 'line-height: 2;                                 background: #444444; width: None;                                 border: 1px solid text_color;                                border-radius: 0px; text-align: center;                                padding: 5px;'>                                <b><font size=3><text style=color:white>number of testing inputs: 3,458.                                </text></font></b></style>"
      ],
      "text/plain": [
       "<IPython.core.display.HTML object>"
      ]
     },
     "metadata": {},
     "output_type": "display_data"
    }
   ],
   "source": [
    "train_size = int(len(df) * .8)\n",
    "pretty(f'number of training inputs: {train_size:,}.')\n",
    "test_size = int(len(df) * .2)\n",
    "pretty(f'number of testing inputs: {test_size:,}.')"
   ]
  },
  {
   "cell_type": "code",
   "execution_count": 35,
   "id": "7e9d3c1a-b927-4f8f-9025-fab7301ca490",
   "metadata": {
    "id": "7e9d3c1a-b927-4f8f-9025-fab7301ca490"
   },
   "outputs": [],
   "source": [
    "train_df, test_df = df[:train_size], df[train_size + 1:]"
   ]
  },
  {
   "cell_type": "code",
   "execution_count": 36,
   "id": "007ab405-407e-4bd2-8766-3a40e2dcb348",
   "metadata": {
    "colab": {
     "base_uri": "https://localhost:8080/",
     "height": 49
    },
    "id": "007ab405-407e-4bd2-8766-3a40e2dcb348",
    "outputId": "a789742e-35f6-4586-d809-db100980c19a"
   },
   "outputs": [
    {
     "data": {
      "text/html": [
       "<span style = 'line-height: 2;                                 background: #444444; width: None;                                 border: 1px solid text_color;                                border-radius: 0px; text-align: center;                                padding: 5px;'>                                <b><font size=3><text style=color:white>train_df.shape: (13832, 11)  |  test_df.shape: (3458, 11)                                </text></font></b></style>"
      ],
      "text/plain": [
       "<IPython.core.display.HTML object>"
      ]
     },
     "metadata": {},
     "output_type": "display_data"
    }
   ],
   "source": [
    "pretty(f'train_df.shape: {train_df.shape}  |  test_df.shape: {test_df.shape}')"
   ]
  },
  {
   "cell_type": "markdown",
   "id": "09508a9b-fb18-42a8-aa3f-09d1387d5704",
   "metadata": {
    "id": "09508a9b-fb18-42a8-aa3f-09d1387d5704"
   },
   "source": [
    "<font size = 4><span style = 'background-color: #ddddff; padding: 5px 5px 3px 5px; line-height: 1.5; color:black;border-radius: 3px;'>**Scaling the data**"
   ]
  },
  {
   "cell_type": "code",
   "execution_count": 37,
   "id": "da5238ca-80fd-449c-a3a6-d052a5e45d05",
   "metadata": {
    "id": "da5238ca-80fd-449c-a3a6-d052a5e45d05"
   },
   "outputs": [],
   "source": [
    "scaler = MinMaxScaler(feature_range = (-1, 1))\n",
    "scaler = scaler.fit(train_df)"
   ]
  },
  {
   "cell_type": "code",
   "execution_count": 38,
   "id": "c7cbe925-8513-402c-a5df-90724ca7aaa2",
   "metadata": {
    "id": "c7cbe925-8513-402c-a5df-90724ca7aaa2"
   },
   "outputs": [],
   "source": [
    "train_df = pd.DataFrame(scaler.transform(train_df), \n",
    "\t\t\t\t\t\t\t\t\t\t  index = train_df.index, \n",
    "\t\t\t\t\t\t\t\t\t\t  columns = train_df.columns)\n",
    "\n",
    "test_df = pd.DataFrame(scaler.transform(test_df), \n",
    "\t\t\t\t\t\t\t\t\t\t index = test_df.index, \n",
    "\t\t\t\t\t\t\t\t\t\t columns = test_df.columns)"
   ]
  },
  {
   "cell_type": "markdown",
   "id": "8e031965-8071-407f-a3f9-965bf03b7955",
   "metadata": {
    "id": "8e031965-8071-407f-a3f9-965bf03b7955"
   },
   "source": [
    "<font size = 4><span style = 'background-color: #ddddff; padding: 5px 5px 3px 5px; line-height: 1.5; color:black;border-radius: 3px;'>**Viewing the scaled data**"
   ]
  },
  {
   "cell_type": "code",
   "execution_count": 39,
   "id": "2a678757-a77c-491f-a502-77ca05632295",
   "metadata": {
    "colab": {
     "base_uri": "https://localhost:8080/",
     "height": 776
    },
    "id": "2a678757-a77c-491f-a502-77ca05632295",
    "outputId": "71767877-fd93-4aec-dbdd-c4b417a4757b"
   },
   "outputs": [
    {
     "data": {
      "text/html": [
       "<center><style type=\"text/css\">\n",
       "#T_05225 caption {\n",
       "  background: #333333;\n",
       "  border-radius: 3px;\n",
       "  padding: 5px;\n",
       "  color: white;\n",
       "  font-size: 15px;\n",
       "  font-weight: bold;\n",
       "}\n",
       "</style>\n",
       "<table id=\"T_05225\" style='display:inline-block'>\n",
       "  <caption>train_df.head(5)</caption>\n",
       "  <thead>\n",
       "    <tr>\n",
       "      <th class=\"blank level0\" >&nbsp;</th>\n",
       "      <th id=\"T_05225_level0_col0\" class=\"col_heading level0 col0\" >open</th>\n",
       "      <th id=\"T_05225_level0_col1\" class=\"col_heading level0 col1\" >high</th>\n",
       "      <th id=\"T_05225_level0_col2\" class=\"col_heading level0 col2\" >low</th>\n",
       "      <th id=\"T_05225_level0_col3\" class=\"col_heading level0 col3\" >close</th>\n",
       "      <th id=\"T_05225_level0_col4\" class=\"col_heading level0 col4\" >adj close</th>\n",
       "      <th id=\"T_05225_level0_col5\" class=\"col_heading level0 col5\" >volume</th>\n",
       "      <th id=\"T_05225_level0_col6\" class=\"col_heading level0 col6\" >change</th>\n",
       "      <th id=\"T_05225_level0_col7\" class=\"col_heading level0 col7\" >weekday</th>\n",
       "      <th id=\"T_05225_level0_col8\" class=\"col_heading level0 col8\" >month_day</th>\n",
       "      <th id=\"T_05225_level0_col9\" class=\"col_heading level0 col9\" >year_week</th>\n",
       "      <th id=\"T_05225_level0_col10\" class=\"col_heading level0 col10\" >month</th>\n",
       "    </tr>\n",
       "    <tr>\n",
       "      <th class=\"index_name level0\" >Datetime</th>\n",
       "      <th class=\"blank col0\" >&nbsp;</th>\n",
       "      <th class=\"blank col1\" >&nbsp;</th>\n",
       "      <th class=\"blank col2\" >&nbsp;</th>\n",
       "      <th class=\"blank col3\" >&nbsp;</th>\n",
       "      <th class=\"blank col4\" >&nbsp;</th>\n",
       "      <th class=\"blank col5\" >&nbsp;</th>\n",
       "      <th class=\"blank col6\" >&nbsp;</th>\n",
       "      <th class=\"blank col7\" >&nbsp;</th>\n",
       "      <th class=\"blank col8\" >&nbsp;</th>\n",
       "      <th class=\"blank col9\" >&nbsp;</th>\n",
       "      <th class=\"blank col10\" >&nbsp;</th>\n",
       "    </tr>\n",
       "  </thead>\n",
       "  <tbody>\n",
       "    <tr>\n",
       "      <th id=\"T_05225_level0_row0\" class=\"row_heading level0 row0\" >2021-01-24 03:00:00+00:00</th>\n",
       "      <td id=\"T_05225_row0_col0\" class=\"data row0 col0\" >-0.82</td>\n",
       "      <td id=\"T_05225_row0_col1\" class=\"data row0 col1\" >-0.82</td>\n",
       "      <td id=\"T_05225_row0_col2\" class=\"data row0 col2\" >-0.82</td>\n",
       "      <td id=\"T_05225_row0_col3\" class=\"data row0 col3\" >-0.80</td>\n",
       "      <td id=\"T_05225_row0_col4\" class=\"data row0 col4\" >-0.80</td>\n",
       "      <td id=\"T_05225_row0_col5\" class=\"data row0 col5\" >-1.00</td>\n",
       "      <td id=\"T_05225_row0_col6\" class=\"data row0 col6\" >0.45</td>\n",
       "      <td id=\"T_05225_row0_col7\" class=\"data row0 col7\" >1.00</td>\n",
       "      <td id=\"T_05225_row0_col8\" class=\"data row0 col8\" >0.53</td>\n",
       "      <td id=\"T_05225_row0_col9\" class=\"data row0 col9\" >-0.92</td>\n",
       "      <td id=\"T_05225_row0_col10\" class=\"data row0 col10\" >-1.00</td>\n",
       "    </tr>\n",
       "    <tr>\n",
       "      <th id=\"T_05225_level0_row1\" class=\"row_heading level0 row1\" >2021-01-24 04:00:00+00:00</th>\n",
       "      <td id=\"T_05225_row1_col0\" class=\"data row1 col0\" >-0.81</td>\n",
       "      <td id=\"T_05225_row1_col1\" class=\"data row1 col1\" >-0.80</td>\n",
       "      <td id=\"T_05225_row1_col2\" class=\"data row1 col2\" >-0.80</td>\n",
       "      <td id=\"T_05225_row1_col3\" class=\"data row1 col3\" >-0.79</td>\n",
       "      <td id=\"T_05225_row1_col4\" class=\"data row1 col4\" >-0.79</td>\n",
       "      <td id=\"T_05225_row1_col5\" class=\"data row1 col5\" >-1.00</td>\n",
       "      <td id=\"T_05225_row1_col6\" class=\"data row1 col6\" >0.48</td>\n",
       "      <td id=\"T_05225_row1_col7\" class=\"data row1 col7\" >1.00</td>\n",
       "      <td id=\"T_05225_row1_col8\" class=\"data row1 col8\" >0.53</td>\n",
       "      <td id=\"T_05225_row1_col9\" class=\"data row1 col9\" >-0.92</td>\n",
       "      <td id=\"T_05225_row1_col10\" class=\"data row1 col10\" >-1.00</td>\n",
       "    </tr>\n",
       "    <tr>\n",
       "      <th id=\"T_05225_level0_row2\" class=\"row_heading level0 row2\" >2021-01-24 05:00:00+00:00</th>\n",
       "      <td id=\"T_05225_row2_col0\" class=\"data row2 col0\" >-0.79</td>\n",
       "      <td id=\"T_05225_row2_col1\" class=\"data row2 col1\" >-0.79</td>\n",
       "      <td id=\"T_05225_row2_col2\" class=\"data row2 col2\" >-0.79</td>\n",
       "      <td id=\"T_05225_row2_col3\" class=\"data row2 col3\" >-0.78</td>\n",
       "      <td id=\"T_05225_row2_col4\" class=\"data row2 col4\" >-0.78</td>\n",
       "      <td id=\"T_05225_row2_col5\" class=\"data row2 col5\" >-1.00</td>\n",
       "      <td id=\"T_05225_row2_col6\" class=\"data row2 col6\" >0.39</td>\n",
       "      <td id=\"T_05225_row2_col7\" class=\"data row2 col7\" >1.00</td>\n",
       "      <td id=\"T_05225_row2_col8\" class=\"data row2 col8\" >0.53</td>\n",
       "      <td id=\"T_05225_row2_col9\" class=\"data row2 col9\" >-0.92</td>\n",
       "      <td id=\"T_05225_row2_col10\" class=\"data row2 col10\" >-1.00</td>\n",
       "    </tr>\n",
       "    <tr>\n",
       "      <th id=\"T_05225_level0_row3\" class=\"row_heading level0 row3\" >2021-01-24 06:00:00+00:00</th>\n",
       "      <td id=\"T_05225_row3_col0\" class=\"data row3 col0\" >-0.79</td>\n",
       "      <td id=\"T_05225_row3_col1\" class=\"data row3 col1\" >-0.79</td>\n",
       "      <td id=\"T_05225_row3_col2\" class=\"data row3 col2\" >-0.79</td>\n",
       "      <td id=\"T_05225_row3_col3\" class=\"data row3 col3\" >-0.79</td>\n",
       "      <td id=\"T_05225_row3_col4\" class=\"data row3 col4\" >-0.79</td>\n",
       "      <td id=\"T_05225_row3_col5\" class=\"data row3 col5\" >-1.00</td>\n",
       "      <td id=\"T_05225_row3_col6\" class=\"data row3 col6\" >0.37</td>\n",
       "      <td id=\"T_05225_row3_col7\" class=\"data row3 col7\" >1.00</td>\n",
       "      <td id=\"T_05225_row3_col8\" class=\"data row3 col8\" >0.53</td>\n",
       "      <td id=\"T_05225_row3_col9\" class=\"data row3 col9\" >-0.92</td>\n",
       "      <td id=\"T_05225_row3_col10\" class=\"data row3 col10\" >-1.00</td>\n",
       "    </tr>\n",
       "    <tr>\n",
       "      <th id=\"T_05225_level0_row4\" class=\"row_heading level0 row4\" >2021-01-24 07:00:00+00:00</th>\n",
       "      <td id=\"T_05225_row4_col0\" class=\"data row4 col0\" >-0.79</td>\n",
       "      <td id=\"T_05225_row4_col1\" class=\"data row4 col1\" >-0.80</td>\n",
       "      <td id=\"T_05225_row4_col2\" class=\"data row4 col2\" >-0.79</td>\n",
       "      <td id=\"T_05225_row4_col3\" class=\"data row4 col3\" >-0.79</td>\n",
       "      <td id=\"T_05225_row4_col4\" class=\"data row4 col4\" >-0.79</td>\n",
       "      <td id=\"T_05225_row4_col5\" class=\"data row4 col5\" >-1.00</td>\n",
       "      <td id=\"T_05225_row4_col6\" class=\"data row4 col6\" >0.35</td>\n",
       "      <td id=\"T_05225_row4_col7\" class=\"data row4 col7\" >1.00</td>\n",
       "      <td id=\"T_05225_row4_col8\" class=\"data row4 col8\" >0.53</td>\n",
       "      <td id=\"T_05225_row4_col9\" class=\"data row4 col9\" >-0.92</td>\n",
       "      <td id=\"T_05225_row4_col10\" class=\"data row4 col10\" >-1.00</td>\n",
       "    </tr>\n",
       "  </tbody>\n",
       "</table>\n",
       "&nbsp;&nbsp;&nbsp;<style type=\"text/css\">\n",
       "#T_9ada7 caption {\n",
       "  background: #333333;\n",
       "  border-radius: 3px;\n",
       "  padding: 5px;\n",
       "  color: white;\n",
       "  font-size: 15px;\n",
       "  font-weight: bold;\n",
       "}\n",
       "</style>\n",
       "<table id=\"T_9ada7\" style='display:inline-block'>\n",
       "  <caption>train_df.tail(5)</caption>\n",
       "  <thead>\n",
       "    <tr>\n",
       "      <th class=\"blank level0\" >&nbsp;</th>\n",
       "      <th id=\"T_9ada7_level0_col0\" class=\"col_heading level0 col0\" >open</th>\n",
       "      <th id=\"T_9ada7_level0_col1\" class=\"col_heading level0 col1\" >high</th>\n",
       "      <th id=\"T_9ada7_level0_col2\" class=\"col_heading level0 col2\" >low</th>\n",
       "      <th id=\"T_9ada7_level0_col3\" class=\"col_heading level0 col3\" >close</th>\n",
       "      <th id=\"T_9ada7_level0_col4\" class=\"col_heading level0 col4\" >adj close</th>\n",
       "      <th id=\"T_9ada7_level0_col5\" class=\"col_heading level0 col5\" >volume</th>\n",
       "      <th id=\"T_9ada7_level0_col6\" class=\"col_heading level0 col6\" >change</th>\n",
       "      <th id=\"T_9ada7_level0_col7\" class=\"col_heading level0 col7\" >weekday</th>\n",
       "      <th id=\"T_9ada7_level0_col8\" class=\"col_heading level0 col8\" >month_day</th>\n",
       "      <th id=\"T_9ada7_level0_col9\" class=\"col_heading level0 col9\" >year_week</th>\n",
       "      <th id=\"T_9ada7_level0_col10\" class=\"col_heading level0 col10\" >month</th>\n",
       "    </tr>\n",
       "    <tr>\n",
       "      <th class=\"index_name level0\" >Datetime</th>\n",
       "      <th class=\"blank col0\" >&nbsp;</th>\n",
       "      <th class=\"blank col1\" >&nbsp;</th>\n",
       "      <th class=\"blank col2\" >&nbsp;</th>\n",
       "      <th class=\"blank col3\" >&nbsp;</th>\n",
       "      <th class=\"blank col4\" >&nbsp;</th>\n",
       "      <th class=\"blank col5\" >&nbsp;</th>\n",
       "      <th class=\"blank col6\" >&nbsp;</th>\n",
       "      <th class=\"blank col7\" >&nbsp;</th>\n",
       "      <th class=\"blank col8\" >&nbsp;</th>\n",
       "      <th class=\"blank col9\" >&nbsp;</th>\n",
       "      <th class=\"blank col10\" >&nbsp;</th>\n",
       "    </tr>\n",
       "  </thead>\n",
       "  <tbody>\n",
       "    <tr>\n",
       "      <th id=\"T_9ada7_level0_row0\" class=\"row_heading level0 row0\" >2022-09-01 17:00:00+00:00</th>\n",
       "      <td id=\"T_9ada7_row0_col0\" class=\"data row0 col0\" >-0.68</td>\n",
       "      <td id=\"T_9ada7_row0_col1\" class=\"data row0 col1\" >-0.67</td>\n",
       "      <td id=\"T_9ada7_row0_col2\" class=\"data row0 col2\" >-0.67</td>\n",
       "      <td id=\"T_9ada7_row0_col3\" class=\"data row0 col3\" >-0.67</td>\n",
       "      <td id=\"T_9ada7_row0_col4\" class=\"data row0 col4\" >-0.67</td>\n",
       "      <td id=\"T_9ada7_row0_col5\" class=\"data row0 col5\" >-1.00</td>\n",
       "      <td id=\"T_9ada7_row0_col6\" class=\"data row0 col6\" >0.43</td>\n",
       "      <td id=\"T_9ada7_row0_col7\" class=\"data row0 col7\" >0.00</td>\n",
       "      <td id=\"T_9ada7_row0_col8\" class=\"data row0 col8\" >-1.00</td>\n",
       "      <td id=\"T_9ada7_row0_col9\" class=\"data row0 col9\" >0.33</td>\n",
       "      <td id=\"T_9ada7_row0_col10\" class=\"data row0 col10\" >0.45</td>\n",
       "    </tr>\n",
       "    <tr>\n",
       "      <th id=\"T_9ada7_level0_row1\" class=\"row_heading level0 row1\" >2022-09-01 18:00:00+00:00</th>\n",
       "      <td id=\"T_9ada7_row1_col0\" class=\"data row1 col0\" >-0.67</td>\n",
       "      <td id=\"T_9ada7_row1_col1\" class=\"data row1 col1\" >-0.67</td>\n",
       "      <td id=\"T_9ada7_row1_col2\" class=\"data row1 col2\" >-0.67</td>\n",
       "      <td id=\"T_9ada7_row1_col3\" class=\"data row1 col3\" >-0.66</td>\n",
       "      <td id=\"T_9ada7_row1_col4\" class=\"data row1 col4\" >-0.66</td>\n",
       "      <td id=\"T_9ada7_row1_col5\" class=\"data row1 col5\" >-1.00</td>\n",
       "      <td id=\"T_9ada7_row1_col6\" class=\"data row1 col6\" >0.39</td>\n",
       "      <td id=\"T_9ada7_row1_col7\" class=\"data row1 col7\" >0.00</td>\n",
       "      <td id=\"T_9ada7_row1_col8\" class=\"data row1 col8\" >-1.00</td>\n",
       "      <td id=\"T_9ada7_row1_col9\" class=\"data row1 col9\" >0.33</td>\n",
       "      <td id=\"T_9ada7_row1_col10\" class=\"data row1 col10\" >0.45</td>\n",
       "    </tr>\n",
       "    <tr>\n",
       "      <th id=\"T_9ada7_level0_row2\" class=\"row_heading level0 row2\" >2022-09-01 19:00:00+00:00</th>\n",
       "      <td id=\"T_9ada7_row2_col0\" class=\"data row2 col0\" >-0.67</td>\n",
       "      <td id=\"T_9ada7_row2_col1\" class=\"data row2 col1\" >-0.67</td>\n",
       "      <td id=\"T_9ada7_row2_col2\" class=\"data row2 col2\" >-0.66</td>\n",
       "      <td id=\"T_9ada7_row2_col3\" class=\"data row2 col3\" >-0.66</td>\n",
       "      <td id=\"T_9ada7_row2_col4\" class=\"data row2 col4\" >-0.66</td>\n",
       "      <td id=\"T_9ada7_row2_col5\" class=\"data row2 col5\" >-1.00</td>\n",
       "      <td id=\"T_9ada7_row2_col6\" class=\"data row2 col6\" >0.38</td>\n",
       "      <td id=\"T_9ada7_row2_col7\" class=\"data row2 col7\" >0.00</td>\n",
       "      <td id=\"T_9ada7_row2_col8\" class=\"data row2 col8\" >-1.00</td>\n",
       "      <td id=\"T_9ada7_row2_col9\" class=\"data row2 col9\" >0.33</td>\n",
       "      <td id=\"T_9ada7_row2_col10\" class=\"data row2 col10\" >0.45</td>\n",
       "    </tr>\n",
       "    <tr>\n",
       "      <th id=\"T_9ada7_level0_row3\" class=\"row_heading level0 row3\" >2022-09-01 20:00:00+00:00</th>\n",
       "      <td id=\"T_9ada7_row3_col0\" class=\"data row3 col0\" >-0.67</td>\n",
       "      <td id=\"T_9ada7_row3_col1\" class=\"data row3 col1\" >-0.67</td>\n",
       "      <td id=\"T_9ada7_row3_col2\" class=\"data row3 col2\" >-0.66</td>\n",
       "      <td id=\"T_9ada7_row3_col3\" class=\"data row3 col3\" >-0.65</td>\n",
       "      <td id=\"T_9ada7_row3_col4\" class=\"data row3 col4\" >-0.65</td>\n",
       "      <td id=\"T_9ada7_row3_col5\" class=\"data row3 col5\" >-1.00</td>\n",
       "      <td id=\"T_9ada7_row3_col6\" class=\"data row3 col6\" >0.43</td>\n",
       "      <td id=\"T_9ada7_row3_col7\" class=\"data row3 col7\" >0.00</td>\n",
       "      <td id=\"T_9ada7_row3_col8\" class=\"data row3 col8\" >-1.00</td>\n",
       "      <td id=\"T_9ada7_row3_col9\" class=\"data row3 col9\" >0.33</td>\n",
       "      <td id=\"T_9ada7_row3_col10\" class=\"data row3 col10\" >0.45</td>\n",
       "    </tr>\n",
       "    <tr>\n",
       "      <th id=\"T_9ada7_level0_row4\" class=\"row_heading level0 row4\" >2022-09-01 21:00:00+00:00</th>\n",
       "      <td id=\"T_9ada7_row4_col0\" class=\"data row4 col0\" >-0.66</td>\n",
       "      <td id=\"T_9ada7_row4_col1\" class=\"data row4 col1\" >-0.66</td>\n",
       "      <td id=\"T_9ada7_row4_col2\" class=\"data row4 col2\" >-0.65</td>\n",
       "      <td id=\"T_9ada7_row4_col3\" class=\"data row4 col3\" >-0.65</td>\n",
       "      <td id=\"T_9ada7_row4_col4\" class=\"data row4 col4\" >-0.65</td>\n",
       "      <td id=\"T_9ada7_row4_col5\" class=\"data row4 col5\" >-1.00</td>\n",
       "      <td id=\"T_9ada7_row4_col6\" class=\"data row4 col6\" >0.38</td>\n",
       "      <td id=\"T_9ada7_row4_col7\" class=\"data row4 col7\" >0.00</td>\n",
       "      <td id=\"T_9ada7_row4_col8\" class=\"data row4 col8\" >-1.00</td>\n",
       "      <td id=\"T_9ada7_row4_col9\" class=\"data row4 col9\" >0.33</td>\n",
       "      <td id=\"T_9ada7_row4_col10\" class=\"data row4 col10\" >0.45</td>\n",
       "    </tr>\n",
       "  </tbody>\n",
       "</table>\n",
       "&nbsp;&nbsp;&nbsp;<style type=\"text/css\">\n",
       "#T_fcf4f caption {\n",
       "  background: #333333;\n",
       "  border-radius: 3px;\n",
       "  padding: 5px;\n",
       "  color: white;\n",
       "  font-size: 15px;\n",
       "  font-weight: bold;\n",
       "}\n",
       "</style>\n",
       "<table id=\"T_fcf4f\" style='display:inline-block'>\n",
       "  <caption>test_df.head(5)</caption>\n",
       "  <thead>\n",
       "    <tr>\n",
       "      <th class=\"blank level0\" >&nbsp;</th>\n",
       "      <th id=\"T_fcf4f_level0_col0\" class=\"col_heading level0 col0\" >open</th>\n",
       "      <th id=\"T_fcf4f_level0_col1\" class=\"col_heading level0 col1\" >high</th>\n",
       "      <th id=\"T_fcf4f_level0_col2\" class=\"col_heading level0 col2\" >low</th>\n",
       "      <th id=\"T_fcf4f_level0_col3\" class=\"col_heading level0 col3\" >close</th>\n",
       "      <th id=\"T_fcf4f_level0_col4\" class=\"col_heading level0 col4\" >adj close</th>\n",
       "      <th id=\"T_fcf4f_level0_col5\" class=\"col_heading level0 col5\" >volume</th>\n",
       "      <th id=\"T_fcf4f_level0_col6\" class=\"col_heading level0 col6\" >change</th>\n",
       "      <th id=\"T_fcf4f_level0_col7\" class=\"col_heading level0 col7\" >weekday</th>\n",
       "      <th id=\"T_fcf4f_level0_col8\" class=\"col_heading level0 col8\" >month_day</th>\n",
       "      <th id=\"T_fcf4f_level0_col9\" class=\"col_heading level0 col9\" >year_week</th>\n",
       "      <th id=\"T_fcf4f_level0_col10\" class=\"col_heading level0 col10\" >month</th>\n",
       "    </tr>\n",
       "    <tr>\n",
       "      <th class=\"index_name level0\" >Datetime</th>\n",
       "      <th class=\"blank col0\" >&nbsp;</th>\n",
       "      <th class=\"blank col1\" >&nbsp;</th>\n",
       "      <th class=\"blank col2\" >&nbsp;</th>\n",
       "      <th class=\"blank col3\" >&nbsp;</th>\n",
       "      <th class=\"blank col4\" >&nbsp;</th>\n",
       "      <th class=\"blank col5\" >&nbsp;</th>\n",
       "      <th class=\"blank col6\" >&nbsp;</th>\n",
       "      <th class=\"blank col7\" >&nbsp;</th>\n",
       "      <th class=\"blank col8\" >&nbsp;</th>\n",
       "      <th class=\"blank col9\" >&nbsp;</th>\n",
       "      <th class=\"blank col10\" >&nbsp;</th>\n",
       "    </tr>\n",
       "  </thead>\n",
       "  <tbody>\n",
       "    <tr>\n",
       "      <th id=\"T_fcf4f_level0_row0\" class=\"row_heading level0 row0\" >2022-09-01 23:00:00+00:00</th>\n",
       "      <td id=\"T_fcf4f_row0_col0\" class=\"data row0 col0\" >-0.65</td>\n",
       "      <td id=\"T_fcf4f_row0_col1\" class=\"data row0 col1\" >-0.66</td>\n",
       "      <td id=\"T_fcf4f_row0_col2\" class=\"data row0 col2\" >-0.65</td>\n",
       "      <td id=\"T_fcf4f_row0_col3\" class=\"data row0 col3\" >-0.65</td>\n",
       "      <td id=\"T_fcf4f_row0_col4\" class=\"data row0 col4\" >-0.65</td>\n",
       "      <td id=\"T_fcf4f_row0_col5\" class=\"data row0 col5\" >-1.00</td>\n",
       "      <td id=\"T_fcf4f_row0_col6\" class=\"data row0 col6\" >0.37</td>\n",
       "      <td id=\"T_fcf4f_row0_col7\" class=\"data row0 col7\" >0.00</td>\n",
       "      <td id=\"T_fcf4f_row0_col8\" class=\"data row0 col8\" >-1.00</td>\n",
       "      <td id=\"T_fcf4f_row0_col9\" class=\"data row0 col9\" >0.33</td>\n",
       "      <td id=\"T_fcf4f_row0_col10\" class=\"data row0 col10\" >0.45</td>\n",
       "    </tr>\n",
       "    <tr>\n",
       "      <th id=\"T_fcf4f_level0_row1\" class=\"row_heading level0 row1\" >2022-09-02 00:00:00+00:00</th>\n",
       "      <td id=\"T_fcf4f_row1_col0\" class=\"data row1 col0\" >-0.65</td>\n",
       "      <td id=\"T_fcf4f_row1_col1\" class=\"data row1 col1\" >-0.66</td>\n",
       "      <td id=\"T_fcf4f_row1_col2\" class=\"data row1 col2\" >-0.65</td>\n",
       "      <td id=\"T_fcf4f_row1_col3\" class=\"data row1 col3\" >-0.65</td>\n",
       "      <td id=\"T_fcf4f_row1_col4\" class=\"data row1 col4\" >-0.65</td>\n",
       "      <td id=\"T_fcf4f_row1_col5\" class=\"data row1 col5\" >-1.00</td>\n",
       "      <td id=\"T_fcf4f_row1_col6\" class=\"data row1 col6\" >0.36</td>\n",
       "      <td id=\"T_fcf4f_row1_col7\" class=\"data row1 col7\" >0.33</td>\n",
       "      <td id=\"T_fcf4f_row1_col8\" class=\"data row1 col8\" >-0.93</td>\n",
       "      <td id=\"T_fcf4f_row1_col9\" class=\"data row1 col9\" >0.33</td>\n",
       "      <td id=\"T_fcf4f_row1_col10\" class=\"data row1 col10\" >0.45</td>\n",
       "    </tr>\n",
       "    <tr>\n",
       "      <th id=\"T_fcf4f_level0_row2\" class=\"row_heading level0 row2\" >2022-09-02 01:00:00+00:00</th>\n",
       "      <td id=\"T_fcf4f_row2_col0\" class=\"data row2 col0\" >-0.66</td>\n",
       "      <td id=\"T_fcf4f_row2_col1\" class=\"data row2 col1\" >-0.66</td>\n",
       "      <td id=\"T_fcf4f_row2_col2\" class=\"data row2 col2\" >-0.66</td>\n",
       "      <td id=\"T_fcf4f_row2_col3\" class=\"data row2 col3\" >-0.66</td>\n",
       "      <td id=\"T_fcf4f_row2_col4\" class=\"data row2 col4\" >-0.66</td>\n",
       "      <td id=\"T_fcf4f_row2_col5\" class=\"data row2 col5\" >-1.00</td>\n",
       "      <td id=\"T_fcf4f_row2_col6\" class=\"data row2 col6\" >0.36</td>\n",
       "      <td id=\"T_fcf4f_row2_col7\" class=\"data row2 col7\" >0.33</td>\n",
       "      <td id=\"T_fcf4f_row2_col8\" class=\"data row2 col8\" >-0.93</td>\n",
       "      <td id=\"T_fcf4f_row2_col9\" class=\"data row2 col9\" >0.33</td>\n",
       "      <td id=\"T_fcf4f_row2_col10\" class=\"data row2 col10\" >0.45</td>\n",
       "    </tr>\n",
       "    <tr>\n",
       "      <th id=\"T_fcf4f_level0_row3\" class=\"row_heading level0 row3\" >2022-09-02 02:00:00+00:00</th>\n",
       "      <td id=\"T_fcf4f_row3_col0\" class=\"data row3 col0\" >-0.66</td>\n",
       "      <td id=\"T_fcf4f_row3_col1\" class=\"data row3 col1\" >-0.66</td>\n",
       "      <td id=\"T_fcf4f_row3_col2\" class=\"data row3 col2\" >-0.66</td>\n",
       "      <td id=\"T_fcf4f_row3_col3\" class=\"data row3 col3\" >-0.66</td>\n",
       "      <td id=\"T_fcf4f_row3_col4\" class=\"data row3 col4\" >-0.66</td>\n",
       "      <td id=\"T_fcf4f_row3_col5\" class=\"data row3 col5\" >-1.00</td>\n",
       "      <td id=\"T_fcf4f_row3_col6\" class=\"data row3 col6\" >0.37</td>\n",
       "      <td id=\"T_fcf4f_row3_col7\" class=\"data row3 col7\" >0.33</td>\n",
       "      <td id=\"T_fcf4f_row3_col8\" class=\"data row3 col8\" >-0.93</td>\n",
       "      <td id=\"T_fcf4f_row3_col9\" class=\"data row3 col9\" >0.33</td>\n",
       "      <td id=\"T_fcf4f_row3_col10\" class=\"data row3 col10\" >0.45</td>\n",
       "    </tr>\n",
       "    <tr>\n",
       "      <th id=\"T_fcf4f_level0_row4\" class=\"row_heading level0 row4\" >2022-09-02 03:00:00+00:00</th>\n",
       "      <td id=\"T_fcf4f_row4_col0\" class=\"data row4 col0\" >-0.66</td>\n",
       "      <td id=\"T_fcf4f_row4_col1\" class=\"data row4 col1\" >-0.65</td>\n",
       "      <td id=\"T_fcf4f_row4_col2\" class=\"data row4 col2\" >-0.65</td>\n",
       "      <td id=\"T_fcf4f_row4_col3\" class=\"data row4 col3\" >-0.65</td>\n",
       "      <td id=\"T_fcf4f_row4_col4\" class=\"data row4 col4\" >-0.65</td>\n",
       "      <td id=\"T_fcf4f_row4_col5\" class=\"data row4 col5\" >-1.00</td>\n",
       "      <td id=\"T_fcf4f_row4_col6\" class=\"data row4 col6\" >0.44</td>\n",
       "      <td id=\"T_fcf4f_row4_col7\" class=\"data row4 col7\" >0.33</td>\n",
       "      <td id=\"T_fcf4f_row4_col8\" class=\"data row4 col8\" >-0.93</td>\n",
       "      <td id=\"T_fcf4f_row4_col9\" class=\"data row4 col9\" >0.33</td>\n",
       "      <td id=\"T_fcf4f_row4_col10\" class=\"data row4 col10\" >0.45</td>\n",
       "    </tr>\n",
       "  </tbody>\n",
       "</table>\n",
       "&nbsp;&nbsp;&nbsp;<style type=\"text/css\">\n",
       "#T_38909 caption {\n",
       "  background: #333333;\n",
       "  border-radius: 3px;\n",
       "  padding: 5px;\n",
       "  color: white;\n",
       "  font-size: 15px;\n",
       "  font-weight: bold;\n",
       "}\n",
       "</style>\n",
       "<table id=\"T_38909\" style='display:inline-block'>\n",
       "  <caption>test_df.tail(5)</caption>\n",
       "  <thead>\n",
       "    <tr>\n",
       "      <th class=\"blank level0\" >&nbsp;</th>\n",
       "      <th id=\"T_38909_level0_col0\" class=\"col_heading level0 col0\" >open</th>\n",
       "      <th id=\"T_38909_level0_col1\" class=\"col_heading level0 col1\" >high</th>\n",
       "      <th id=\"T_38909_level0_col2\" class=\"col_heading level0 col2\" >low</th>\n",
       "      <th id=\"T_38909_level0_col3\" class=\"col_heading level0 col3\" >close</th>\n",
       "      <th id=\"T_38909_level0_col4\" class=\"col_heading level0 col4\" >adj close</th>\n",
       "      <th id=\"T_38909_level0_col5\" class=\"col_heading level0 col5\" >volume</th>\n",
       "      <th id=\"T_38909_level0_col6\" class=\"col_heading level0 col6\" >change</th>\n",
       "      <th id=\"T_38909_level0_col7\" class=\"col_heading level0 col7\" >weekday</th>\n",
       "      <th id=\"T_38909_level0_col8\" class=\"col_heading level0 col8\" >month_day</th>\n",
       "      <th id=\"T_38909_level0_col9\" class=\"col_heading level0 col9\" >year_week</th>\n",
       "      <th id=\"T_38909_level0_col10\" class=\"col_heading level0 col10\" >month</th>\n",
       "    </tr>\n",
       "    <tr>\n",
       "      <th class=\"index_name level0\" >Datetime</th>\n",
       "      <th class=\"blank col0\" >&nbsp;</th>\n",
       "      <th class=\"blank col1\" >&nbsp;</th>\n",
       "      <th class=\"blank col2\" >&nbsp;</th>\n",
       "      <th class=\"blank col3\" >&nbsp;</th>\n",
       "      <th class=\"blank col4\" >&nbsp;</th>\n",
       "      <th class=\"blank col5\" >&nbsp;</th>\n",
       "      <th class=\"blank col6\" >&nbsp;</th>\n",
       "      <th class=\"blank col7\" >&nbsp;</th>\n",
       "      <th class=\"blank col8\" >&nbsp;</th>\n",
       "      <th class=\"blank col9\" >&nbsp;</th>\n",
       "      <th class=\"blank col10\" >&nbsp;</th>\n",
       "    </tr>\n",
       "  </thead>\n",
       "  <tbody>\n",
       "    <tr>\n",
       "      <th id=\"T_38909_level0_row0\" class=\"row_heading level0 row0\" >2023-01-23 22:00:00+00:00</th>\n",
       "      <td id=\"T_38909_row0_col0\" class=\"data row0 col0\" >-0.63</td>\n",
       "      <td id=\"T_38909_row0_col1\" class=\"data row0 col1\" >-0.64</td>\n",
       "      <td id=\"T_38909_row0_col2\" class=\"data row0 col2\" >-0.63</td>\n",
       "      <td id=\"T_38909_row0_col3\" class=\"data row0 col3\" >-0.63</td>\n",
       "      <td id=\"T_38909_row0_col4\" class=\"data row0 col4\" >-0.63</td>\n",
       "      <td id=\"T_38909_row0_col5\" class=\"data row0 col5\" >-1.00</td>\n",
       "      <td id=\"T_38909_row0_col6\" class=\"data row0 col6\" >0.37</td>\n",
       "      <td id=\"T_38909_row0_col7\" class=\"data row0 col7\" >-1.00</td>\n",
       "      <td id=\"T_38909_row0_col8\" class=\"data row0 col8\" >0.47</td>\n",
       "      <td id=\"T_38909_row0_col9\" class=\"data row0 col9\" >-0.88</td>\n",
       "      <td id=\"T_38909_row0_col10\" class=\"data row0 col10\" >-1.00</td>\n",
       "    </tr>\n",
       "    <tr>\n",
       "      <th id=\"T_38909_level0_row1\" class=\"row_heading level0 row1\" >2023-01-23 23:00:00+00:00</th>\n",
       "      <td id=\"T_38909_row1_col0\" class=\"data row1 col0\" >-0.63</td>\n",
       "      <td id=\"T_38909_row1_col1\" class=\"data row1 col1\" >-0.64</td>\n",
       "      <td id=\"T_38909_row1_col2\" class=\"data row1 col2\" >-0.63</td>\n",
       "      <td id=\"T_38909_row1_col3\" class=\"data row1 col3\" >-0.63</td>\n",
       "      <td id=\"T_38909_row1_col4\" class=\"data row1 col4\" >-0.63</td>\n",
       "      <td id=\"T_38909_row1_col5\" class=\"data row1 col5\" >-1.00</td>\n",
       "      <td id=\"T_38909_row1_col6\" class=\"data row1 col6\" >0.38</td>\n",
       "      <td id=\"T_38909_row1_col7\" class=\"data row1 col7\" >-1.00</td>\n",
       "      <td id=\"T_38909_row1_col8\" class=\"data row1 col8\" >0.47</td>\n",
       "      <td id=\"T_38909_row1_col9\" class=\"data row1 col9\" >-0.88</td>\n",
       "      <td id=\"T_38909_row1_col10\" class=\"data row1 col10\" >-1.00</td>\n",
       "    </tr>\n",
       "    <tr>\n",
       "      <th id=\"T_38909_level0_row2\" class=\"row_heading level0 row2\" >2023-01-24 00:00:00+00:00</th>\n",
       "      <td id=\"T_38909_row2_col0\" class=\"data row2 col0\" >-0.63</td>\n",
       "      <td id=\"T_38909_row2_col1\" class=\"data row2 col1\" >-0.64</td>\n",
       "      <td id=\"T_38909_row2_col2\" class=\"data row2 col2\" >-0.63</td>\n",
       "      <td id=\"T_38909_row2_col3\" class=\"data row2 col3\" >-0.63</td>\n",
       "      <td id=\"T_38909_row2_col4\" class=\"data row2 col4\" >-0.63</td>\n",
       "      <td id=\"T_38909_row2_col5\" class=\"data row2 col5\" >-1.00</td>\n",
       "      <td id=\"T_38909_row2_col6\" class=\"data row2 col6\" >0.38</td>\n",
       "      <td id=\"T_38909_row2_col7\" class=\"data row2 col7\" >-0.67</td>\n",
       "      <td id=\"T_38909_row2_col8\" class=\"data row2 col8\" >0.53</td>\n",
       "      <td id=\"T_38909_row2_col9\" class=\"data row2 col9\" >-0.88</td>\n",
       "      <td id=\"T_38909_row2_col10\" class=\"data row2 col10\" >-1.00</td>\n",
       "    </tr>\n",
       "    <tr>\n",
       "      <th id=\"T_38909_level0_row3\" class=\"row_heading level0 row3\" >2023-01-24 01:00:00+00:00</th>\n",
       "      <td id=\"T_38909_row3_col0\" class=\"data row3 col0\" >-0.63</td>\n",
       "      <td id=\"T_38909_row3_col1\" class=\"data row3 col1\" >-0.64</td>\n",
       "      <td id=\"T_38909_row3_col2\" class=\"data row3 col2\" >-0.63</td>\n",
       "      <td id=\"T_38909_row3_col3\" class=\"data row3 col3\" >-0.63</td>\n",
       "      <td id=\"T_38909_row3_col4\" class=\"data row3 col4\" >-0.63</td>\n",
       "      <td id=\"T_38909_row3_col5\" class=\"data row3 col5\" >-1.00</td>\n",
       "      <td id=\"T_38909_row3_col6\" class=\"data row3 col6\" >0.39</td>\n",
       "      <td id=\"T_38909_row3_col7\" class=\"data row3 col7\" >-0.67</td>\n",
       "      <td id=\"T_38909_row3_col8\" class=\"data row3 col8\" >0.53</td>\n",
       "      <td id=\"T_38909_row3_col9\" class=\"data row3 col9\" >-0.88</td>\n",
       "      <td id=\"T_38909_row3_col10\" class=\"data row3 col10\" >-1.00</td>\n",
       "    </tr>\n",
       "    <tr>\n",
       "      <th id=\"T_38909_level0_row4\" class=\"row_heading level0 row4\" >2023-01-24 02:00:00+00:00</th>\n",
       "      <td id=\"T_38909_row4_col0\" class=\"data row4 col0\" >-0.63</td>\n",
       "      <td id=\"T_38909_row4_col1\" class=\"data row4 col1\" >-0.64</td>\n",
       "      <td id=\"T_38909_row4_col2\" class=\"data row4 col2\" >-0.62</td>\n",
       "      <td id=\"T_38909_row4_col3\" class=\"data row4 col3\" >-0.62</td>\n",
       "      <td id=\"T_38909_row4_col4\" class=\"data row4 col4\" >-0.62</td>\n",
       "      <td id=\"T_38909_row4_col5\" class=\"data row4 col5\" >-1.00</td>\n",
       "      <td id=\"T_38909_row4_col6\" class=\"data row4 col6\" >0.38</td>\n",
       "      <td id=\"T_38909_row4_col7\" class=\"data row4 col7\" >-0.67</td>\n",
       "      <td id=\"T_38909_row4_col8\" class=\"data row4 col8\" >0.53</td>\n",
       "      <td id=\"T_38909_row4_col9\" class=\"data row4 col9\" >-0.88</td>\n",
       "      <td id=\"T_38909_row4_col10\" class=\"data row4 col10\" >-1.00</td>\n",
       "    </tr>\n",
       "  </tbody>\n",
       "</table>\n",
       "&nbsp;&nbsp;&nbsp;"
      ]
     },
     "metadata": {},
     "output_type": "display_data"
    },
    {
     "name": "stdout",
     "output_type": "stream",
     "text": [
      "\n"
     ]
    }
   ],
   "source": [
    "multi([(train_df.head(5),'train_df.head(5)'),\n",
    "\t   (train_df.tail(5),'train_df.tail(5)'),\n",
    "\t   (test_df.head(5),'test_df.head(5)'),\n",
    "\t   (test_df.tail(5),'test_df.tail(5)')], intraday=True)"
   ]
  },
  {
   "cell_type": "markdown",
   "id": "ed701dc0-48a9-45ef-9d1b-825a0b780d98",
   "metadata": {
    "id": "ed701dc0-48a9-45ef-9d1b-825a0b780d98"
   },
   "source": [
    "<a name = 'sequences'></a>\n",
    "\n",
    "---\n",
    "\n",
    "**SECTIONS: [Top](#top)  |  [Compile Stocks](#compile_stocks)  |  [The Data](#the_data)  |  [Add Change Column](#change_column)  |  [Feature Engineering](#feature_engineering)  |  [Splitting & Scaling](#splitting)  |  [Creating Sequences](#sequences)  |  [PyTorch Datasets](#datasets)  |  [LSTM](#lstm)  |  [Tensorboard](#tensorboard)  |  [Trainer](#trainer)  |  [Results](#results)  |**\n",
    "\n",
    "---\n",
    "\n",
    "<font size = 4><span style = 'background-color: #ddddff; padding: 5px 5px 3px 5px; line-height: 1.5; color:black;border-radius: 3px;'>**Creating sequences for training the model**\n",
    "\t\n",
    "<font size = 4>**`compile_sequences()`**<br>\n",
    "* will take input data as dataframe, a target column and the length we want the sequences to be\n",
    "\t\n",
    "\t- This will iterate over all the data from the beginning up to the last possible full sequence length in the data.<br>\n",
    "\t- It is also possible to write this code in a more elegant way, such as with sliding windows\n",
    "\n",
    "\n"
   ]
  },
  {
   "cell_type": "markdown",
   "id": "d22db713-a6ed-41d3-8610-4202e436d016",
   "metadata": {
    "id": "d22db713-a6ed-41d3-8610-4202e436d016",
    "tags": []
   },
   "source": [
    "## **`compile_sequences()`**"
   ]
  },
  {
   "cell_type": "code",
   "execution_count": 40,
   "id": "7d1d0c40-175c-4820-8afa-e41a0dd9cad3",
   "metadata": {
    "id": "7d1d0c40-175c-4820-8afa-e41a0dd9cad3"
   },
   "outputs": [],
   "source": [
    "def compile_sequences(input_data, target_column, sequence_length):\n",
    "\t\t\t\t\t \n",
    "\tsequences = []\n",
    "\tdata_size = len(input_data)\n",
    "\t\n",
    "\tfor item in tq.tqdm(range(data_size - sequence_length)):\n",
    "\t\n",
    "\t\t# end not included, therefor it will be the label\n",
    "\t\tsequence = input_data[item : item + sequence_length]\n",
    "\t\tlabel_position = item + sequence_length\n",
    "\t\t\n",
    "\t\t# defining the label with the value in the label index position\n",
    "\t\tlabel = input_data.iloc[label_position][target_column]\n",
    "\t\tsequences.append((sequence, label))\n",
    "\treturn sequences"
   ]
  },
  {
   "cell_type": "markdown",
   "id": "9c83c2db-9ebd-4bd5-a498-e754d6e4aaf7",
   "metadata": {
    "id": "9c83c2db-9ebd-4bd5-a498-e754d6e4aaf7"
   },
   "source": [
    "<font size = 4><span style = 'background-color: #ddddff; padding: 5px 5px 3px 5px; line-height: 1.5; color:black;border-radius: 3px;'>**How creating sequences works**"
   ]
  },
  {
   "cell_type": "code",
   "execution_count": 41,
   "id": "81dde4b2-dbeb-4f1e-b181-5fd643a06a39",
   "metadata": {
    "id": "81dde4b2-dbeb-4f1e-b181-5fd643a06a39"
   },
   "outputs": [],
   "source": [
    "sample_data = pd.DataFrame(dict(\n",
    "\t\t\t\t\t\t\tfeature1 = [1, 2, 3, 4, 5, 6, 7, 8],\n",
    "\t\t\t\t\t\t\tlabel = [6, 7, 8, 9, 10, 11, 12, 13]))"
   ]
  },
  {
   "cell_type": "code",
   "execution_count": 42,
   "id": "8ccab7f8-d74e-4c25-bc1c-be44d75f5cfd",
   "metadata": {
    "colab": {
     "base_uri": "https://localhost:8080/",
     "height": 206
    },
    "id": "8ccab7f8-d74e-4c25-bc1c-be44d75f5cfd",
    "outputId": "380e2ae8-bfa7-4ca3-8dcb-23f1d6a002b0"
   },
   "outputs": [
    {
     "data": {
      "text/html": [
       "<div>\n",
       "<style scoped>\n",
       "    .dataframe tbody tr th:only-of-type {\n",
       "        vertical-align: middle;\n",
       "    }\n",
       "\n",
       "    .dataframe tbody tr th {\n",
       "        vertical-align: top;\n",
       "    }\n",
       "\n",
       "    .dataframe thead th {\n",
       "        text-align: right;\n",
       "    }\n",
       "</style>\n",
       "<table border=\"1\" class=\"dataframe\">\n",
       "  <thead>\n",
       "    <tr style=\"text-align: right;\">\n",
       "      <th></th>\n",
       "      <th>feature1</th>\n",
       "      <th>label</th>\n",
       "    </tr>\n",
       "  </thead>\n",
       "  <tbody>\n",
       "    <tr>\n",
       "      <th>0</th>\n",
       "      <td>1</td>\n",
       "      <td>6</td>\n",
       "    </tr>\n",
       "    <tr>\n",
       "      <th>1</th>\n",
       "      <td>2</td>\n",
       "      <td>7</td>\n",
       "    </tr>\n",
       "    <tr>\n",
       "      <th>2</th>\n",
       "      <td>3</td>\n",
       "      <td>8</td>\n",
       "    </tr>\n",
       "    <tr>\n",
       "      <th>3</th>\n",
       "      <td>4</td>\n",
       "      <td>9</td>\n",
       "    </tr>\n",
       "    <tr>\n",
       "      <th>4</th>\n",
       "      <td>5</td>\n",
       "      <td>10</td>\n",
       "    </tr>\n",
       "  </tbody>\n",
       "</table>\n",
       "</div>"
      ],
      "text/plain": [
       "   feature1  label\n",
       "0         1      6\n",
       "1         2      7\n",
       "2         3      8\n",
       "3         4      9\n",
       "4         5     10"
      ]
     },
     "execution_count": 42,
     "metadata": {},
     "output_type": "execute_result"
    }
   ],
   "source": [
    "sample_data.head(5)"
   ]
  },
  {
   "cell_type": "code",
   "execution_count": 44,
   "id": "99ba6c5e-0c0c-4e51-ad1b-dc9e94113330",
   "metadata": {
    "colab": {
     "base_uri": "https://localhost:8080/"
    },
    "id": "99ba6c5e-0c0c-4e51-ad1b-dc9e94113330",
    "outputId": "563924a4-b3a1-4a78-de6b-3e062ae82a44"
   },
   "outputs": [
    {
     "name": "stderr",
     "output_type": "stream",
     "text": [
      "100%|████████████████████████████████████████████████████████████████████████| 5/5 [00:00<00:00, 2663.73it/s]\n"
     ]
    }
   ],
   "source": [
    "sample_sequences = compile_sequences(sample_data, 'label', 3)"
   ]
  },
  {
   "cell_type": "markdown",
   "id": "427e4ebe-0967-414c-b115-83f0b1082d81",
   "metadata": {
    "id": "427e4ebe-0967-414c-b115-83f0b1082d81",
    "tags": []
   },
   "source": [
    "## **`see_sequence_samples()`**"
   ]
  },
  {
   "cell_type": "code",
   "execution_count": 45,
   "id": "8746bed8-f049-47e2-8611-5a97e5197bf7",
   "metadata": {
    "id": "8746bed8-f049-47e2-8611-5a97e5197bf7"
   },
   "outputs": [],
   "source": [
    "def see_sequence_samples(data, feature_list, num_samples, \n",
    "\t\t\t\t\t\t sequence_portion=5):\n",
    "\t\n",
    "\ttotal_sequences = len(data)\n",
    "\t\n",
    "\tdiv_print(f'There are {total_sequences:,} total squences in this data.', \n",
    "\t\t\t  fontsize = 4)\n",
    "\tcounter = 1\n",
    "\t\n",
    "\tfor record in range(0, num_samples):\n",
    "\t\t\tsee(data[record][0][feature_list].head(sequence_portion), \n",
    "\t\t\t\tf'sequence no.{record + 1}   |   target / label -> {data[record][1]}',\n",
    "\t\t\t   fontsize = 3)\n",
    "\t\t\tcounter += 1"
   ]
  },
  {
   "cell_type": "code",
   "execution_count": 46,
   "id": "6790c369-e460-4a7b-bdcd-00dcb21a69e2",
   "metadata": {
    "colab": {
     "base_uri": "https://localhost:8080/",
     "height": 608
    },
    "id": "6790c369-e460-4a7b-bdcd-00dcb21a69e2",
    "outputId": "ba737552-67a3-4020-88ba-18fdd65af613"
   },
   "outputs": [
    {
     "data": {
      "text/html": [
       "<span style = 'display: block; width: 400.0px; \t\t\t\t\t\tline-height: 2; background: #333333;\t\t\t\t\t\tmargin-left: auto; margin-right: auto;\t\t\t\t\t\tborder: 1px solid text_color;\t\t\t\t\t\tborder-radius: 3px; text-align: center;\t\t\t\t\t\tpadding: 3px 8px 3px 8px;'>\t\t\t\t\t\t<b><font size=4><text style=color:white>There are 5 total squences in this data.\t\t\t\t\t\t</text></font></b></style>"
      ],
      "text/plain": [
       "<IPython.core.display.HTML object>"
      ]
     },
     "metadata": {},
     "output_type": "display_data"
    },
    {
     "data": {
      "text/html": [
       "<span style = 'display: block; width: 351px; \t\t\t\t\t\tline-height: 2; background: #333333;\t\t\t\t\t\tmargin-left: auto; margin-right: auto;\t\t\t\t\t\tborder: 1px solid text_color;\t\t\t\t\t\tborder-radius: 3px; text-align: center;\t\t\t\t\t\tpadding: 3px 8px 3px 8px;'>\t\t\t\t\t\t<b><font size=3><text style=color:white>sequence no.1   |   target / label -> 9\t\t\t\t\t\t</text></font></b></style>"
      ],
      "text/plain": [
       "<IPython.core.display.HTML object>"
      ]
     },
     "metadata": {},
     "output_type": "display_data"
    },
    {
     "data": {
      "text/html": [
       "<center><table border=\"1\" class=\"dataframe\">\n",
       "  <thead>\n",
       "    <tr style=\"text-align: right;\">\n",
       "      <th></th>\n",
       "      <th>feature1</th>\n",
       "    </tr>\n",
       "  </thead>\n",
       "  <tbody>\n",
       "    <tr>\n",
       "      <th>0</th>\n",
       "      <td>1</td>\n",
       "    </tr>\n",
       "    <tr>\n",
       "      <th>1</th>\n",
       "      <td>2</td>\n",
       "    </tr>\n",
       "    <tr>\n",
       "      <th>2</th>\n",
       "      <td>3</td>\n",
       "    </tr>\n",
       "  </tbody>\n",
       "</table>"
      ],
      "text/plain": [
       "<IPython.core.display.HTML object>"
      ]
     },
     "metadata": {},
     "output_type": "display_data"
    },
    {
     "name": "stdout",
     "output_type": "stream",
     "text": [
      "\n"
     ]
    },
    {
     "data": {
      "text/html": [
       "<span style = 'display: block; width: 360px; \t\t\t\t\t\tline-height: 2; background: #333333;\t\t\t\t\t\tmargin-left: auto; margin-right: auto;\t\t\t\t\t\tborder: 1px solid text_color;\t\t\t\t\t\tborder-radius: 3px; text-align: center;\t\t\t\t\t\tpadding: 3px 8px 3px 8px;'>\t\t\t\t\t\t<b><font size=3><text style=color:white>sequence no.2   |   target / label -> 10\t\t\t\t\t\t</text></font></b></style>"
      ],
      "text/plain": [
       "<IPython.core.display.HTML object>"
      ]
     },
     "metadata": {},
     "output_type": "display_data"
    },
    {
     "data": {
      "text/html": [
       "<center><table border=\"1\" class=\"dataframe\">\n",
       "  <thead>\n",
       "    <tr style=\"text-align: right;\">\n",
       "      <th></th>\n",
       "      <th>feature1</th>\n",
       "    </tr>\n",
       "  </thead>\n",
       "  <tbody>\n",
       "    <tr>\n",
       "      <th>1</th>\n",
       "      <td>2</td>\n",
       "    </tr>\n",
       "    <tr>\n",
       "      <th>2</th>\n",
       "      <td>3</td>\n",
       "    </tr>\n",
       "    <tr>\n",
       "      <th>3</th>\n",
       "      <td>4</td>\n",
       "    </tr>\n",
       "  </tbody>\n",
       "</table>"
      ],
      "text/plain": [
       "<IPython.core.display.HTML object>"
      ]
     },
     "metadata": {},
     "output_type": "display_data"
    },
    {
     "name": "stdout",
     "output_type": "stream",
     "text": [
      "\n"
     ]
    },
    {
     "data": {
      "text/html": [
       "<span style = 'display: block; width: 360px; \t\t\t\t\t\tline-height: 2; background: #333333;\t\t\t\t\t\tmargin-left: auto; margin-right: auto;\t\t\t\t\t\tborder: 1px solid text_color;\t\t\t\t\t\tborder-radius: 3px; text-align: center;\t\t\t\t\t\tpadding: 3px 8px 3px 8px;'>\t\t\t\t\t\t<b><font size=3><text style=color:white>sequence no.3   |   target / label -> 11\t\t\t\t\t\t</text></font></b></style>"
      ],
      "text/plain": [
       "<IPython.core.display.HTML object>"
      ]
     },
     "metadata": {},
     "output_type": "display_data"
    },
    {
     "data": {
      "text/html": [
       "<center><table border=\"1\" class=\"dataframe\">\n",
       "  <thead>\n",
       "    <tr style=\"text-align: right;\">\n",
       "      <th></th>\n",
       "      <th>feature1</th>\n",
       "    </tr>\n",
       "  </thead>\n",
       "  <tbody>\n",
       "    <tr>\n",
       "      <th>2</th>\n",
       "      <td>3</td>\n",
       "    </tr>\n",
       "    <tr>\n",
       "      <th>3</th>\n",
       "      <td>4</td>\n",
       "    </tr>\n",
       "    <tr>\n",
       "      <th>4</th>\n",
       "      <td>5</td>\n",
       "    </tr>\n",
       "  </tbody>\n",
       "</table>"
      ],
      "text/plain": [
       "<IPython.core.display.HTML object>"
      ]
     },
     "metadata": {},
     "output_type": "display_data"
    },
    {
     "name": "stdout",
     "output_type": "stream",
     "text": [
      "\n"
     ]
    }
   ],
   "source": [
    "see_sequence_samples(sample_sequences, ['feature1'], num_samples = 3)"
   ]
  },
  {
   "cell_type": "markdown",
   "id": "909b5b3f-64cd-46fe-94b1-efcc195574dc",
   "metadata": {
    "id": "909b5b3f-64cd-46fe-94b1-efcc195574dc"
   },
   "source": [
    "<font size = 4><span style = 'background-color: #ddddff; padding: 5px 5px 3px 5px; line-height: 1.5; color:black;border-radius: 3px;'>**Creating sequences from the data**"
   ]
  },
  {
   "cell_type": "code",
   "execution_count": 48,
   "id": "0ebf2b54-ec96-496e-9a5f-2d2f98a3cca3",
   "metadata": {
    "colab": {
     "base_uri": "https://localhost:8080/"
    },
    "id": "0ebf2b54-ec96-496e-9a5f-2d2f98a3cca3",
    "outputId": "2f8443a7-054e-488c-a43b-912c8cbd70c0"
   },
   "outputs": [
    {
     "name": "stderr",
     "output_type": "stream",
     "text": [
      "100%|███████████████████████████████████████████████████████████████| 13772/13772 [00:00<00:00, 16585.84it/s]\n",
      "100%|█████████████████████████████████████████████████████████████████| 3398/3398 [00:00<00:00, 21406.45it/s]\n"
     ]
    }
   ],
   "source": [
    "sequence_length = 60\n",
    "\n",
    "train_sequences = compile_sequences(train_df,\n",
    "\t\t\t\t\t\t\t\t   'close',\n",
    "\t\t\t\t\t\t\t\t   sequence_length)\n",
    "\n",
    "test_sequences = compile_sequences(test_df,\n",
    "\t\t\t\t\t\t\t\t   'close',\n",
    "\t\t\t\t\t\t\t\t   sequence_length)"
   ]
  },
  {
   "cell_type": "code",
   "execution_count": 49,
   "id": "4f21e53d-9b86-4725-a26f-9b20ea846c74",
   "metadata": {
    "colab": {
     "base_uri": "https://localhost:8080/",
     "height": 487
    },
    "id": "4f21e53d-9b86-4725-a26f-9b20ea846c74",
    "outputId": "3669da2c-170f-44bf-eef3-14dfc053bedd"
   },
   "outputs": [
    {
     "data": {
      "text/html": [
       "<span style = 'display: block; width: 450.0px; \t\t\t\t\t\tline-height: 2; background: #333333;\t\t\t\t\t\tmargin-left: auto; margin-right: auto;\t\t\t\t\t\tborder: 1px solid text_color;\t\t\t\t\t\tborder-radius: 3px; text-align: center;\t\t\t\t\t\tpadding: 3px 8px 3px 8px;'>\t\t\t\t\t\t<b><font size=4><text style=color:white>There are 13,772 total squences in this data.\t\t\t\t\t\t</text></font></b></style>"
      ],
      "text/plain": [
       "<IPython.core.display.HTML object>"
      ]
     },
     "metadata": {},
     "output_type": "display_data"
    },
    {
     "data": {
      "text/html": [
       "<span style = 'display: block; width: 513px; \t\t\t\t\t\tline-height: 2; background: #333333;\t\t\t\t\t\tmargin-left: auto; margin-right: auto;\t\t\t\t\t\tborder: 1px solid text_color;\t\t\t\t\t\tborder-radius: 3px; text-align: center;\t\t\t\t\t\tpadding: 3px 8px 3px 8px;'>\t\t\t\t\t\t<b><font size=3><text style=color:white>sequence no.1   |   target / label -> -0.8006737807639892\t\t\t\t\t\t</text></font></b></style>"
      ],
      "text/plain": [
       "<IPython.core.display.HTML object>"
      ]
     },
     "metadata": {},
     "output_type": "display_data"
    },
    {
     "data": {
      "text/html": [
       "<center><table border=\"1\" class=\"dataframe\">\n",
       "  <thead>\n",
       "    <tr style=\"text-align: right;\">\n",
       "      <th></th>\n",
       "      <th>close</th>\n",
       "      <th>volume</th>\n",
       "      <th>change</th>\n",
       "    </tr>\n",
       "    <tr>\n",
       "      <th>Datetime</th>\n",
       "      <th></th>\n",
       "      <th></th>\n",
       "      <th></th>\n",
       "    </tr>\n",
       "  </thead>\n",
       "  <tbody>\n",
       "    <tr>\n",
       "      <th>2021-01-24</th>\n",
       "      <td>-0.80</td>\n",
       "      <td>-1.00</td>\n",
       "      <td>0.45</td>\n",
       "    </tr>\n",
       "    <tr>\n",
       "      <th>2021-01-24</th>\n",
       "      <td>-0.79</td>\n",
       "      <td>-1.00</td>\n",
       "      <td>0.48</td>\n",
       "    </tr>\n",
       "    <tr>\n",
       "      <th>2021-01-24</th>\n",
       "      <td>-0.78</td>\n",
       "      <td>-1.00</td>\n",
       "      <td>0.39</td>\n",
       "    </tr>\n",
       "  </tbody>\n",
       "</table>"
      ],
      "text/plain": [
       "<IPython.core.display.HTML object>"
      ]
     },
     "metadata": {},
     "output_type": "display_data"
    },
    {
     "name": "stdout",
     "output_type": "stream",
     "text": [
      "\n"
     ]
    },
    {
     "data": {
      "text/html": [
       "<span style = 'display: block; width: 513px; \t\t\t\t\t\tline-height: 2; background: #333333;\t\t\t\t\t\tmargin-left: auto; margin-right: auto;\t\t\t\t\t\tborder: 1px solid text_color;\t\t\t\t\t\tborder-radius: 3px; text-align: center;\t\t\t\t\t\tpadding: 3px 8px 3px 8px;'>\t\t\t\t\t\t<b><font size=3><text style=color:white>sequence no.2   |   target / label -> -0.7905236072582761\t\t\t\t\t\t</text></font></b></style>"
      ],
      "text/plain": [
       "<IPython.core.display.HTML object>"
      ]
     },
     "metadata": {},
     "output_type": "display_data"
    },
    {
     "data": {
      "text/html": [
       "<center><table border=\"1\" class=\"dataframe\">\n",
       "  <thead>\n",
       "    <tr style=\"text-align: right;\">\n",
       "      <th></th>\n",
       "      <th>close</th>\n",
       "      <th>volume</th>\n",
       "      <th>change</th>\n",
       "    </tr>\n",
       "    <tr>\n",
       "      <th>Datetime</th>\n",
       "      <th></th>\n",
       "      <th></th>\n",
       "      <th></th>\n",
       "    </tr>\n",
       "  </thead>\n",
       "  <tbody>\n",
       "    <tr>\n",
       "      <th>2021-01-24</th>\n",
       "      <td>-0.79</td>\n",
       "      <td>-1.00</td>\n",
       "      <td>0.48</td>\n",
       "    </tr>\n",
       "    <tr>\n",
       "      <th>2021-01-24</th>\n",
       "      <td>-0.78</td>\n",
       "      <td>-1.00</td>\n",
       "      <td>0.39</td>\n",
       "    </tr>\n",
       "    <tr>\n",
       "      <th>2021-01-24</th>\n",
       "      <td>-0.79</td>\n",
       "      <td>-1.00</td>\n",
       "      <td>0.37</td>\n",
       "    </tr>\n",
       "  </tbody>\n",
       "</table>"
      ],
      "text/plain": [
       "<IPython.core.display.HTML object>"
      ]
     },
     "metadata": {},
     "output_type": "display_data"
    },
    {
     "name": "stdout",
     "output_type": "stream",
     "text": [
      "\n"
     ]
    }
   ],
   "source": [
    "see_sequence_samples(train_sequences,\n",
    "\t\t\t\t\t['close', 'volume', 'change'],\n",
    "\t\t\t\t\tnum_samples = 2,\n",
    "\t\t\t\t\tsequence_portion = 3)"
   ]
  },
  {
   "cell_type": "code",
   "execution_count": 50,
   "id": "3ace741b-f5b2-4b8a-88b9-9d8f0e22338d",
   "metadata": {
    "colab": {
     "base_uri": "https://localhost:8080/",
     "height": 487
    },
    "id": "3ace741b-f5b2-4b8a-88b9-9d8f0e22338d",
    "outputId": "e165364d-8d7a-4ce1-b6ae-441c9290de37"
   },
   "outputs": [
    {
     "data": {
      "text/html": [
       "<span style = 'display: block; width: 440.0px; \t\t\t\t\t\tline-height: 2; background: #333333;\t\t\t\t\t\tmargin-left: auto; margin-right: auto;\t\t\t\t\t\tborder: 1px solid text_color;\t\t\t\t\t\tborder-radius: 3px; text-align: center;\t\t\t\t\t\tpadding: 3px 8px 3px 8px;'>\t\t\t\t\t\t<b><font size=4><text style=color:white>There are 3,398 total squences in this data.\t\t\t\t\t\t</text></font></b></style>"
      ],
      "text/plain": [
       "<IPython.core.display.HTML object>"
      ]
     },
     "metadata": {},
     "output_type": "display_data"
    },
    {
     "data": {
      "text/html": [
       "<span style = 'display: block; width: 513px; \t\t\t\t\t\tline-height: 2; background: #333333;\t\t\t\t\t\tmargin-left: auto; margin-right: auto;\t\t\t\t\t\tborder: 1px solid text_color;\t\t\t\t\t\tborder-radius: 3px; text-align: center;\t\t\t\t\t\tpadding: 3px 8px 3px 8px;'>\t\t\t\t\t\t<b><font size=3><text style=color:white>sequence no.1   |   target / label -> -0.6652325634593415\t\t\t\t\t\t</text></font></b></style>"
      ],
      "text/plain": [
       "<IPython.core.display.HTML object>"
      ]
     },
     "metadata": {},
     "output_type": "display_data"
    },
    {
     "data": {
      "text/html": [
       "<center><table border=\"1\" class=\"dataframe\">\n",
       "  <thead>\n",
       "    <tr style=\"text-align: right;\">\n",
       "      <th></th>\n",
       "      <th>close</th>\n",
       "      <th>volume</th>\n",
       "      <th>change</th>\n",
       "    </tr>\n",
       "    <tr>\n",
       "      <th>Datetime</th>\n",
       "      <th></th>\n",
       "      <th></th>\n",
       "      <th></th>\n",
       "    </tr>\n",
       "  </thead>\n",
       "  <tbody>\n",
       "    <tr>\n",
       "      <th>2022-09-01</th>\n",
       "      <td>-0.65</td>\n",
       "      <td>-1.00</td>\n",
       "      <td>0.37</td>\n",
       "    </tr>\n",
       "    <tr>\n",
       "      <th>2022-09-02</th>\n",
       "      <td>-0.65</td>\n",
       "      <td>-1.00</td>\n",
       "      <td>0.36</td>\n",
       "    </tr>\n",
       "    <tr>\n",
       "      <th>2022-09-02</th>\n",
       "      <td>-0.66</td>\n",
       "      <td>-1.00</td>\n",
       "      <td>0.36</td>\n",
       "    </tr>\n",
       "  </tbody>\n",
       "</table>"
      ],
      "text/plain": [
       "<IPython.core.display.HTML object>"
      ]
     },
     "metadata": {},
     "output_type": "display_data"
    },
    {
     "name": "stdout",
     "output_type": "stream",
     "text": [
      "\n"
     ]
    },
    {
     "data": {
      "text/html": [
       "<span style = 'display: block; width: 513px; \t\t\t\t\t\tline-height: 2; background: #333333;\t\t\t\t\t\tmargin-left: auto; margin-right: auto;\t\t\t\t\t\tborder: 1px solid text_color;\t\t\t\t\t\tborder-radius: 3px; text-align: center;\t\t\t\t\t\tpadding: 3px 8px 3px 8px;'>\t\t\t\t\t\t<b><font size=3><text style=color:white>sequence no.2   |   target / label -> -0.6599565091958871\t\t\t\t\t\t</text></font></b></style>"
      ],
      "text/plain": [
       "<IPython.core.display.HTML object>"
      ]
     },
     "metadata": {},
     "output_type": "display_data"
    },
    {
     "data": {
      "text/html": [
       "<center><table border=\"1\" class=\"dataframe\">\n",
       "  <thead>\n",
       "    <tr style=\"text-align: right;\">\n",
       "      <th></th>\n",
       "      <th>close</th>\n",
       "      <th>volume</th>\n",
       "      <th>change</th>\n",
       "    </tr>\n",
       "    <tr>\n",
       "      <th>Datetime</th>\n",
       "      <th></th>\n",
       "      <th></th>\n",
       "      <th></th>\n",
       "    </tr>\n",
       "  </thead>\n",
       "  <tbody>\n",
       "    <tr>\n",
       "      <th>2022-09-02</th>\n",
       "      <td>-0.65</td>\n",
       "      <td>-1.00</td>\n",
       "      <td>0.36</td>\n",
       "    </tr>\n",
       "    <tr>\n",
       "      <th>2022-09-02</th>\n",
       "      <td>-0.66</td>\n",
       "      <td>-1.00</td>\n",
       "      <td>0.36</td>\n",
       "    </tr>\n",
       "    <tr>\n",
       "      <th>2022-09-02</th>\n",
       "      <td>-0.66</td>\n",
       "      <td>-1.00</td>\n",
       "      <td>0.37</td>\n",
       "    </tr>\n",
       "  </tbody>\n",
       "</table>"
      ],
      "text/plain": [
       "<IPython.core.display.HTML object>"
      ]
     },
     "metadata": {},
     "output_type": "display_data"
    },
    {
     "name": "stdout",
     "output_type": "stream",
     "text": [
      "\n"
     ]
    }
   ],
   "source": [
    "see_sequence_samples(test_sequences,\n",
    "\t\t\t\t\t['close', 'volume', 'change'],\n",
    "\t\t\t\t\tnum_samples = 2,\n",
    "\t\t\t\t\tsequence_portion = 3)"
   ]
  },
  {
   "cell_type": "markdown",
   "id": "3df99eb1-4cb0-480a-b460-e8cc3cc5054f",
   "metadata": {
    "id": "3df99eb1-4cb0-480a-b460-e8cc3cc5054f"
   },
   "source": [
    "<a name = 'datasets'></a>\n",
    "\n",
    "---\n",
    "\n",
    "**SECTIONS: [Top](#top)  |  [Compile Stocks](#compile_stocks)  |  [The Data](#the_data)  |  [Add Change Column](#change_column)  |  [Feature Engineering](#feature_engineering)  |  [Splitting & Scaling](#splitting)  |  [Creating Sequences](#sequences)  |  [PyTorch Datasets](#datasets)  |  [LSTM](#lstm)  |  [Tensorboard](#tensorboard)  |  [Trainer](#trainer)  |  [Results](#results)  |**\n",
    "\n",
    "---\n",
    "\n",
    "<font size = 4><span style = 'background-color: #ddddff; padding: 5px 5px 3px 5px; line-height: 1.5; color:black;border-radius: 3px;'>**Sequences to PyTorch Datasets**\n",
    "\t\n",
    "* `__init__()` - takes the sequences it will work with\n",
    "* `__len__()` - returns the number of sequences in any given example\n",
    "* `__getitem__()` - takes the index of the item we are interested in\n",
    "\t* within each sequence item is a tuple with the input data as the first tuple value and the target data or label as the second\n",
    "\t* sequences are converted from pandas to numpy to Tensor\n",
    "\t* labels are converted into floats, since we are doing regression and wanting to predict floating point numbers "
   ]
  },
  {
   "cell_type": "code",
   "execution_count": 51,
   "id": "fc518a2c-2e4a-4a9e-848a-46379f6f2b36",
   "metadata": {
    "id": "fc518a2c-2e4a-4a9e-848a-46379f6f2b36"
   },
   "outputs": [],
   "source": [
    "class TickerDataset(Dataset):\n",
    "\tdef __init__(self, sequences):\n",
    "\t\tself.sequences = sequences\n",
    "\t\t\n",
    "\tdef __len__(self):\n",
    "\t\treturn len(self.sequences)\n",
    "\t\n",
    "\tdef __getitem__(self, idx):\n",
    "\t\tsequence, label = self.sequences[idx]\n",
    "\t\treturn dict(sequence = torch.Tensor(sequence.to_numpy()),\n",
    "\t\t\t\t\tlabel = torch.tensor(label).float())"
   ]
  },
  {
   "cell_type": "markdown",
   "id": "f0e9f40c-4498-44e3-80f9-4586b2d6b5f0",
   "metadata": {
    "id": "f0e9f40c-4498-44e3-80f9-4586b2d6b5f0"
   },
   "source": [
    "<font size = 4><span style = 'background-color: #ddddff; padding: 5px 5px 3px 5px; line-height: 1.5; color:black;border-radius: 3px;'>**Wrapping data with PyTorch Lightning**\n",
    "\t\n",
    "* `setup()` converts sequences into the dataset class defined above\n",
    "* `train_dataloader()`, `validation_dataloader()`, `test_dataloader()`\n",
    "\t* create the three different kinds of dataloaders for the data\n",
    "\t* `train_dataloader()` -> `shuffle = False` - do not want to shuffle the data because it is timeseries data, so the order is important\n",
    "\t\t* `num_workers = 2` - speeds up training depending on GPU vs CPU \n",
    "\t* `validation_dataloader()` and `test_dataloader()` - `batch_size = 1` - for testing and making predictions, we would usually do one record at a time"
   ]
  },
  {
   "cell_type": "code",
   "execution_count": 52,
   "id": "09bea86a-59b3-4ab8-a33f-03d8e86b0b52",
   "metadata": {
    "id": "09bea86a-59b3-4ab8-a33f-03d8e86b0b52"
   },
   "outputs": [],
   "source": [
    "class TickerDataModule(pl.LightningDataModule):\n",
    "\t\n",
    "\tdef __init__(self, \n",
    "\t\t\t\t train_sequences, \n",
    "\t\t\t\t test_sequences, \n",
    "\t\t\t\t batch_size = 8):\n",
    "\t\tsuper().__init__()\n",
    "\t\tself.train_sequences = train_sequences\n",
    "\t\tself.test_sequences = test_sequences\n",
    "\t\tself.batch_size = batch_size\n",
    "\t\n",
    "\tdef setup(self, stage = None):\n",
    "\t\tself.train_dataset = TickerDataset(self.train_sequences)\n",
    "\t\tself.test_dataset = TickerDataset(self.test_sequences)\n",
    "\t\t\n",
    "\tdef train_dataloader(self):\n",
    "\t\treturn DataLoader(self.train_dataset,\n",
    "\t\t\t\t\t\t batch_size = self.batch_size,\n",
    "\t\t\t\t\t\t shuffle = False,\n",
    "\t\t\t\t\t\t num_workers = 2)\n",
    "\t\n",
    "\tdef validation_dataloader(self):\n",
    "\t\treturn DataLoader(self.test_dataset,\n",
    "\t\t\t\t batch_size = 1,\n",
    "\t\t\t\t shuffle = False,\n",
    "\t\t\t\t num_workers = 1)\n",
    "\t\n",
    "\tdef test_dataloader(self):\n",
    "\t\treturn DataLoader(self.test_dataset,\n",
    "\t\t\t\t batch_size = 1,\n",
    "\t\t\t\t shuffle = False,\n",
    "\t\t\t\t num_workers = 1)"
   ]
  },
  {
   "cell_type": "markdown",
   "id": "7fca20bd-24a6-44fb-9bc6-fc62f927a138",
   "metadata": {
    "id": "7fca20bd-24a6-44fb-9bc6-fc62f927a138"
   },
   "source": [
    "<font size = 4><span style = 'background-color: #ddddff; padding: 5px 5px 3px 5px; line-height: 1.5; color:black;border-radius: 3px;'>**Defining the data module**\n",
    "* calling the module with the sequences, with `setup()`, which will create the PyTorch Datasets"
   ]
  },
  {
   "cell_type": "code",
   "execution_count": 53,
   "id": "3b72b9d8-1a8b-4d74-922c-528e8e27adab",
   "metadata": {
    "id": "3b72b9d8-1a8b-4d74-922c-528e8e27adab"
   },
   "outputs": [],
   "source": [
    "batch_size = 64\n",
    "\n",
    "data_module = TickerDataModule(train_sequences, \n",
    "\t\t\t\t\t\t\t   test_sequences, \n",
    "\t\t\t\t\t\t\t   batch_size = batch_size)\n",
    "\n",
    "data_module.setup(stage = None)"
   ]
  },
  {
   "cell_type": "markdown",
   "id": "6533bf11-5cb3-401e-ab77-4b224bad2b4e",
   "metadata": {
    "id": "6533bf11-5cb3-401e-ab77-4b224bad2b4e"
   },
   "source": [
    "<font size = 4><span style = 'background-color: #ddddff; padding: 5px 5px 3px 5px; line-height: 1.5; color:black;border-radius: 3px;'>**Investigating a single item from TickerDataset**"
   ]
  },
  {
   "cell_type": "code",
   "execution_count": 54,
   "id": "5a8eeda7-fac7-429b-ba55-d9427ca456f4",
   "metadata": {
    "id": "5a8eeda7-fac7-429b-ba55-d9427ca456f4"
   },
   "outputs": [],
   "source": [
    "train_dataset = TickerDataset(train_sequences)"
   ]
  },
  {
   "cell_type": "code",
   "execution_count": 55,
   "id": "364fff09-5791-45a3-92cc-98b9a74b5181",
   "metadata": {
    "colab": {
     "base_uri": "https://localhost:8080/"
    },
    "id": "364fff09-5791-45a3-92cc-98b9a74b5181",
    "outputId": "5147c19d-7915-433f-88a8-89b68790a067"
   },
   "outputs": [
    {
     "name": "stdout",
     "output_type": "stream",
     "text": [
      "torch.Size([60, 11])\n",
      "torch.Size([])\n",
      "tensor(-0.8007)\n"
     ]
    }
   ],
   "source": [
    "for item in train_dataset:\n",
    "\tprint(item['sequence'].shape)\n",
    "\tprint(item['label'].shape)\n",
    "\tprint(item['label'])\n",
    "\tbreak"
   ]
  },
  {
   "cell_type": "markdown",
   "id": "bdb1f67c-c64b-4ace-b3ba-172d533d48dc",
   "metadata": {
    "id": "bdb1f67c-c64b-4ace-b3ba-172d533d48dc"
   },
   "source": [
    "<a name = 'lstm'></a>\n",
    "\n",
    "---\n",
    "\n",
    "**SECTIONS: [Top](#top)  |  [Compile Stocks](#compile_stocks)  |  [The Data](#the_data)  |  [Add Change Column](#change_column)  |  [Feature Engineering](#feature_engineering)  |  [Splitting & Scaling](#splitting)  |  [Creating Sequences](#sequences)  |  [PyTorch Datasets](#datasets)  |  [LSTM](#lstm)  |  [Tensorboard](#tensorboard)  |  [Trainer](#trainer)  |  [Results](#results)  |**\n",
    "\n",
    "---\n",
    "\n",
    "<font size = 4><span style = 'background-color: #ddddff; padding: 5px 5px 3px 5px; line-height: 1.5; color:black;border-radius: 3px;'>**Creating the LSTM model**\n",
    "* LSTM = Long short term memory neural network\n",
    "\t* Allows sequences with single outputs or multiple datapoints\n",
    "\t* Transformers can also be used for time series (as used in text and images)\n",
    "\t* `batch_size = True` - inputting batch size as first parameter, which is useful for using the dataloader that passes batches of sequences with 120 data points in each sequence and 9 features for each data point\n",
    "\t* `num_layers` - number of LSTMs stacked on one another\n",
    "\t* `regressor` is the final linear layer that outputs our single prediction\n",
    "* `forward()`\n",
    "\t* `flatten_parameters()` - used for quicker distributed training with GPUs, which PyTorch lightning allows for\n",
    "\t* takes the features of the output of final layer of the LSTM, the hidden state and the cell state of the LSTM"
   ]
  },
  {
   "cell_type": "code",
   "execution_count": 56,
   "id": "a7d49c40-6471-4370-add2-bec84bf8913d",
   "metadata": {
    "id": "a7d49c40-6471-4370-add2-bec84bf8913d"
   },
   "outputs": [],
   "source": [
    "class PricePredictionModel(nn.Module):\n",
    "\t\n",
    "\tdef __init__(self, \n",
    "\t\t\t\t num_features, \n",
    "\t\t\t\t num_hidden = 128, \n",
    "\t\t\t\t num_layers = 2):\n",
    "\n",
    "\t\tsuper().__init__()\n",
    "\t\tself.num_hidden = num_hidden\n",
    "\n",
    "\t\tself.lstm = nn.LSTM(\n",
    "\t\t\t\t\t\tinput_size = num_features,\n",
    "\t\t\t\t\t\thidden_size = num_hidden,\n",
    "\t\t\t\t\t\tbatch_first = True,\n",
    "\t\t\t\t\t\tnum_layers = num_layers,\n",
    "\t\t\t\t\t\tdropout = 0.2)\n",
    "\n",
    "\t\tself.regressor = nn.Linear(num_hidden, 1)\n",
    "\t\n",
    "\tdef forward(self, inputs):\n",
    "\t\tself.lstm.flatten_parameters()\n",
    "\t\t\n",
    "\t\t# getting states from the LSTM, retrieving the last layer of hidden\n",
    "\t\t# passing the last layer to the regressor\n",
    "\t\t_, (hidden, _) = self.lstm(inputs)\n",
    "\t\tout = hidden[-1]\n",
    "\t\treturn self.regressor(out)"
   ]
  },
  {
   "cell_type": "markdown",
   "id": "c53b64ab-94ef-4fea-a761-29b4b3a5b5a8",
   "metadata": {
    "id": "c53b64ab-94ef-4fea-a761-29b4b3a5b5a8"
   },
   "source": [
    "<font size = 4><span style = 'background-color: #ddddff; padding: 5px 5px 3px 5px; line-height: 1.5; color:black;border-radius: 3px;'>**Creating the lightning module for the model**\n",
    "* `labels.unsqueeze()` - aligns the dimensions of the output with the output of predictions from the model"
   ]
  },
  {
   "cell_type": "code",
   "execution_count": 57,
   "id": "d5623845-5516-4e5a-a7c1-24a314d4a4a7",
   "metadata": {
    "id": "d5623845-5516-4e5a-a7c1-24a314d4a4a7"
   },
   "outputs": [],
   "source": [
    "class TickerPricePredictor(pl.LightningModule):\n",
    "\t\n",
    "\tdef __init__(self, num_features):\n",
    "\t\tsuper().__init__()\n",
    "\t\t\n",
    "\t\tself.model = PricePredictionModel(num_features)\n",
    "\t\tself.loss_function = nn.MSELoss()\n",
    "\t\t\n",
    "\tdef forward(self, inputs, labels = None):\n",
    "\t\toutput = self.model(inputs)\n",
    "\t\tloss = 0\n",
    "\t\tif labels is not None:\n",
    "\t\t\tloss = self.loss_function(output, labels.unsqueeze(dim=1))\n",
    "\t\treturn loss, output\n",
    "\t\n",
    "\tdef training_step(self, batch, batch_idx):\n",
    "\t\tsequences = batch['sequence']\n",
    "\t\tlabels = batch['label']\n",
    "\t\tloss, outputs = self(sequences, labels)\n",
    "\t\tself.log('training loss', loss, prog_bar = True, logger = True)\n",
    "\t\treturn loss\n",
    "\t\n",
    "\tdef validation_step(self, batch, batch_idx):\n",
    "\t\tsequences = batch['sequence']\n",
    "\t\tlabels = batch['label']\n",
    "\t\tloss, outputs = self(sequences, labels)\n",
    "\t\tself.log('validation loss', loss, prog_bar = True, logger = True)\n",
    "\t\treturn loss\n",
    "\t\n",
    "\tdef test_step(self, batch, batch_idx):\n",
    "\t\tsequences = batch['sequence']\n",
    "\t\tloss, outputs = self(sequences, labels)\n",
    "\t\tself.log('test loss', loss, prog_bar = True, logger = True)\n",
    "\t\treturn loss\n",
    "\t\n",
    "\tdef configure_optimizers(self):\n",
    "\t\treturn optim.AdamW(self.parameters(), lr = 0.0001)"
   ]
  },
  {
   "cell_type": "code",
   "execution_count": 58,
   "id": "3762bbce-7bb6-4e97-a0f0-208f861b5fd2",
   "metadata": {
    "id": "3762bbce-7bb6-4e97-a0f0-208f861b5fd2"
   },
   "outputs": [],
   "source": [
    "model = TickerPricePredictor(num_features = train_df.shape[1])"
   ]
  },
  {
   "cell_type": "markdown",
   "id": "08939dd0-c7e9-41da-a587-d988074a3267",
   "metadata": {
    "id": "08939dd0-c7e9-41da-a587-d988074a3267"
   },
   "source": [
    "<font size = 4><span style = 'background-color: #ddddff; padding: 5px 5px 3px 5px; line-height: 1.5; color:black;border-radius: 3px;'>**Inspecting the values within a single item in the training dataloader**<br>\n",
    "<font size = 2> **NOTICE: If the following does not work, FYI it works in Google Colab. There is a PyTorch Lightning issue, even though the version is identical.**</font>"
   ]
  },
  {
   "cell_type": "code",
   "execution_count": 60,
   "id": "f72d70a5-5a01-442d-92f3-32755b305d68",
   "metadata": {
    "colab": {
     "base_uri": "https://localhost:8080/",
     "height": 209
    },
    "id": "f72d70a5-5a01-442d-92f3-32755b305d68",
    "outputId": "ddf2f21f-6ce8-4053-c719-015784bd89bd"
   },
   "outputs": [],
   "source": [
    "# for item in data_module.train_dataloader():\n",
    "#     sequence_shape = item['sequence'].shape\n",
    "#     label_shape = item['label'].shape\n",
    "#     break\n",
    "\n",
    "# pretty(sequence_shape, \"batches of sequences: 64  ->  each sequence length: 120  ->  num_features for each sequence: 11 \")\n",
    "# pretty(label_shape, \"one label for each batch of sequences: 64\")\n",
    "# pretty(len(data_module.train_dataloader()), \"total number of batches: 500 (len(dataloader))\")\n"
   ]
  },
  {
   "cell_type": "markdown",
   "id": "6f558175-8ce6-4efb-9616-6ca15be2c90e",
   "metadata": {
    "id": "6f558175-8ce6-4efb-9616-6ca15be2c90e"
   },
   "source": [
    "<font size = 4><span style = 'background-color: #ddddff; padding: 5px 5px 3px 5px; line-height: 1.5; color:black;border-radius: 3px;'>**Checkpoint Callback**<br>\n",
    "* `dirpath = 'checkpoints'` - the folder where the checkpoints will be saved\n",
    "* `filename = 'best_checkpoint'` - name that the best model saved during training will be saved as\n",
    "* `save_top_k = 1` - how many top models to save\n",
    "* `verbose = True` - how much we want to know about what is going on during training \n",
    "* `monitor = 'val loss'` - the metrics we want to monitor while training\n",
    "* `mode = 'min'` - what aspect of the metric to monitor\n",
    "\n"
   ]
  },
  {
   "cell_type": "code",
   "execution_count": 61,
   "id": "a42d7cba-b83f-476e-8a1f-15208afe69ad",
   "metadata": {
    "id": "a42d7cba-b83f-476e-8a1f-15208afe69ad"
   },
   "outputs": [],
   "source": [
    "checkpoint_callback = ModelCheckpoint(dirpath = 'checkpoints',\n",
    "                                      filename = 'best_checkpoint',\n",
    "                                      save_top_k = 1, \n",
    "                                      verbose = True,\n",
    "                                      monitor = 'training loss',\n",
    "                                      mode = 'min')"
   ]
  },
  {
   "cell_type": "markdown",
   "id": "wQgmzBkyeBZw",
   "metadata": {
    "id": "wQgmzBkyeBZw"
   },
   "source": [
    "\n",
    "* `logger = TensorBoardLogger('lightning_logs', name = 'bitcoin_price')` - establishing the logger through TensorBoard and naming the project\n",
    "* `early_stopping_callback = EarlyStopping(monitor = 'val loss')` - a second callback that watches the validation loss and if there is no improvement for 2 epochs (`patience = 2`), the training will stop"
   ]
  },
  {
   "cell_type": "code",
   "execution_count": 62,
   "id": "5pwXlQ4oVemm",
   "metadata": {
    "id": "5pwXlQ4oVemm"
   },
   "outputs": [],
   "source": [
    "# logger = TensorBoardLogger('lightning_logs', name = 'bitcoin_price')\n",
    "early_stopping_callbacks = EarlyStopping(monitor = 'training loss', patience = 2)"
   ]
  },
  {
   "cell_type": "markdown",
   "id": "6L9E7DvoeDAt",
   "metadata": {
    "id": "6L9E7DvoeDAt"
   },
   "source": [
    "<a name = 'trainer'></a>\n",
    "\n",
    "---\n",
    "\n",
    "**SECTIONS: [Top](#top)  |  [Compile Stocks](#compile_stocks)  |  [The Data](#the_data)  |  [Add Change Column](#change_column)  |  [Feature Engineering](#feature_engineering)  |  [Splitting & Scaling](#splitting)  |  [Creating Sequences](#sequences)  |  [PyTorch Datasets](#datasets)  |  [LSTM](#lstm)  |  [Tensorboard](#tensorboard)  |  [Trainer](#trainer)  |  [Results](#results)  |**\n",
    "\n",
    "---\n",
    "\n",
    "<font size = 4><span style = 'background-color: #ddddff; padding: 5px 5px 3px 5px; line-height: 1.5; color:black;border-radius: 3px;'>**Training the Model**\n",
    "\n",
    "\n",
    "\n",
    "* setting up the trainer to train the model"
   ]
  },
  {
   "cell_type": "code",
   "execution_count": 64,
   "id": "GtF4xTVNVefk",
   "metadata": {
    "colab": {
     "base_uri": "https://localhost:8080/"
    },
    "id": "GtF4xTVNVefk",
    "outputId": "d4b5e610-f305-4c89-fd31-80cef05fae16"
   },
   "outputs": [
    {
     "name": "stderr",
     "output_type": "stream",
     "text": [
      "/Users/evancarr/opt/anaconda3/envs/stock_lstm_tutorials/lib/python3.10/site-packages/pytorch_lightning/trainer/connectors/accelerator_connector.py:467: LightningDeprecationWarning: Setting `Trainer(gpus=0)` is deprecated in v1.7 and will be removed in v2.0. Please use `Trainer(accelerator='gpu', devices=0)` instead.\n",
      "  rank_zero_deprecation(\n",
      "GPU available: False, used: False\n",
      "TPU available: False, using: 0 TPU cores\n",
      "IPU available: False, using: 0 IPUs\n",
      "HPU available: False, using: 0 HPUs\n"
     ]
    }
   ],
   "source": [
    "num_epochs = 44\n",
    "\n",
    "trainer = pl.Trainer(#logger = logger,\n",
    "                     callbacks = [checkpoint_callback, early_stopping_callbacks],\n",
    "                     max_epochs = num_epochs,\n",
    "                     auto_lr_find=True,\n",
    "                     gpus = 0)"
   ]
  },
  {
   "cell_type": "code",
   "execution_count": null,
   "id": "8fb62283-b373-4dfe-a192-2809490ded83",
   "metadata": {
    "colab": {
     "base_uri": "https://localhost:8080/",
     "height": 400,
     "referenced_widgets": [
      "36cf97e3bbec4390b395947ee2c228e7",
      "9d3fe37e6b6249b49ae681c01f956f04",
      "19e8542dedbb4aa897423df6f8004436",
      "48de930e062c4e11bd5cd5c575c6c012",
      "54c6ec9884d741b689dda9a9e9d87f13",
      "9f94551336b34b8d8b4ed280ea9a7175",
      "4f59a5f01e9743578d6cc6ea6017c4b7",
      "5dd414395c554468abe8e4248236392c",
      "6b51319bbf844c249887e53b745615a7",
      "453c37e994324a4ab0f78718f0a42a49",
      "768c0ee7ab8a4f6baa89bbd294326afd"
     ]
    },
    "id": "8fb62283-b373-4dfe-a192-2809490ded83",
    "outputId": "021040d7-a3bd-447e-c987-8393a2d5c1b0"
   },
   "outputs": [
    {
     "name": "stderr",
     "output_type": "stream",
     "text": [
      "/Users/evancarr/opt/anaconda3/envs/stock_lstm_tutorials/lib/python3.10/site-packages/pytorch_lightning/trainer/configuration_validator.py:108: PossibleUserWarning: You defined a `validation_step` but have no `val_dataloader`. Skipping val loop.\n",
      "  rank_zero_warn(\n",
      "Missing logger folder: /Users/evancarr/Library/CloudStorage/OneDrive-Personal/Code/stock_lstm_tutorials/lightning_logs\n",
      "/Users/evancarr/opt/anaconda3/envs/stock_lstm_tutorials/lib/python3.10/site-packages/pytorch_lightning/callbacks/model_checkpoint.py:612: UserWarning: Checkpoint directory /Users/evancarr/Library/CloudStorage/OneDrive-Personal/Code/stock_lstm_tutorials/checkpoints exists and is not empty.\n",
      "  rank_zero_warn(f\"Checkpoint directory {dirpath} exists and is not empty.\")\n",
      "\n",
      "  | Name          | Type                 | Params\n",
      "-------------------------------------------------------\n",
      "0 | model         | PricePredictionModel | 204 K \n",
      "1 | loss_function | MSELoss              | 0     \n",
      "-------------------------------------------------------\n",
      "204 K     Trainable params\n",
      "0         Non-trainable params\n",
      "204 K     Total params\n",
      "0.818     Total estimated model params size (MB)\n",
      "/Users/evancarr/opt/anaconda3/envs/stock_lstm_tutorials/lib/python3.10/site-packages/pytorch_lightning/trainer/connectors/data_connector.py:224: PossibleUserWarning: The dataloader, train_dataloader, does not have many workers which may be a bottleneck. Consider increasing the value of the `num_workers` argument` (try 10 which is the number of cpus on this machine) in the `DataLoader` init to improve performance.\n",
      "  rank_zero_warn(\n"
     ]
    },
    {
     "data": {
      "application/vnd.jupyter.widget-view+json": {
       "model_id": "58573669024c4792adef8f166b82063c",
       "version_major": 2,
       "version_minor": 0
      },
      "text/plain": [
       "Training: 0it [00:00, ?it/s]"
      ]
     },
     "metadata": {},
     "output_type": "display_data"
    },
    {
     "name": "stderr",
     "output_type": "stream",
     "text": [
      "Traceback (most recent call last):\n",
      "  File \"<string>\", line 1, in <module>\n",
      "  File \"/Users/evancarr/opt/anaconda3/envs/stock_lstm_tutorials/lib/python3.10/multiprocessing/spawn.py\", line 116, in spawn_main\n",
      "    exitcode = _main(fd, parent_sentinel)\n",
      "  File \"/Users/evancarr/opt/anaconda3/envs/stock_lstm_tutorials/lib/python3.10/multiprocessing/spawn.py\", line 126, in _main\n",
      "    self = reduction.pickle.load(from_parent)\n",
      "AttributeError: Can't get attribute 'TickerDataset' on <module '__main__' (built-in)>\n"
     ]
    }
   ],
   "source": [
    "trainer.fit(model, data_module)"
   ]
  },
  {
   "cell_type": "markdown",
   "id": "437a1681-deb2-4e0f-9019-c8198a66b3c9",
   "metadata": {
    "id": "437a1681-deb2-4e0f-9019-c8198a66b3c9"
   },
   "source": [
    "<a name = 'results'></a>\n",
    "\n",
    "---\n",
    "\n",
    "**SECTIONS: [Top](#top)  |  [Compile Stocks](#compile_stocks)  |  [The Data](#the_data)  |  [Add Change Column](#change_column)  |  [Feature Engineering](#feature_engineering)  |  [Splitting & Scaling](#splitting)  |  [Creating Sequences](#sequences)  |  [PyTorch Datasets](#datasets)  |  [LSTM](#lstm)  |  [Tensorboard](#tensorboard)  |  [Trainer](#trainer)  |  [Results](#results)  |**\n",
    "\n",
    "---\n",
    "\n",
    "<font size = 4><span style = 'background-color: #ddddff; padding: 5px 5px 3px 5px; line-height: 1.5; color:black;border-radius: 3px;'>**Loading a Pre-Trained Model & Getting Predictions**"
   ]
  },
  {
   "cell_type": "code",
   "execution_count": 116,
   "id": "7b1c7e4e-e47b-4b7a-a18e-3b59a991a1a9",
   "metadata": {
    "id": "7b1c7e4e-e47b-4b7a-a18e-3b59a991a1a9"
   },
   "outputs": [],
   "source": [
    "trained_model = TickerPricePredictor.load_from_checkpoint('/content/checkpoints/best_checkpoint.ckpt',\n",
    "                                                         num_features = train_df.shape[1])\n",
    "\n",
    "trained_model.freeze()"
   ]
  },
  {
   "cell_type": "code",
   "execution_count": 117,
   "id": "ace500b0-5915-4323-bf06-664413cff5e5",
   "metadata": {
    "id": "ace500b0-5915-4323-bf06-664413cff5e5"
   },
   "outputs": [],
   "source": [
    "test_dataset = TickerDataset(test_sequences)"
   ]
  },
  {
   "cell_type": "markdown",
   "id": "8ny0ZD1QLKuN",
   "metadata": {
    "id": "8ny0ZD1QLKuN"
   },
   "source": [
    "<font size = 4>`get_predictions()`"
   ]
  },
  {
   "cell_type": "code",
   "execution_count": 118,
   "id": "027896b3-4a73-432b-a40e-b12742b5dab9",
   "metadata": {
    "id": "027896b3-4a73-432b-a40e-b12742b5dab9"
   },
   "outputs": [],
   "source": [
    "def get_predictions(model, \n",
    "                    test_dataset, \n",
    "                    original_df = df,\n",
    "                    train_size = len(train_df),\n",
    "                    sequence_length = sequence_length, \n",
    "                    scaler = scaler, \n",
    "                    plot = True):\n",
    "    \n",
    "    predictions = []\n",
    "    labels = []\n",
    "    for item in tq.tqdm(test_dataset):\n",
    "        sequence = item['sequence']\n",
    "        label = item['label']\n",
    "\n",
    "        _, output = model(sequence.unsqueeze(dim=0))\n",
    "        predictions.append(output.item())\n",
    "        labels.append(label.item())\n",
    "\n",
    "    test_data = df[train_size + 1 : ]\n",
    "    test_sequences_data = test_data.iloc[sequence_length:]\n",
    "    dates = test_sequences_data.index.tolist()\n",
    "\n",
    "    results = pd.concat([pd.Series(dates), pd.Series(predictions), pd.Series(labels)], axis = 1)\n",
    "    results.columns = ['dates', 'predictions', 'actuals']\n",
    "    results = results.set_index('dates')\n",
    "\n",
    "\n",
    "    def reverse_scale(scaler, data):\n",
    "        reverse_scaler = MinMaxScaler()\n",
    "        reverse_scaler.min_ = scaler.min_[-1]\n",
    "        reverse_scaler.scale_ = scaler.scale_[-1]\n",
    "        data_array = np.array(data)[:, np.newaxis]\n",
    "        results = reverse_scaler.inverse_transform(data_array).flatten()\n",
    "        return results\n",
    "\n",
    "\n",
    "    results.predictions = reverse_scale(scaler, results.predictions)\n",
    "    results.actuals = reverse_scale(scaler, results.actuals)\n",
    "\n",
    "    results['accuracy'] = (1 - abs(results.actuals - results.predictions) / \n",
    "                       results.actuals) * 100\n",
    "    \n",
    "    overall_test_accuracy = results.accuracy.mean()\n",
    "    \n",
    "    sp(); sp();\n",
    "    \n",
    "    pretty(f'{overall_test_accuracy:.3f}%', \n",
    "           'The overall testing accuracy of the model is:'); sp()\n",
    "\n",
    "    if plot == True:\n",
    "        fig = plt.subplots(facecolor='#222222', figsize=(13, 7))\n",
    "        ax = plt.axes();\n",
    "        plt.style.use(\"ggplot\");\n",
    "        ax.set_facecolor('#333333')\n",
    "        ax.grid(color=fontcolor, linestyle=':', linewidth=0.75, alpha=0.75)\n",
    "        plt.tick_params(labelrotation=40);\n",
    "        plt.title('Predictions vs. Actual Labels', fontsize=23, pad=20, color=fontcolor);\n",
    "        plt.ylabel('Stock Prices', fontsize=18, color=fontcolor);\n",
    "        plt.xlabel('Test Sequences', fontsize=18, color=fontcolor);\n",
    "        plt.xticks(fontsize=10, color='white')\n",
    "        plt.yticks(fontsize=10, color='white')\n",
    "        results.predictions.plot(ax = ax, color = 'cyan');\n",
    "        results.actuals.plot(ax = ax, color = 'deeppink');\n",
    "        plt.legend(facecolor = 'DarkGray', loc = 2, fontsize=15);\n",
    "\n",
    "    return results"
   ]
  },
  {
   "cell_type": "code",
   "execution_count": 119,
   "id": "k1uXmE24uxW0",
   "metadata": {
    "colab": {
     "base_uri": "https://localhost:8080/",
     "height": 618
    },
    "id": "k1uXmE24uxW0",
    "outputId": "d863dce9-0136-40ba-c6a6-9c43ba3fe589"
   },
   "outputs": [
    {
     "name": "stderr",
     "output_type": "stream",
     "text": [
      "100%|██████████| 7892/7892 [01:00<00:00, 130.49it/s]"
     ]
    },
    {
     "name": "stdout",
     "output_type": "stream",
     "text": [
      "\n",
      "\n"
     ]
    },
    {
     "name": "stderr",
     "output_type": "stream",
     "text": [
      "\n"
     ]
    },
    {
     "data": {
      "text/html": [
       "<span style = 'line-height: 2;                                 background: #ececec; width: None;                                 border: 1px solid text_color;                                border-radius: 0px; text-align: center;                                padding: 5px;'>                                <b><font size=3><text style=color:#111111>The overall testing accuracy of the model is:                                </text></font></b></style>"
      ],
      "text/plain": [
       "<IPython.core.display.HTML object>"
      ]
     },
     "metadata": {},
     "output_type": "display_data"
    },
    {
     "data": {
      "text/html": [
       "<span style = 'line-height: 2;                                 background: #444444; width: None;                                 border: 1px solid text_color;                                border-radius: 0px; text-align: center;                                padding: 5px;'>                                <b><font size=3><text style=color:white>94.988%                                </text></font></b></style>"
      ],
      "text/plain": [
       "<IPython.core.display.HTML object>"
      ]
     },
     "metadata": {},
     "output_type": "display_data"
    },
    {
     "name": "stdout",
     "output_type": "stream",
     "text": [
      "\n"
     ]
    },
    {
     "data": {
      "image/png": "[encoded data removed]",
      "text/plain": [
       "<Figure size 936x504 with 1 Axes>"
      ]
     },
     "metadata": {},
     "output_type": "display_data"
    }
   ],
   "source": [
    "results = get_predictions(trained_model, test_dataset)"
   ]
  },
  {
   "cell_type": "code",
   "execution_count": 120,
   "id": "343fb891-eae3-437f-93e4-281820afad04",
   "metadata": {
    "colab": {
     "base_uri": "https://localhost:8080/",
     "height": 259
    },
    "id": "343fb891-eae3-437f-93e4-281820afad04",
    "outputId": "16a74186-98a3-489c-da40-fad787d342e7"
   },
   "outputs": [
    {
     "data": {
      "text/html": [
       "<span style = 'display: block; width: 240.0px; \t\t\t\t\t\tline-height: 2; background: #333333;\t\t\t\t\t\tmargin-left: auto; margin-right: auto;\t\t\t\t\t\tborder: 1px solid text_color;\t\t\t\t\t\tborder-radius: 3px; text-align: center;\t\t\t\t\t\tpadding: 3px 8px 3px 8px;'>\t\t\t\t\t\t<b><font size=4><text style=color:white>Model Prediction Results\t\t\t\t\t\t</text></font></b></style>"
      ],
      "text/plain": [
       "<IPython.core.display.HTML object>"
      ]
     },
     "metadata": {},
     "output_type": "display_data"
    },
    {
     "data": {
      "text/html": [
       "<center><style type=\"text/css\">\n",
       "#T_b4d31_ caption {\n",
       "  background: #333333;\n",
       "  border-radius: 3px;\n",
       "  padding: 5px;\n",
       "  color: white;\n",
       "  font-size: 12px;\n",
       "  font-weight: bold;\n",
       "}\n",
       "</style>\n",
       "<table id=\"T_b4d31_\" style='display:inline-block'>\n",
       "  <caption>head(5)</caption>\n",
       "  <thead>\n",
       "    <tr>\n",
       "      <th class=\"blank level0\" >&nbsp;</th>\n",
       "      <th class=\"col_heading level0 col0\" >predictions</th>\n",
       "      <th class=\"col_heading level0 col1\" >actuals</th>\n",
       "      <th class=\"col_heading level0 col2\" >accuracy</th>\n",
       "    </tr>\n",
       "    <tr>\n",
       "      <th class=\"index_name level0\" >dates</th>\n",
       "      <th class=\"blank col0\" >&nbsp;</th>\n",
       "      <th class=\"blank col1\" >&nbsp;</th>\n",
       "      <th class=\"blank col2\" >&nbsp;</th>\n",
       "    </tr>\n",
       "  </thead>\n",
       "  <tbody>\n",
       "    <tr>\n",
       "      <th id=\"T_b4d31_level0_row0\" class=\"row_heading level0 row0\" >2023-01-17</th>\n",
       "      <td id=\"T_b4d31_row0_col0\" class=\"data row0 col0\" >11.58</td>\n",
       "      <td id=\"T_b4d31_row0_col1\" class=\"data row0 col1\" >11.55</td>\n",
       "      <td id=\"T_b4d31_row0_col2\" class=\"data row0 col2\" >99.77</td>\n",
       "    </tr>\n",
       "    <tr>\n",
       "      <th id=\"T_b4d31_level0_row1\" class=\"row_heading level0 row1\" >2023-01-17</th>\n",
       "      <td id=\"T_b4d31_row1_col0\" class=\"data row1 col0\" >11.58</td>\n",
       "      <td id=\"T_b4d31_row1_col1\" class=\"data row1 col1\" >11.55</td>\n",
       "      <td id=\"T_b4d31_row1_col2\" class=\"data row1 col2\" >99.72</td>\n",
       "    </tr>\n",
       "    <tr>\n",
       "      <th id=\"T_b4d31_level0_row2\" class=\"row_heading level0 row2\" >2023-01-17</th>\n",
       "      <td id=\"T_b4d31_row2_col0\" class=\"data row2 col0\" >11.59</td>\n",
       "      <td id=\"T_b4d31_row2_col1\" class=\"data row2 col1\" >11.57</td>\n",
       "      <td id=\"T_b4d31_row2_col2\" class=\"data row2 col2\" >99.85</td>\n",
       "    </tr>\n",
       "    <tr>\n",
       "      <th id=\"T_b4d31_level0_row3\" class=\"row_heading level0 row3\" >2023-01-17</th>\n",
       "      <td id=\"T_b4d31_row3_col0\" class=\"data row3 col0\" >11.59</td>\n",
       "      <td id=\"T_b4d31_row3_col1\" class=\"data row3 col1\" >11.57</td>\n",
       "      <td id=\"T_b4d31_row3_col2\" class=\"data row3 col2\" >99.85</td>\n",
       "    </tr>\n",
       "    <tr>\n",
       "      <th id=\"T_b4d31_level0_row4\" class=\"row_heading level0 row4\" >2023-01-17</th>\n",
       "      <td id=\"T_b4d31_row4_col0\" class=\"data row4 col0\" >11.59</td>\n",
       "      <td id=\"T_b4d31_row4_col1\" class=\"data row4 col1\" >11.58</td>\n",
       "      <td id=\"T_b4d31_row4_col2\" class=\"data row4 col2\" >99.92</td>\n",
       "    </tr>\n",
       "  </tbody>\n",
       "</table>\n",
       "&nbsp;&nbsp;&nbsp;<style type=\"text/css\">\n",
       "#T_276fe_ caption {\n",
       "  background: #333333;\n",
       "  border-radius: 3px;\n",
       "  padding: 5px;\n",
       "  color: white;\n",
       "  font-size: 12px;\n",
       "  font-weight: bold;\n",
       "}\n",
       "</style>\n",
       "<table id=\"T_276fe_\" style='display:inline-block'>\n",
       "  <caption>tail(5)</caption>\n",
       "  <thead>\n",
       "    <tr>\n",
       "      <th class=\"blank level0\" >&nbsp;</th>\n",
       "      <th class=\"col_heading level0 col0\" >predictions</th>\n",
       "      <th class=\"col_heading level0 col1\" >actuals</th>\n",
       "      <th class=\"col_heading level0 col2\" >accuracy</th>\n",
       "    </tr>\n",
       "    <tr>\n",
       "      <th class=\"index_name level0\" >dates</th>\n",
       "      <th class=\"blank col0\" >&nbsp;</th>\n",
       "      <th class=\"blank col1\" >&nbsp;</th>\n",
       "      <th class=\"blank col2\" >&nbsp;</th>\n",
       "    </tr>\n",
       "  </thead>\n",
       "  <tbody>\n",
       "    <tr>\n",
       "      <th id=\"T_276fe_level0_row0\" class=\"row_heading level0 row0\" >2023-01-22</th>\n",
       "      <td id=\"T_276fe_row0_col0\" class=\"data row0 col0\" >13.38</td>\n",
       "      <td id=\"T_276fe_row0_col1\" class=\"data row0 col1\" >15.01</td>\n",
       "      <td id=\"T_276fe_row0_col2\" class=\"data row0 col2\" >89.14</td>\n",
       "    </tr>\n",
       "    <tr>\n",
       "      <th id=\"T_276fe_level0_row1\" class=\"row_heading level0 row1\" >2023-01-22</th>\n",
       "      <td id=\"T_276fe_row1_col0\" class=\"data row1 col0\" >13.38</td>\n",
       "      <td id=\"T_276fe_row1_col1\" class=\"data row1 col1\" >15.03</td>\n",
       "      <td id=\"T_276fe_row1_col2\" class=\"data row1 col2\" >89.01</td>\n",
       "    </tr>\n",
       "    <tr>\n",
       "      <th id=\"T_276fe_level0_row2\" class=\"row_heading level0 row2\" >2023-01-22</th>\n",
       "      <td id=\"T_276fe_row2_col0\" class=\"data row2 col0\" >13.38</td>\n",
       "      <td id=\"T_276fe_row2_col1\" class=\"data row2 col1\" >15.04</td>\n",
       "      <td id=\"T_276fe_row2_col2\" class=\"data row2 col2\" >89.00</td>\n",
       "    </tr>\n",
       "    <tr>\n",
       "      <th id=\"T_276fe_level0_row3\" class=\"row_heading level0 row3\" >2023-01-22</th>\n",
       "      <td id=\"T_276fe_row3_col0\" class=\"data row3 col0\" >13.38</td>\n",
       "      <td id=\"T_276fe_row3_col1\" class=\"data row3 col1\" >15.03</td>\n",
       "      <td id=\"T_276fe_row3_col2\" class=\"data row3 col2\" >89.04</td>\n",
       "    </tr>\n",
       "    <tr>\n",
       "      <th id=\"T_276fe_level0_row4\" class=\"row_heading level0 row4\" >2023-01-22</th>\n",
       "      <td id=\"T_276fe_row4_col0\" class=\"data row4 col0\" >13.38</td>\n",
       "      <td id=\"T_276fe_row4_col1\" class=\"data row4 col1\" >15.02</td>\n",
       "      <td id=\"T_276fe_row4_col2\" class=\"data row4 col2\" >89.11</td>\n",
       "    </tr>\n",
       "  </tbody>\n",
       "</table>\n",
       "&nbsp;&nbsp;&nbsp;"
      ]
     },
     "metadata": {},
     "output_type": "display_data"
    },
    {
     "name": "stdout",
     "output_type": "stream",
     "text": [
      "\n"
     ]
    }
   ],
   "source": [
    "head_tail_horz(results, 5, 'Model Prediction Results')"
   ]
  }
 ],
 "metadata": {
  "accelerator": "GPU",
  "colab": {
   "provenance": []
  },
  "gpuClass": "standard",
  "kernelspec": {
   "display_name": "Python 3 (ipykernel)",
   "language": "python",
   "name": "python3"
  },
  "language_info": {
   "codemirror_mode": {
    "name": "ipython",
    "version": 3
   },
   "file_extension": ".py",
   "mimetype": "text/x-python",
   "name": "python",
   "nbconvert_exporter": "python",
   "pygments_lexer": "ipython3",
   "version": "3.10.9"
  },
  "widgets": {
   "application/vnd.jupyter.widget-state+json": {
    "19e8542dedbb4aa897423df6f8004436": {
     "model_module": "@jupyter-widgets/controls",
     "model_module_version": "1.5.0",
     "model_name": "FloatProgressModel",
     "state": {
      "_dom_classes": [],
      "_model_module": "@jupyter-widgets/controls",
      "_model_module_version": "1.5.0",
      "_model_name": "FloatProgressModel",
      "_view_count": null,
      "_view_module": "@jupyter-widgets/controls",
      "_view_module_version": "1.5.0",
      "_view_name": "ProgressView",
      "bar_style": "success",
      "description": "",
      "description_tooltip": null,
      "layout": "IPY_MODEL_5dd414395c554468abe8e4248236392c",
      "max": 499,
      "min": 0,
      "orientation": "horizontal",
      "style": "IPY_MODEL_6b51319bbf844c249887e53b745615a7",
      "value": 499
     }
    },
    "36cf97e3bbec4390b395947ee2c228e7": {
     "model_module": "@jupyter-widgets/controls",
     "model_module_version": "1.5.0",
     "model_name": "HBoxModel",
     "state": {
      "_dom_classes": [],
      "_model_module": "@jupyter-widgets/controls",
      "_model_module_version": "1.5.0",
      "_model_name": "HBoxModel",
      "_view_count": null,
      "_view_module": "@jupyter-widgets/controls",
      "_view_module_version": "1.5.0",
      "_view_name": "HBoxView",
      "box_style": "",
      "children": [
       "IPY_MODEL_9d3fe37e6b6249b49ae681c01f956f04",
       "IPY_MODEL_19e8542dedbb4aa897423df6f8004436",
       "IPY_MODEL_48de930e062c4e11bd5cd5c575c6c012"
      ],
      "layout": "IPY_MODEL_54c6ec9884d741b689dda9a9e9d87f13"
     }
    },
    "453c37e994324a4ab0f78718f0a42a49": {
     "model_module": "@jupyter-widgets/base",
     "model_module_version": "1.2.0",
     "model_name": "LayoutModel",
     "state": {
      "_model_module": "@jupyter-widgets/base",
      "_model_module_version": "1.2.0",
      "_model_name": "LayoutModel",
      "_view_count": null,
      "_view_module": "@jupyter-widgets/base",
      "_view_module_version": "1.2.0",
      "_view_name": "LayoutView",
      "align_content": null,
      "align_items": null,
      "align_self": null,
      "border": null,
      "bottom": null,
      "display": null,
      "flex": null,
      "flex_flow": null,
      "grid_area": null,
      "grid_auto_columns": null,
      "grid_auto_flow": null,
      "grid_auto_rows": null,
      "grid_column": null,
      "grid_gap": null,
      "grid_row": null,
      "grid_template_areas": null,
      "grid_template_columns": null,
      "grid_template_rows": null,
      "height": null,
      "justify_content": null,
      "justify_items": null,
      "left": null,
      "margin": null,
      "max_height": null,
      "max_width": null,
      "min_height": null,
      "min_width": null,
      "object_fit": null,
      "object_position": null,
      "order": null,
      "overflow": null,
      "overflow_x": null,
      "overflow_y": null,
      "padding": null,
      "right": null,
      "top": null,
      "visibility": null,
      "width": null
     }
    },
    "48de930e062c4e11bd5cd5c575c6c012": {
     "model_module": "@jupyter-widgets/controls",
     "model_module_version": "1.5.0",
     "model_name": "HTMLModel",
     "state": {
      "_dom_classes": [],
      "_model_module": "@jupyter-widgets/controls",
      "_model_module_version": "1.5.0",
      "_model_name": "HTMLModel",
      "_view_count": null,
      "_view_module": "@jupyter-widgets/controls",
      "_view_module_version": "1.5.0",
      "_view_name": "HTMLView",
      "description": "",
      "description_tooltip": null,
      "layout": "IPY_MODEL_453c37e994324a4ab0f78718f0a42a49",
      "placeholder": "​",
      "style": "IPY_MODEL_768c0ee7ab8a4f6baa89bbd294326afd",
      "value": " 499/499 [00:07&lt;00:00, 63.18it/s, loss=0.00332, v_num=2, training loss=0.00214]"
     }
    },
    "4f59a5f01e9743578d6cc6ea6017c4b7": {
     "model_module": "@jupyter-widgets/controls",
     "model_module_version": "1.5.0",
     "model_name": "DescriptionStyleModel",
     "state": {
      "_model_module": "@jupyter-widgets/controls",
      "_model_module_version": "1.5.0",
      "_model_name": "DescriptionStyleModel",
      "_view_count": null,
      "_view_module": "@jupyter-widgets/base",
      "_view_module_version": "1.2.0",
      "_view_name": "StyleView",
      "description_width": ""
     }
    },
    "54c6ec9884d741b689dda9a9e9d87f13": {
     "model_module": "@jupyter-widgets/base",
     "model_module_version": "1.2.0",
     "model_name": "LayoutModel",
     "state": {
      "_model_module": "@jupyter-widgets/base",
      "_model_module_version": "1.2.0",
      "_model_name": "LayoutModel",
      "_view_count": null,
      "_view_module": "@jupyter-widgets/base",
      "_view_module_version": "1.2.0",
      "_view_name": "LayoutView",
      "align_content": null,
      "align_items": null,
      "align_self": null,
      "border": null,
      "bottom": null,
      "display": "inline-flex",
      "flex": null,
      "flex_flow": "row wrap",
      "grid_area": null,
      "grid_auto_columns": null,
      "grid_auto_flow": null,
      "grid_auto_rows": null,
      "grid_column": null,
      "grid_gap": null,
      "grid_row": null,
      "grid_template_areas": null,
      "grid_template_columns": null,
      "grid_template_rows": null,
      "height": null,
      "justify_content": null,
      "justify_items": null,
      "left": null,
      "margin": null,
      "max_height": null,
      "max_width": null,
      "min_height": null,
      "min_width": null,
      "object_fit": null,
      "object_position": null,
      "order": null,
      "overflow": null,
      "overflow_x": null,
      "overflow_y": null,
      "padding": null,
      "right": null,
      "top": null,
      "visibility": null,
      "width": "100%"
     }
    },
    "5dd414395c554468abe8e4248236392c": {
     "model_module": "@jupyter-widgets/base",
     "model_module_version": "1.2.0",
     "model_name": "LayoutModel",
     "state": {
      "_model_module": "@jupyter-widgets/base",
      "_model_module_version": "1.2.0",
      "_model_name": "LayoutModel",
      "_view_count": null,
      "_view_module": "@jupyter-widgets/base",
      "_view_module_version": "1.2.0",
      "_view_name": "LayoutView",
      "align_content": null,
      "align_items": null,
      "align_self": null,
      "border": null,
      "bottom": null,
      "display": null,
      "flex": "2",
      "flex_flow": null,
      "grid_area": null,
      "grid_auto_columns": null,
      "grid_auto_flow": null,
      "grid_auto_rows": null,
      "grid_column": null,
      "grid_gap": null,
      "grid_row": null,
      "grid_template_areas": null,
      "grid_template_columns": null,
      "grid_template_rows": null,
      "height": null,
      "justify_content": null,
      "justify_items": null,
      "left": null,
      "margin": null,
      "max_height": null,
      "max_width": null,
      "min_height": null,
      "min_width": null,
      "object_fit": null,
      "object_position": null,
      "order": null,
      "overflow": null,
      "overflow_x": null,
      "overflow_y": null,
      "padding": null,
      "right": null,
      "top": null,
      "visibility": null,
      "width": null
     }
    },
    "6b51319bbf844c249887e53b745615a7": {
     "model_module": "@jupyter-widgets/controls",
     "model_module_version": "1.5.0",
     "model_name": "ProgressStyleModel",
     "state": {
      "_model_module": "@jupyter-widgets/controls",
      "_model_module_version": "1.5.0",
      "_model_name": "ProgressStyleModel",
      "_view_count": null,
      "_view_module": "@jupyter-widgets/base",
      "_view_module_version": "1.2.0",
      "_view_name": "StyleView",
      "bar_color": null,
      "description_width": ""
     }
    },
    "768c0ee7ab8a4f6baa89bbd294326afd": {
     "model_module": "@jupyter-widgets/controls",
     "model_module_version": "1.5.0",
     "model_name": "DescriptionStyleModel",
     "state": {
      "_model_module": "@jupyter-widgets/controls",
      "_model_module_version": "1.5.0",
      "_model_name": "DescriptionStyleModel",
      "_view_count": null,
      "_view_module": "@jupyter-widgets/base",
      "_view_module_version": "1.2.0",
      "_view_name": "StyleView",
      "description_width": ""
     }
    },
    "9d3fe37e6b6249b49ae681c01f956f04": {
     "model_module": "@jupyter-widgets/controls",
     "model_module_version": "1.5.0",
     "model_name": "HTMLModel",
     "state": {
      "_dom_classes": [],
      "_model_module": "@jupyter-widgets/controls",
      "_model_module_version": "1.5.0",
      "_model_name": "HTMLModel",
      "_view_count": null,
      "_view_module": "@jupyter-widgets/controls",
      "_view_module_version": "1.5.0",
      "_view_name": "HTMLView",
      "description": "",
      "description_tooltip": null,
      "layout": "IPY_MODEL_9f94551336b34b8d8b4ed280ea9a7175",
      "placeholder": "​",
      "style": "IPY_MODEL_4f59a5f01e9743578d6cc6ea6017c4b7",
      "value": "Epoch 2: 100%"
     }
    },
    "9f94551336b34b8d8b4ed280ea9a7175": {
     "model_module": "@jupyter-widgets/base",
     "model_module_version": "1.2.0",
     "model_name": "LayoutModel",
     "state": {
      "_model_module": "@jupyter-widgets/base",
      "_model_module_version": "1.2.0",
      "_model_name": "LayoutModel",
      "_view_count": null,
      "_view_module": "@jupyter-widgets/base",
      "_view_module_version": "1.2.0",
      "_view_name": "LayoutView",
      "align_content": null,
      "align_items": null,
      "align_self": null,
      "border": null,
      "bottom": null,
      "display": null,
      "flex": null,
      "flex_flow": null,
      "grid_area": null,
      "grid_auto_columns": null,
      "grid_auto_flow": null,
      "grid_auto_rows": null,
      "grid_column": null,
      "grid_gap": null,
      "grid_row": null,
      "grid_template_areas": null,
      "grid_template_columns": null,
      "grid_template_rows": null,
      "height": null,
      "justify_content": null,
      "justify_items": null,
      "left": null,
      "margin": null,
      "max_height": null,
      "max_width": null,
      "min_height": null,
      "min_width": null,
      "object_fit": null,
      "object_position": null,
      "order": null,
      "overflow": null,
      "overflow_x": null,
      "overflow_y": null,
      "padding": null,
      "right": null,
      "top": null,
      "visibility": null,
      "width": null
     }
    }
   }
  }
 },
 "nbformat": 4,
 "nbformat_minor": 5
}
