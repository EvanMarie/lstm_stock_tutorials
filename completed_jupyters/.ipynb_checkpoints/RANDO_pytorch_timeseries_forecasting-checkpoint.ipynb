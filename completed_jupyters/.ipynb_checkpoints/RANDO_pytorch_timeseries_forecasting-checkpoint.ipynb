{
 "cells": [
  {
   "cell_type": "markdown",
   "id": "4a24b847-3ec5-49ef-b03d-75f73467496f",
   "metadata": {},
   "source": [
    "<a name=\"top\"></a>\n",
    "\n",
    "# Time Series Forecasting with LSTM in Pytorch [[YouTube]](https://www.youtube.com/watch?v=Cdmq0xtFG5w)\n",
    "<br>\n",
    "<font size = 5>\n",
    "\n",
    "| [Link](link)  |  [Link](link) | </font>\n"
   ]
  },
  {
   "cell_type": "code",
   "execution_count": 1,
   "id": "3754f5b8-86ea-4f38-8f15-4d046d014abd",
   "metadata": {},
   "outputs": [],
   "source": [
    "from helpers import *\n",
    "import_all()\n",
    "import torch\n",
    "import torch.nn as nn\n",
    "from sklearn.preprocessing import MinMaxScaler\n",
    "from torch.utils.data import Dataset, DataLoader\n",
    "import yfinance as yf\n",
    "import math\n",
    "from sklearn.metrics import mean_squared_error"
   ]
  },
  {
   "cell_type": "code",
   "execution_count": 2,
   "id": "b83a3aef-75a9-4373-9182-03019a498aa1",
   "metadata": {},
   "outputs": [
    {
     "name": "stdout",
     "output_type": "stream",
     "text": [
      "[*********************100%***********************]  1 of 1 completed\n"
     ]
    }
   ],
   "source": [
    "aapl = yf.download(\"AAPL\", period = \"10y\").Close"
   ]
  },
  {
   "cell_type": "markdown",
   "id": "e8bab160-b50a-4644-95d9-f8638b2dfb9f",
   "metadata": {},
   "source": [
    "<font size = 4><span style = 'background-color: #ddddff; padding: 5px 5px 3px 5px; line-height: 1.5; color:black;border-radius: 3px;'>First View of Data"
   ]
  },
  {
   "cell_type": "code",
   "execution_count": 3,
   "id": "0083c27b-d878-4da8-9d8e-047d2c745698",
   "metadata": {},
   "outputs": [
    {
     "data": {
      "text/html": [
       "<span style = 'display: block; width: 100.0px; \t\t\t\t\t\tline-height: 2; background: #333333;\t\t\t\t\t\tmargin-left: auto; margin-right: auto;\t\t\t\t\t\tborder: 1px solid text_color;\t\t\t\t\t\tborder-radius: 3px; text-align: center;\t\t\t\t\t\tpadding: 3px 8px 3px 8px;'>\t\t\t\t\t\t<b><font size=4><text style=color:white>Apple Data\t\t\t\t\t\t</text></font></b></style>"
      ],
      "text/plain": [
       "<IPython.core.display.HTML object>"
      ]
     },
     "metadata": {},
     "output_type": "display_data"
    },
    {
     "data": {
      "text/html": [
       "<center><style type=\"text/css\">\n",
       "#T_ab900 caption {\n",
       "  background: #333333;\n",
       "  border-radius: 3px;\n",
       "  padding: 5px;\n",
       "  color: white;\n",
       "  font-size: 12px;\n",
       "  font-weight: bold;\n",
       "}\n",
       "</style>\n",
       "<table id=\"T_ab900\" style='display:inline-block'>\n",
       "  <caption>head(5)</caption>\n",
       "  <thead>\n",
       "    <tr>\n",
       "      <th class=\"blank level0\" >&nbsp;</th>\n",
       "      <th id=\"T_ab900_level0_col0\" class=\"col_heading level0 col0\" >Close</th>\n",
       "    </tr>\n",
       "    <tr>\n",
       "      <th class=\"index_name level0\" >Date</th>\n",
       "      <th class=\"blank col0\" >&nbsp;</th>\n",
       "    </tr>\n",
       "  </thead>\n",
       "  <tbody>\n",
       "    <tr>\n",
       "      <th id=\"T_ab900_level0_row0\" class=\"row_heading level0 row0\" >2013-01-22</th>\n",
       "      <td id=\"T_ab900_row0_col0\" class=\"data row0 col0\" >18.03</td>\n",
       "    </tr>\n",
       "    <tr>\n",
       "      <th id=\"T_ab900_level0_row1\" class=\"row_heading level0 row1\" >2013-01-23</th>\n",
       "      <td id=\"T_ab900_row1_col0\" class=\"data row1 col0\" >18.36</td>\n",
       "    </tr>\n",
       "    <tr>\n",
       "      <th id=\"T_ab900_level0_row2\" class=\"row_heading level0 row2\" >2013-01-24</th>\n",
       "      <td id=\"T_ab900_row2_col0\" class=\"data row2 col0\" >16.09</td>\n",
       "    </tr>\n",
       "    <tr>\n",
       "      <th id=\"T_ab900_level0_row3\" class=\"row_heading level0 row3\" >2013-01-25</th>\n",
       "      <td id=\"T_ab900_row3_col0\" class=\"data row3 col0\" >15.71</td>\n",
       "    </tr>\n",
       "    <tr>\n",
       "      <th id=\"T_ab900_level0_row4\" class=\"row_heading level0 row4\" >2013-01-28</th>\n",
       "      <td id=\"T_ab900_row4_col0\" class=\"data row4 col0\" >16.07</td>\n",
       "    </tr>\n",
       "  </tbody>\n",
       "</table>\n",
       "&nbsp;&nbsp;&nbsp;<style type=\"text/css\">\n",
       "#T_5d683 caption {\n",
       "  background: #333333;\n",
       "  border-radius: 3px;\n",
       "  padding: 5px;\n",
       "  color: white;\n",
       "  font-size: 12px;\n",
       "  font-weight: bold;\n",
       "}\n",
       "</style>\n",
       "<table id=\"T_5d683\" style='display:inline-block'>\n",
       "  <caption>tail(5)</caption>\n",
       "  <thead>\n",
       "    <tr>\n",
       "      <th class=\"blank level0\" >&nbsp;</th>\n",
       "      <th id=\"T_5d683_level0_col0\" class=\"col_heading level0 col0\" >Close</th>\n",
       "    </tr>\n",
       "    <tr>\n",
       "      <th class=\"index_name level0\" >Date</th>\n",
       "      <th class=\"blank col0\" >&nbsp;</th>\n",
       "    </tr>\n",
       "  </thead>\n",
       "  <tbody>\n",
       "    <tr>\n",
       "      <th id=\"T_5d683_level0_row0\" class=\"row_heading level0 row0\" >2023-01-13</th>\n",
       "      <td id=\"T_5d683_row0_col0\" class=\"data row0 col0\" >134.76</td>\n",
       "    </tr>\n",
       "    <tr>\n",
       "      <th id=\"T_5d683_level0_row1\" class=\"row_heading level0 row1\" >2023-01-17</th>\n",
       "      <td id=\"T_5d683_row1_col0\" class=\"data row1 col0\" >135.94</td>\n",
       "    </tr>\n",
       "    <tr>\n",
       "      <th id=\"T_5d683_level0_row2\" class=\"row_heading level0 row2\" >2023-01-18</th>\n",
       "      <td id=\"T_5d683_row2_col0\" class=\"data row2 col0\" >135.21</td>\n",
       "    </tr>\n",
       "    <tr>\n",
       "      <th id=\"T_5d683_level0_row3\" class=\"row_heading level0 row3\" >2023-01-19</th>\n",
       "      <td id=\"T_5d683_row3_col0\" class=\"data row3 col0\" >135.27</td>\n",
       "    </tr>\n",
       "    <tr>\n",
       "      <th id=\"T_5d683_level0_row4\" class=\"row_heading level0 row4\" >2023-01-20</th>\n",
       "      <td id=\"T_5d683_row4_col0\" class=\"data row4 col0\" >137.87</td>\n",
       "    </tr>\n",
       "  </tbody>\n",
       "</table>\n",
       "&nbsp;&nbsp;&nbsp;"
      ]
     },
     "metadata": {},
     "output_type": "display_data"
    },
    {
     "name": "stdout",
     "output_type": "stream",
     "text": [
      "\n"
     ]
    }
   ],
   "source": [
    "head_tail_horz(aapl, 5, \"Apple Data\")"
   ]
  },
  {
   "cell_type": "markdown",
   "id": "132c7a47-9869-4c54-b3ab-d1c023722ab9",
   "metadata": {},
   "source": [
    "<font size = 4><span style = 'background-color: #ddddff; padding: 5px 5px 3px 5px; line-height: 1.5; color:black;border-radius: 3px;'>Initial Visualization"
   ]
  },
  {
   "cell_type": "code",
   "execution_count": 4,
   "id": "5c9fc022-6923-4ec8-89b1-eb781dc86899",
   "metadata": {},
   "outputs": [
    {
     "data": {
      "image/png": "[encoded data removed]",
      "text/plain": [
       "<Figure size 1300x700 with 2 Axes>"
      ]
     },
     "metadata": {},
     "output_type": "display_data"
    }
   ],
   "source": [
    "fancy_plot(aapl, title=\"Initial Apple Data: Last 10 Years\",\n",
    "\t\t   xlabel = \"Years\", ylabel = \"Price\",\n",
    "\t\t  legend_loc=2)"
   ]
  },
  {
   "cell_type": "markdown",
   "id": "6b872da6-6670-4985-8d71-50bd1b9ec363",
   "metadata": {},
   "source": [
    "<font size = 4><span style = 'background-color: #ddddff; padding: 5px 5px 3px 5px; line-height: 1.5; color:black;border-radius: 3px;'>Instantiating Scaler\n",
    "* scaling to between 0 and 1"
   ]
  },
  {
   "cell_type": "code",
   "execution_count": 5,
   "id": "91414a42-a025-4451-9e2c-1bc140cd68db",
   "metadata": {},
   "outputs": [],
   "source": [
    "scaler = MinMaxScaler(feature_range=(0, 1))"
   ]
  },
  {
   "cell_type": "markdown",
   "id": "cbec844f-9b02-4ffa-bd56-56ded35e47f2",
   "metadata": {},
   "source": [
    "<font size = 4><span style = 'background-color: #ddddff; padding: 5px 5px 3px 5px; line-height: 1.5; color:black;border-radius: 3px;'>Scaling the Data\n",
    "* data must be an array\n",
    "* must be two dimensional for the LSTM model to work with it"
   ]
  },
  {
   "cell_type": "code",
   "execution_count": 6,
   "id": "48c0df42-b32a-41ce-92d8-fd9411821687",
   "metadata": {},
   "outputs": [
    {
     "data": {
      "text/html": [
       "<span style = 'line-height: 2;                                 background: #ececec; width: None;                                 border: 1px solid text_color;                                border-radius: 0px; text-align: center;                                padding: 5px;'>                                <b><font size=3><text style=color:#111111>original data shape                                </text></font></b></style>"
      ],
      "text/plain": [
       "<IPython.core.display.HTML object>"
      ]
     },
     "metadata": {},
     "output_type": "display_data"
    },
    {
     "data": {
      "text/html": [
       "<span style = 'line-height: 2;                                 background: #444444; width: None;                                 border: 1px solid text_color;                                border-radius: 0px; text-align: center;                                padding: 5px;'>                                <b><font size=3><text style=color:white>(2518,)                                </text></font></b></style>"
      ],
      "text/plain": [
       "<IPython.core.display.HTML object>"
      ]
     },
     "metadata": {},
     "output_type": "display_data"
    },
    {
     "name": "stdout",
     "output_type": "stream",
     "text": [
      "\n"
     ]
    },
    {
     "data": {
      "text/html": [
       "<span style = 'line-height: 2;                                 background: #ececec; width: None;                                 border: 1px solid text_color;                                border-radius: 0px; text-align: center;                                padding: 5px;'>                                <b><font size=3><text style=color:#111111>reshaped, scaled data shape                                </text></font></b></style>"
      ],
      "text/plain": [
       "<IPython.core.display.HTML object>"
      ]
     },
     "metadata": {},
     "output_type": "display_data"
    },
    {
     "data": {
      "text/html": [
       "<span style = 'line-height: 2;                                 background: #444444; width: None;                                 border: 1px solid text_color;                                border-radius: 0px; text-align: center;                                padding: 5px;'>                                <b><font size=3><text style=color:white>(2518, 1)                                </text></font></b></style>"
      ],
      "text/plain": [
       "<IPython.core.display.HTML object>"
      ]
     },
     "metadata": {},
     "output_type": "display_data"
    }
   ],
   "source": [
    "aapl_scaled = scaler.fit_transform(np.array(aapl).reshape(-1,1))\n",
    "\n",
    "pretty(aapl.shape, 'original data shape'); sp()\n",
    "pretty(aapl_scaled.shape, 'reshaped, scaled data shape')"
   ]
  },
  {
   "cell_type": "code",
   "execution_count": 7,
   "id": "78ee04eb-f700-4c3e-b368-19efd35bbe9a",
   "metadata": {},
   "outputs": [
    {
     "data": {
      "text/html": [
       "<span style = 'display: block; width: 170.0px; \t\t\t\t\t\tline-height: 2; background: #333333;\t\t\t\t\t\tmargin-left: auto; margin-right: auto;\t\t\t\t\t\tborder: 1px solid text_color;\t\t\t\t\t\tborder-radius: 3px; text-align: center;\t\t\t\t\t\tpadding: 3px 8px 3px 8px;'>\t\t\t\t\t\t<b><font size=4><text style=color:white>Scaled Apple Data\t\t\t\t\t\t</text></font></b></style>"
      ],
      "text/plain": [
       "<IPython.core.display.HTML object>"
      ]
     },
     "metadata": {},
     "output_type": "display_data"
    },
    {
     "data": {
      "text/html": [
       "<center><style type=\"text/css\">\n",
       "#T_b91d6 caption {\n",
       "  background: #333333;\n",
       "  border-radius: 3px;\n",
       "  padding: 5px;\n",
       "  color: white;\n",
       "  font-size: 12px;\n",
       "  font-weight: bold;\n",
       "}\n",
       "</style>\n",
       "<table id=\"T_b91d6\" style='display:inline-block'>\n",
       "  <caption>head(5)</caption>\n",
       "  <thead>\n",
       "    <tr>\n",
       "      <th class=\"blank level0\" >&nbsp;</th>\n",
       "      <th id=\"T_b91d6_level0_col0\" class=\"col_heading level0 col0\" >0</th>\n",
       "    </tr>\n",
       "  </thead>\n",
       "  <tbody>\n",
       "    <tr>\n",
       "      <th id=\"T_b91d6_level0_row0\" class=\"row_heading level0 row0\" >0</th>\n",
       "      <td id=\"T_b91d6_row0_col0\" class=\"data row0 col0\" >0.02</td>\n",
       "    </tr>\n",
       "    <tr>\n",
       "      <th id=\"T_b91d6_level0_row1\" class=\"row_heading level0 row1\" >1</th>\n",
       "      <td id=\"T_b91d6_row1_col0\" class=\"data row1 col0\" >0.03</td>\n",
       "    </tr>\n",
       "    <tr>\n",
       "      <th id=\"T_b91d6_level0_row2\" class=\"row_heading level0 row2\" >2</th>\n",
       "      <td id=\"T_b91d6_row2_col0\" class=\"data row2 col0\" >0.01</td>\n",
       "    </tr>\n",
       "    <tr>\n",
       "      <th id=\"T_b91d6_level0_row3\" class=\"row_heading level0 row3\" >3</th>\n",
       "      <td id=\"T_b91d6_row3_col0\" class=\"data row3 col0\" >0.01</td>\n",
       "    </tr>\n",
       "    <tr>\n",
       "      <th id=\"T_b91d6_level0_row4\" class=\"row_heading level0 row4\" >4</th>\n",
       "      <td id=\"T_b91d6_row4_col0\" class=\"data row4 col0\" >0.01</td>\n",
       "    </tr>\n",
       "  </tbody>\n",
       "</table>\n",
       "&nbsp;&nbsp;&nbsp;<style type=\"text/css\">\n",
       "#T_e280e caption {\n",
       "  background: #333333;\n",
       "  border-radius: 3px;\n",
       "  padding: 5px;\n",
       "  color: white;\n",
       "  font-size: 12px;\n",
       "  font-weight: bold;\n",
       "}\n",
       "</style>\n",
       "<table id=\"T_e280e\" style='display:inline-block'>\n",
       "  <caption>tail(5)</caption>\n",
       "  <thead>\n",
       "    <tr>\n",
       "      <th class=\"blank level0\" >&nbsp;</th>\n",
       "      <th id=\"T_e280e_level0_col0\" class=\"col_heading level0 col0\" >0</th>\n",
       "    </tr>\n",
       "  </thead>\n",
       "  <tbody>\n",
       "    <tr>\n",
       "      <th id=\"T_e280e_level0_row0\" class=\"row_heading level0 row0\" >2513</th>\n",
       "      <td id=\"T_e280e_row0_col0\" class=\"data row0 col0\" >0.72</td>\n",
       "    </tr>\n",
       "    <tr>\n",
       "      <th id=\"T_e280e_level0_row1\" class=\"row_heading level0 row1\" >2514</th>\n",
       "      <td id=\"T_e280e_row1_col0\" class=\"data row1 col0\" >0.73</td>\n",
       "    </tr>\n",
       "    <tr>\n",
       "      <th id=\"T_e280e_level0_row2\" class=\"row_heading level0 row2\" >2515</th>\n",
       "      <td id=\"T_e280e_row2_col0\" class=\"data row2 col0\" >0.72</td>\n",
       "    </tr>\n",
       "    <tr>\n",
       "      <th id=\"T_e280e_level0_row3\" class=\"row_heading level0 row3\" >2516</th>\n",
       "      <td id=\"T_e280e_row3_col0\" class=\"data row3 col0\" >0.72</td>\n",
       "    </tr>\n",
       "    <tr>\n",
       "      <th id=\"T_e280e_level0_row4\" class=\"row_heading level0 row4\" >2517</th>\n",
       "      <td id=\"T_e280e_row4_col0\" class=\"data row4 col0\" >0.74</td>\n",
       "    </tr>\n",
       "  </tbody>\n",
       "</table>\n",
       "&nbsp;&nbsp;&nbsp;"
      ]
     },
     "metadata": {},
     "output_type": "display_data"
    },
    {
     "name": "stdout",
     "output_type": "stream",
     "text": [
      "\n"
     ]
    }
   ],
   "source": [
    "head_tail_horz(aapl_scaled, 5, \"Scaled Apple Data\")"
   ]
  },
  {
   "cell_type": "markdown",
   "id": "7277ad65-a80e-448e-93d6-029ba928df3b",
   "metadata": {},
   "source": [
    "<font size = 4><span style = 'background-color: #ddddff; padding: 5px 5px 3px 5px; line-height: 1.5; color:black;border-radius: 3px;'>Splitting Data\n",
    "* 70% training data\n",
    "* 30% testing data"
   ]
  },
  {
   "cell_type": "code",
   "execution_count": 8,
   "id": "6cfc9faa-49ee-412d-9bef-017ce6228976",
   "metadata": {
    "tags": []
   },
   "outputs": [],
   "source": [
    "len_all = len(aapl_scaled)\n",
    "\n",
    "train_size = int(len_all * 0.7)\n",
    "test_size = len_all - train_size\n",
    "train_data, test_data = (aapl_scaled[0:train_size,:], \n",
    "\t\t\t\t\t\t aapl_scaled[train_size:len_all, :1])"
   ]
  },
  {
   "cell_type": "markdown",
   "id": "76f4f87f-eca1-4b71-844e-8df6c753c5de",
   "metadata": {},
   "source": [
    "<font size = 4><span style = 'background-color: #ddddff; padding: 5px 5px 3px 5px; line-height: 1.5; color:black;border-radius: 3px;'>Defining the Dataset Class\n",
    "* `sequence_length` - The sequence of inputs across the timeframe\n",
    "* `torch.from_numpy(data).float().view(-1)` - converting to tensor for PyTorch\n",
    "* `__getitem__()` - will use the index, take a value with the `sequence_length` as an offset\n",
    "\t* This gets our input and target (x and y) values\n",
    "* `return len(self.data) - self.sequence_length - 1` - this takes care of the special cases when we are at the end of the dataset\n",
    "\t"
   ]
  },
  {
   "cell_type": "code",
   "execution_count": 9,
   "id": "51e4cf28-2593-46fc-a058-c68e13deaead",
   "metadata": {},
   "outputs": [],
   "source": [
    "class StockDataset(Dataset):\n",
    "\tdef __init__(self, data, sequence_length = 100):\n",
    "\t\tself.data = data\n",
    "\t\tself.data = torch.from_numpy(data).float().view(-1)\n",
    "\t\tself.sequence_length = sequence_length\n",
    "\t\t\n",
    "\tdef __len__(self):\n",
    "\t\treturn len(self.data) - self.sequence_length - 1\n",
    "\t\n",
    "\tdef __getitem__(self, index):\n",
    "\t\treturn (self.data[index : index + self.sequence_length], \n",
    "\t\t\t\tself.data[index + self.sequence_length])"
   ]
  },
  {
   "cell_type": "markdown",
   "id": "3bf63fd0-9334-442b-99f8-177ac121c964",
   "metadata": {},
   "source": [
    "<font size = 4><span style = 'background-color: #ddddff; padding: 5px 5px 3px 5px; line-height: 1.5; color:black;border-radius: 3px;'>Defining the Datasets"
   ]
  },
  {
   "cell_type": "code",
   "execution_count": 10,
   "id": "9ed3847c-0797-4312-9696-d13df14a88e4",
   "metadata": {},
   "outputs": [],
   "source": [
    "train_ds = StockDataset(train_data)\n",
    "test_ds = StockDataset(test_data)"
   ]
  },
  {
   "cell_type": "markdown",
   "id": "01a6bd07-8e2a-49ea-bb0c-99bd0f408414",
   "metadata": {},
   "source": [
    "<font size = 4><span style = 'background-color: #ddddff; padding: 5px 5px 3px 5px; line-height: 1.5; color:black;border-radius: 3px;'>Defining DataLoaders\n",
    "* `drop_last = True` - removes the part at the end that is remaining after all batches"
   ]
  },
  {
   "cell_type": "code",
   "execution_count": 11,
   "id": "252687a9-ce28-42ed-ad53-0a7da6940a52",
   "metadata": {},
   "outputs": [],
   "source": [
    "batch_size = 64\n",
    "\n",
    "train_loader = DataLoader(train_ds, batch_size, drop_last = True)\n",
    "test_loader = DataLoader(test_ds, batch_size, drop_last = True)"
   ]
  },
  {
   "cell_type": "markdown",
   "id": "4214fa79-017b-42d9-be34-4c8078420c15",
   "metadata": {},
   "source": [
    "<font size = 4><span style = 'background-color: #ddddff; padding: 5px 5px 3px 5px; line-height: 1.5; color:black;border-radius: 3px;'>Defining the GPU"
   ]
  },
  {
   "cell_type": "code",
   "execution_count": 12,
   "id": "2b1c7212-03db-4861-8f22-787169ee1a66",
   "metadata": {},
   "outputs": [],
   "source": [
    "device = \"cuda\" if torch.cuda.is_available() else \"cpu\""
   ]
  },
  {
   "cell_type": "markdown",
   "id": "e88b8b17-4e01-4cfd-ba2a-25f7ce556d3d",
   "metadata": {},
   "source": [
    "<font size = 4><span style = 'background-color: #ddddff; padding: 5px 5px 3px 5px; line-height: 1.5; color:black;border-radius: 3px;'>Defining the Model\n",
    "* `self.fc` - outputs the single value, i.e. the prediction"
   ]
  },
  {
   "cell_type": "code",
   "execution_count": 13,
   "id": "6a765ef4-1e7d-4bcc-99bd-076929939fb0",
   "metadata": {},
   "outputs": [],
   "source": [
    "class LSTM_model(nn.Module):\n",
    "\tdef __init__(self, num_input, num_hidden, num_layers):\n",
    "\t\tsuper(LSTM_model, self).__init__()\n",
    "\t\tself.num_layers = num_layers\n",
    "\t\tself.input_size = num_input\n",
    "\t\tself.num_hidden = num_hidden\n",
    "\t\tself.lstm = nn.LSTM(input_size = num_input,\n",
    "\t\t\t\t\t\t   hidden_size = num_hidden,\n",
    "\t\t\t\t\t\t   num_layers = num_layers)\n",
    "\t\tself.fc = nn.Linear(num_hidden, 1)\n",
    "\t\t\n",
    "\t\t\n",
    "\tdef forward(self, inputs, hidden_state, cell_state):\n",
    "\t\toutput, (hidden_state, cell_state) = self.lstm(inputs, \n",
    "\t\t\t\t\t\t\t\t\t\t\t\t\t   (hidden_state, cell_state))\n",
    "\t\tfinal_output = self.fc(output[-1])\n",
    "\t\treturn final_output, hidden_state, cell_state\n",
    "\t\n",
    "\t\n",
    "\tdef predict(self, inputs):\n",
    "\t\thidden_state, cell_state = self.init()\n",
    "\t\tfinal_output = self.fc(output[-1])\n",
    "\t\treturn final_output\n",
    "\t\n",
    "\t\n",
    "\tdef init(self):\n",
    "\t\thidden_initial = torch.zeros(self.num_layers, \n",
    "\t\t\t\t\t\t\t\t\t batch_size, \n",
    "\t\t\t\t\t\t\t\t\t self.num_hidden).to(device)\n",
    "\t\t\n",
    "\t\tcell_initial = torch.zeros(self.num_layers, \n",
    "\t\t\t\t\t\t\t\t\tbatch_size, \n",
    "\t\t\t\t\t\t\t\t\tself.num_hidden).to(device)\n",
    "\t\t\n",
    "\t\treturn hidden_initial, cell_initial"
   ]
  },
  {
   "cell_type": "markdown",
   "id": "3a667fb0-5fe7-41a8-8549-fbee937ca33e",
   "metadata": {},
   "source": [
    "<font size = 4><span style = 'background-color: #ddddff; padding: 5px 5px 3px 5px; line-height: 1.5; color:black;border-radius: 3px;'>Defining Hyperparameters"
   ]
  },
  {
   "cell_type": "code",
   "execution_count": 14,
   "id": "2a09742f-c56e-414a-9c86-0845918a5611",
   "metadata": {},
   "outputs": [],
   "source": [
    "num_input = 1\n",
    "num_hidden = 50\n",
    "num_layers = 3"
   ]
  },
  {
   "cell_type": "markdown",
   "id": "a51b2302-e661-4009-8ade-b4c9fa93747d",
   "metadata": {},
   "source": [
    "<font size = 4><span style = 'background-color: #ddddff; padding: 5px 5px 3px 5px; line-height: 1.5; color:black;border-radius: 3px;'>Defining Model"
   ]
  },
  {
   "cell_type": "code",
   "execution_count": 15,
   "id": "065e4e6c-6967-4ed1-a236-ea36e13410b8",
   "metadata": {},
   "outputs": [],
   "source": [
    "model = LSTM_model(num_input, \n",
    "\t\t\t\t   num_hidden, \n",
    "\t\t\t\t   num_layers).to(device)"
   ]
  },
  {
   "cell_type": "markdown",
   "id": "84e06fc4-51d3-424c-81dd-c0e5c776e422",
   "metadata": {},
   "source": [
    "<font size = 4><span style = 'background-color: #ddddff; padding: 5px 5px 3px 5px; line-height: 1.5; color:black;border-radius: 3px;'>Loss Function & Optimizer"
   ]
  },
  {
   "cell_type": "code",
   "execution_count": 16,
   "id": "2b8b2894-f5a6-4674-8f60-865b6e3a06a4",
   "metadata": {},
   "outputs": [],
   "source": [
    "loss_function = nn.MSELoss()\n",
    "optimizer = torch.optim.Adam(model.parameters(), lr = 0.001)"
   ]
  },
  {
   "cell_type": "markdown",
   "id": "64479392-2860-4112-af52-e619d5b36751",
   "metadata": {},
   "source": [
    "<font size = 4><span style = 'background-color: #ddddff; padding: 5px 5px 3px 5px; line-height: 1.5; color:black;border-radius: 3px;'>Defining the Training Function\n",
    "* detaching states from the computations, since they do not need to be updated"
   ]
  },
  {
   "cell_type": "code",
   "execution_count": 187,
   "id": "663de76b-8b3c-4a12-8737-69e9f2ddd7c8",
   "metadata": {},
   "outputs": [],
   "source": [
    "def train_model(dataloader):\n",
    "\n",
    "    hidden_state, cell_state = model.init()\n",
    "    model.train()\n",
    "    \n",
    "    train_losses = []\n",
    "\n",
    "    for batch, item in enumerate(dataloader):\n",
    "        input_data, target_data = item\n",
    "\n",
    "        input_data = input_data.to(device)\n",
    "        target_data = target_data.to(device)\n",
    "\n",
    "        output, hidden_state, cell_state = model(input_data.reshape(100, \n",
    "                                                                    batch_size, 1),\n",
    "                                                hidden_state, cell_state)\n",
    "\n",
    "        loss = loss_function(output.reshape(batch_size), target_data)\n",
    "        hidden_state = hidden_state.detach()\n",
    "        cell_state = cell_state.detach()\n",
    "        optimizer.zero_grad()\n",
    "        loss.backward()\n",
    "        optimizer.step()\n",
    "\n",
    "        if batch == len(dataloader) - 1:\n",
    "            loss = loss.item()\n",
    "            print(f\"training loss: {loss: >7f}\")\n",
    "            \n",
    "        train_losses.append(loss)  \n",
    "    \n",
    "    return train_losses"
   ]
  },
  {
   "cell_type": "markdown",
   "id": "86aaf163-f944-4bff-8f38-e2513a95015a",
   "metadata": {},
   "source": [
    "<font size = 4><span style = 'background-color: #ddddff; padding: 5px 5px 3px 5px; line-height: 1.5; color:black;border-radius: 3px;'>Defining the Testing Function"
   ]
  },
  {
   "cell_type": "code",
   "execution_count": 188,
   "id": "a1712f86-6fcc-4719-b441-5c43cafa8ecb",
   "metadata": {},
   "outputs": [],
   "source": [
    "def test_model(dataloader):\n",
    "    \n",
    "    hidden_state, cell_state = model.init()\n",
    "    model.eval()\n",
    "\n",
    "    test_losses = []\n",
    "    \n",
    "    for batch, item in enumerate(dataloader):\n",
    "        input_data, target_data = item\n",
    "\n",
    "        input_data = input_data.to(device)\n",
    "        target_data = target_data.to(device)\n",
    "\n",
    "        output, hidden_state, cell_state = model(input_data.reshape(100,\n",
    "                                                                 batch_size,\n",
    "                                                                    1),\n",
    "                                                hidden_state, cell_state)\n",
    "        \n",
    "        loss = loss_function(output.reshape(batch_size), target_data)\n",
    "\n",
    "        if batch == len(dataloader):\n",
    "            loss = loss.item()\n",
    "            print(f\"testing loss: {loss: >7f}\")\n",
    "            \n",
    "        test_losses.append(loss)\n",
    "        \n",
    "    return test_losses"
   ]
  },
  {
   "cell_type": "markdown",
   "id": "0df4b42b-4833-4831-8968-14d14fce423c",
   "metadata": {},
   "source": [
    "<font size = 4><span style = 'background-color: #ddddff; padding: 5px 5px 3px 5px; line-height: 1.5; color:black;border-radius: 3px;'>Training-Testing Function"
   ]
  },
  {
   "cell_type": "code",
   "execution_count": 189,
   "id": "30a0cda0-9260-4283-aac5-0ca311c66f0a",
   "metadata": {},
   "outputs": [],
   "source": [
    "def train_test(model, train_loader, test_loader, epochs):\n",
    "    for epoch in range(epochs):\n",
    "        train_losses = train_model(train_loader)\n",
    "        train_losses = [x.detach().cpu() for x in train_losses[:-1]]\n",
    "        test_losses = test_model(test_loader)\n",
    "        test_losses = [x.detach().cpu() for x in test_losses[:-1]]\n",
    "        \n",
    "    return train_losses, test_losses"
   ]
  },
  {
   "cell_type": "markdown",
   "id": "48708a4a-b025-4e8e-89fe-75683d3576d6",
   "metadata": {},
   "source": [
    "<font size = 4><span style = 'background-color: #ddddff; padding: 5px 5px 3px 5px; line-height: 1.5; color:black;border-radius: 3px;'>Training the Model"
   ]
  },
  {
   "cell_type": "code",
   "execution_count": 190,
   "id": "1f3a4022-7282-41b3-a547-e2aeb759ff01",
   "metadata": {},
   "outputs": [
    {
     "name": "stdout",
     "output_type": "stream",
     "text": [
      "training loss: 0.000685\n",
      "training loss: 0.000034\n",
      "training loss: 0.000044\n",
      "training loss: 0.000044\n",
      "training loss: 0.000035\n",
      "training loss: 0.000041\n",
      "training loss: 0.000028\n",
      "training loss: 0.000031\n",
      "training loss: 0.000029\n",
      "training loss: 0.000029\n",
      "training loss: 0.000032\n",
      "training loss: 0.000029\n",
      "training loss: 0.000029\n",
      "training loss: 0.000029\n",
      "training loss: 0.000029\n",
      "training loss: 0.000030\n",
      "training loss: 0.000030\n",
      "training loss: 0.000029\n",
      "training loss: 0.000029\n",
      "training loss: 0.000029\n",
      "training loss: 0.000029\n",
      "training loss: 0.000030\n",
      "training loss: 0.000030\n",
      "training loss: 0.000029\n",
      "training loss: 0.000029\n",
      "training loss: 0.000029\n",
      "training loss: 0.000029\n",
      "training loss: 0.000029\n",
      "training loss: 0.000029\n",
      "training loss: 0.000029\n",
      "training loss: 0.000029\n",
      "training loss: 0.000029\n",
      "training loss: 0.000029\n",
      "training loss: 0.000029\n",
      "training loss: 0.000029\n",
      "training loss: 0.000029\n",
      "training loss: 0.000029\n",
      "training loss: 0.000029\n",
      "training loss: 0.000029\n",
      "training loss: 0.000029\n",
      "training loss: 0.000029\n",
      "training loss: 0.000029\n",
      "training loss: 0.000029\n",
      "training loss: 0.000029\n",
      "training loss: 0.000029\n",
      "training loss: 0.000029\n",
      "training loss: 0.000029\n",
      "training loss: 0.000029\n",
      "training loss: 0.000029\n",
      "training loss: 0.000029\n",
      "training loss: 0.000029\n",
      "training loss: 0.000029\n",
      "training loss: 0.000029\n",
      "training loss: 0.000029\n",
      "training loss: 0.000029\n",
      "training loss: 0.000029\n",
      "training loss: 0.000029\n",
      "training loss: 0.000029\n",
      "training loss: 0.000029\n",
      "training loss: 0.000029\n",
      "training loss: 0.000029\n",
      "training loss: 0.000029\n",
      "training loss: 0.000029\n",
      "training loss: 0.000029\n",
      "training loss: 0.000029\n",
      "training loss: 0.000029\n",
      "training loss: 0.000029\n",
      "training loss: 0.000029\n",
      "training loss: 0.000029\n",
      "training loss: 0.000031\n",
      "training loss: 0.000030\n",
      "training loss: 0.000035\n",
      "training loss: 0.000031\n",
      "training loss: 0.000035\n",
      "training loss: 0.000032\n",
      "training loss: 0.000031\n",
      "training loss: 0.000033\n",
      "training loss: 0.000030\n",
      "training loss: 0.000032\n",
      "training loss: 0.000044\n",
      "training loss: 0.000302\n",
      "training loss: 0.000222\n",
      "training loss: 0.000111\n",
      "training loss: 0.000077\n",
      "training loss: 0.000041\n",
      "training loss: 0.000033\n",
      "training loss: 0.000040\n",
      "training loss: 0.000051\n",
      "training loss: 0.000031\n",
      "training loss: 0.000030\n",
      "training loss: 0.000030\n",
      "training loss: 0.000033\n",
      "training loss: 0.000034\n",
      "training loss: 0.000029\n",
      "training loss: 0.000029\n",
      "training loss: 0.000029\n",
      "training loss: 0.000031\n",
      "training loss: 0.000030\n",
      "training loss: 0.000030\n",
      "training loss: 0.000029\n",
      "training loss: 0.000029\n",
      "training loss: 0.000029\n",
      "training loss: 0.000030\n",
      "training loss: 0.000029\n",
      "training loss: 0.000029\n",
      "training loss: 0.000029\n",
      "training loss: 0.000029\n",
      "training loss: 0.000029\n",
      "training loss: 0.000029\n",
      "training loss: 0.000029\n",
      "training loss: 0.000029\n",
      "training loss: 0.000029\n",
      "training loss: 0.000029\n",
      "training loss: 0.000029\n",
      "training loss: 0.000029\n",
      "training loss: 0.000029\n",
      "training loss: 0.000029\n",
      "training loss: 0.000029\n",
      "training loss: 0.000029\n",
      "training loss: 0.000029\n",
      "training loss: 0.000029\n",
      "training loss: 0.000029\n",
      "training loss: 0.000029\n",
      "training loss: 0.000029\n",
      "training loss: 0.000029\n",
      "training loss: 0.000029\n",
      "training loss: 0.000029\n",
      "training loss: 0.000029\n",
      "training loss: 0.000029\n",
      "training loss: 0.000029\n",
      "training loss: 0.000029\n",
      "training loss: 0.000029\n",
      "training loss: 0.000029\n",
      "training loss: 0.000029\n",
      "training loss: 0.000029\n",
      "training loss: 0.000029\n",
      "training loss: 0.000029\n",
      "training loss: 0.000029\n",
      "training loss: 0.000029\n",
      "training loss: 0.000029\n",
      "training loss: 0.000029\n",
      "training loss: 0.000030\n",
      "training loss: 0.000031\n",
      "training loss: 0.000032\n",
      "training loss: 0.000035\n",
      "training loss: 0.000043\n",
      "training loss: 0.000064\n",
      "training loss: 0.000113\n",
      "training loss: 0.000250\n",
      "training loss: 0.000718\n",
      "training loss: 0.000726\n",
      "training loss: 0.000043\n",
      "training loss: 0.000043\n",
      "training loss: 0.000036\n",
      "training loss: 0.000030\n",
      "training loss: 0.000041\n",
      "training loss: 0.000029\n",
      "training loss: 0.000031\n",
      "training loss: 0.000029\n",
      "training loss: 0.000030\n",
      "training loss: 0.000031\n",
      "training loss: 0.000029\n",
      "training loss: 0.000029\n",
      "training loss: 0.000029\n",
      "training loss: 0.000029\n",
      "training loss: 0.000030\n",
      "training loss: 0.000029\n",
      "training loss: 0.000029\n",
      "training loss: 0.000029\n",
      "training loss: 0.000029\n",
      "training loss: 0.000029\n",
      "training loss: 0.000030\n",
      "training loss: 0.000029\n",
      "training loss: 0.000029\n",
      "training loss: 0.000029\n",
      "training loss: 0.000029\n",
      "training loss: 0.000029\n",
      "training loss: 0.000029\n",
      "training loss: 0.000029\n",
      "training loss: 0.000029\n",
      "training loss: 0.000029\n",
      "training loss: 0.000029\n",
      "training loss: 0.000029\n",
      "training loss: 0.000029\n",
      "training loss: 0.000029\n",
      "training loss: 0.000029\n",
      "training loss: 0.000029\n",
      "training loss: 0.000029\n",
      "training loss: 0.000029\n",
      "training loss: 0.000029\n",
      "training loss: 0.000029\n",
      "training loss: 0.000029\n",
      "training loss: 0.000029\n",
      "training loss: 0.000029\n",
      "training loss: 0.000029\n",
      "training loss: 0.000029\n",
      "training loss: 0.000029\n",
      "training loss: 0.000029\n",
      "training loss: 0.000029\n",
      "training loss: 0.000029\n",
      "training loss: 0.000029\n",
      "training loss: 0.000029\n",
      "training loss: 0.000029\n",
      "training loss: 0.000029\n",
      "training loss: 0.000029\n",
      "training loss: 0.000029\n",
      "training loss: 0.000029\n",
      "training loss: 0.000029\n",
      "training loss: 0.000029\n",
      "training loss: 0.000029\n",
      "training loss: 0.000029\n",
      "training loss: 0.000029\n",
      "training loss: 0.000029\n",
      "training loss: 0.000029\n",
      "training loss: 0.000029\n",
      "training loss: 0.000029\n",
      "training loss: 0.000031\n",
      "training loss: 0.000029\n",
      "training loss: 0.000034\n",
      "training loss: 0.000030\n",
      "training loss: 0.000034\n",
      "training loss: 0.000031\n",
      "training loss: 0.000031\n",
      "training loss: 0.000031\n",
      "training loss: 0.000030\n",
      "training loss: 0.000031\n",
      "training loss: 0.000030\n",
      "training loss: 0.000032\n",
      "training loss: 0.000031\n",
      "training loss: 0.000034\n",
      "training loss: 0.000034\n",
      "training loss: 0.000088\n",
      "training loss: 0.000408\n",
      "training loss: 0.000044\n",
      "training loss: 0.000041\n",
      "training loss: 0.000145\n",
      "training loss: 0.000029\n",
      "training loss: 0.000031\n",
      "training loss: 0.000030\n",
      "training loss: 0.000042\n",
      "training loss: 0.000035\n",
      "training loss: 0.000029\n",
      "training loss: 0.000029\n",
      "training loss: 0.000029\n",
      "training loss: 0.000030\n",
      "training loss: 0.000034\n",
      "training loss: 0.000029\n",
      "training loss: 0.000029\n",
      "training loss: 0.000029\n",
      "training loss: 0.000029\n",
      "training loss: 0.000030\n",
      "training loss: 0.000030\n",
      "training loss: 0.000029\n",
      "training loss: 0.000029\n",
      "training loss: 0.000029\n",
      "training loss: 0.000029\n",
      "training loss: 0.000029\n",
      "training loss: 0.000029\n",
      "training loss: 0.000029\n",
      "training loss: 0.000029\n",
      "training loss: 0.000029\n",
      "training loss: 0.000029\n",
      "training loss: 0.000029\n",
      "training loss: 0.000029\n",
      "training loss: 0.000029\n",
      "training loss: 0.000029\n",
      "training loss: 0.000029\n",
      "training loss: 0.000029\n",
      "training loss: 0.000029\n",
      "training loss: 0.000029\n",
      "training loss: 0.000029\n",
      "training loss: 0.000029\n",
      "training loss: 0.000029\n",
      "training loss: 0.000029\n",
      "training loss: 0.000029\n",
      "training loss: 0.000029\n",
      "training loss: 0.000029\n",
      "training loss: 0.000029\n",
      "training loss: 0.000029\n",
      "training loss: 0.000029\n",
      "training loss: 0.000029\n",
      "training loss: 0.000029\n",
      "training loss: 0.000029\n",
      "training loss: 0.000029\n",
      "training loss: 0.000030\n",
      "training loss: 0.000029\n",
      "training loss: 0.000033\n",
      "training loss: 0.000030\n",
      "training loss: 0.000043\n",
      "training loss: 0.000036\n",
      "training loss: 0.000078\n",
      "training loss: 0.000070\n",
      "training loss: 0.000186\n",
      "training loss: 0.000325\n",
      "training loss: 0.000628\n",
      "training loss: 0.000187\n",
      "training loss: 0.000047\n",
      "training loss: 0.000031\n",
      "training loss: 0.000075\n",
      "training loss: 0.000029\n"
     ]
    }
   ],
   "source": [
    "train_losses, test_losses  = train_test(model = model, \n",
    "                           train_loader = train_loader, \n",
    "                           test_loader = test_loader,\n",
    "                           epochs = 300)"
   ]
  },
  {
   "cell_type": "markdown",
   "id": "cb2723e0-8860-404e-85b8-55baa58c2b1f",
   "metadata": {},
   "source": [
    "<font size = 4><span style = 'background-color: #ddddff; padding: 5px 5px 3px 5px; line-height: 1.5; color:black;border-radius: 3px;'>Evaluating the Model"
   ]
  },
  {
   "cell_type": "code",
   "execution_count": 191,
   "id": "d60672da-58bb-4c14-9742-425825bad6e7",
   "metadata": {},
   "outputs": [],
   "source": [
    "def evaluate_model(dataloader, scaler):\n",
    "    prediction_array = []\n",
    "    target_array = []\n",
    "\n",
    "    with torch.no_grad():\n",
    "        hidden_state, cell_state = model.init()\n",
    "\n",
    "        for batch, item in enumerate(dataloader):\n",
    "            input_data, target_data = item\n",
    "            input_data, target_data = input_data.to(device), target_data.to(device)\n",
    "            input_data = input_data.view(100, 64, 1)\n",
    "            predictions = model(input_data, hidden_state, cell_state)[0]\n",
    "\n",
    "            predictions = scaler.inverse_transform(predictions.detach()\n",
    "                                                   .cpu()\n",
    "                                                   .numpy()).reshape(-1)\n",
    "\n",
    "            target_data = scaler.inverse_transform(target_data.detach()\n",
    "                                                   .cpu()\n",
    "                                                   .numpy()\n",
    "                                                   .reshape(1, -1)).reshape(-1)\n",
    "\n",
    "            prediction_array.extend(predictions)\n",
    "            target_array.extend(target_data)\n",
    "            \n",
    "        result = math.sqrt(mean_squared_error(target_array, prediction_array))\n",
    "        return result"
   ]
  },
  {
   "cell_type": "markdown",
   "id": "12e3c66a-4a3e-4f1d-b1d4-528c498c6adc",
   "metadata": {},
   "source": [
    "<font size = 4><span style = 'background-color: #ddddff; padding: 5px 5px 3px 5px; line-height: 1.5; color:black;border-radius: 3px;'>Results of the Model"
   ]
  },
  {
   "cell_type": "code",
   "execution_count": 192,
   "id": "aa611bd3-d5a4-43c9-b63a-0a681c63537e",
   "metadata": {},
   "outputs": [
    {
     "name": "stdout",
     "output_type": "stream",
     "text": [
      "Training Loss:  1.561772062489898\n",
      "Testing Loss:  78.75756102095055\n"
     ]
    }
   ],
   "source": [
    "print(\"Training Loss: \", evaluate_model(train_loader, scaler))\n",
    "print(\"Testing Loss: \", evaluate_model(test_loader, scaler))"
   ]
  },
  {
   "cell_type": "code",
   "execution_count": null,
   "id": "d2fe0adc-f79d-47c4-aa6c-11b3c439db49",
   "metadata": {},
   "outputs": [],
   "source": []
  }
 ],
 "metadata": {
  "kernelspec": {
   "display_name": "Python 3 (ipykernel)",
   "language": "python",
   "name": "python3"
  },
  "language_info": {
   "codemirror_mode": {
    "name": "ipython",
    "version": 3
   },
   "file_extension": ".py",
   "mimetype": "text/x-python",
   "name": "python",
   "nbconvert_exporter": "python",
   "pygments_lexer": "ipython3",
   "version": "3.10.9"
  }
 },
 "nbformat": 4,
 "nbformat_minor": 5
}
