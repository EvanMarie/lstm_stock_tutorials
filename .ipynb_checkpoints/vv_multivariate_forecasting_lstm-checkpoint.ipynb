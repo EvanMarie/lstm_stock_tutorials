{
 "cells": [
  {
   "cell_type": "markdown",
   "id": "52fc3297-256c-4820-96e9-8a40697caba9",
   "metadata": {},
   "source": [
    "<a name = 'top'></a>\n",
    "\n",
    "**SECTIONS: [Top](#top)  |  [Compile Stocks](#compile_stocks)  |  [The Data](#the_data)  |  [Add Change Column](#change_column)  |  [Feature Engineering](#feature_engineering)  |  [Splitting & Scaling](#splitting)  |  [Creating Sequences](#sequences)  |  [Link](#link)  |  [Link](#link)  |** \n",
    "\n",
    "<font size = 7>**Multivariate Forecasting**\n",
    "<br>\n",
    "\n",
    "<font size = 5> [**Part 1: Video**](https://www.youtube.com/watch?v=jR0phoeXjrc)  |  [**Part 2: Video**](https://www.youtube.com/watch?v=ODEGJ_kh2aA)"
   ]
  },
  {
   "cell_type": "code",
   "execution_count": 1,
   "id": "ae577c68-7856-4f3a-9a09-b09d804599d5",
   "metadata": {},
   "outputs": [],
   "source": [
    "import pandas as pd\n",
    "from pylab import rcParams\n",
    "import numpy as np\n",
    "import seaborn as sns\n",
    "import math\n",
    "import torch\n",
    "import torch.nn as nn\n",
    "import torch.nn.functional as F\n",
    "import torch.autograd as ag\n",
    "import pytorch_lightning as pl\n",
    "from pytorch_lightning.callbacks import ModelCheckpoint, EarlyStopping\n",
    "from pytorch_lightning.loggers import TensorBoardLogger\n",
    "from torch.utils.data import Dataset, DataLoader\n",
    "from sklearn.preprocessing import MinMaxScaler\n",
    "import matplotlib.pyplot as plt\n",
    "from matplotlib import rc\n",
    "%matplotlib inline\n",
    "from helpers import *\n",
    "import tqdm as tq\n",
    "from collections import defaultdict"
   ]
  },
  {
   "cell_type": "code",
   "execution_count": 2,
   "id": "70d20bb2-e90b-43be-a1e8-95c8821d8b83",
   "metadata": {},
   "outputs": [
    {
     "name": "stderr",
     "output_type": "stream",
     "text": [
      "Global seed set to 123\n"
     ]
    }
   ],
   "source": [
    "sns.set(style='whitegrid', \n",
    "\t\tpalette='muted', \n",
    "\t\tfont_scale=1.2)\n",
    "\n",
    "HAPPY_COLORS = ['#01BEFE', '#FFDD00', '#FF7D00', '#FF006D', \n",
    "\t\t\t\t'#ADFF02', '#8F00FF']\n",
    "\n",
    "sns.set_palette(sns.color_palette(HAPPY_COLORS))\n",
    "\n",
    "rcParams['figure.figsize'] = 13, 7\n",
    "\n",
    "pl.seed_everything(123)\n",
    "import yfinance as yf\n",
    "tq.tqdm.pandas()"
   ]
  },
  {
   "cell_type": "markdown",
   "id": "b7223520-c0a9-448e-80c8-0068cdd178e3",
   "metadata": {},
   "source": [
    "<font size = 4><span style = 'background-color: #ddddff; padding: 5px 5px 3px 5px; line-height: 1.5; color:black;border-radius: 3px;'>**compile_stocks()**\n",
    "* Yahoo Finance only allows 7 days worth of data at 1 minute intervals\n",
    "* This function will compile dataframes in 7 day increments for an entire range of dates\n",
    "* They also only allow 1 min data for up to 30 days prior\n",
    "* This can be used for other intervals that allow for longer time periods"
   ]
  },
  {
   "cell_type": "markdown",
   "id": "ee5ac629-a8ad-4489-ba5e-8825200b69b2",
   "metadata": {
    "tags": []
   },
   "source": [
    "<a name = 'compile_stocks'></a>\n",
    "\n",
    "**SECTIONS: [Top](#top)  |  [Compile Stocks](#compile_stocks)  |  [The Data](#the_data)  |  [Add Change Column](#change_column)  |  [Feature Engineering](#feature_engineering)  |  [Splitting Data](#splitting)  |  [Creating Sequences](#sequences)  |  [Link](#link)  |  [Link](#link)  |** \n",
    "\n",
    "## **`compile_stocks()`**"
   ]
  },
  {
   "cell_type": "code",
   "execution_count": 3,
   "id": "5fabab05-f49a-4f3b-9356-f66b6ab5f226",
   "metadata": {},
   "outputs": [],
   "source": [
    "def compile_stocks(symbol, end, start, day_window, interval):\n",
    "\timport datetime\n",
    "\timport yfinance as yf\n",
    "\t\n",
    "\tend_date = end\n",
    "\tstart_date = (pd.to_datetime(end) - datetime.timedelta(days = day_window))\n",
    "\t\n",
    "\tdfs = []\n",
    "\tstop_me = False\n",
    "\t\n",
    "\twhile pd.to_datetime(start_date) >= pd.to_datetime(start):\n",
    "\t\tdf = yf.download(symbol, \n",
    "\t\t\t\t\t\t start = start_date,\n",
    "\t\t\t\t\t\t end = end_date, \n",
    "\t\t\t\t\t\t interval = interval)\n",
    "\n",
    "\t\tdfs.append(df)\n",
    "\t\tend_date = start_date\n",
    "\t\tstart_date = start_date - datetime.timedelta(days = day_window)\n",
    "\n",
    "\t\tif start_date < pd.to_datetime(start):\n",
    "\t\t\tstart_date = pd.to_datetime(start)\n",
    "\t\telse:\n",
    "\t\t\tstart_date = start_date\n",
    "\n",
    "\t\tif start_date == end_date:\n",
    "\t\t\tbreak\n",
    "\t\t\n",
    "\tmaster_df = pd.concat(dfs).sort_values(by=\"Datetime\")\n",
    "\t\t\n",
    "\treturn master_df"
   ]
  },
  {
   "cell_type": "code",
   "execution_count": 4,
   "id": "f39e9218-c21d-4505-8bc3-e1aa905dfda8",
   "metadata": {},
   "outputs": [
    {
     "name": "stdout",
     "output_type": "stream",
     "text": [
      "[*********************100%***********************]  1 of 1 completed\n",
      "[*********************100%***********************]  1 of 1 completed\n",
      "[*********************100%***********************]  1 of 1 completed\n",
      "[*********************100%***********************]  1 of 1 completed\n"
     ]
    }
   ],
   "source": [
    "data = compile_stocks('BTC-USD', \n",
    "\t\t\t\t\t '2023-01-22', \n",
    "\t\t\t\t\t '2022-12-25',\n",
    "\t\t\t\t\t 7, '1m')"
   ]
  },
  {
   "cell_type": "markdown",
   "id": "512498eb-04a5-438f-b15c-a16a2bd66f8b",
   "metadata": {},
   "source": [
    "<a name = 'the_data'></a>\n",
    "\n",
    "**SECTIONS: [Top](#top)  |  [Compile Stocks](#compile_stocks)  |  [The Data](#the_data)  |  [Add Change Column](#change_column)  |  [Feature Engineering](#feature_engineering)  |  [Splitting Data](#splitting)  |  [Creating Sequences](#sequences)  |  [Link](#link)  |  [Link](#link)  |** \n",
    "\n",
    "<font size = 4><span style = 'background-color: #ddddff; padding: 5px 5px 3px 5px; line-height: 1.5; color:black;border-radius: 3px;'>**The Data**"
   ]
  },
  {
   "cell_type": "code",
   "execution_count": 5,
   "id": "2dc6aa61-709d-43c2-8694-7488c35fa066",
   "metadata": {},
   "outputs": [
    {
     "name": "stdout",
     "output_type": "stream",
     "text": [
      "\n"
     ]
    },
    {
     "data": {
      "text/html": [
       "<span style = 'display: block; width: 250.0px; \t\t\t\t\t\tline-height: 2; background: #333333;\t\t\t\t\t\tmargin-left: auto; margin-right: auto;\t\t\t\t\t\tborder: 1px solid text_color;\t\t\t\t\t\tborder-radius: 3px; text-align: center;\t\t\t\t\t\tpadding: 3px 8px 3px 8px;'>\t\t\t\t\t\t<b><font size=4><text style=color:white>raw bitcoin data: head(3)\t\t\t\t\t\t</text></font></b></style>"
      ],
      "text/plain": [
       "<IPython.core.display.HTML object>"
      ]
     },
     "metadata": {},
     "output_type": "display_data"
    },
    {
     "data": {
      "text/html": [
       "<center><table border=\"1\" class=\"dataframe\">\n",
       "  <thead>\n",
       "    <tr style=\"text-align: right;\">\n",
       "      <th></th>\n",
       "      <th>open</th>\n",
       "      <th>high</th>\n",
       "      <th>low</th>\n",
       "      <th>close</th>\n",
       "      <th>adj close</th>\n",
       "      <th>volume</th>\n",
       "    </tr>\n",
       "    <tr>\n",
       "      <th>Datetime</th>\n",
       "      <th></th>\n",
       "      <th></th>\n",
       "      <th></th>\n",
       "      <th></th>\n",
       "      <th></th>\n",
       "      <th></th>\n",
       "    </tr>\n",
       "  </thead>\n",
       "  <tbody>\n",
       "    <tr>\n",
       "      <th>2022-12-25 00:00:00+00:00</th>\n",
       "      <td>16,847.51</td>\n",
       "      <td>16,847.51</td>\n",
       "      <td>16,847.51</td>\n",
       "      <td>16,847.51</td>\n",
       "      <td>16,847.51</td>\n",
       "      <td>0</td>\n",
       "    </tr>\n",
       "    <tr>\n",
       "      <th>2022-12-25 00:01:00+00:00</th>\n",
       "      <td>16,846.72</td>\n",
       "      <td>16,846.72</td>\n",
       "      <td>16,846.72</td>\n",
       "      <td>16,846.72</td>\n",
       "      <td>16,846.72</td>\n",
       "      <td>0</td>\n",
       "    </tr>\n",
       "    <tr>\n",
       "      <th>2022-12-25 00:02:00+00:00</th>\n",
       "      <td>16,846.70</td>\n",
       "      <td>16,846.70</td>\n",
       "      <td>16,846.70</td>\n",
       "      <td>16,846.70</td>\n",
       "      <td>16,846.70</td>\n",
       "      <td>0</td>\n",
       "    </tr>\n",
       "  </tbody>\n",
       "</table>"
      ],
      "text/plain": [
       "<IPython.core.display.HTML object>"
      ]
     },
     "metadata": {},
     "output_type": "display_data"
    },
    {
     "name": "stdout",
     "output_type": "stream",
     "text": [
      "\n"
     ]
    },
    {
     "data": {
      "text/html": [
       "<span style = 'display: block; width: 250.0px; \t\t\t\t\t\tline-height: 2; background: #333333;\t\t\t\t\t\tmargin-left: auto; margin-right: auto;\t\t\t\t\t\tborder: 1px solid text_color;\t\t\t\t\t\tborder-radius: 3px; text-align: center;\t\t\t\t\t\tpadding: 3px 8px 3px 8px;'>\t\t\t\t\t\t<b><font size=4><text style=color:white>raw bitcoin data: tail(3)\t\t\t\t\t\t</text></font></b></style>"
      ],
      "text/plain": [
       "<IPython.core.display.HTML object>"
      ]
     },
     "metadata": {},
     "output_type": "display_data"
    },
    {
     "data": {
      "text/html": [
       "<center><table border=\"1\" class=\"dataframe\">\n",
       "  <thead>\n",
       "    <tr style=\"text-align: right;\">\n",
       "      <th></th>\n",
       "      <th>open</th>\n",
       "      <th>high</th>\n",
       "      <th>low</th>\n",
       "      <th>close</th>\n",
       "      <th>adj close</th>\n",
       "      <th>volume</th>\n",
       "    </tr>\n",
       "    <tr>\n",
       "      <th>Datetime</th>\n",
       "      <th></th>\n",
       "      <th></th>\n",
       "      <th></th>\n",
       "      <th></th>\n",
       "      <th></th>\n",
       "      <th></th>\n",
       "    </tr>\n",
       "  </thead>\n",
       "  <tbody>\n",
       "    <tr>\n",
       "      <th>2023-01-21 23:56:00+00:00</th>\n",
       "      <td>22,780.84</td>\n",
       "      <td>22,780.84</td>\n",
       "      <td>22,780.84</td>\n",
       "      <td>22,780.84</td>\n",
       "      <td>22,780.84</td>\n",
       "      <td>0</td>\n",
       "    </tr>\n",
       "    <tr>\n",
       "      <th>2023-01-21 23:57:00+00:00</th>\n",
       "      <td>22,784.79</td>\n",
       "      <td>22,784.79</td>\n",
       "      <td>22,784.79</td>\n",
       "      <td>22,784.79</td>\n",
       "      <td>22,784.79</td>\n",
       "      <td>0</td>\n",
       "    </tr>\n",
       "    <tr>\n",
       "      <th>2023-01-21 23:58:00+00:00</th>\n",
       "      <td>22,777.93</td>\n",
       "      <td>22,777.93</td>\n",
       "      <td>22,777.93</td>\n",
       "      <td>22,777.93</td>\n",
       "      <td>22,777.93</td>\n",
       "      <td>10856448</td>\n",
       "    </tr>\n",
       "  </tbody>\n",
       "</table>"
      ],
      "text/plain": [
       "<IPython.core.display.HTML object>"
      ]
     },
     "metadata": {},
     "output_type": "display_data"
    },
    {
     "name": "stdout",
     "output_type": "stream",
     "text": [
      "\n"
     ]
    }
   ],
   "source": [
    "df = data.copy()\n",
    "df.columns = [x.lower() for x in df.columns]\n",
    "head_tail_vert(df, 3, 'raw bitcoin data', intraday=True)"
   ]
  },
  {
   "cell_type": "code",
   "execution_count": 6,
   "id": "d82fb65e-718f-4a21-a724-1746dbdd308c",
   "metadata": {},
   "outputs": [
    {
     "name": "stdout",
     "output_type": "stream",
     "text": [
      "<class 'pandas.core.frame.DataFrame'>\n",
      "DatetimeIndex: 40074 entries, 2022-12-25 00:00:00+00:00 to 2023-01-21 23:58:00+00:00\n",
      "Data columns (total 6 columns):\n",
      " #   Column     Non-Null Count  Dtype  \n",
      "---  ------     --------------  -----  \n",
      " 0   open       40074 non-null  float64\n",
      " 1   high       40074 non-null  float64\n",
      " 2   low        40074 non-null  float64\n",
      " 3   close      40074 non-null  float64\n",
      " 4   adj close  40074 non-null  float64\n",
      " 5   volume     40074 non-null  int64  \n",
      "dtypes: float64(5), int64(1)\n",
      "memory usage: 2.1 MB\n"
     ]
    }
   ],
   "source": [
    "df.info()"
   ]
  },
  {
   "cell_type": "code",
   "execution_count": 7,
   "id": "77512298-6519-4c9b-9dff-016dca30d807",
   "metadata": {},
   "outputs": [
    {
     "data": {
      "text/plain": [
       "(40074, 6)"
      ]
     },
     "execution_count": 7,
     "metadata": {},
     "output_type": "execute_result"
    }
   ],
   "source": [
    "df.shape"
   ]
  },
  {
   "cell_type": "markdown",
   "id": "5d9f3ef0-9138-4144-9f0a-fdcaa71b715b",
   "metadata": {},
   "source": [
    "<a name = 'change_column'></a>\n",
    "\n",
    "**SECTIONS: [Top](#top)  |  [Compile Stocks](#compile_stocks)  |  [The Data](#the_data)  |  [Add Change Column](#change_column)  |  [Feature Engineering](#feature_engineering)  |  [Splitting Data](#splitting)  |  [Creating Sequences](#sequences)  |  [Link](#link)  |  [Link](#link)  |** \n",
    "\n",
    "<font size = 4><span style = 'background-color: #ddddff; padding: 5px 5px 3px 5px; line-height: 1.5; color:black;border-radius: 3px;'>**Shift Method**\n",
    "* using `shift()` to add the previous timestamp value\n",
    "* then creating a difference column to show change since last\n",
    "* creating a function to do all this"
   ]
  },
  {
   "cell_type": "markdown",
   "id": "32549be4-a873-4e6f-8f8b-c1907ce90f61",
   "metadata": {
    "tags": []
   },
   "source": [
    "## **`add_change_column()`**"
   ]
  },
  {
   "cell_type": "code",
   "execution_count": 8,
   "id": "c11bc431-4ba2-4383-a872-2cfb06e8429e",
   "metadata": {},
   "outputs": [],
   "source": [
    "def add_change_column(df, column_changing, new_col_name):\n",
    "\tdf['previous'] = df[column_changing].shift()\n",
    "\tdf = df.drop(df.index[0])\n",
    "\tdf[new_col_name] = df[column_changing] - df.previous\n",
    "\tdf = df.drop(columns = ['previous'])\n",
    "\treturn df"
   ]
  },
  {
   "cell_type": "code",
   "execution_count": 9,
   "id": "f8705277-cb83-464c-afb3-0a76d0aed1e6",
   "metadata": {},
   "outputs": [],
   "source": [
    "df = add_change_column(df, 'close', 'change')"
   ]
  },
  {
   "cell_type": "code",
   "execution_count": 10,
   "id": "bc0eb874-3693-42f4-bf47-9677e4c1a900",
   "metadata": {},
   "outputs": [
    {
     "name": "stdout",
     "output_type": "stream",
     "text": [
      "\n"
     ]
    },
    {
     "data": {
      "text/html": [
       "<span style = 'display: block; width: 280.0px; \t\t\t\t\t\tline-height: 2; background: #333333;\t\t\t\t\t\tmargin-left: auto; margin-right: auto;\t\t\t\t\t\tborder: 1px solid text_color;\t\t\t\t\t\tborder-radius: 3px; text-align: center;\t\t\t\t\t\tpadding: 3px 8px 3px 8px;'>\t\t\t\t\t\t<b><font size=4><text style=color:white>Change column added: head(3)\t\t\t\t\t\t</text></font></b></style>"
      ],
      "text/plain": [
       "<IPython.core.display.HTML object>"
      ]
     },
     "metadata": {},
     "output_type": "display_data"
    },
    {
     "data": {
      "text/html": [
       "<center><table border=\"1\" class=\"dataframe\">\n",
       "  <thead>\n",
       "    <tr style=\"text-align: right;\">\n",
       "      <th></th>\n",
       "      <th>open</th>\n",
       "      <th>high</th>\n",
       "      <th>low</th>\n",
       "      <th>close</th>\n",
       "      <th>adj close</th>\n",
       "      <th>volume</th>\n",
       "      <th>change</th>\n",
       "    </tr>\n",
       "    <tr>\n",
       "      <th>Datetime</th>\n",
       "      <th></th>\n",
       "      <th></th>\n",
       "      <th></th>\n",
       "      <th></th>\n",
       "      <th></th>\n",
       "      <th></th>\n",
       "      <th></th>\n",
       "    </tr>\n",
       "  </thead>\n",
       "  <tbody>\n",
       "    <tr>\n",
       "      <th>2022-12-25 00:01:00+00:00</th>\n",
       "      <td>16,846.72</td>\n",
       "      <td>16,846.72</td>\n",
       "      <td>16,846.72</td>\n",
       "      <td>16,846.72</td>\n",
       "      <td>16,846.72</td>\n",
       "      <td>0</td>\n",
       "      <td>-0.79</td>\n",
       "    </tr>\n",
       "    <tr>\n",
       "      <th>2022-12-25 00:02:00+00:00</th>\n",
       "      <td>16,846.70</td>\n",
       "      <td>16,846.70</td>\n",
       "      <td>16,846.70</td>\n",
       "      <td>16,846.70</td>\n",
       "      <td>16,846.70</td>\n",
       "      <td>0</td>\n",
       "      <td>-0.02</td>\n",
       "    </tr>\n",
       "    <tr>\n",
       "      <th>2022-12-25 00:03:00+00:00</th>\n",
       "      <td>16,846.54</td>\n",
       "      <td>16,846.54</td>\n",
       "      <td>16,846.54</td>\n",
       "      <td>16,846.54</td>\n",
       "      <td>16,846.54</td>\n",
       "      <td>0</td>\n",
       "      <td>-0.17</td>\n",
       "    </tr>\n",
       "  </tbody>\n",
       "</table>"
      ],
      "text/plain": [
       "<IPython.core.display.HTML object>"
      ]
     },
     "metadata": {},
     "output_type": "display_data"
    },
    {
     "name": "stdout",
     "output_type": "stream",
     "text": [
      "\n"
     ]
    },
    {
     "data": {
      "text/html": [
       "<span style = 'display: block; width: 280.0px; \t\t\t\t\t\tline-height: 2; background: #333333;\t\t\t\t\t\tmargin-left: auto; margin-right: auto;\t\t\t\t\t\tborder: 1px solid text_color;\t\t\t\t\t\tborder-radius: 3px; text-align: center;\t\t\t\t\t\tpadding: 3px 8px 3px 8px;'>\t\t\t\t\t\t<b><font size=4><text style=color:white>Change column added: tail(3)\t\t\t\t\t\t</text></font></b></style>"
      ],
      "text/plain": [
       "<IPython.core.display.HTML object>"
      ]
     },
     "metadata": {},
     "output_type": "display_data"
    },
    {
     "data": {
      "text/html": [
       "<center><table border=\"1\" class=\"dataframe\">\n",
       "  <thead>\n",
       "    <tr style=\"text-align: right;\">\n",
       "      <th></th>\n",
       "      <th>open</th>\n",
       "      <th>high</th>\n",
       "      <th>low</th>\n",
       "      <th>close</th>\n",
       "      <th>adj close</th>\n",
       "      <th>volume</th>\n",
       "      <th>change</th>\n",
       "    </tr>\n",
       "    <tr>\n",
       "      <th>Datetime</th>\n",
       "      <th></th>\n",
       "      <th></th>\n",
       "      <th></th>\n",
       "      <th></th>\n",
       "      <th></th>\n",
       "      <th></th>\n",
       "      <th></th>\n",
       "    </tr>\n",
       "  </thead>\n",
       "  <tbody>\n",
       "    <tr>\n",
       "      <th>2023-01-21 23:56:00+00:00</th>\n",
       "      <td>22,780.84</td>\n",
       "      <td>22,780.84</td>\n",
       "      <td>22,780.84</td>\n",
       "      <td>22,780.84</td>\n",
       "      <td>22,780.84</td>\n",
       "      <td>0</td>\n",
       "      <td>3.23</td>\n",
       "    </tr>\n",
       "    <tr>\n",
       "      <th>2023-01-21 23:57:00+00:00</th>\n",
       "      <td>22,784.79</td>\n",
       "      <td>22,784.79</td>\n",
       "      <td>22,784.79</td>\n",
       "      <td>22,784.79</td>\n",
       "      <td>22,784.79</td>\n",
       "      <td>0</td>\n",
       "      <td>3.95</td>\n",
       "    </tr>\n",
       "    <tr>\n",
       "      <th>2023-01-21 23:58:00+00:00</th>\n",
       "      <td>22,777.93</td>\n",
       "      <td>22,777.93</td>\n",
       "      <td>22,777.93</td>\n",
       "      <td>22,777.93</td>\n",
       "      <td>22,777.93</td>\n",
       "      <td>10856448</td>\n",
       "      <td>-6.87</td>\n",
       "    </tr>\n",
       "  </tbody>\n",
       "</table>"
      ],
      "text/plain": [
       "<IPython.core.display.HTML object>"
      ]
     },
     "metadata": {},
     "output_type": "display_data"
    },
    {
     "name": "stdout",
     "output_type": "stream",
     "text": [
      "\n"
     ]
    }
   ],
   "source": [
    "head_tail_vert(df, 3, \"Change column added\", intraday=True)"
   ]
  },
  {
   "cell_type": "markdown",
   "id": "851ed967-8a86-471e-a4f8-7fc3bb4a15c2",
   "metadata": {},
   "source": [
    "<a name = 'feature_engineering'></a>\n",
    "\n",
    "**SECTIONS: [Top](#top)  |  [Compile Stocks](#compile_stocks)  |  [The Data](#the_data)  |  [Add Change Column](#change_column)  |  [Feature Engineering](#feature_engineering)  |  [Splitting Data](#splitting)  |  [Creating Sequences](#sequences)  |  [Link](#link)  |  [Link](#link)  |** \n",
    "\n",
    "<font size = 4><span style = 'background-color: #ddddff; padding: 5px 5px 3px 5px; line-height: 1.5; color:black;border-radius: 3px;'>**Feature Engineering**"
   ]
  },
  {
   "cell_type": "markdown",
   "id": "368c2c52-31f6-4897-8e5e-9370bfd3c24a",
   "metadata": {},
   "source": [
    "<font size = 4><b> The following is Valkov's (tutorial guide) method of adding these features, which loops through the entire dataframe. This makes no sense in Pandas. "
   ]
  },
  {
   "cell_type": "code",
   "execution_count": 11,
   "id": "ab7f8098-3179-46a4-b047-1106ea58c6e0",
   "metadata": {},
   "outputs": [],
   "source": [
    "def his_featurize(df):\n",
    "\trows = []\n",
    "\tdf['date'] = df.index\n",
    "\t\n",
    "\tfor item, row in df.iterrows():\n",
    "\t\trow_data = dict(\n",
    "\t\t\tweekday = row.date.dayofweek,\n",
    "\t\t\tmonth_day = row.date.day,\n",
    "\t\t\tyear_week = row.date.week,\n",
    "\t\t\tmonth = row.date.month,\n",
    "\t\t\topen = row.open,\n",
    "\t\t\thigh = row.high,\n",
    "\t\t\tlow = row.low,\n",
    "\t\t\tclose = row.close,\n",
    "\t\t\tchange = row.change)\n",
    "\n",
    "\t\trows.append(row_data)\n",
    "\t\t\n",
    "\tfeatures_df = pd.DataFrame(rows)\n",
    "\t\n",
    "\treturn features_df"
   ]
  },
  {
   "cell_type": "markdown",
   "id": "ebd3eaf6-8e79-49fb-b509-cd344ae9d67b",
   "metadata": {},
   "source": [
    "<font size = 4><b> This is my version. Much better."
   ]
  },
  {
   "cell_type": "markdown",
   "id": "442e4543-12b5-4e46-bb84-3bd42491184c",
   "metadata": {
    "tags": []
   },
   "source": [
    "## **`featurize_stocks()`**"
   ]
  },
  {
   "cell_type": "code",
   "execution_count": 12,
   "id": "8e5e20e5-3a05-412e-930c-71d8d3f7928c",
   "metadata": {},
   "outputs": [],
   "source": [
    "def featurize_stocks(df):\n",
    "\tdf['weekday'] = df.index.dayofweek\n",
    "\tdf['month_day'] = df.index.day\n",
    "\tdf['year_week'] = df.index.isocalendar().week\n",
    "\tdf['month'] = df.index.month\n",
    "\t\n",
    "\treturn df"
   ]
  },
  {
   "cell_type": "code",
   "execution_count": 13,
   "id": "50519399-a909-4e39-9f02-cecb3e7c0251",
   "metadata": {},
   "outputs": [
    {
     "name": "stdout",
     "output_type": "stream",
     "text": [
      "CPU times: user 2.21 s, sys: 18.8 ms, total: 2.23 s\n",
      "Wall time: 2.23 s\n"
     ]
    }
   ],
   "source": [
    "%%time\n",
    "test = his_featurize(df.copy())"
   ]
  },
  {
   "cell_type": "code",
   "execution_count": 14,
   "id": "2193b517-df04-417b-888c-5c5524208ae8",
   "metadata": {},
   "outputs": [
    {
     "name": "stdout",
     "output_type": "stream",
     "text": [
      "CPU times: user 14.7 ms, sys: 1.18 ms, total: 15.9 ms\n",
      "Wall time: 16.4 ms\n"
     ]
    }
   ],
   "source": [
    "%%time\n",
    "df = featurize_stocks(df)"
   ]
  },
  {
   "cell_type": "code",
   "execution_count": 15,
   "id": "bf56e17e-8d57-48da-969d-c22f22f295d3",
   "metadata": {},
   "outputs": [
    {
     "name": "stdout",
     "output_type": "stream",
     "text": [
      "\n"
     ]
    },
    {
     "data": {
      "text/html": [
       "<span style = 'display: block; width: 310.0px; \t\t\t\t\t\tline-height: 2; background: #333333;\t\t\t\t\t\tmargin-left: auto; margin-right: auto;\t\t\t\t\t\tborder: 1px solid text_color;\t\t\t\t\t\tborder-radius: 3px; text-align: center;\t\t\t\t\t\tpadding: 3px 8px 3px 8px;'>\t\t\t\t\t\t<b><font size=4><text style=color:white>df with added features: head(3)\t\t\t\t\t\t</text></font></b></style>"
      ],
      "text/plain": [
       "<IPython.core.display.HTML object>"
      ]
     },
     "metadata": {},
     "output_type": "display_data"
    },
    {
     "data": {
      "text/html": [
       "<center><table border=\"1\" class=\"dataframe\">\n",
       "  <thead>\n",
       "    <tr style=\"text-align: right;\">\n",
       "      <th></th>\n",
       "      <th>open</th>\n",
       "      <th>high</th>\n",
       "      <th>low</th>\n",
       "      <th>close</th>\n",
       "      <th>adj close</th>\n",
       "      <th>volume</th>\n",
       "      <th>change</th>\n",
       "      <th>weekday</th>\n",
       "      <th>month_day</th>\n",
       "      <th>year_week</th>\n",
       "      <th>month</th>\n",
       "    </tr>\n",
       "    <tr>\n",
       "      <th>Datetime</th>\n",
       "      <th></th>\n",
       "      <th></th>\n",
       "      <th></th>\n",
       "      <th></th>\n",
       "      <th></th>\n",
       "      <th></th>\n",
       "      <th></th>\n",
       "      <th></th>\n",
       "      <th></th>\n",
       "      <th></th>\n",
       "      <th></th>\n",
       "    </tr>\n",
       "  </thead>\n",
       "  <tbody>\n",
       "    <tr>\n",
       "      <th>2022-12-25</th>\n",
       "      <td>16,846.72</td>\n",
       "      <td>16,846.72</td>\n",
       "      <td>16,846.72</td>\n",
       "      <td>16,846.72</td>\n",
       "      <td>16,846.72</td>\n",
       "      <td>0</td>\n",
       "      <td>-0.79</td>\n",
       "      <td>6</td>\n",
       "      <td>25</td>\n",
       "      <td>51</td>\n",
       "      <td>12</td>\n",
       "    </tr>\n",
       "    <tr>\n",
       "      <th>2022-12-25</th>\n",
       "      <td>16,846.70</td>\n",
       "      <td>16,846.70</td>\n",
       "      <td>16,846.70</td>\n",
       "      <td>16,846.70</td>\n",
       "      <td>16,846.70</td>\n",
       "      <td>0</td>\n",
       "      <td>-0.02</td>\n",
       "      <td>6</td>\n",
       "      <td>25</td>\n",
       "      <td>51</td>\n",
       "      <td>12</td>\n",
       "    </tr>\n",
       "    <tr>\n",
       "      <th>2022-12-25</th>\n",
       "      <td>16,846.54</td>\n",
       "      <td>16,846.54</td>\n",
       "      <td>16,846.54</td>\n",
       "      <td>16,846.54</td>\n",
       "      <td>16,846.54</td>\n",
       "      <td>0</td>\n",
       "      <td>-0.17</td>\n",
       "      <td>6</td>\n",
       "      <td>25</td>\n",
       "      <td>51</td>\n",
       "      <td>12</td>\n",
       "    </tr>\n",
       "  </tbody>\n",
       "</table>"
      ],
      "text/plain": [
       "<IPython.core.display.HTML object>"
      ]
     },
     "metadata": {},
     "output_type": "display_data"
    },
    {
     "name": "stdout",
     "output_type": "stream",
     "text": [
      "\n"
     ]
    },
    {
     "data": {
      "text/html": [
       "<span style = 'display: block; width: 310.0px; \t\t\t\t\t\tline-height: 2; background: #333333;\t\t\t\t\t\tmargin-left: auto; margin-right: auto;\t\t\t\t\t\tborder: 1px solid text_color;\t\t\t\t\t\tborder-radius: 3px; text-align: center;\t\t\t\t\t\tpadding: 3px 8px 3px 8px;'>\t\t\t\t\t\t<b><font size=4><text style=color:white>df with added features: tail(3)\t\t\t\t\t\t</text></font></b></style>"
      ],
      "text/plain": [
       "<IPython.core.display.HTML object>"
      ]
     },
     "metadata": {},
     "output_type": "display_data"
    },
    {
     "data": {
      "text/html": [
       "<center><table border=\"1\" class=\"dataframe\">\n",
       "  <thead>\n",
       "    <tr style=\"text-align: right;\">\n",
       "      <th></th>\n",
       "      <th>open</th>\n",
       "      <th>high</th>\n",
       "      <th>low</th>\n",
       "      <th>close</th>\n",
       "      <th>adj close</th>\n",
       "      <th>volume</th>\n",
       "      <th>change</th>\n",
       "      <th>weekday</th>\n",
       "      <th>month_day</th>\n",
       "      <th>year_week</th>\n",
       "      <th>month</th>\n",
       "    </tr>\n",
       "    <tr>\n",
       "      <th>Datetime</th>\n",
       "      <th></th>\n",
       "      <th></th>\n",
       "      <th></th>\n",
       "      <th></th>\n",
       "      <th></th>\n",
       "      <th></th>\n",
       "      <th></th>\n",
       "      <th></th>\n",
       "      <th></th>\n",
       "      <th></th>\n",
       "      <th></th>\n",
       "    </tr>\n",
       "  </thead>\n",
       "  <tbody>\n",
       "    <tr>\n",
       "      <th>2023-01-21</th>\n",
       "      <td>22,780.84</td>\n",
       "      <td>22,780.84</td>\n",
       "      <td>22,780.84</td>\n",
       "      <td>22,780.84</td>\n",
       "      <td>22,780.84</td>\n",
       "      <td>0</td>\n",
       "      <td>3.23</td>\n",
       "      <td>5</td>\n",
       "      <td>21</td>\n",
       "      <td>3</td>\n",
       "      <td>1</td>\n",
       "    </tr>\n",
       "    <tr>\n",
       "      <th>2023-01-21</th>\n",
       "      <td>22,784.79</td>\n",
       "      <td>22,784.79</td>\n",
       "      <td>22,784.79</td>\n",
       "      <td>22,784.79</td>\n",
       "      <td>22,784.79</td>\n",
       "      <td>0</td>\n",
       "      <td>3.95</td>\n",
       "      <td>5</td>\n",
       "      <td>21</td>\n",
       "      <td>3</td>\n",
       "      <td>1</td>\n",
       "    </tr>\n",
       "    <tr>\n",
       "      <th>2023-01-21</th>\n",
       "      <td>22,777.93</td>\n",
       "      <td>22,777.93</td>\n",
       "      <td>22,777.93</td>\n",
       "      <td>22,777.93</td>\n",
       "      <td>22,777.93</td>\n",
       "      <td>10856448</td>\n",
       "      <td>-6.87</td>\n",
       "      <td>5</td>\n",
       "      <td>21</td>\n",
       "      <td>3</td>\n",
       "      <td>1</td>\n",
       "    </tr>\n",
       "  </tbody>\n",
       "</table>"
      ],
      "text/plain": [
       "<IPython.core.display.HTML object>"
      ]
     },
     "metadata": {},
     "output_type": "display_data"
    },
    {
     "name": "stdout",
     "output_type": "stream",
     "text": [
      "\n"
     ]
    }
   ],
   "source": [
    "head_tail_vert(df, 3, 'df with added features')"
   ]
  },
  {
   "cell_type": "code",
   "execution_count": 16,
   "id": "09a5ae31-17db-46e1-b69f-a9b4463911f1",
   "metadata": {},
   "outputs": [
    {
     "data": {
      "text/html": [
       "<center><style type=\"text/css\">\n",
       "#T_d1b9a caption {\n",
       "  background: #333333;\n",
       "  border-radius: 3px;\n",
       "  padding: 5px;\n",
       "  color: white;\n",
       "  font-size: 15px;\n",
       "  font-weight: bold;\n",
       "}\n",
       "</style>\n",
       "<table id=\"T_d1b9a\" style='display:inline-block'>\n",
       "  <caption>df.close</caption>\n",
       "  <thead>\n",
       "    <tr>\n",
       "      <th class=\"blank level0\" >&nbsp;</th>\n",
       "      <th id=\"T_d1b9a_level0_col0\" class=\"col_heading level0 col0\" >close</th>\n",
       "    </tr>\n",
       "  </thead>\n",
       "  <tbody>\n",
       "    <tr>\n",
       "      <th id=\"T_d1b9a_level0_row0\" class=\"row_heading level0 row0\" >count</th>\n",
       "      <td id=\"T_d1b9a_row0_col0\" class=\"data row0 col0\" >40,073.00</td>\n",
       "    </tr>\n",
       "    <tr>\n",
       "      <th id=\"T_d1b9a_level0_row1\" class=\"row_heading level0 row1\" >mean</th>\n",
       "      <td id=\"T_d1b9a_row1_col0\" class=\"data row1 col0\" >18,235.33</td>\n",
       "    </tr>\n",
       "    <tr>\n",
       "      <th id=\"T_d1b9a_level0_row2\" class=\"row_heading level0 row2\" >std</th>\n",
       "      <td id=\"T_d1b9a_row2_col0\" class=\"data row2 col0\" >2,011.31</td>\n",
       "    </tr>\n",
       "    <tr>\n",
       "      <th id=\"T_d1b9a_level0_row3\" class=\"row_heading level0 row3\" >min</th>\n",
       "      <td id=\"T_d1b9a_row3_col0\" class=\"data row3 col0\" >16,408.47</td>\n",
       "    </tr>\n",
       "    <tr>\n",
       "      <th id=\"T_d1b9a_level0_row4\" class=\"row_heading level0 row4\" >25%</th>\n",
       "      <td id=\"T_d1b9a_row4_col0\" class=\"data row4 col0\" >16,735.81</td>\n",
       "    </tr>\n",
       "    <tr>\n",
       "      <th id=\"T_d1b9a_level0_row5\" class=\"row_heading level0 row5\" >50%</th>\n",
       "      <td id=\"T_d1b9a_row5_col0\" class=\"data row5 col0\" >16,944.59</td>\n",
       "    </tr>\n",
       "    <tr>\n",
       "      <th id=\"T_d1b9a_level0_row6\" class=\"row_heading level0 row6\" >75%</th>\n",
       "      <td id=\"T_d1b9a_row6_col0\" class=\"data row6 col0\" >20,756.78</td>\n",
       "    </tr>\n",
       "    <tr>\n",
       "      <th id=\"T_d1b9a_level0_row7\" class=\"row_heading level0 row7\" >max</th>\n",
       "      <td id=\"T_d1b9a_row7_col0\" class=\"data row7 col0\" >23,282.35</td>\n",
       "    </tr>\n",
       "  </tbody>\n",
       "</table>\n",
       "&nbsp;&nbsp;&nbsp;<style type=\"text/css\">\n",
       "#T_25b8c caption {\n",
       "  background: #333333;\n",
       "  border-radius: 3px;\n",
       "  padding: 5px;\n",
       "  color: white;\n",
       "  font-size: 15px;\n",
       "  font-weight: bold;\n",
       "}\n",
       "</style>\n",
       "<table id=\"T_25b8c\" style='display:inline-block'>\n",
       "  <caption>df.volume</caption>\n",
       "  <thead>\n",
       "    <tr>\n",
       "      <th class=\"blank level0\" >&nbsp;</th>\n",
       "      <th id=\"T_25b8c_level0_col0\" class=\"col_heading level0 col0\" >volume</th>\n",
       "    </tr>\n",
       "  </thead>\n",
       "  <tbody>\n",
       "    <tr>\n",
       "      <th id=\"T_25b8c_level0_row0\" class=\"row_heading level0 row0\" >count</th>\n",
       "      <td id=\"T_25b8c_row0_col0\" class=\"data row0 col0\" >40,073.00</td>\n",
       "    </tr>\n",
       "    <tr>\n",
       "      <th id=\"T_25b8c_level0_row1\" class=\"row_heading level0 row1\" >mean</th>\n",
       "      <td id=\"T_25b8c_row1_col0\" class=\"data row1 col0\" >5,432,733.62</td>\n",
       "    </tr>\n",
       "    <tr>\n",
       "      <th id=\"T_25b8c_level0_row2\" class=\"row_heading level0 row2\" >std</th>\n",
       "      <td id=\"T_25b8c_row2_col0\" class=\"data row2 col0\" >18,446,179.20</td>\n",
       "    </tr>\n",
       "    <tr>\n",
       "      <th id=\"T_25b8c_level0_row3\" class=\"row_heading level0 row3\" >min</th>\n",
       "      <td id=\"T_25b8c_row3_col0\" class=\"data row3 col0\" >0.00</td>\n",
       "    </tr>\n",
       "    <tr>\n",
       "      <th id=\"T_25b8c_level0_row4\" class=\"row_heading level0 row4\" >25%</th>\n",
       "      <td id=\"T_25b8c_row4_col0\" class=\"data row4 col0\" >0.00</td>\n",
       "    </tr>\n",
       "    <tr>\n",
       "      <th id=\"T_25b8c_level0_row5\" class=\"row_heading level0 row5\" >50%</th>\n",
       "      <td id=\"T_25b8c_row5_col0\" class=\"data row5 col0\" >501,760.00</td>\n",
       "    </tr>\n",
       "    <tr>\n",
       "      <th id=\"T_25b8c_level0_row6\" class=\"row_heading level0 row6\" >75%</th>\n",
       "      <td id=\"T_25b8c_row6_col0\" class=\"data row6 col0\" >4,270,080.00</td>\n",
       "    </tr>\n",
       "    <tr>\n",
       "      <th id=\"T_25b8c_level0_row7\" class=\"row_heading level0 row7\" >max</th>\n",
       "      <td id=\"T_25b8c_row7_col0\" class=\"data row7 col0\" >640,858,112.00</td>\n",
       "    </tr>\n",
       "  </tbody>\n",
       "</table>\n",
       "&nbsp;&nbsp;&nbsp;<style type=\"text/css\">\n",
       "#T_1d529 caption {\n",
       "  background: #333333;\n",
       "  border-radius: 3px;\n",
       "  padding: 5px;\n",
       "  color: white;\n",
       "  font-size: 15px;\n",
       "  font-weight: bold;\n",
       "}\n",
       "</style>\n",
       "<table id=\"T_1d529\" style='display:inline-block'>\n",
       "  <caption>df.change</caption>\n",
       "  <thead>\n",
       "    <tr>\n",
       "      <th class=\"blank level0\" >&nbsp;</th>\n",
       "      <th id=\"T_1d529_level0_col0\" class=\"col_heading level0 col0\" >change</th>\n",
       "    </tr>\n",
       "  </thead>\n",
       "  <tbody>\n",
       "    <tr>\n",
       "      <th id=\"T_1d529_level0_row0\" class=\"row_heading level0 row0\" >count</th>\n",
       "      <td id=\"T_1d529_row0_col0\" class=\"data row0 col0\" >40,073.00</td>\n",
       "    </tr>\n",
       "    <tr>\n",
       "      <th id=\"T_1d529_level0_row1\" class=\"row_heading level0 row1\" >mean</th>\n",
       "      <td id=\"T_1d529_row1_col0\" class=\"data row1 col0\" >0.15</td>\n",
       "    </tr>\n",
       "    <tr>\n",
       "      <th id=\"T_1d529_level0_row2\" class=\"row_heading level0 row2\" >std</th>\n",
       "      <td id=\"T_1d529_row2_col0\" class=\"data row2 col0\" >6.17</td>\n",
       "    </tr>\n",
       "    <tr>\n",
       "      <th id=\"T_1d529_level0_row3\" class=\"row_heading level0 row3\" >min</th>\n",
       "      <td id=\"T_1d529_row3_col0\" class=\"data row3 col0\" >-233.53</td>\n",
       "    </tr>\n",
       "    <tr>\n",
       "      <th id=\"T_1d529_level0_row4\" class=\"row_heading level0 row4\" >25%</th>\n",
       "      <td id=\"T_1d529_row4_col0\" class=\"data row4 col0\" >-1.14</td>\n",
       "    </tr>\n",
       "    <tr>\n",
       "      <th id=\"T_1d529_level0_row5\" class=\"row_heading level0 row5\" >50%</th>\n",
       "      <td id=\"T_1d529_row5_col0\" class=\"data row5 col0\" >0.04</td>\n",
       "    </tr>\n",
       "    <tr>\n",
       "      <th id=\"T_1d529_level0_row6\" class=\"row_heading level0 row6\" >75%</th>\n",
       "      <td id=\"T_1d529_row6_col0\" class=\"data row6 col0\" >1.33</td>\n",
       "    </tr>\n",
       "    <tr>\n",
       "      <th id=\"T_1d529_level0_row7\" class=\"row_heading level0 row7\" >max</th>\n",
       "      <td id=\"T_1d529_row7_col0\" class=\"data row7 col0\" >251.79</td>\n",
       "    </tr>\n",
       "  </tbody>\n",
       "</table>\n",
       "&nbsp;&nbsp;&nbsp;"
      ]
     },
     "metadata": {},
     "output_type": "display_data"
    },
    {
     "name": "stdout",
     "output_type": "stream",
     "text": [
      "\n"
     ]
    }
   ],
   "source": [
    "describe_em(df, ['close', 'volume', 'change'])"
   ]
  },
  {
   "cell_type": "code",
   "execution_count": 17,
   "id": "cc67b7a7-7041-4461-9d80-8e01d52999f9",
   "metadata": {},
   "outputs": [
    {
     "data": {
      "text/plain": [
       "(40073, 11)"
      ]
     },
     "execution_count": 17,
     "metadata": {},
     "output_type": "execute_result"
    }
   ],
   "source": [
    "df.shape"
   ]
  },
  {
   "cell_type": "markdown",
   "id": "bddb92c3-c867-4d1b-8e8a-aee894b7836a",
   "metadata": {},
   "source": [
    "<a name = 'splitting'></a>\n",
    "\n",
    "**SECTIONS: [Top](#top)  |  [Compile Stocks](#compile_stocks)  |  [The Data](#the_data)  |  [Add Change Column](#change_column)  |  [Feature Engineering](#feature_engineering)  |  [Splitting & Scaling](#splitting)  |  [Creating Sequences](#sequences)  |  [Link](#link)  |  [Link](#link)  |** \n",
    "\n",
    "<font size = 4><span style = 'background-color: #ddddff; padding: 5px 5px 3px 5px; line-height: 1.5; color:black;border-radius: 3px;'>**Splitting & Scaling the Data**"
   ]
  },
  {
   "cell_type": "code",
   "execution_count": 18,
   "id": "93b2d601-3e4e-4129-8c05-2f6f5ff85a1f",
   "metadata": {},
   "outputs": [
    {
     "data": {
      "text/html": [
       "<span style = 'line-height: 2;                                 background: #444444; width: None;                                 border: 1px solid text_color;                                border-radius: 0px; text-align: center;                                padding: 5px;'>                                <b><font size=3><text style=color:white>number of training inputs: 32,058.                                </text></font></b></style>"
      ],
      "text/plain": [
       "<IPython.core.display.HTML object>"
      ]
     },
     "metadata": {},
     "output_type": "display_data"
    },
    {
     "data": {
      "text/html": [
       "<span style = 'line-height: 2;                                 background: #444444; width: None;                                 border: 1px solid text_color;                                border-radius: 0px; text-align: center;                                padding: 5px;'>                                <b><font size=3><text style=color:white>number of testing inputs: 8,014.                                </text></font></b></style>"
      ],
      "text/plain": [
       "<IPython.core.display.HTML object>"
      ]
     },
     "metadata": {},
     "output_type": "display_data"
    }
   ],
   "source": [
    "train_size = int(len(df) * .8)\n",
    "pretty(f'number of training inputs: {train_size:,}.')\n",
    "test_size = int(len(df) * .2)\n",
    "pretty(f'number of testing inputs: {test_size:,}.')"
   ]
  },
  {
   "cell_type": "code",
   "execution_count": 19,
   "id": "7e9d3c1a-b927-4f8f-9025-fab7301ca490",
   "metadata": {},
   "outputs": [],
   "source": [
    "train_df, test_df = df[:train_size], df[train_size + 1:]"
   ]
  },
  {
   "cell_type": "code",
   "execution_count": 20,
   "id": "007ab405-407e-4bd2-8766-3a40e2dcb348",
   "metadata": {},
   "outputs": [
    {
     "data": {
      "text/html": [
       "<span style = 'line-height: 2;                                 background: #444444; width: None;                                 border: 1px solid text_color;                                border-radius: 0px; text-align: center;                                padding: 5px;'>                                <b><font size=3><text style=color:white>train_df.shape: (32058, 11)  |  test_df.shape: (8014, 11)                                </text></font></b></style>"
      ],
      "text/plain": [
       "<IPython.core.display.HTML object>"
      ]
     },
     "metadata": {},
     "output_type": "display_data"
    }
   ],
   "source": [
    "pretty(f'train_df.shape: {train_df.shape}  |  test_df.shape: {test_df.shape}')"
   ]
  },
  {
   "cell_type": "markdown",
   "id": "09508a9b-fb18-42a8-aa3f-09d1387d5704",
   "metadata": {},
   "source": [
    "<font size = 4><span style = 'background-color: #ddddff; padding: 5px 5px 3px 5px; line-height: 1.5; color:black;border-radius: 3px;'>**Scaling the data**"
   ]
  },
  {
   "cell_type": "code",
   "execution_count": 21,
   "id": "da5238ca-80fd-449c-a3a6-d052a5e45d05",
   "metadata": {},
   "outputs": [],
   "source": [
    "scaler = MinMaxScaler(feature_range = (-1, 1))\n",
    "scaler = scaler.fit(train_df)"
   ]
  },
  {
   "cell_type": "code",
   "execution_count": 22,
   "id": "c7cbe925-8513-402c-a5df-90724ca7aaa2",
   "metadata": {},
   "outputs": [],
   "source": [
    "train_df = pd.DataFrame(scaler.transform(train_df), \n",
    "\t\t\t\t\t\t\t\t\t\t  index = train_df.index, \n",
    "\t\t\t\t\t\t\t\t\t\t  columns = train_df.columns)\n",
    "\n",
    "test_df = pd.DataFrame(scaler.transform(test_df), \n",
    "\t\t\t\t\t\t\t\t\t\t index = test_df.index, \n",
    "\t\t\t\t\t\t\t\t\t\t columns = test_df.columns)"
   ]
  },
  {
   "cell_type": "markdown",
   "id": "8e031965-8071-407f-a3f9-965bf03b7955",
   "metadata": {},
   "source": [
    "<font size = 4><span style = 'background-color: #ddddff; padding: 5px 5px 3px 5px; line-height: 1.5; color:black;border-radius: 3px;'>**Viewing the scaled data**"
   ]
  },
  {
   "cell_type": "code",
   "execution_count": 23,
   "id": "2a678757-a77c-491f-a502-77ca05632295",
   "metadata": {},
   "outputs": [
    {
     "data": {
      "text/html": [
       "<center><style type=\"text/css\">\n",
       "#T_aeabc caption {\n",
       "  background: #333333;\n",
       "  border-radius: 3px;\n",
       "  padding: 5px;\n",
       "  color: white;\n",
       "  font-size: 15px;\n",
       "  font-weight: bold;\n",
       "}\n",
       "</style>\n",
       "<table id=\"T_aeabc\" style='display:inline-block'>\n",
       "  <caption>train_df.head(5)</caption>\n",
       "  <thead>\n",
       "    <tr>\n",
       "      <th class=\"blank level0\" >&nbsp;</th>\n",
       "      <th id=\"T_aeabc_level0_col0\" class=\"col_heading level0 col0\" >open</th>\n",
       "      <th id=\"T_aeabc_level0_col1\" class=\"col_heading level0 col1\" >high</th>\n",
       "      <th id=\"T_aeabc_level0_col2\" class=\"col_heading level0 col2\" >low</th>\n",
       "      <th id=\"T_aeabc_level0_col3\" class=\"col_heading level0 col3\" >close</th>\n",
       "      <th id=\"T_aeabc_level0_col4\" class=\"col_heading level0 col4\" >adj close</th>\n",
       "      <th id=\"T_aeabc_level0_col5\" class=\"col_heading level0 col5\" >volume</th>\n",
       "      <th id=\"T_aeabc_level0_col6\" class=\"col_heading level0 col6\" >change</th>\n",
       "      <th id=\"T_aeabc_level0_col7\" class=\"col_heading level0 col7\" >weekday</th>\n",
       "      <th id=\"T_aeabc_level0_col8\" class=\"col_heading level0 col8\" >month_day</th>\n",
       "      <th id=\"T_aeabc_level0_col9\" class=\"col_heading level0 col9\" >year_week</th>\n",
       "      <th id=\"T_aeabc_level0_col10\" class=\"col_heading level0 col10\" >month</th>\n",
       "    </tr>\n",
       "    <tr>\n",
       "      <th class=\"index_name level0\" >Datetime</th>\n",
       "      <th class=\"blank col0\" >&nbsp;</th>\n",
       "      <th class=\"blank col1\" >&nbsp;</th>\n",
       "      <th class=\"blank col2\" >&nbsp;</th>\n",
       "      <th class=\"blank col3\" >&nbsp;</th>\n",
       "      <th class=\"blank col4\" >&nbsp;</th>\n",
       "      <th class=\"blank col5\" >&nbsp;</th>\n",
       "      <th class=\"blank col6\" >&nbsp;</th>\n",
       "      <th class=\"blank col7\" >&nbsp;</th>\n",
       "      <th class=\"blank col8\" >&nbsp;</th>\n",
       "      <th class=\"blank col9\" >&nbsp;</th>\n",
       "      <th class=\"blank col10\" >&nbsp;</th>\n",
       "    </tr>\n",
       "  </thead>\n",
       "  <tbody>\n",
       "    <tr>\n",
       "      <th id=\"T_aeabc_level0_row0\" class=\"row_heading level0 row0\" >2022-12-25 00:01:00+00:00</th>\n",
       "      <td id=\"T_aeabc_row0_col0\" class=\"data row0 col0\" >-0.82</td>\n",
       "      <td id=\"T_aeabc_row0_col1\" class=\"data row0 col1\" >-0.82</td>\n",
       "      <td id=\"T_aeabc_row0_col2\" class=\"data row0 col2\" >-0.82</td>\n",
       "      <td id=\"T_aeabc_row0_col3\" class=\"data row0 col3\" >-0.82</td>\n",
       "      <td id=\"T_aeabc_row0_col4\" class=\"data row0 col4\" >-0.82</td>\n",
       "      <td id=\"T_aeabc_row0_col5\" class=\"data row0 col5\" >-1.00</td>\n",
       "      <td id=\"T_aeabc_row0_col6\" class=\"data row0 col6\" >-0.22</td>\n",
       "      <td id=\"T_aeabc_row0_col7\" class=\"data row0 col7\" >1.00</td>\n",
       "      <td id=\"T_aeabc_row0_col8\" class=\"data row0 col8\" >0.60</td>\n",
       "      <td id=\"T_aeabc_row0_col9\" class=\"data row0 col9\" >0.96</td>\n",
       "      <td id=\"T_aeabc_row0_col10\" class=\"data row0 col10\" >1.00</td>\n",
       "    </tr>\n",
       "    <tr>\n",
       "      <th id=\"T_aeabc_level0_row1\" class=\"row_heading level0 row1\" >2022-12-25 00:02:00+00:00</th>\n",
       "      <td id=\"T_aeabc_row1_col0\" class=\"data row1 col0\" >-0.82</td>\n",
       "      <td id=\"T_aeabc_row1_col1\" class=\"data row1 col1\" >-0.82</td>\n",
       "      <td id=\"T_aeabc_row1_col2\" class=\"data row1 col2\" >-0.82</td>\n",
       "      <td id=\"T_aeabc_row1_col3\" class=\"data row1 col3\" >-0.82</td>\n",
       "      <td id=\"T_aeabc_row1_col4\" class=\"data row1 col4\" >-0.82</td>\n",
       "      <td id=\"T_aeabc_row1_col5\" class=\"data row1 col5\" >-1.00</td>\n",
       "      <td id=\"T_aeabc_row1_col6\" class=\"data row1 col6\" >-0.22</td>\n",
       "      <td id=\"T_aeabc_row1_col7\" class=\"data row1 col7\" >1.00</td>\n",
       "      <td id=\"T_aeabc_row1_col8\" class=\"data row1 col8\" >0.60</td>\n",
       "      <td id=\"T_aeabc_row1_col9\" class=\"data row1 col9\" >0.96</td>\n",
       "      <td id=\"T_aeabc_row1_col10\" class=\"data row1 col10\" >1.00</td>\n",
       "    </tr>\n",
       "    <tr>\n",
       "      <th id=\"T_aeabc_level0_row2\" class=\"row_heading level0 row2\" >2022-12-25 00:03:00+00:00</th>\n",
       "      <td id=\"T_aeabc_row2_col0\" class=\"data row2 col0\" >-0.82</td>\n",
       "      <td id=\"T_aeabc_row2_col1\" class=\"data row2 col1\" >-0.82</td>\n",
       "      <td id=\"T_aeabc_row2_col2\" class=\"data row2 col2\" >-0.82</td>\n",
       "      <td id=\"T_aeabc_row2_col3\" class=\"data row2 col3\" >-0.82</td>\n",
       "      <td id=\"T_aeabc_row2_col4\" class=\"data row2 col4\" >-0.82</td>\n",
       "      <td id=\"T_aeabc_row2_col5\" class=\"data row2 col5\" >-1.00</td>\n",
       "      <td id=\"T_aeabc_row2_col6\" class=\"data row2 col6\" >-0.22</td>\n",
       "      <td id=\"T_aeabc_row2_col7\" class=\"data row2 col7\" >1.00</td>\n",
       "      <td id=\"T_aeabc_row2_col8\" class=\"data row2 col8\" >0.60</td>\n",
       "      <td id=\"T_aeabc_row2_col9\" class=\"data row2 col9\" >0.96</td>\n",
       "      <td id=\"T_aeabc_row2_col10\" class=\"data row2 col10\" >1.00</td>\n",
       "    </tr>\n",
       "    <tr>\n",
       "      <th id=\"T_aeabc_level0_row3\" class=\"row_heading level0 row3\" >2022-12-25 00:04:00+00:00</th>\n",
       "      <td id=\"T_aeabc_row3_col0\" class=\"data row3 col0\" >-0.82</td>\n",
       "      <td id=\"T_aeabc_row3_col1\" class=\"data row3 col1\" >-0.82</td>\n",
       "      <td id=\"T_aeabc_row3_col2\" class=\"data row3 col2\" >-0.82</td>\n",
       "      <td id=\"T_aeabc_row3_col3\" class=\"data row3 col3\" >-0.82</td>\n",
       "      <td id=\"T_aeabc_row3_col4\" class=\"data row3 col4\" >-0.82</td>\n",
       "      <td id=\"T_aeabc_row3_col5\" class=\"data row3 col5\" >-1.00</td>\n",
       "      <td id=\"T_aeabc_row3_col6\" class=\"data row3 col6\" >-0.22</td>\n",
       "      <td id=\"T_aeabc_row3_col7\" class=\"data row3 col7\" >1.00</td>\n",
       "      <td id=\"T_aeabc_row3_col8\" class=\"data row3 col8\" >0.60</td>\n",
       "      <td id=\"T_aeabc_row3_col9\" class=\"data row3 col9\" >0.96</td>\n",
       "      <td id=\"T_aeabc_row3_col10\" class=\"data row3 col10\" >1.00</td>\n",
       "    </tr>\n",
       "    <tr>\n",
       "      <th id=\"T_aeabc_level0_row4\" class=\"row_heading level0 row4\" >2022-12-25 00:05:00+00:00</th>\n",
       "      <td id=\"T_aeabc_row4_col0\" class=\"data row4 col0\" >-0.82</td>\n",
       "      <td id=\"T_aeabc_row4_col1\" class=\"data row4 col1\" >-0.82</td>\n",
       "      <td id=\"T_aeabc_row4_col2\" class=\"data row4 col2\" >-0.82</td>\n",
       "      <td id=\"T_aeabc_row4_col3\" class=\"data row4 col3\" >-0.82</td>\n",
       "      <td id=\"T_aeabc_row4_col4\" class=\"data row4 col4\" >-0.82</td>\n",
       "      <td id=\"T_aeabc_row4_col5\" class=\"data row4 col5\" >-1.00</td>\n",
       "      <td id=\"T_aeabc_row4_col6\" class=\"data row4 col6\" >-0.22</td>\n",
       "      <td id=\"T_aeabc_row4_col7\" class=\"data row4 col7\" >1.00</td>\n",
       "      <td id=\"T_aeabc_row4_col8\" class=\"data row4 col8\" >0.60</td>\n",
       "      <td id=\"T_aeabc_row4_col9\" class=\"data row4 col9\" >0.96</td>\n",
       "      <td id=\"T_aeabc_row4_col10\" class=\"data row4 col10\" >1.00</td>\n",
       "    </tr>\n",
       "  </tbody>\n",
       "</table>\n",
       "&nbsp;&nbsp;&nbsp;<style type=\"text/css\">\n",
       "#T_85f7a caption {\n",
       "  background: #333333;\n",
       "  border-radius: 3px;\n",
       "  padding: 5px;\n",
       "  color: white;\n",
       "  font-size: 15px;\n",
       "  font-weight: bold;\n",
       "}\n",
       "</style>\n",
       "<table id=\"T_85f7a\" style='display:inline-block'>\n",
       "  <caption>train_df.tail(5)</caption>\n",
       "  <thead>\n",
       "    <tr>\n",
       "      <th class=\"blank level0\" >&nbsp;</th>\n",
       "      <th id=\"T_85f7a_level0_col0\" class=\"col_heading level0 col0\" >open</th>\n",
       "      <th id=\"T_85f7a_level0_col1\" class=\"col_heading level0 col1\" >high</th>\n",
       "      <th id=\"T_85f7a_level0_col2\" class=\"col_heading level0 col2\" >low</th>\n",
       "      <th id=\"T_85f7a_level0_col3\" class=\"col_heading level0 col3\" >close</th>\n",
       "      <th id=\"T_85f7a_level0_col4\" class=\"col_heading level0 col4\" >adj close</th>\n",
       "      <th id=\"T_85f7a_level0_col5\" class=\"col_heading level0 col5\" >volume</th>\n",
       "      <th id=\"T_85f7a_level0_col6\" class=\"col_heading level0 col6\" >change</th>\n",
       "      <th id=\"T_85f7a_level0_col7\" class=\"col_heading level0 col7\" >weekday</th>\n",
       "      <th id=\"T_85f7a_level0_col8\" class=\"col_heading level0 col8\" >month_day</th>\n",
       "      <th id=\"T_85f7a_level0_col9\" class=\"col_heading level0 col9\" >year_week</th>\n",
       "      <th id=\"T_85f7a_level0_col10\" class=\"col_heading level0 col10\" >month</th>\n",
       "    </tr>\n",
       "    <tr>\n",
       "      <th class=\"index_name level0\" >Datetime</th>\n",
       "      <th class=\"blank col0\" >&nbsp;</th>\n",
       "      <th class=\"blank col1\" >&nbsp;</th>\n",
       "      <th class=\"blank col2\" >&nbsp;</th>\n",
       "      <th class=\"blank col3\" >&nbsp;</th>\n",
       "      <th class=\"blank col4\" >&nbsp;</th>\n",
       "      <th class=\"blank col5\" >&nbsp;</th>\n",
       "      <th class=\"blank col6\" >&nbsp;</th>\n",
       "      <th class=\"blank col7\" >&nbsp;</th>\n",
       "      <th class=\"blank col8\" >&nbsp;</th>\n",
       "      <th class=\"blank col9\" >&nbsp;</th>\n",
       "      <th class=\"blank col10\" >&nbsp;</th>\n",
       "    </tr>\n",
       "  </thead>\n",
       "  <tbody>\n",
       "    <tr>\n",
       "      <th id=\"T_85f7a_level0_row0\" class=\"row_heading level0 row0\" >2023-01-16 09:16:00+00:00</th>\n",
       "      <td id=\"T_85f7a_row0_col0\" class=\"data row0 col0\" >0.78</td>\n",
       "      <td id=\"T_85f7a_row0_col1\" class=\"data row0 col1\" >0.78</td>\n",
       "      <td id=\"T_85f7a_row0_col2\" class=\"data row0 col2\" >0.78</td>\n",
       "      <td id=\"T_85f7a_row0_col3\" class=\"data row0 col3\" >0.78</td>\n",
       "      <td id=\"T_85f7a_row0_col4\" class=\"data row0 col4\" >0.78</td>\n",
       "      <td id=\"T_85f7a_row0_col5\" class=\"data row0 col5\" >-0.97</td>\n",
       "      <td id=\"T_85f7a_row0_col6\" class=\"data row0 col6\" >-0.17</td>\n",
       "      <td id=\"T_85f7a_row0_col7\" class=\"data row0 col7\" >-1.00</td>\n",
       "      <td id=\"T_85f7a_row0_col8\" class=\"data row0 col8\" >0.00</td>\n",
       "      <td id=\"T_85f7a_row0_col9\" class=\"data row0 col9\" >-0.92</td>\n",
       "      <td id=\"T_85f7a_row0_col10\" class=\"data row0 col10\" >-1.00</td>\n",
       "    </tr>\n",
       "    <tr>\n",
       "      <th id=\"T_85f7a_level0_row1\" class=\"row_heading level0 row1\" >2023-01-16 09:17:00+00:00</th>\n",
       "      <td id=\"T_85f7a_row1_col0\" class=\"data row1 col0\" >0.78</td>\n",
       "      <td id=\"T_85f7a_row1_col1\" class=\"data row1 col1\" >0.78</td>\n",
       "      <td id=\"T_85f7a_row1_col2\" class=\"data row1 col2\" >0.78</td>\n",
       "      <td id=\"T_85f7a_row1_col3\" class=\"data row1 col3\" >0.78</td>\n",
       "      <td id=\"T_85f7a_row1_col4\" class=\"data row1 col4\" >0.78</td>\n",
       "      <td id=\"T_85f7a_row1_col5\" class=\"data row1 col5\" >-0.99</td>\n",
       "      <td id=\"T_85f7a_row1_col6\" class=\"data row1 col6\" >-0.22</td>\n",
       "      <td id=\"T_85f7a_row1_col7\" class=\"data row1 col7\" >-1.00</td>\n",
       "      <td id=\"T_85f7a_row1_col8\" class=\"data row1 col8\" >0.00</td>\n",
       "      <td id=\"T_85f7a_row1_col9\" class=\"data row1 col9\" >-0.92</td>\n",
       "      <td id=\"T_85f7a_row1_col10\" class=\"data row1 col10\" >-1.00</td>\n",
       "    </tr>\n",
       "    <tr>\n",
       "      <th id=\"T_85f7a_level0_row2\" class=\"row_heading level0 row2\" >2023-01-16 09:18:00+00:00</th>\n",
       "      <td id=\"T_85f7a_row2_col0\" class=\"data row2 col0\" >0.78</td>\n",
       "      <td id=\"T_85f7a_row2_col1\" class=\"data row2 col1\" >0.78</td>\n",
       "      <td id=\"T_85f7a_row2_col2\" class=\"data row2 col2\" >0.78</td>\n",
       "      <td id=\"T_85f7a_row2_col3\" class=\"data row2 col3\" >0.78</td>\n",
       "      <td id=\"T_85f7a_row2_col4\" class=\"data row2 col4\" >0.78</td>\n",
       "      <td id=\"T_85f7a_row2_col5\" class=\"data row2 col5\" >-0.98</td>\n",
       "      <td id=\"T_85f7a_row2_col6\" class=\"data row2 col6\" >-0.22</td>\n",
       "      <td id=\"T_85f7a_row2_col7\" class=\"data row2 col7\" >-1.00</td>\n",
       "      <td id=\"T_85f7a_row2_col8\" class=\"data row2 col8\" >0.00</td>\n",
       "      <td id=\"T_85f7a_row2_col9\" class=\"data row2 col9\" >-0.92</td>\n",
       "      <td id=\"T_85f7a_row2_col10\" class=\"data row2 col10\" >-1.00</td>\n",
       "    </tr>\n",
       "    <tr>\n",
       "      <th id=\"T_85f7a_level0_row3\" class=\"row_heading level0 row3\" >2023-01-16 09:19:00+00:00</th>\n",
       "      <td id=\"T_85f7a_row3_col0\" class=\"data row3 col0\" >0.78</td>\n",
       "      <td id=\"T_85f7a_row3_col1\" class=\"data row3 col1\" >0.78</td>\n",
       "      <td id=\"T_85f7a_row3_col2\" class=\"data row3 col2\" >0.78</td>\n",
       "      <td id=\"T_85f7a_row3_col3\" class=\"data row3 col3\" >0.78</td>\n",
       "      <td id=\"T_85f7a_row3_col4\" class=\"data row3 col4\" >0.78</td>\n",
       "      <td id=\"T_85f7a_row3_col5\" class=\"data row3 col5\" >-0.98</td>\n",
       "      <td id=\"T_85f7a_row3_col6\" class=\"data row3 col6\" >-0.21</td>\n",
       "      <td id=\"T_85f7a_row3_col7\" class=\"data row3 col7\" >-1.00</td>\n",
       "      <td id=\"T_85f7a_row3_col8\" class=\"data row3 col8\" >0.00</td>\n",
       "      <td id=\"T_85f7a_row3_col9\" class=\"data row3 col9\" >-0.92</td>\n",
       "      <td id=\"T_85f7a_row3_col10\" class=\"data row3 col10\" >-1.00</td>\n",
       "    </tr>\n",
       "    <tr>\n",
       "      <th id=\"T_85f7a_level0_row4\" class=\"row_heading level0 row4\" >2023-01-16 09:20:00+00:00</th>\n",
       "      <td id=\"T_85f7a_row4_col0\" class=\"data row4 col0\" >0.78</td>\n",
       "      <td id=\"T_85f7a_row4_col1\" class=\"data row4 col1\" >0.78</td>\n",
       "      <td id=\"T_85f7a_row4_col2\" class=\"data row4 col2\" >0.78</td>\n",
       "      <td id=\"T_85f7a_row4_col3\" class=\"data row4 col3\" >0.78</td>\n",
       "      <td id=\"T_85f7a_row4_col4\" class=\"data row4 col4\" >0.78</td>\n",
       "      <td id=\"T_85f7a_row4_col5\" class=\"data row4 col5\" >-1.00</td>\n",
       "      <td id=\"T_85f7a_row4_col6\" class=\"data row4 col6\" >-0.22</td>\n",
       "      <td id=\"T_85f7a_row4_col7\" class=\"data row4 col7\" >-1.00</td>\n",
       "      <td id=\"T_85f7a_row4_col8\" class=\"data row4 col8\" >0.00</td>\n",
       "      <td id=\"T_85f7a_row4_col9\" class=\"data row4 col9\" >-0.92</td>\n",
       "      <td id=\"T_85f7a_row4_col10\" class=\"data row4 col10\" >-1.00</td>\n",
       "    </tr>\n",
       "  </tbody>\n",
       "</table>\n",
       "&nbsp;&nbsp;&nbsp;<style type=\"text/css\">\n",
       "#T_490d5 caption {\n",
       "  background: #333333;\n",
       "  border-radius: 3px;\n",
       "  padding: 5px;\n",
       "  color: white;\n",
       "  font-size: 15px;\n",
       "  font-weight: bold;\n",
       "}\n",
       "</style>\n",
       "<table id=\"T_490d5\" style='display:inline-block'>\n",
       "  <caption>test_df.head(5)</caption>\n",
       "  <thead>\n",
       "    <tr>\n",
       "      <th class=\"blank level0\" >&nbsp;</th>\n",
       "      <th id=\"T_490d5_level0_col0\" class=\"col_heading level0 col0\" >open</th>\n",
       "      <th id=\"T_490d5_level0_col1\" class=\"col_heading level0 col1\" >high</th>\n",
       "      <th id=\"T_490d5_level0_col2\" class=\"col_heading level0 col2\" >low</th>\n",
       "      <th id=\"T_490d5_level0_col3\" class=\"col_heading level0 col3\" >close</th>\n",
       "      <th id=\"T_490d5_level0_col4\" class=\"col_heading level0 col4\" >adj close</th>\n",
       "      <th id=\"T_490d5_level0_col5\" class=\"col_heading level0 col5\" >volume</th>\n",
       "      <th id=\"T_490d5_level0_col6\" class=\"col_heading level0 col6\" >change</th>\n",
       "      <th id=\"T_490d5_level0_col7\" class=\"col_heading level0 col7\" >weekday</th>\n",
       "      <th id=\"T_490d5_level0_col8\" class=\"col_heading level0 col8\" >month_day</th>\n",
       "      <th id=\"T_490d5_level0_col9\" class=\"col_heading level0 col9\" >year_week</th>\n",
       "      <th id=\"T_490d5_level0_col10\" class=\"col_heading level0 col10\" >month</th>\n",
       "    </tr>\n",
       "    <tr>\n",
       "      <th class=\"index_name level0\" >Datetime</th>\n",
       "      <th class=\"blank col0\" >&nbsp;</th>\n",
       "      <th class=\"blank col1\" >&nbsp;</th>\n",
       "      <th class=\"blank col2\" >&nbsp;</th>\n",
       "      <th class=\"blank col3\" >&nbsp;</th>\n",
       "      <th class=\"blank col4\" >&nbsp;</th>\n",
       "      <th class=\"blank col5\" >&nbsp;</th>\n",
       "      <th class=\"blank col6\" >&nbsp;</th>\n",
       "      <th class=\"blank col7\" >&nbsp;</th>\n",
       "      <th class=\"blank col8\" >&nbsp;</th>\n",
       "      <th class=\"blank col9\" >&nbsp;</th>\n",
       "      <th class=\"blank col10\" >&nbsp;</th>\n",
       "    </tr>\n",
       "  </thead>\n",
       "  <tbody>\n",
       "    <tr>\n",
       "      <th id=\"T_490d5_level0_row0\" class=\"row_heading level0 row0\" >2023-01-16 09:22:00+00:00</th>\n",
       "      <td id=\"T_490d5_row0_col0\" class=\"data row0 col0\" >0.78</td>\n",
       "      <td id=\"T_490d5_row0_col1\" class=\"data row0 col1\" >0.78</td>\n",
       "      <td id=\"T_490d5_row0_col2\" class=\"data row0 col2\" >0.78</td>\n",
       "      <td id=\"T_490d5_row0_col3\" class=\"data row0 col3\" >0.78</td>\n",
       "      <td id=\"T_490d5_row0_col4\" class=\"data row0 col4\" >0.78</td>\n",
       "      <td id=\"T_490d5_row0_col5\" class=\"data row0 col5\" >-1.00</td>\n",
       "      <td id=\"T_490d5_row0_col6\" class=\"data row0 col6\" >-0.25</td>\n",
       "      <td id=\"T_490d5_row0_col7\" class=\"data row0 col7\" >-1.00</td>\n",
       "      <td id=\"T_490d5_row0_col8\" class=\"data row0 col8\" >0.00</td>\n",
       "      <td id=\"T_490d5_row0_col9\" class=\"data row0 col9\" >-0.92</td>\n",
       "      <td id=\"T_490d5_row0_col10\" class=\"data row0 col10\" >-1.00</td>\n",
       "    </tr>\n",
       "    <tr>\n",
       "      <th id=\"T_490d5_level0_row1\" class=\"row_heading level0 row1\" >2023-01-16 09:23:00+00:00</th>\n",
       "      <td id=\"T_490d5_row1_col0\" class=\"data row1 col0\" >0.78</td>\n",
       "      <td id=\"T_490d5_row1_col1\" class=\"data row1 col1\" >0.78</td>\n",
       "      <td id=\"T_490d5_row1_col2\" class=\"data row1 col2\" >0.78</td>\n",
       "      <td id=\"T_490d5_row1_col3\" class=\"data row1 col3\" >0.78</td>\n",
       "      <td id=\"T_490d5_row1_col4\" class=\"data row1 col4\" >0.78</td>\n",
       "      <td id=\"T_490d5_row1_col5\" class=\"data row1 col5\" >-0.97</td>\n",
       "      <td id=\"T_490d5_row1_col6\" class=\"data row1 col6\" >-0.18</td>\n",
       "      <td id=\"T_490d5_row1_col7\" class=\"data row1 col7\" >-1.00</td>\n",
       "      <td id=\"T_490d5_row1_col8\" class=\"data row1 col8\" >0.00</td>\n",
       "      <td id=\"T_490d5_row1_col9\" class=\"data row1 col9\" >-0.92</td>\n",
       "      <td id=\"T_490d5_row1_col10\" class=\"data row1 col10\" >-1.00</td>\n",
       "    </tr>\n",
       "    <tr>\n",
       "      <th id=\"T_490d5_level0_row2\" class=\"row_heading level0 row2\" >2023-01-16 09:24:00+00:00</th>\n",
       "      <td id=\"T_490d5_row2_col0\" class=\"data row2 col0\" >0.79</td>\n",
       "      <td id=\"T_490d5_row2_col1\" class=\"data row2 col1\" >0.79</td>\n",
       "      <td id=\"T_490d5_row2_col2\" class=\"data row2 col2\" >0.79</td>\n",
       "      <td id=\"T_490d5_row2_col3\" class=\"data row2 col3\" >0.79</td>\n",
       "      <td id=\"T_490d5_row2_col4\" class=\"data row2 col4\" >0.79</td>\n",
       "      <td id=\"T_490d5_row2_col5\" class=\"data row2 col5\" >-1.00</td>\n",
       "      <td id=\"T_490d5_row2_col6\" class=\"data row2 col6\" >-0.21</td>\n",
       "      <td id=\"T_490d5_row2_col7\" class=\"data row2 col7\" >-1.00</td>\n",
       "      <td id=\"T_490d5_row2_col8\" class=\"data row2 col8\" >0.00</td>\n",
       "      <td id=\"T_490d5_row2_col9\" class=\"data row2 col9\" >-0.92</td>\n",
       "      <td id=\"T_490d5_row2_col10\" class=\"data row2 col10\" >-1.00</td>\n",
       "    </tr>\n",
       "    <tr>\n",
       "      <th id=\"T_490d5_level0_row3\" class=\"row_heading level0 row3\" >2023-01-16 09:25:00+00:00</th>\n",
       "      <td id=\"T_490d5_row3_col0\" class=\"data row3 col0\" >0.79</td>\n",
       "      <td id=\"T_490d5_row3_col1\" class=\"data row3 col1\" >0.79</td>\n",
       "      <td id=\"T_490d5_row3_col2\" class=\"data row3 col2\" >0.79</td>\n",
       "      <td id=\"T_490d5_row3_col3\" class=\"data row3 col3\" >0.79</td>\n",
       "      <td id=\"T_490d5_row3_col4\" class=\"data row3 col4\" >0.79</td>\n",
       "      <td id=\"T_490d5_row3_col5\" class=\"data row3 col5\" >-0.95</td>\n",
       "      <td id=\"T_490d5_row3_col6\" class=\"data row3 col6\" >-0.19</td>\n",
       "      <td id=\"T_490d5_row3_col7\" class=\"data row3 col7\" >-1.00</td>\n",
       "      <td id=\"T_490d5_row3_col8\" class=\"data row3 col8\" >0.00</td>\n",
       "      <td id=\"T_490d5_row3_col9\" class=\"data row3 col9\" >-0.92</td>\n",
       "      <td id=\"T_490d5_row3_col10\" class=\"data row3 col10\" >-1.00</td>\n",
       "    </tr>\n",
       "    <tr>\n",
       "      <th id=\"T_490d5_level0_row4\" class=\"row_heading level0 row4\" >2023-01-16 09:26:00+00:00</th>\n",
       "      <td id=\"T_490d5_row4_col0\" class=\"data row4 col0\" >0.79</td>\n",
       "      <td id=\"T_490d5_row4_col1\" class=\"data row4 col1\" >0.79</td>\n",
       "      <td id=\"T_490d5_row4_col2\" class=\"data row4 col2\" >0.79</td>\n",
       "      <td id=\"T_490d5_row4_col3\" class=\"data row4 col3\" >0.79</td>\n",
       "      <td id=\"T_490d5_row4_col4\" class=\"data row4 col4\" >0.79</td>\n",
       "      <td id=\"T_490d5_row4_col5\" class=\"data row4 col5\" >-0.99</td>\n",
       "      <td id=\"T_490d5_row4_col6\" class=\"data row4 col6\" >-0.22</td>\n",
       "      <td id=\"T_490d5_row4_col7\" class=\"data row4 col7\" >-1.00</td>\n",
       "      <td id=\"T_490d5_row4_col8\" class=\"data row4 col8\" >0.00</td>\n",
       "      <td id=\"T_490d5_row4_col9\" class=\"data row4 col9\" >-0.92</td>\n",
       "      <td id=\"T_490d5_row4_col10\" class=\"data row4 col10\" >-1.00</td>\n",
       "    </tr>\n",
       "  </tbody>\n",
       "</table>\n",
       "&nbsp;&nbsp;&nbsp;<style type=\"text/css\">\n",
       "#T_d6bbf caption {\n",
       "  background: #333333;\n",
       "  border-radius: 3px;\n",
       "  padding: 5px;\n",
       "  color: white;\n",
       "  font-size: 15px;\n",
       "  font-weight: bold;\n",
       "}\n",
       "</style>\n",
       "<table id=\"T_d6bbf\" style='display:inline-block'>\n",
       "  <caption>test_df.tail(5)</caption>\n",
       "  <thead>\n",
       "    <tr>\n",
       "      <th class=\"blank level0\" >&nbsp;</th>\n",
       "      <th id=\"T_d6bbf_level0_col0\" class=\"col_heading level0 col0\" >open</th>\n",
       "      <th id=\"T_d6bbf_level0_col1\" class=\"col_heading level0 col1\" >high</th>\n",
       "      <th id=\"T_d6bbf_level0_col2\" class=\"col_heading level0 col2\" >low</th>\n",
       "      <th id=\"T_d6bbf_level0_col3\" class=\"col_heading level0 col3\" >close</th>\n",
       "      <th id=\"T_d6bbf_level0_col4\" class=\"col_heading level0 col4\" >adj close</th>\n",
       "      <th id=\"T_d6bbf_level0_col5\" class=\"col_heading level0 col5\" >volume</th>\n",
       "      <th id=\"T_d6bbf_level0_col6\" class=\"col_heading level0 col6\" >change</th>\n",
       "      <th id=\"T_d6bbf_level0_col7\" class=\"col_heading level0 col7\" >weekday</th>\n",
       "      <th id=\"T_d6bbf_level0_col8\" class=\"col_heading level0 col8\" >month_day</th>\n",
       "      <th id=\"T_d6bbf_level0_col9\" class=\"col_heading level0 col9\" >year_week</th>\n",
       "      <th id=\"T_d6bbf_level0_col10\" class=\"col_heading level0 col10\" >month</th>\n",
       "    </tr>\n",
       "    <tr>\n",
       "      <th class=\"index_name level0\" >Datetime</th>\n",
       "      <th class=\"blank col0\" >&nbsp;</th>\n",
       "      <th class=\"blank col1\" >&nbsp;</th>\n",
       "      <th class=\"blank col2\" >&nbsp;</th>\n",
       "      <th class=\"blank col3\" >&nbsp;</th>\n",
       "      <th class=\"blank col4\" >&nbsp;</th>\n",
       "      <th class=\"blank col5\" >&nbsp;</th>\n",
       "      <th class=\"blank col6\" >&nbsp;</th>\n",
       "      <th class=\"blank col7\" >&nbsp;</th>\n",
       "      <th class=\"blank col8\" >&nbsp;</th>\n",
       "      <th class=\"blank col9\" >&nbsp;</th>\n",
       "      <th class=\"blank col10\" >&nbsp;</th>\n",
       "    </tr>\n",
       "  </thead>\n",
       "  <tbody>\n",
       "    <tr>\n",
       "      <th id=\"T_d6bbf_level0_row0\" class=\"row_heading level0 row0\" >2023-01-21 23:54:00+00:00</th>\n",
       "      <td id=\"T_d6bbf_row0_col0\" class=\"data row0 col0\" >1.59</td>\n",
       "      <td id=\"T_d6bbf_row0_col1\" class=\"data row0 col1\" >1.59</td>\n",
       "      <td id=\"T_d6bbf_row0_col2\" class=\"data row0 col2\" >1.59</td>\n",
       "      <td id=\"T_d6bbf_row0_col3\" class=\"data row0 col3\" >1.59</td>\n",
       "      <td id=\"T_d6bbf_row0_col4\" class=\"data row0 col4\" >1.59</td>\n",
       "      <td id=\"T_d6bbf_row0_col5\" class=\"data row0 col5\" >-0.99</td>\n",
       "      <td id=\"T_d6bbf_row0_col6\" class=\"data row0 col6\" >-0.24</td>\n",
       "      <td id=\"T_d6bbf_row0_col7\" class=\"data row0 col7\" >0.67</td>\n",
       "      <td id=\"T_d6bbf_row0_col8\" class=\"data row0 col8\" >0.33</td>\n",
       "      <td id=\"T_d6bbf_row0_col9\" class=\"data row0 col9\" >-0.92</td>\n",
       "      <td id=\"T_d6bbf_row0_col10\" class=\"data row0 col10\" >-1.00</td>\n",
       "    </tr>\n",
       "    <tr>\n",
       "      <th id=\"T_d6bbf_level0_row1\" class=\"row_heading level0 row1\" >2023-01-21 23:55:00+00:00</th>\n",
       "      <td id=\"T_d6bbf_row1_col0\" class=\"data row1 col0\" >1.58</td>\n",
       "      <td id=\"T_d6bbf_row1_col1\" class=\"data row1 col1\" >1.58</td>\n",
       "      <td id=\"T_d6bbf_row1_col2\" class=\"data row1 col2\" >1.58</td>\n",
       "      <td id=\"T_d6bbf_row1_col3\" class=\"data row1 col3\" >1.58</td>\n",
       "      <td id=\"T_d6bbf_row1_col4\" class=\"data row1 col4\" >1.58</td>\n",
       "      <td id=\"T_d6bbf_row1_col5\" class=\"data row1 col5\" >-0.91</td>\n",
       "      <td id=\"T_d6bbf_row1_col6\" class=\"data row1 col6\" >-0.28</td>\n",
       "      <td id=\"T_d6bbf_row1_col7\" class=\"data row1 col7\" >0.67</td>\n",
       "      <td id=\"T_d6bbf_row1_col8\" class=\"data row1 col8\" >0.33</td>\n",
       "      <td id=\"T_d6bbf_row1_col9\" class=\"data row1 col9\" >-0.92</td>\n",
       "      <td id=\"T_d6bbf_row1_col10\" class=\"data row1 col10\" >-1.00</td>\n",
       "    </tr>\n",
       "    <tr>\n",
       "      <th id=\"T_d6bbf_level0_row2\" class=\"row_heading level0 row2\" >2023-01-21 23:56:00+00:00</th>\n",
       "      <td id=\"T_d6bbf_row2_col0\" class=\"data row2 col0\" >1.58</td>\n",
       "      <td id=\"T_d6bbf_row2_col1\" class=\"data row2 col1\" >1.58</td>\n",
       "      <td id=\"T_d6bbf_row2_col2\" class=\"data row2 col2\" >1.58</td>\n",
       "      <td id=\"T_d6bbf_row2_col3\" class=\"data row2 col3\" >1.58</td>\n",
       "      <td id=\"T_d6bbf_row2_col4\" class=\"data row2 col4\" >1.58</td>\n",
       "      <td id=\"T_d6bbf_row2_col5\" class=\"data row2 col5\" >-1.00</td>\n",
       "      <td id=\"T_d6bbf_row2_col6\" class=\"data row2 col6\" >-0.20</td>\n",
       "      <td id=\"T_d6bbf_row2_col7\" class=\"data row2 col7\" >0.67</td>\n",
       "      <td id=\"T_d6bbf_row2_col8\" class=\"data row2 col8\" >0.33</td>\n",
       "      <td id=\"T_d6bbf_row2_col9\" class=\"data row2 col9\" >-0.92</td>\n",
       "      <td id=\"T_d6bbf_row2_col10\" class=\"data row2 col10\" >-1.00</td>\n",
       "    </tr>\n",
       "    <tr>\n",
       "      <th id=\"T_d6bbf_level0_row3\" class=\"row_heading level0 row3\" >2023-01-21 23:57:00+00:00</th>\n",
       "      <td id=\"T_d6bbf_row3_col0\" class=\"data row3 col0\" >1.58</td>\n",
       "      <td id=\"T_d6bbf_row3_col1\" class=\"data row3 col1\" >1.58</td>\n",
       "      <td id=\"T_d6bbf_row3_col2\" class=\"data row3 col2\" >1.58</td>\n",
       "      <td id=\"T_d6bbf_row3_col3\" class=\"data row3 col3\" >1.58</td>\n",
       "      <td id=\"T_d6bbf_row3_col4\" class=\"data row3 col4\" >1.58</td>\n",
       "      <td id=\"T_d6bbf_row3_col5\" class=\"data row3 col5\" >-1.00</td>\n",
       "      <td id=\"T_d6bbf_row3_col6\" class=\"data row3 col6\" >-0.20</td>\n",
       "      <td id=\"T_d6bbf_row3_col7\" class=\"data row3 col7\" >0.67</td>\n",
       "      <td id=\"T_d6bbf_row3_col8\" class=\"data row3 col8\" >0.33</td>\n",
       "      <td id=\"T_d6bbf_row3_col9\" class=\"data row3 col9\" >-0.92</td>\n",
       "      <td id=\"T_d6bbf_row3_col10\" class=\"data row3 col10\" >-1.00</td>\n",
       "    </tr>\n",
       "    <tr>\n",
       "      <th id=\"T_d6bbf_level0_row4\" class=\"row_heading level0 row4\" >2023-01-21 23:58:00+00:00</th>\n",
       "      <td id=\"T_d6bbf_row4_col0\" class=\"data row4 col0\" >1.58</td>\n",
       "      <td id=\"T_d6bbf_row4_col1\" class=\"data row4 col1\" >1.58</td>\n",
       "      <td id=\"T_d6bbf_row4_col2\" class=\"data row4 col2\" >1.58</td>\n",
       "      <td id=\"T_d6bbf_row4_col3\" class=\"data row4 col3\" >1.58</td>\n",
       "      <td id=\"T_d6bbf_row4_col4\" class=\"data row4 col4\" >1.58</td>\n",
       "      <td id=\"T_d6bbf_row4_col5\" class=\"data row4 col5\" >-0.97</td>\n",
       "      <td id=\"T_d6bbf_row4_col6\" class=\"data row4 col6\" >-0.25</td>\n",
       "      <td id=\"T_d6bbf_row4_col7\" class=\"data row4 col7\" >0.67</td>\n",
       "      <td id=\"T_d6bbf_row4_col8\" class=\"data row4 col8\" >0.33</td>\n",
       "      <td id=\"T_d6bbf_row4_col9\" class=\"data row4 col9\" >-0.92</td>\n",
       "      <td id=\"T_d6bbf_row4_col10\" class=\"data row4 col10\" >-1.00</td>\n",
       "    </tr>\n",
       "  </tbody>\n",
       "</table>\n",
       "&nbsp;&nbsp;&nbsp;"
      ]
     },
     "metadata": {},
     "output_type": "display_data"
    },
    {
     "name": "stdout",
     "output_type": "stream",
     "text": [
      "\n"
     ]
    }
   ],
   "source": [
    "multi([(train_df.head(5),'train_df.head(5)'),\n",
    "\t   (train_df.tail(5),'train_df.tail(5)'),\n",
    "\t   (test_df.head(5),'test_df.head(5)'),\n",
    "\t   (test_df.tail(5),'test_df.tail(5)')], intraday=True)"
   ]
  },
  {
   "cell_type": "markdown",
   "id": "ed701dc0-48a9-45ef-9d1b-825a0b780d98",
   "metadata": {},
   "source": [
    "<a name = 'sequences'></a>\n",
    "\n",
    "**SECTIONS: [Top](#top)  |  [Compile Stocks](#compile_stocks)  |  [The Data](#the_data)  |  [Add Change Column](#change_column)  |  [Feature Engineering](#feature_engineering)  |  [Splitting Data](#splitting)  |  [Creating Sequences](#sequences)  |  [Link](#link)  |  [Link](#link)  |** \n",
    "\n",
    "<font size = 4><span style = 'background-color: #ddddff; padding: 5px 5px 3px 5px; line-height: 1.5; color:black;border-radius: 3px;'>**Creating sequences for training the model**\n",
    "\t\n",
    "<font size = 4>**`create_sequences()`**<br>\n",
    "* will take input data as dataframe, a target column and the length we want the sequences to be\n",
    "\t\n",
    "\t- This will iterate over all the data from the beginning up to the last possible full sequence length in the data.<br>\n",
    "\t- It is also possible to write this code in a more elegant way, such as with sliding windows\n",
    "\n",
    "\n"
   ]
  },
  {
   "cell_type": "markdown",
   "id": "d22db713-a6ed-41d3-8610-4202e436d016",
   "metadata": {
    "tags": []
   },
   "source": [
    "## **`create_sequences()`**"
   ]
  },
  {
   "cell_type": "code",
   "execution_count": 24,
   "id": "7d1d0c40-175c-4820-8afa-e41a0dd9cad3",
   "metadata": {},
   "outputs": [],
   "source": [
    "def create_sequences(input_data, target_column, sequence_length):\n",
    "\t\t\t\t\t \n",
    "\tsequences = []\n",
    "\tdata_size = len(input_data)\n",
    "\t\n",
    "\tfor item in tq.tqdm(range(data_size - sequence_length)):\n",
    "\t\n",
    "\t\t# end not included, therefor it will be the label\n",
    "\t\tsequence = input_data[item : item + sequence_length]\n",
    "\t\tlabel_position = item + sequence_length\n",
    "\t\t\n",
    "\t\t# defining the label with the value in the label index position\n",
    "\t\tlabel = input_data.iloc[label_position][target_column]\n",
    "\t\tsequences.append((sequence, label))\n",
    "\treturn sequences"
   ]
  },
  {
   "cell_type": "markdown",
   "id": "9c83c2db-9ebd-4bd5-a498-e754d6e4aaf7",
   "metadata": {},
   "source": [
    "<font size = 4><span style = 'background-color: #ddddff; padding: 5px 5px 3px 5px; line-height: 1.5; color:black;border-radius: 3px;'>**How creating sequences works**"
   ]
  },
  {
   "cell_type": "code",
   "execution_count": 25,
   "id": "81dde4b2-dbeb-4f1e-b181-5fd643a06a39",
   "metadata": {},
   "outputs": [],
   "source": [
    "sample_data = pd.DataFrame(dict(\n",
    "\t\t\t\t\t\t\tfeature1 = [1, 2, 3, 4, 5, 6, 7, 8],\n",
    "\t\t\t\t\t\t\tlabel = [6, 7, 8, 9, 10, 11, 12, 13]))"
   ]
  },
  {
   "cell_type": "code",
   "execution_count": 26,
   "id": "8ccab7f8-d74e-4c25-bc1c-be44d75f5cfd",
   "metadata": {},
   "outputs": [
    {
     "data": {
      "text/html": [
       "<div>\n",
       "<style scoped>\n",
       "    .dataframe tbody tr th:only-of-type {\n",
       "        vertical-align: middle;\n",
       "    }\n",
       "\n",
       "    .dataframe tbody tr th {\n",
       "        vertical-align: top;\n",
       "    }\n",
       "\n",
       "    .dataframe thead th {\n",
       "        text-align: right;\n",
       "    }\n",
       "</style>\n",
       "<table border=\"1\" class=\"dataframe\">\n",
       "  <thead>\n",
       "    <tr style=\"text-align: right;\">\n",
       "      <th></th>\n",
       "      <th>feature1</th>\n",
       "      <th>label</th>\n",
       "    </tr>\n",
       "  </thead>\n",
       "  <tbody>\n",
       "    <tr>\n",
       "      <th>0</th>\n",
       "      <td>1</td>\n",
       "      <td>6</td>\n",
       "    </tr>\n",
       "    <tr>\n",
       "      <th>1</th>\n",
       "      <td>2</td>\n",
       "      <td>7</td>\n",
       "    </tr>\n",
       "    <tr>\n",
       "      <th>2</th>\n",
       "      <td>3</td>\n",
       "      <td>8</td>\n",
       "    </tr>\n",
       "    <tr>\n",
       "      <th>3</th>\n",
       "      <td>4</td>\n",
       "      <td>9</td>\n",
       "    </tr>\n",
       "    <tr>\n",
       "      <th>4</th>\n",
       "      <td>5</td>\n",
       "      <td>10</td>\n",
       "    </tr>\n",
       "  </tbody>\n",
       "</table>\n",
       "</div>"
      ],
      "text/plain": [
       "   feature1  label\n",
       "0         1      6\n",
       "1         2      7\n",
       "2         3      8\n",
       "3         4      9\n",
       "4         5     10"
      ]
     },
     "execution_count": 26,
     "metadata": {},
     "output_type": "execute_result"
    }
   ],
   "source": [
    "sample_data.head(5)"
   ]
  },
  {
   "cell_type": "code",
   "execution_count": 27,
   "id": "99ba6c5e-0c0c-4e51-ad1b-dc9e94113330",
   "metadata": {},
   "outputs": [
    {
     "name": "stderr",
     "output_type": "stream",
     "text": [
      "100%|████████████████████████████████████████████████████████████████████████| 5/5 [00:00<00:00, 3052.18it/s]\n"
     ]
    }
   ],
   "source": [
    "sample_sequences = create_sequences(sample_data, 'label', 3)"
   ]
  },
  {
   "cell_type": "markdown",
   "id": "427e4ebe-0967-414c-b115-83f0b1082d81",
   "metadata": {
    "tags": []
   },
   "source": [
    "## **`see_sequence_samples()`**"
   ]
  },
  {
   "cell_type": "code",
   "execution_count": 28,
   "id": "8746bed8-f049-47e2-8611-5a97e5197bf7",
   "metadata": {},
   "outputs": [],
   "source": [
    "def see_sequence_samples(data, feature_list, num_samples, \n",
    "\t\t\t\t\t\t sequence_portion=5):\n",
    "\t\n",
    "\ttotal_sequences = len(data)\n",
    "\t\n",
    "\tdiv_print(f'There are {total_sequences:,} total squences in this data.', \n",
    "\t\t\t  fontsize = 4)\n",
    "\tcounter = 1\n",
    "\t\n",
    "\tfor record in range(0, num_samples):\n",
    "\t\t\tsee(data[record][0][feature_list].head(sequence_portion), \n",
    "\t\t\t\tf'sequence no.{record + 1}   |   target / label -> {data[record][1]}',\n",
    "\t\t\t   fontsize = 3)\n",
    "\t\t\tcounter += 1"
   ]
  },
  {
   "cell_type": "code",
   "execution_count": 29,
   "id": "6790c369-e460-4a7b-bdcd-00dcb21a69e2",
   "metadata": {},
   "outputs": [
    {
     "data": {
      "text/html": [
       "<span style = 'display: block; width: 400.0px; \t\t\t\t\t\tline-height: 2; background: #333333;\t\t\t\t\t\tmargin-left: auto; margin-right: auto;\t\t\t\t\t\tborder: 1px solid text_color;\t\t\t\t\t\tborder-radius: 3px; text-align: center;\t\t\t\t\t\tpadding: 3px 8px 3px 8px;'>\t\t\t\t\t\t<b><font size=4><text style=color:white>There are 5 total squences in this data.\t\t\t\t\t\t</text></font></b></style>"
      ],
      "text/plain": [
       "<IPython.core.display.HTML object>"
      ]
     },
     "metadata": {},
     "output_type": "display_data"
    },
    {
     "data": {
      "text/html": [
       "<span style = 'display: block; width: 351px; \t\t\t\t\t\tline-height: 2; background: #333333;\t\t\t\t\t\tmargin-left: auto; margin-right: auto;\t\t\t\t\t\tborder: 1px solid text_color;\t\t\t\t\t\tborder-radius: 3px; text-align: center;\t\t\t\t\t\tpadding: 3px 8px 3px 8px;'>\t\t\t\t\t\t<b><font size=3><text style=color:white>sequence no.1   |   target / label -> 9\t\t\t\t\t\t</text></font></b></style>"
      ],
      "text/plain": [
       "<IPython.core.display.HTML object>"
      ]
     },
     "metadata": {},
     "output_type": "display_data"
    },
    {
     "data": {
      "text/html": [
       "<center><table border=\"1\" class=\"dataframe\">\n",
       "  <thead>\n",
       "    <tr style=\"text-align: right;\">\n",
       "      <th></th>\n",
       "      <th>feature1</th>\n",
       "    </tr>\n",
       "  </thead>\n",
       "  <tbody>\n",
       "    <tr>\n",
       "      <th>0</th>\n",
       "      <td>1</td>\n",
       "    </tr>\n",
       "    <tr>\n",
       "      <th>1</th>\n",
       "      <td>2</td>\n",
       "    </tr>\n",
       "    <tr>\n",
       "      <th>2</th>\n",
       "      <td>3</td>\n",
       "    </tr>\n",
       "  </tbody>\n",
       "</table>"
      ],
      "text/plain": [
       "<IPython.core.display.HTML object>"
      ]
     },
     "metadata": {},
     "output_type": "display_data"
    },
    {
     "name": "stdout",
     "output_type": "stream",
     "text": [
      "\n"
     ]
    },
    {
     "data": {
      "text/html": [
       "<span style = 'display: block; width: 360px; \t\t\t\t\t\tline-height: 2; background: #333333;\t\t\t\t\t\tmargin-left: auto; margin-right: auto;\t\t\t\t\t\tborder: 1px solid text_color;\t\t\t\t\t\tborder-radius: 3px; text-align: center;\t\t\t\t\t\tpadding: 3px 8px 3px 8px;'>\t\t\t\t\t\t<b><font size=3><text style=color:white>sequence no.2   |   target / label -> 10\t\t\t\t\t\t</text></font></b></style>"
      ],
      "text/plain": [
       "<IPython.core.display.HTML object>"
      ]
     },
     "metadata": {},
     "output_type": "display_data"
    },
    {
     "data": {
      "text/html": [
       "<center><table border=\"1\" class=\"dataframe\">\n",
       "  <thead>\n",
       "    <tr style=\"text-align: right;\">\n",
       "      <th></th>\n",
       "      <th>feature1</th>\n",
       "    </tr>\n",
       "  </thead>\n",
       "  <tbody>\n",
       "    <tr>\n",
       "      <th>1</th>\n",
       "      <td>2</td>\n",
       "    </tr>\n",
       "    <tr>\n",
       "      <th>2</th>\n",
       "      <td>3</td>\n",
       "    </tr>\n",
       "    <tr>\n",
       "      <th>3</th>\n",
       "      <td>4</td>\n",
       "    </tr>\n",
       "  </tbody>\n",
       "</table>"
      ],
      "text/plain": [
       "<IPython.core.display.HTML object>"
      ]
     },
     "metadata": {},
     "output_type": "display_data"
    },
    {
     "name": "stdout",
     "output_type": "stream",
     "text": [
      "\n"
     ]
    },
    {
     "data": {
      "text/html": [
       "<span style = 'display: block; width: 360px; \t\t\t\t\t\tline-height: 2; background: #333333;\t\t\t\t\t\tmargin-left: auto; margin-right: auto;\t\t\t\t\t\tborder: 1px solid text_color;\t\t\t\t\t\tborder-radius: 3px; text-align: center;\t\t\t\t\t\tpadding: 3px 8px 3px 8px;'>\t\t\t\t\t\t<b><font size=3><text style=color:white>sequence no.3   |   target / label -> 11\t\t\t\t\t\t</text></font></b></style>"
      ],
      "text/plain": [
       "<IPython.core.display.HTML object>"
      ]
     },
     "metadata": {},
     "output_type": "display_data"
    },
    {
     "data": {
      "text/html": [
       "<center><table border=\"1\" class=\"dataframe\">\n",
       "  <thead>\n",
       "    <tr style=\"text-align: right;\">\n",
       "      <th></th>\n",
       "      <th>feature1</th>\n",
       "    </tr>\n",
       "  </thead>\n",
       "  <tbody>\n",
       "    <tr>\n",
       "      <th>2</th>\n",
       "      <td>3</td>\n",
       "    </tr>\n",
       "    <tr>\n",
       "      <th>3</th>\n",
       "      <td>4</td>\n",
       "    </tr>\n",
       "    <tr>\n",
       "      <th>4</th>\n",
       "      <td>5</td>\n",
       "    </tr>\n",
       "  </tbody>\n",
       "</table>"
      ],
      "text/plain": [
       "<IPython.core.display.HTML object>"
      ]
     },
     "metadata": {},
     "output_type": "display_data"
    },
    {
     "name": "stdout",
     "output_type": "stream",
     "text": [
      "\n"
     ]
    }
   ],
   "source": [
    "see_sequence_samples(sample_sequences, ['feature1'], num_samples = 3)"
   ]
  },
  {
   "cell_type": "markdown",
   "id": "909b5b3f-64cd-46fe-94b1-efcc195574dc",
   "metadata": {},
   "source": [
    "<font size = 4><span style = 'background-color: #ddddff; padding: 5px 5px 3px 5px; line-height: 1.5; color:black;border-radius: 3px;'>**Creating sequences from the data**"
   ]
  },
  {
   "cell_type": "code",
   "execution_count": 30,
   "id": "0ebf2b54-ec96-496e-9a5f-2d2f98a3cca3",
   "metadata": {},
   "outputs": [
    {
     "name": "stderr",
     "output_type": "stream",
     "text": [
      "100%|███████████████████████████████████████████████████████████████| 31998/31998 [00:01<00:00, 19708.27it/s]\n",
      "100%|█████████████████████████████████████████████████████████████████| 7954/7954 [00:00<00:00, 18104.46it/s]\n"
     ]
    }
   ],
   "source": [
    "sequence_length = 60\n",
    "\n",
    "train_sequences = create_sequences(train_df,\n",
    "\t\t\t\t\t\t\t\t   'close',\n",
    "\t\t\t\t\t\t\t\t   sequence_length)\n",
    "\n",
    "test_sequences = create_sequences(test_df,\n",
    "\t\t\t\t\t\t\t\t   'close',\n",
    "\t\t\t\t\t\t\t\t   sequence_length)"
   ]
  },
  {
   "cell_type": "code",
   "execution_count": 31,
   "id": "4f21e53d-9b86-4725-a26f-9b20ea846c74",
   "metadata": {},
   "outputs": [
    {
     "data": {
      "text/html": [
       "<span style = 'display: block; width: 450.0px; \t\t\t\t\t\tline-height: 2; background: #333333;\t\t\t\t\t\tmargin-left: auto; margin-right: auto;\t\t\t\t\t\tborder: 1px solid text_color;\t\t\t\t\t\tborder-radius: 3px; text-align: center;\t\t\t\t\t\tpadding: 3px 8px 3px 8px;'>\t\t\t\t\t\t<b><font size=4><text style=color:white>There are 31,998 total squences in this data.\t\t\t\t\t\t</text></font></b></style>"
      ],
      "text/plain": [
       "<IPython.core.display.HTML object>"
      ]
     },
     "metadata": {},
     "output_type": "display_data"
    },
    {
     "data": {
      "text/html": [
       "<span style = 'display: block; width: 513px; \t\t\t\t\t\tline-height: 2; background: #333333;\t\t\t\t\t\tmargin-left: auto; margin-right: auto;\t\t\t\t\t\tborder: 1px solid text_color;\t\t\t\t\t\tborder-radius: 3px; text-align: center;\t\t\t\t\t\tpadding: 3px 8px 3px 8px;'>\t\t\t\t\t\t<b><font size=3><text style=color:white>sequence no.1   |   target / label -> -0.8197329670347058\t\t\t\t\t\t</text></font></b></style>"
      ],
      "text/plain": [
       "<IPython.core.display.HTML object>"
      ]
     },
     "metadata": {},
     "output_type": "display_data"
    },
    {
     "data": {
      "text/html": [
       "<center><table border=\"1\" class=\"dataframe\">\n",
       "  <thead>\n",
       "    <tr style=\"text-align: right;\">\n",
       "      <th></th>\n",
       "      <th>close</th>\n",
       "      <th>volume</th>\n",
       "      <th>change</th>\n",
       "    </tr>\n",
       "    <tr>\n",
       "      <th>Datetime</th>\n",
       "      <th></th>\n",
       "      <th></th>\n",
       "      <th></th>\n",
       "    </tr>\n",
       "  </thead>\n",
       "  <tbody>\n",
       "    <tr>\n",
       "      <th>2022-12-25</th>\n",
       "      <td>-0.82</td>\n",
       "      <td>-1.00</td>\n",
       "      <td>-0.22</td>\n",
       "    </tr>\n",
       "    <tr>\n",
       "      <th>2022-12-25</th>\n",
       "      <td>-0.82</td>\n",
       "      <td>-1.00</td>\n",
       "      <td>-0.22</td>\n",
       "    </tr>\n",
       "    <tr>\n",
       "      <th>2022-12-25</th>\n",
       "      <td>-0.82</td>\n",
       "      <td>-1.00</td>\n",
       "      <td>-0.22</td>\n",
       "    </tr>\n",
       "  </tbody>\n",
       "</table>"
      ],
      "text/plain": [
       "<IPython.core.display.HTML object>"
      ]
     },
     "metadata": {},
     "output_type": "display_data"
    },
    {
     "name": "stdout",
     "output_type": "stream",
     "text": [
      "\n"
     ]
    },
    {
     "data": {
      "text/html": [
       "<span style = 'display: block; width: 513px; \t\t\t\t\t\tline-height: 2; background: #333333;\t\t\t\t\t\tmargin-left: auto; margin-right: auto;\t\t\t\t\t\tborder: 1px solid text_color;\t\t\t\t\t\tborder-radius: 3px; text-align: center;\t\t\t\t\t\tpadding: 3px 8px 3px 8px;'>\t\t\t\t\t\t<b><font size=3><text style=color:white>sequence no.2   |   target / label -> -0.8199402760216294\t\t\t\t\t\t</text></font></b></style>"
      ],
      "text/plain": [
       "<IPython.core.display.HTML object>"
      ]
     },
     "metadata": {},
     "output_type": "display_data"
    },
    {
     "data": {
      "text/html": [
       "<center><table border=\"1\" class=\"dataframe\">\n",
       "  <thead>\n",
       "    <tr style=\"text-align: right;\">\n",
       "      <th></th>\n",
       "      <th>close</th>\n",
       "      <th>volume</th>\n",
       "      <th>change</th>\n",
       "    </tr>\n",
       "    <tr>\n",
       "      <th>Datetime</th>\n",
       "      <th></th>\n",
       "      <th></th>\n",
       "      <th></th>\n",
       "    </tr>\n",
       "  </thead>\n",
       "  <tbody>\n",
       "    <tr>\n",
       "      <th>2022-12-25</th>\n",
       "      <td>-0.82</td>\n",
       "      <td>-1.00</td>\n",
       "      <td>-0.22</td>\n",
       "    </tr>\n",
       "    <tr>\n",
       "      <th>2022-12-25</th>\n",
       "      <td>-0.82</td>\n",
       "      <td>-1.00</td>\n",
       "      <td>-0.22</td>\n",
       "    </tr>\n",
       "    <tr>\n",
       "      <th>2022-12-25</th>\n",
       "      <td>-0.82</td>\n",
       "      <td>-1.00</td>\n",
       "      <td>-0.22</td>\n",
       "    </tr>\n",
       "  </tbody>\n",
       "</table>"
      ],
      "text/plain": [
       "<IPython.core.display.HTML object>"
      ]
     },
     "metadata": {},
     "output_type": "display_data"
    },
    {
     "name": "stdout",
     "output_type": "stream",
     "text": [
      "\n"
     ]
    }
   ],
   "source": [
    "see_sequence_samples(train_sequences,\n",
    "\t\t\t\t\t['close', 'volume', 'change'],\n",
    "\t\t\t\t\tnum_samples = 2,\n",
    "\t\t\t\t\tsequence_portion = 3)"
   ]
  },
  {
   "cell_type": "code",
   "execution_count": 32,
   "id": "3ace741b-f5b2-4b8a-88b9-9d8f0e22338d",
   "metadata": {},
   "outputs": [
    {
     "data": {
      "text/html": [
       "<span style = 'display: block; width: 440.0px; \t\t\t\t\t\tline-height: 2; background: #333333;\t\t\t\t\t\tmargin-left: auto; margin-right: auto;\t\t\t\t\t\tborder: 1px solid text_color;\t\t\t\t\t\tborder-radius: 3px; text-align: center;\t\t\t\t\t\tpadding: 3px 8px 3px 8px;'>\t\t\t\t\t\t<b><font size=4><text style=color:white>There are 7,954 total squences in this data.\t\t\t\t\t\t</text></font></b></style>"
      ],
      "text/plain": [
       "<IPython.core.display.HTML object>"
      ]
     },
     "metadata": {},
     "output_type": "display_data"
    },
    {
     "data": {
      "text/html": [
       "<span style = 'display: block; width: 504px; \t\t\t\t\t\tline-height: 2; background: #333333;\t\t\t\t\t\tmargin-left: auto; margin-right: auto;\t\t\t\t\t\tborder: 1px solid text_color;\t\t\t\t\t\tborder-radius: 3px; text-align: center;\t\t\t\t\t\tpadding: 3px 8px 3px 8px;'>\t\t\t\t\t\t<b><font size=3><text style=color:white>sequence no.1   |   target / label -> 0.8069486490891853\t\t\t\t\t\t</text></font></b></style>"
      ],
      "text/plain": [
       "<IPython.core.display.HTML object>"
      ]
     },
     "metadata": {},
     "output_type": "display_data"
    },
    {
     "data": {
      "text/html": [
       "<center><table border=\"1\" class=\"dataframe\">\n",
       "  <thead>\n",
       "    <tr style=\"text-align: right;\">\n",
       "      <th></th>\n",
       "      <th>close</th>\n",
       "      <th>volume</th>\n",
       "      <th>change</th>\n",
       "    </tr>\n",
       "    <tr>\n",
       "      <th>Datetime</th>\n",
       "      <th></th>\n",
       "      <th></th>\n",
       "      <th></th>\n",
       "    </tr>\n",
       "  </thead>\n",
       "  <tbody>\n",
       "    <tr>\n",
       "      <th>2023-01-16</th>\n",
       "      <td>0.78</td>\n",
       "      <td>-1.00</td>\n",
       "      <td>-0.25</td>\n",
       "    </tr>\n",
       "    <tr>\n",
       "      <th>2023-01-16</th>\n",
       "      <td>0.78</td>\n",
       "      <td>-0.97</td>\n",
       "      <td>-0.18</td>\n",
       "    </tr>\n",
       "    <tr>\n",
       "      <th>2023-01-16</th>\n",
       "      <td>0.79</td>\n",
       "      <td>-1.00</td>\n",
       "      <td>-0.21</td>\n",
       "    </tr>\n",
       "  </tbody>\n",
       "</table>"
      ],
      "text/plain": [
       "<IPython.core.display.HTML object>"
      ]
     },
     "metadata": {},
     "output_type": "display_data"
    },
    {
     "name": "stdout",
     "output_type": "stream",
     "text": [
      "\n"
     ]
    },
    {
     "data": {
      "text/html": [
       "<span style = 'display: block; width: 504px; \t\t\t\t\t\tline-height: 2; background: #333333;\t\t\t\t\t\tmargin-left: auto; margin-right: auto;\t\t\t\t\t\tborder: 1px solid text_color;\t\t\t\t\t\tborder-radius: 3px; text-align: center;\t\t\t\t\t\tpadding: 3px 8px 3px 8px;'>\t\t\t\t\t\t<b><font size=3><text style=color:white>sequence no.2   |   target / label -> 0.8080801447048378\t\t\t\t\t\t</text></font></b></style>"
      ],
      "text/plain": [
       "<IPython.core.display.HTML object>"
      ]
     },
     "metadata": {},
     "output_type": "display_data"
    },
    {
     "data": {
      "text/html": [
       "<center><table border=\"1\" class=\"dataframe\">\n",
       "  <thead>\n",
       "    <tr style=\"text-align: right;\">\n",
       "      <th></th>\n",
       "      <th>close</th>\n",
       "      <th>volume</th>\n",
       "      <th>change</th>\n",
       "    </tr>\n",
       "    <tr>\n",
       "      <th>Datetime</th>\n",
       "      <th></th>\n",
       "      <th></th>\n",
       "      <th></th>\n",
       "    </tr>\n",
       "  </thead>\n",
       "  <tbody>\n",
       "    <tr>\n",
       "      <th>2023-01-16</th>\n",
       "      <td>0.78</td>\n",
       "      <td>-0.97</td>\n",
       "      <td>-0.18</td>\n",
       "    </tr>\n",
       "    <tr>\n",
       "      <th>2023-01-16</th>\n",
       "      <td>0.79</td>\n",
       "      <td>-1.00</td>\n",
       "      <td>-0.21</td>\n",
       "    </tr>\n",
       "    <tr>\n",
       "      <th>2023-01-16</th>\n",
       "      <td>0.79</td>\n",
       "      <td>-0.95</td>\n",
       "      <td>-0.19</td>\n",
       "    </tr>\n",
       "  </tbody>\n",
       "</table>"
      ],
      "text/plain": [
       "<IPython.core.display.HTML object>"
      ]
     },
     "metadata": {},
     "output_type": "display_data"
    },
    {
     "name": "stdout",
     "output_type": "stream",
     "text": [
      "\n"
     ]
    }
   ],
   "source": [
    "see_sequence_samples(test_sequences,\n",
    "\t\t\t\t\t['close', 'volume', 'change'],\n",
    "\t\t\t\t\tnum_samples = 2,\n",
    "\t\t\t\t\tsequence_portion = 3)"
   ]
  },
  {
   "cell_type": "markdown",
   "id": "3df99eb1-4cb0-480a-b460-e8cc3cc5054f",
   "metadata": {},
   "source": [
    "<font size = 4><span style = 'background-color: #ddddff; padding: 5px 5px 3px 5px; line-height: 1.5; color:black;border-radius: 3px;'>**Sequences to PyTorch Datasets**\n",
    "\t\n",
    "* `__init__()` - takes the sequences it will work with\n",
    "* `__len__()` - returns the number of sequences in any given example\n",
    "* `__getitem__()` - takes the index of the item we are interested in\n",
    "\t* within each sequence item is a tuple with the input data as the first tuple value and the target data or label as the second\n",
    "\t* sequences are converted from pandas to numpy to Tensor\n",
    "\t* labels are converted into floats, since we are doing regression and wanting to predict floating point numbers "
   ]
  },
  {
   "cell_type": "code",
   "execution_count": 33,
   "id": "fc518a2c-2e4a-4a9e-848a-46379f6f2b36",
   "metadata": {},
   "outputs": [],
   "source": [
    "class TickerDataset(Dataset):\n",
    "\tdef __init__(self, sequences):\n",
    "\t\tself.sequences = sequences\n",
    "\t\t\n",
    "\tdef __len__(self):\n",
    "\t\treturn len(self.sequences)\n",
    "\t\n",
    "\tdef __getitem__(self, idx):\n",
    "\t\tsequence, label = self.sequences[idx]\n",
    "\t\treturn dict(sequence = torch.Tensor(sequence.to_numpy()),\n",
    "\t\t\t\t\tlabel = torch.tensor(label).float())"
   ]
  },
  {
   "cell_type": "markdown",
   "id": "f0e9f40c-4498-44e3-80f9-4586b2d6b5f0",
   "metadata": {},
   "source": [
    "<font size = 4><span style = 'background-color: #ddddff; padding: 5px 5px 3px 5px; line-height: 1.5; color:black;border-radius: 3px;'>**Wrapping data with PyTorch Lightning**\n",
    "\t\n",
    "* `setup()` converts sequences into the dataset class defined above\n",
    "* `train_dataloader()`, `validation_dataloader()`, `test_dataloader()`\n",
    "\t* create the three different kinds of dataloaders for the data\n",
    "\t* `train_dataloader()` -> `shuffle = False` - do not want to shuffle the data because it is timeseries data, so the order is important\n",
    "\t\t* `num_workers = 2` - speeds up training depending on GPU vs CPU\n",
    "\t* `validation_dataloader()` and `test_dataloader()` - `batch_size = 1` - for testing and making predictions, we would usually do one record at a time"
   ]
  },
  {
   "cell_type": "code",
   "execution_count": 34,
   "id": "09bea86a-59b3-4ab8-a33f-03d8e86b0b52",
   "metadata": {},
   "outputs": [],
   "source": [
    "class TickerDataModule(pl.LightningDataModule):\n",
    "\t\n",
    "\tdef __init__(self, \n",
    "\t\t\t\t train_sequences, \n",
    "\t\t\t\t test_sequences, \n",
    "\t\t\t\t batch_size = 8):\n",
    "\t\tsuper().__init__()\n",
    "\t\tself.train_sequences = train_sequences\n",
    "\t\tself.test_sequences = test_sequences\n",
    "\t\tself.batch_size = batch_size\n",
    "\t\n",
    "\tdef setup(self):\n",
    "\t\tself.train_dataset = TickerDataset(self.train_sequences)\n",
    "\t\tself.test_dataset = TickerDataset(self.test_sequences)\n",
    "\t\t\n",
    "\tdef train_dataloader(self):\n",
    "\t\treturn DataLoader(self.train_dataset,\n",
    "\t\t\t\t\t\t batch_size = self.batch_size,\n",
    "\t\t\t\t\t\t shuffle = False,\n",
    "\t\t\t\t\t\t num_workers = 2)\n",
    "\t\n",
    "\tdef validation_dataloader(self):\n",
    "\t\treturn DataLoader(self.test_dataset,\n",
    "\t\t\t\t batch_size = 1,\n",
    "\t\t\t\t shuffle = Flase,\n",
    "\t\t\t\t num_workers = 1)\n",
    "\t\n",
    "\tdef test_dataloader(self):\n",
    "\t\treturn DataLoader(self.test_dataset,\n",
    "\t\t\t\t batch_size = 1,\n",
    "\t\t\t\t shuffle = False,\n",
    "\t\t\t\t num_workers = 1)"
   ]
  },
  {
   "cell_type": "markdown",
   "id": "7fca20bd-24a6-44fb-9bc6-fc62f927a138",
   "metadata": {},
   "source": [
    "<font size = 4><span style = 'background-color: #ddddff; padding: 5px 5px 3px 5px; line-height: 1.5; color:black;border-radius: 3px;'>**Defining hyperparameters & the data module**\n",
    "* calling the module with the sequences, with `setup()`, which will create the PyTorch Datasets"
   ]
  },
  {
   "cell_type": "code",
   "execution_count": 35,
   "id": "3b72b9d8-1a8b-4d74-922c-528e8e27adab",
   "metadata": {},
   "outputs": [],
   "source": [
    "num_epochs = 8\n",
    "batch_size = 64\n",
    "\n",
    "data_module = TickerDataModule(train_sequences, \n",
    "\t\t\t\t\t\t\t   test_sequences, \n",
    "\t\t\t\t\t\t\t   batch_size = batch_size)\n",
    "\n",
    "data_module.setup()"
   ]
  },
  {
   "cell_type": "markdown",
   "id": "6533bf11-5cb3-401e-ab77-4b224bad2b4e",
   "metadata": {},
   "source": [
    "<font size = 4><span style = 'background-color: #ddddff; padding: 5px 5px 3px 5px; line-height: 1.5; color:black;border-radius: 3px;'>**Investigating a single item from TickerDataset**"
   ]
  },
  {
   "cell_type": "code",
   "execution_count": 36,
   "id": "5a8eeda7-fac7-429b-ba55-d9427ca456f4",
   "metadata": {},
   "outputs": [],
   "source": [
    "train_dataset = TickerDataset(train_sequences)"
   ]
  },
  {
   "cell_type": "code",
   "execution_count": 37,
   "id": "364fff09-5791-45a3-92cc-98b9a74b5181",
   "metadata": {},
   "outputs": [
    {
     "name": "stdout",
     "output_type": "stream",
     "text": [
      "torch.Size([60, 11])\n",
      "torch.Size([])\n",
      "tensor(-0.8197)\n"
     ]
    }
   ],
   "source": [
    "for item in train_dataset:\n",
    "\tprint(item['sequence'].shape)\n",
    "\tprint(item['label'].shape)\n",
    "\tprint(item['label'])\n",
    "\tbreak"
   ]
  },
  {
   "cell_type": "markdown",
   "id": "bdb1f67c-c64b-4ace-b3ba-172d533d48dc",
   "metadata": {},
   "source": [
    "<font size = 4><span style = 'background-color: #ddddff; padding: 5px 5px 3px 5px; line-height: 1.5; color:black;border-radius: 3px;'>**Creating the LSTM model**\n",
    "* LSTM = Long short term memory neural network\n",
    "\t* Allows sequences with single outputs or multiple datapoints\n",
    "\t* Transformers can also be used for time series (as used in text and images)\n",
    "\t* `batch_size = True` - inputting batch size as first parameter, which is useful for using the dataloader that passes batches of sequences with 120 data points in each sequence and 9 features for each data point\n",
    "\t* `num_layers` - number of LSTMs stacked on one another\n",
    "\t* `regressor` is the final linear layer that outputs our single prediction\n",
    "* `forward()`\n",
    "\t* `flatten_parameters()` - used for quicker distributed training with GPUs, which PyTorch lightning allows for\n",
    "\t* takes the features of the output of final layer of the LSTM, the hidden state and the cell state of the LSTM"
   ]
  },
  {
   "cell_type": "code",
   "execution_count": 38,
   "id": "a7d49c40-6471-4370-add2-bec84bf8913d",
   "metadata": {},
   "outputs": [],
   "source": [
    "class PricePredictionModel(nn.Module):\n",
    "\t\n",
    "\tdef __init__(self, \n",
    "\t\t\t\t num_features, \n",
    "\t\t\t\t num_hidden = 128, \n",
    "\t\t\t\t num_layers = 2):\n",
    "\n",
    "\t\tsuper().__init__()\n",
    "\t\tself.num_hidden = num_hidden\n",
    "\n",
    "\t\tself.lstm = nn.LSTM(\n",
    "\t\t\t\t\t\tinput_size = num_features,\n",
    "\t\t\t\t\t\thidden_size = num_hidden,\n",
    "\t\t\t\t\t\tbatch_first = True,\n",
    "\t\t\t\t\t\tnum_layers = num_layers,\n",
    "\t\t\t\t\t\tdropout = 0.2)\n",
    "\n",
    "\t\tself.regressor = nn.Linear(num_hidden, 1)\n",
    "\t\n",
    "\tdef forward(self, inputs):\n",
    "\t\tself.lstm.flatten_parameters()\n",
    "\t\t\n",
    "\t\t# getting states from the LSTM, retrieving the last layer of hidden\n",
    "\t\t# passing the last layer to the regressor\n",
    "\t\t_, (hidden, _) = self.lstm(inputs)\n",
    "\t\tout = hidden[-1]\n",
    "\t\treturn self.regressor(out)"
   ]
  },
  {
   "cell_type": "markdown",
   "id": "c53b64ab-94ef-4fea-a761-29b4b3a5b5a8",
   "metadata": {},
   "source": [
    "<font size = 4><span style = 'background-color: #ddddff; padding: 5px 5px 3px 5px; line-height: 1.5; color:black;border-radius: 3px;'>**Creating the lightning module for the model**\n",
    "* `labels.unsqueeze()` - aligns the dimensions of the output with the output of predictions from the model"
   ]
  },
  {
   "cell_type": "code",
   "execution_count": 39,
   "id": "d5623845-5516-4e5a-a7c1-24a314d4a4a7",
   "metadata": {},
   "outputs": [],
   "source": [
    "class TickerPricePredictor(pl.LightningModule):\n",
    "\t\n",
    "\tdef __init__(self, num_features):\n",
    "\t\tsuper().__init__()\n",
    "\t\t\n",
    "\t\tself.model = PricePredictionModel(num_features)\n",
    "\t\tself.loss_function = nn.MSELoss()\n",
    "\t\t\n",
    "\tdef forward(self, inputs, labels = None):\n",
    "\t\toutput = self.model(inputs)\n",
    "\t\tloss = 0\n",
    "\t\tif labels is not None:\n",
    "\t\t\tloss = self.loss_function(output, labels.unsqueeze(dim=1))\n",
    "\t\treturn loss, output\n",
    "\t\n",
    "\tdef training_step(self, batch, batch_idx):\n",
    "\t\tsequences = batch['sequence']\n",
    "\t\tlabels = batch['label']\n",
    "\t\tloss, outputs = self(sequences, labels)\n",
    "\t\tself.log('training loss', loss, prog_bar = True, logger = True)\n",
    "\t\treturn loss\n",
    "\t\n",
    "\tdef validation_step(self, batch, batch_idx):\n",
    "\t\tsequences = batch['sequence']\n",
    "\t\tlabels = batch['label']\n",
    "\t\tloss, outputs = self(sequences, labels)\n",
    "\t\tself.log('validation loss', loss, prog_bar = True, logger = True)\n",
    "\t\treturn loss\n",
    "\t\n",
    "\tdef test_step(self, batch, batch_idx):\n",
    "\t\tsequences = batch['sequence']\n",
    "\t\tloss, outputs = self(sequences, labels)\n",
    "\t\tself.log('test loss', loss, prog_bar = True, logger = True)\n",
    "\t\treturn loss\n",
    "\t\n",
    "\tdef configure_optimzers(self):\n",
    "\t\treturn optim.AdamW(self.parameters(), lr = 0.0001)"
   ]
  },
  {
   "cell_type": "code",
   "execution_count": 40,
   "id": "3762bbce-7bb6-4e97-a0f0-208f861b5fd2",
   "metadata": {},
   "outputs": [],
   "source": [
    "model = TickerPricePredictor(num_features = train_df.shape[1])"
   ]
  },
  {
   "cell_type": "code",
   "execution_count": 41,
   "id": "f72d70a5-5a01-442d-92f3-32755b305d68",
   "metadata": {},
   "outputs": [],
   "source": [
    "# for item in data_module.train_dataloader():\n",
    "# \tprint(item['sequence'].shape)\n",
    "# \tprint(item['label'].shape)\n",
    "# \t# print(item['label'])\n",
    "# \tbreak"
   ]
  },
  {
   "cell_type": "markdown",
   "id": "08939dd0-c7e9-41da-a587-d988074a3267",
   "metadata": {},
   "source": [
    "<font size = 4><span style = 'background-color: #ddddff; padding: 5px 5px 3px 5px; line-height: 1.5; color:black;border-radius: 3px;'>**Text**"
   ]
  },
  {
   "cell_type": "code",
   "execution_count": null,
   "id": "20c0d6d3-24a1-41d9-adf1-a44aae7cb741",
   "metadata": {},
   "outputs": [
    {
     "name": "stderr",
     "output_type": "stream",
     "text": [
      "Traceback (most recent call last):\n",
      "  File \"<string>\", line 1, in <module>\n",
      "  File \"/Users/evancarr/opt/anaconda3/envs/stock_lstm_tutorials/lib/python3.10/multiprocessing/spawn.py\", line 116, in spawn_main\n",
      "    exitcode = _main(fd, parent_sentinel)\n",
      "  File \"/Users/evancarr/opt/anaconda3/envs/stock_lstm_tutorials/lib/python3.10/multiprocessing/spawn.py\", line 126, in _main\n",
      "    self = reduction.pickle.load(from_parent)\n",
      "AttributeError: Can't get attribute 'TickerDataset' on <module '__main__' (built-in)>\n"
     ]
    }
   ],
   "source": [
    "for item in data_module.train_dataloader():\n",
    "\tprint(item)\n",
    "\tbreak"
   ]
  },
  {
   "cell_type": "code",
   "execution_count": null,
   "id": "abeccf57-125c-4000-93fb-f954cec75fb9",
   "metadata": {},
   "outputs": [],
   "source": []
  },
  {
   "cell_type": "markdown",
   "id": "6f558175-8ce6-4efb-9616-6ca15be2c90e",
   "metadata": {},
   "source": [
    "<font size = 4><span style = 'background-color: #ddddff; padding: 5px 5px 3px 5px; line-height: 1.5; color:black;border-radius: 3px;'>**Text**"
   ]
  },
  {
   "cell_type": "code",
   "execution_count": null,
   "id": "a42d7cba-b83f-476e-8a1f-15208afe69ad",
   "metadata": {},
   "outputs": [],
   "source": []
  },
  {
   "cell_type": "code",
   "execution_count": null,
   "id": "8fb62283-b373-4dfe-a192-2809490ded83",
   "metadata": {},
   "outputs": [],
   "source": []
  },
  {
   "cell_type": "markdown",
   "id": "437a1681-deb2-4e0f-9019-c8198a66b3c9",
   "metadata": {},
   "source": [
    "<font size = 4><span style = 'background-color: #ddddff; padding: 5px 5px 3px 5px; line-height: 1.5; color:black;border-radius: 3px;'>**Text**"
   ]
  },
  {
   "cell_type": "code",
   "execution_count": null,
   "id": "7b1c7e4e-e47b-4b7a-a18e-3b59a991a1a9",
   "metadata": {},
   "outputs": [],
   "source": []
  },
  {
   "cell_type": "code",
   "execution_count": null,
   "id": "ace500b0-5915-4323-bf06-664413cff5e5",
   "metadata": {},
   "outputs": [],
   "source": []
  },
  {
   "cell_type": "code",
   "execution_count": null,
   "id": "027896b3-4a73-432b-a40e-b12742b5dab9",
   "metadata": {},
   "outputs": [],
   "source": []
  },
  {
   "cell_type": "markdown",
   "id": "6df11093-853a-4cb5-ad2f-08828de4310b",
   "metadata": {},
   "source": [
    "<font size = 4><span style = 'background-color: #ddddff; padding: 5px 5px 3px 5px; line-height: 1.5; color:black;border-radius: 3px;'>**Text**"
   ]
  },
  {
   "cell_type": "code",
   "execution_count": null,
   "id": "97a570bf-76cc-4ef1-b553-bb330a403eaa",
   "metadata": {},
   "outputs": [],
   "source": []
  },
  {
   "cell_type": "code",
   "execution_count": null,
   "id": "343fb891-eae3-437f-93e4-281820afad04",
   "metadata": {},
   "outputs": [],
   "source": []
  },
  {
   "cell_type": "markdown",
   "id": "00e5c9ea-6b44-4e2e-9589-68f025724567",
   "metadata": {},
   "source": [
    "<font size = 4><span style = 'background-color: #ddddff; padding: 5px 5px 3px 5px; line-height: 1.5; color:black;border-radius: 3px;'>**Text**"
   ]
  },
  {
   "cell_type": "code",
   "execution_count": null,
   "id": "6431604a-1dbf-4115-91de-d5417105290b",
   "metadata": {},
   "outputs": [],
   "source": []
  },
  {
   "cell_type": "code",
   "execution_count": null,
   "id": "c4ce91f3-0319-4b05-a3ac-8210bafab0a9",
   "metadata": {},
   "outputs": [],
   "source": []
  },
  {
   "cell_type": "markdown",
   "id": "e3ad434e-8000-4492-a668-69f3af3d49a2",
   "metadata": {},
   "source": [
    "<font size = 4><span style = 'background-color: #ddddff; padding: 5px 5px 3px 5px; line-height: 1.5; color:black;border-radius: 3px;'>**Text**"
   ]
  },
  {
   "cell_type": "code",
   "execution_count": null,
   "id": "e2050c75-b581-4a7f-a4ac-83181310be96",
   "metadata": {},
   "outputs": [],
   "source": []
  },
  {
   "cell_type": "code",
   "execution_count": null,
   "id": "38a88aaa-a34d-439d-9aba-9f69c3bffadc",
   "metadata": {},
   "outputs": [],
   "source": []
  },
  {
   "cell_type": "code",
   "execution_count": null,
   "id": "67329ebb-ec0d-4045-9aea-68f8b62b083f",
   "metadata": {},
   "outputs": [],
   "source": []
  },
  {
   "cell_type": "markdown",
   "id": "e9be7878-cc6f-488c-b678-42bf0b77eea1",
   "metadata": {},
   "source": [
    "<font size = 4><span style = 'background-color: #ddddff; padding: 5px 5px 3px 5px; line-height: 1.5; color:black;border-radius: 3px;'>**Text**"
   ]
  },
  {
   "cell_type": "code",
   "execution_count": null,
   "id": "b42c5cd0-780a-40c6-8bfc-2216efaaa2e5",
   "metadata": {},
   "outputs": [],
   "source": []
  },
  {
   "cell_type": "code",
   "execution_count": null,
   "id": "8931cdda-5118-40be-9a8c-548551a5c5fe",
   "metadata": {},
   "outputs": [],
   "source": []
  },
  {
   "cell_type": "markdown",
   "id": "a8f5b519-133b-4947-aa43-490068c1e3ce",
   "metadata": {},
   "source": [
    "<font size = 4><span style = 'background-color: #ddddff; padding: 5px 5px 3px 5px; line-height: 1.5; color:black;border-radius: 3px;'>**Text**"
   ]
  },
  {
   "cell_type": "code",
   "execution_count": null,
   "id": "efcb65c5-04ea-4ef3-985b-21f5c08d4f6c",
   "metadata": {},
   "outputs": [],
   "source": []
  },
  {
   "cell_type": "code",
   "execution_count": null,
   "id": "75d8bd10-4859-4f14-b0e9-67967c115de4",
   "metadata": {},
   "outputs": [],
   "source": []
  }
 ],
 "metadata": {
  "kernelspec": {
   "display_name": "Python 3 (ipykernel)",
   "language": "python",
   "name": "python3"
  },
  "language_info": {
   "codemirror_mode": {
    "name": "ipython",
    "version": 3
   },
   "file_extension": ".py",
   "mimetype": "text/x-python",
   "name": "python",
   "nbconvert_exporter": "python",
   "pygments_lexer": "ipython3",
   "version": "3.10.9"
  }
 },
 "nbformat": 4,
 "nbformat_minor": 5
}
