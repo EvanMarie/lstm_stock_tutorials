{
 "cells": [
  {
   "cell_type": "markdown",
   "id": "52fc3297-256c-4820-96e9-8a40697caba9",
   "metadata": {},
   "source": [
    "# Multivariate Time Series Data PreProcessing <br> [[YouTube]](https://www.youtube.com/watch?v=jR0phoeXjrc)<br>\n",
    "\n",
    "## AND<br>\n",
    "\n",
    "# Multivariate Forecasting with LSTM <br> [[YouTube]](https://www.youtube.com/watch?v=ODEGJ_kh2aA)\n",
    "<br>"
   ]
  },
  {
   "cell_type": "code",
   "execution_count": 1,
   "id": "ae577c68-7856-4f3a-9a09-b09d804599d5",
   "metadata": {},
   "outputs": [],
   "source": [
    "import pandas as pd\n",
    "from pylab import rcParams\n",
    "import numpy as np\n",
    "import seaborn as sns\n",
    "import math\n",
    "import torch\n",
    "import torch.nn as nn\n",
    "import torch.nn.functional as F\n",
    "import torch.autograd as ag\n",
    "import pytorch_lightning as pl\n",
    "from pytorch_lightning.callbacks import ModelCheckpoint, EarlyStopping\n",
    "from pytorch_lightning.loggers import TensorBoardLogger\n",
    "from torch.utils.data import Dataset, DataLoader\n",
    "from sklearn.preprocessing import MinMaxScaler\n",
    "import matplotlib.pyplot as plt\n",
    "from matplotlib import rc\n",
    "%matplotlib inline\n",
    "from helpers import *\n",
    "import tqdm as tq\n",
    "from collections import defaultdict"
   ]
  },
  {
   "cell_type": "code",
   "execution_count": 2,
   "id": "70d20bb2-e90b-43be-a1e8-95c8821d8b83",
   "metadata": {},
   "outputs": [
    {
     "name": "stderr",
     "output_type": "stream",
     "text": [
      "Global seed set to 123\n"
     ]
    }
   ],
   "source": [
    "sns.set(style='whitegrid', \n",
    "\t\tpalette='muted', \n",
    "\t\tfont_scale=1.2)\n",
    "\n",
    "HAPPY_COLORS = ['#01BEFE', '#FFDD00', '#FF7D00', '#FF006D', \n",
    "\t\t\t\t'#ADFF02', '#8F00FF']\n",
    "\n",
    "sns.set_palette(sns.color_palette(HAPPY_COLORS))\n",
    "\n",
    "rcParams['figure.figsize'] = 13, 7\n",
    "\n",
    "pl.seed_everything(123)\n",
    "import yfinance as yf\n",
    "tq.tqdm.pandas()"
   ]
  },
  {
   "cell_type": "markdown",
   "id": "b7223520-c0a9-448e-80c8-0068cdd178e3",
   "metadata": {},
   "source": [
    "<font size = 4><span style = 'background-color: #ddddff; padding: 5px 5px 3px 5px; line-height: 1.5; color:black;border-radius: 3px;'>**compile_stocks()**\n",
    "* Yahoo Finance only allows 7 days worth of data at 1 minute intervals\n",
    "* This function will compile dataframes in 7 day increments for an entire range of dates\n",
    "* They also only allow 1 min data for up to 30 days prior\n",
    "* This can be used for other intervals that allow for longer time periods"
   ]
  },
  {
   "cell_type": "code",
   "execution_count": 3,
   "id": "5fabab05-f49a-4f3b-9356-f66b6ab5f226",
   "metadata": {},
   "outputs": [],
   "source": [
    "def compile_stocks(symbol, end, start, day_window, interval):\n",
    "\timport datetime\n",
    "\timport yfinance as yf\n",
    "\t\n",
    "\tend_date = end\n",
    "\tstart_date = (pd.to_datetime(end) - datetime.timedelta(days = day_window))\n",
    "\t\n",
    "\tdfs = []\n",
    "\tstop_me = False\n",
    "\t\n",
    "\twhile pd.to_datetime(start_date) >= pd.to_datetime(start):\n",
    "\t\tdf = yf.download(symbol, \n",
    "\t\t\t\t\t\t start = start_date,\n",
    "\t\t\t\t\t\t end = end_date, \n",
    "\t\t\t\t\t\t interval = interval)\n",
    "\n",
    "\t\tdfs.append(df)\n",
    "\t\tend_date = start_date\n",
    "\t\tstart_date = start_date - datetime.timedelta(days = day_window)\n",
    "\n",
    "\t\tif start_date < pd.to_datetime(start):\n",
    "\t\t\tstart_date = pd.to_datetime(start)\n",
    "\t\telse:\n",
    "\t\t\tstart_date = start_date\n",
    "\n",
    "\t\tif start_date == end_date:\n",
    "\t\t\tbreak\n",
    "\t\t\n",
    "\tmaster_df = pd.concat(dfs).sort_values(by=\"Datetime\")\n",
    "\t\t\n",
    "\treturn master_df"
   ]
  },
  {
   "cell_type": "code",
   "execution_count": 4,
   "id": "f39e9218-c21d-4505-8bc3-e1aa905dfda8",
   "metadata": {},
   "outputs": [
    {
     "name": "stdout",
     "output_type": "stream",
     "text": [
      "[*********************100%***********************]  1 of 1 completed\n",
      "[*********************100%***********************]  1 of 1 completed\n",
      "[*********************100%***********************]  1 of 1 completed\n",
      "[*********************100%***********************]  1 of 1 completed\n"
     ]
    }
   ],
   "source": [
    "data = compile_stocks('BTC-USD', \n",
    "\t\t\t\t\t '2023-01-22', \n",
    "\t\t\t\t\t '2022-12-25',\n",
    "\t\t\t\t\t 7, '1m')"
   ]
  },
  {
   "cell_type": "markdown",
   "id": "512498eb-04a5-438f-b15c-a16a2bd66f8b",
   "metadata": {},
   "source": [
    "<font size = 4><span style = 'background-color: #ddddff; padding: 5px 5px 3px 5px; line-height: 1.5; color:black;border-radius: 3px;'>**The Data**"
   ]
  },
  {
   "cell_type": "code",
   "execution_count": 5,
   "id": "2dc6aa61-709d-43c2-8694-7488c35fa066",
   "metadata": {},
   "outputs": [
    {
     "name": "stdout",
     "output_type": "stream",
     "text": [
      "\n"
     ]
    },
    {
     "data": {
      "text/html": [
       "<span style = 'display: block; width: 250.0px; \t\t\t\t\t\tline-height: 2; background: #333333;\t\t\t\t\t\tmargin-left: auto; margin-right: auto;\t\t\t\t\t\tborder: 1px solid text_color;\t\t\t\t\t\tborder-radius: 3px; text-align: center;\t\t\t\t\t\tpadding: 3px 8px 3px 8px;'>\t\t\t\t\t\t<b><font size=4><text style=color:white>raw bitcoin data: head(3)\t\t\t\t\t\t</text></font></b></style>"
      ],
      "text/plain": [
       "<IPython.core.display.HTML object>"
      ]
     },
     "metadata": {},
     "output_type": "display_data"
    },
    {
     "data": {
      "text/html": [
       "<center><table border=\"1\" class=\"dataframe\">\n",
       "  <thead>\n",
       "    <tr style=\"text-align: right;\">\n",
       "      <th></th>\n",
       "      <th>open</th>\n",
       "      <th>high</th>\n",
       "      <th>low</th>\n",
       "      <th>close</th>\n",
       "      <th>adj close</th>\n",
       "      <th>volume</th>\n",
       "    </tr>\n",
       "    <tr>\n",
       "      <th>Datetime</th>\n",
       "      <th></th>\n",
       "      <th></th>\n",
       "      <th></th>\n",
       "      <th></th>\n",
       "      <th></th>\n",
       "      <th></th>\n",
       "    </tr>\n",
       "  </thead>\n",
       "  <tbody>\n",
       "    <tr>\n",
       "      <th>2022-12-25 00:00:00+00:00</th>\n",
       "      <td>16,847.51</td>\n",
       "      <td>16,847.51</td>\n",
       "      <td>16,847.51</td>\n",
       "      <td>16,847.51</td>\n",
       "      <td>16,847.51</td>\n",
       "      <td>0</td>\n",
       "    </tr>\n",
       "    <tr>\n",
       "      <th>2022-12-25 00:01:00+00:00</th>\n",
       "      <td>16,846.72</td>\n",
       "      <td>16,846.72</td>\n",
       "      <td>16,846.72</td>\n",
       "      <td>16,846.72</td>\n",
       "      <td>16,846.72</td>\n",
       "      <td>0</td>\n",
       "    </tr>\n",
       "    <tr>\n",
       "      <th>2022-12-25 00:02:00+00:00</th>\n",
       "      <td>16,846.70</td>\n",
       "      <td>16,846.70</td>\n",
       "      <td>16,846.70</td>\n",
       "      <td>16,846.70</td>\n",
       "      <td>16,846.70</td>\n",
       "      <td>0</td>\n",
       "    </tr>\n",
       "  </tbody>\n",
       "</table>"
      ],
      "text/plain": [
       "<IPython.core.display.HTML object>"
      ]
     },
     "metadata": {},
     "output_type": "display_data"
    },
    {
     "name": "stdout",
     "output_type": "stream",
     "text": [
      "\n"
     ]
    },
    {
     "data": {
      "text/html": [
       "<span style = 'display: block; width: 250.0px; \t\t\t\t\t\tline-height: 2; background: #333333;\t\t\t\t\t\tmargin-left: auto; margin-right: auto;\t\t\t\t\t\tborder: 1px solid text_color;\t\t\t\t\t\tborder-radius: 3px; text-align: center;\t\t\t\t\t\tpadding: 3px 8px 3px 8px;'>\t\t\t\t\t\t<b><font size=4><text style=color:white>raw bitcoin data: tail(3)\t\t\t\t\t\t</text></font></b></style>"
      ],
      "text/plain": [
       "<IPython.core.display.HTML object>"
      ]
     },
     "metadata": {},
     "output_type": "display_data"
    },
    {
     "data": {
      "text/html": [
       "<center><table border=\"1\" class=\"dataframe\">\n",
       "  <thead>\n",
       "    <tr style=\"text-align: right;\">\n",
       "      <th></th>\n",
       "      <th>open</th>\n",
       "      <th>high</th>\n",
       "      <th>low</th>\n",
       "      <th>close</th>\n",
       "      <th>adj close</th>\n",
       "      <th>volume</th>\n",
       "    </tr>\n",
       "    <tr>\n",
       "      <th>Datetime</th>\n",
       "      <th></th>\n",
       "      <th></th>\n",
       "      <th></th>\n",
       "      <th></th>\n",
       "      <th></th>\n",
       "      <th></th>\n",
       "    </tr>\n",
       "  </thead>\n",
       "  <tbody>\n",
       "    <tr>\n",
       "      <th>2023-01-21 23:56:00+00:00</th>\n",
       "      <td>22,780.84</td>\n",
       "      <td>22,780.84</td>\n",
       "      <td>22,780.84</td>\n",
       "      <td>22,780.84</td>\n",
       "      <td>22,780.84</td>\n",
       "      <td>0</td>\n",
       "    </tr>\n",
       "    <tr>\n",
       "      <th>2023-01-21 23:57:00+00:00</th>\n",
       "      <td>22,784.79</td>\n",
       "      <td>22,784.79</td>\n",
       "      <td>22,784.79</td>\n",
       "      <td>22,784.79</td>\n",
       "      <td>22,784.79</td>\n",
       "      <td>0</td>\n",
       "    </tr>\n",
       "    <tr>\n",
       "      <th>2023-01-21 23:58:00+00:00</th>\n",
       "      <td>22,777.93</td>\n",
       "      <td>22,777.93</td>\n",
       "      <td>22,777.93</td>\n",
       "      <td>22,777.93</td>\n",
       "      <td>22,777.93</td>\n",
       "      <td>10856448</td>\n",
       "    </tr>\n",
       "  </tbody>\n",
       "</table>"
      ],
      "text/plain": [
       "<IPython.core.display.HTML object>"
      ]
     },
     "metadata": {},
     "output_type": "display_data"
    },
    {
     "name": "stdout",
     "output_type": "stream",
     "text": [
      "\n"
     ]
    }
   ],
   "source": [
    "df = data.copy()\n",
    "df.columns = [x.lower() for x in df.columns]\n",
    "head_tail_vert(df, 3, 'raw bitcoin data', intraday=True)"
   ]
  },
  {
   "cell_type": "code",
   "execution_count": 6,
   "id": "d82fb65e-718f-4a21-a724-1746dbdd308c",
   "metadata": {},
   "outputs": [
    {
     "name": "stdout",
     "output_type": "stream",
     "text": [
      "<class 'pandas.core.frame.DataFrame'>\n",
      "DatetimeIndex: 40074 entries, 2022-12-25 00:00:00+00:00 to 2023-01-21 23:58:00+00:00\n",
      "Data columns (total 6 columns):\n",
      " #   Column     Non-Null Count  Dtype  \n",
      "---  ------     --------------  -----  \n",
      " 0   open       40074 non-null  float64\n",
      " 1   high       40074 non-null  float64\n",
      " 2   low        40074 non-null  float64\n",
      " 3   close      40074 non-null  float64\n",
      " 4   adj close  40074 non-null  float64\n",
      " 5   volume     40074 non-null  int64  \n",
      "dtypes: float64(5), int64(1)\n",
      "memory usage: 2.1 MB\n"
     ]
    }
   ],
   "source": [
    "df.info()"
   ]
  },
  {
   "cell_type": "code",
   "execution_count": 7,
   "id": "77512298-6519-4c9b-9dff-016dca30d807",
   "metadata": {},
   "outputs": [
    {
     "data": {
      "text/plain": [
       "(40074, 6)"
      ]
     },
     "execution_count": 7,
     "metadata": {},
     "output_type": "execute_result"
    }
   ],
   "source": [
    "df.shape"
   ]
  },
  {
   "cell_type": "markdown",
   "id": "5d9f3ef0-9138-4144-9f0a-fdcaa71b715b",
   "metadata": {},
   "source": [
    "<font size = 4><span style = 'background-color: #ddddff; padding: 5px 5px 3px 5px; line-height: 1.5; color:black;border-radius: 3px;'>**Shift Method**\n",
    "* using `shift()` to add the previous timestamp value\n",
    "* then creating a difference column to show change since last\n",
    "* creating a function to do all this"
   ]
  },
  {
   "cell_type": "code",
   "execution_count": 8,
   "id": "c11bc431-4ba2-4383-a872-2cfb06e8429e",
   "metadata": {},
   "outputs": [],
   "source": [
    "def add_change_column(df, column_changing, new_col_name):\n",
    "\tdf['previous'] = df[column_changing].shift()\n",
    "\tdf = df.drop(df.index[0])\n",
    "\tdf[new_col_name] = df[column_changing] - df.previous\n",
    "\tdf = df.drop(columns = ['previous'])\n",
    "\treturn df"
   ]
  },
  {
   "cell_type": "code",
   "execution_count": 9,
   "id": "f8705277-cb83-464c-afb3-0a76d0aed1e6",
   "metadata": {},
   "outputs": [],
   "source": [
    "df = add_change_column(df, 'close', 'change')"
   ]
  },
  {
   "cell_type": "code",
   "execution_count": 15,
   "id": "bc0eb874-3693-42f4-bf47-9677e4c1a900",
   "metadata": {},
   "outputs": [
    {
     "name": "stdout",
     "output_type": "stream",
     "text": [
      "\n"
     ]
    },
    {
     "data": {
      "text/html": [
       "<span style = 'display: block; width: 280.0px; \t\t\t\t\t\tline-height: 2; background: #333333;\t\t\t\t\t\tmargin-left: auto; margin-right: auto;\t\t\t\t\t\tborder: 1px solid text_color;\t\t\t\t\t\tborder-radius: 3px; text-align: center;\t\t\t\t\t\tpadding: 3px 8px 3px 8px;'>\t\t\t\t\t\t<b><font size=4><text style=color:white>Change column added: head(3)\t\t\t\t\t\t</text></font></b></style>"
      ],
      "text/plain": [
       "<IPython.core.display.HTML object>"
      ]
     },
     "metadata": {},
     "output_type": "display_data"
    },
    {
     "data": {
      "text/html": [
       "<center><table border=\"1\" class=\"dataframe\">\n",
       "  <thead>\n",
       "    <tr style=\"text-align: right;\">\n",
       "      <th></th>\n",
       "      <th>open</th>\n",
       "      <th>high</th>\n",
       "      <th>low</th>\n",
       "      <th>close</th>\n",
       "      <th>adj close</th>\n",
       "      <th>volume</th>\n",
       "      <th>change</th>\n",
       "    </tr>\n",
       "    <tr>\n",
       "      <th>Datetime</th>\n",
       "      <th></th>\n",
       "      <th></th>\n",
       "      <th></th>\n",
       "      <th></th>\n",
       "      <th></th>\n",
       "      <th></th>\n",
       "      <th></th>\n",
       "    </tr>\n",
       "  </thead>\n",
       "  <tbody>\n",
       "    <tr>\n",
       "      <th>2022-12-25 00:01:00+00:00</th>\n",
       "      <td>16,846.72</td>\n",
       "      <td>16,846.72</td>\n",
       "      <td>16,846.72</td>\n",
       "      <td>16,846.72</td>\n",
       "      <td>16,846.72</td>\n",
       "      <td>0</td>\n",
       "      <td>-0.79</td>\n",
       "    </tr>\n",
       "    <tr>\n",
       "      <th>2022-12-25 00:02:00+00:00</th>\n",
       "      <td>16,846.70</td>\n",
       "      <td>16,846.70</td>\n",
       "      <td>16,846.70</td>\n",
       "      <td>16,846.70</td>\n",
       "      <td>16,846.70</td>\n",
       "      <td>0</td>\n",
       "      <td>-0.02</td>\n",
       "    </tr>\n",
       "    <tr>\n",
       "      <th>2022-12-25 00:03:00+00:00</th>\n",
       "      <td>16,846.54</td>\n",
       "      <td>16,846.54</td>\n",
       "      <td>16,846.54</td>\n",
       "      <td>16,846.54</td>\n",
       "      <td>16,846.54</td>\n",
       "      <td>0</td>\n",
       "      <td>-0.17</td>\n",
       "    </tr>\n",
       "  </tbody>\n",
       "</table>"
      ],
      "text/plain": [
       "<IPython.core.display.HTML object>"
      ]
     },
     "metadata": {},
     "output_type": "display_data"
    },
    {
     "name": "stdout",
     "output_type": "stream",
     "text": [
      "\n"
     ]
    },
    {
     "data": {
      "text/html": [
       "<span style = 'display: block; width: 280.0px; \t\t\t\t\t\tline-height: 2; background: #333333;\t\t\t\t\t\tmargin-left: auto; margin-right: auto;\t\t\t\t\t\tborder: 1px solid text_color;\t\t\t\t\t\tborder-radius: 3px; text-align: center;\t\t\t\t\t\tpadding: 3px 8px 3px 8px;'>\t\t\t\t\t\t<b><font size=4><text style=color:white>Change column added: tail(3)\t\t\t\t\t\t</text></font></b></style>"
      ],
      "text/plain": [
       "<IPython.core.display.HTML object>"
      ]
     },
     "metadata": {},
     "output_type": "display_data"
    },
    {
     "data": {
      "text/html": [
       "<center><table border=\"1\" class=\"dataframe\">\n",
       "  <thead>\n",
       "    <tr style=\"text-align: right;\">\n",
       "      <th></th>\n",
       "      <th>open</th>\n",
       "      <th>high</th>\n",
       "      <th>low</th>\n",
       "      <th>close</th>\n",
       "      <th>adj close</th>\n",
       "      <th>volume</th>\n",
       "      <th>change</th>\n",
       "    </tr>\n",
       "    <tr>\n",
       "      <th>Datetime</th>\n",
       "      <th></th>\n",
       "      <th></th>\n",
       "      <th></th>\n",
       "      <th></th>\n",
       "      <th></th>\n",
       "      <th></th>\n",
       "      <th></th>\n",
       "    </tr>\n",
       "  </thead>\n",
       "  <tbody>\n",
       "    <tr>\n",
       "      <th>2023-01-21 23:56:00+00:00</th>\n",
       "      <td>22,780.84</td>\n",
       "      <td>22,780.84</td>\n",
       "      <td>22,780.84</td>\n",
       "      <td>22,780.84</td>\n",
       "      <td>22,780.84</td>\n",
       "      <td>0</td>\n",
       "      <td>3.23</td>\n",
       "    </tr>\n",
       "    <tr>\n",
       "      <th>2023-01-21 23:57:00+00:00</th>\n",
       "      <td>22,784.79</td>\n",
       "      <td>22,784.79</td>\n",
       "      <td>22,784.79</td>\n",
       "      <td>22,784.79</td>\n",
       "      <td>22,784.79</td>\n",
       "      <td>0</td>\n",
       "      <td>3.95</td>\n",
       "    </tr>\n",
       "    <tr>\n",
       "      <th>2023-01-21 23:58:00+00:00</th>\n",
       "      <td>22,777.93</td>\n",
       "      <td>22,777.93</td>\n",
       "      <td>22,777.93</td>\n",
       "      <td>22,777.93</td>\n",
       "      <td>22,777.93</td>\n",
       "      <td>10856448</td>\n",
       "      <td>-6.87</td>\n",
       "    </tr>\n",
       "  </tbody>\n",
       "</table>"
      ],
      "text/plain": [
       "<IPython.core.display.HTML object>"
      ]
     },
     "metadata": {},
     "output_type": "display_data"
    },
    {
     "name": "stdout",
     "output_type": "stream",
     "text": [
      "\n"
     ]
    }
   ],
   "source": [
    "head_tail_vert(df, 3, \"Change column added\", intraday=True)"
   ]
  },
  {
   "cell_type": "markdown",
   "id": "851ed967-8a86-471e-a4f8-7fc3bb4a15c2",
   "metadata": {},
   "source": [
    "<font size = 4><span style = 'background-color: #ddddff; padding: 5px 5px 3px 5px; line-height: 1.5; color:black;border-radius: 3px;'>**Feature Engineering**"
   ]
  },
  {
   "cell_type": "markdown",
   "id": "368c2c52-31f6-4897-8e5e-9370bfd3c24a",
   "metadata": {},
   "source": [
    "<font size = 4><b> The following is Valkov's (tutorial guide) method of adding these features, which loops through the entire dataframe. This makes no sense in Pandas. "
   ]
  },
  {
   "cell_type": "code",
   "execution_count": 16,
   "id": "ab7f8098-3179-46a4-b047-1106ea58c6e0",
   "metadata": {},
   "outputs": [],
   "source": [
    "def his_featurize(df):\n",
    "\trows = []\n",
    "\tdf['date'] = df.index\n",
    "\t\n",
    "\tfor item, row in df.iterrows():\n",
    "\t\trow_data = dict(\n",
    "\t\t\tweekday = row.date.dayofweek,\n",
    "\t\t\tmonth_day = row.date.day,\n",
    "\t\t\tyear_week = row.date.week,\n",
    "\t\t\tmonth = row.date.month,\n",
    "\t\t\topen = row.open,\n",
    "\t\t\thigh = row.high,\n",
    "\t\t\tlow = row.low,\n",
    "\t\t\tclose = row.close,\n",
    "\t\t\tchange = row.change)\n",
    "\n",
    "\t\trows.append(row_data)\n",
    "\t\t\n",
    "\tfeatures_df = pd.DataFrame(rows)\n",
    "\t\n",
    "\treturn features_df"
   ]
  },
  {
   "cell_type": "markdown",
   "id": "ebd3eaf6-8e79-49fb-b509-cd344ae9d67b",
   "metadata": {},
   "source": [
    "<font size = 4><b> This is my version. Much better."
   ]
  },
  {
   "cell_type": "code",
   "execution_count": 17,
   "id": "8e5e20e5-3a05-412e-930c-71d8d3f7928c",
   "metadata": {},
   "outputs": [],
   "source": [
    "def featurize_df(df):\n",
    "\tdf['weekday'] = df.index.dayofweek\n",
    "\tdf['month_day'] = df.index.day\n",
    "\tdf['year_week'] = df.index.isocalendar().week\n",
    "\tdf['month'] = df.index.month\n",
    "\t\n",
    "\treturn df"
   ]
  },
  {
   "cell_type": "code",
   "execution_count": 18,
   "id": "50519399-a909-4e39-9f02-cecb3e7c0251",
   "metadata": {},
   "outputs": [
    {
     "name": "stdout",
     "output_type": "stream",
     "text": [
      "CPU times: user 2.23 s, sys: 24.7 ms, total: 2.26 s\n",
      "Wall time: 2.27 s\n"
     ]
    }
   ],
   "source": [
    "%%time\n",
    "test = his_featurize(df.copy())"
   ]
  },
  {
   "cell_type": "code",
   "execution_count": 19,
   "id": "2193b517-df04-417b-888c-5c5524208ae8",
   "metadata": {},
   "outputs": [
    {
     "name": "stdout",
     "output_type": "stream",
     "text": [
      "CPU times: user 30.3 ms, sys: 2.41 ms, total: 32.7 ms\n",
      "Wall time: 30.6 ms\n"
     ]
    }
   ],
   "source": [
    "%%time\n",
    "df = featurize_df(df)"
   ]
  },
  {
   "cell_type": "code",
   "execution_count": 20,
   "id": "bf56e17e-8d57-48da-969d-c22f22f295d3",
   "metadata": {},
   "outputs": [
    {
     "name": "stdout",
     "output_type": "stream",
     "text": [
      "\n"
     ]
    },
    {
     "data": {
      "text/html": [
       "<span style = 'display: block; width: 310.0px; \t\t\t\t\t\tline-height: 2; background: #333333;\t\t\t\t\t\tmargin-left: auto; margin-right: auto;\t\t\t\t\t\tborder: 1px solid text_color;\t\t\t\t\t\tborder-radius: 3px; text-align: center;\t\t\t\t\t\tpadding: 3px 8px 3px 8px;'>\t\t\t\t\t\t<b><font size=4><text style=color:white>df with added features: head(3)\t\t\t\t\t\t</text></font></b></style>"
      ],
      "text/plain": [
       "<IPython.core.display.HTML object>"
      ]
     },
     "metadata": {},
     "output_type": "display_data"
    },
    {
     "data": {
      "text/html": [
       "<center><table border=\"1\" class=\"dataframe\">\n",
       "  <thead>\n",
       "    <tr style=\"text-align: right;\">\n",
       "      <th></th>\n",
       "      <th>open</th>\n",
       "      <th>high</th>\n",
       "      <th>low</th>\n",
       "      <th>close</th>\n",
       "      <th>adj close</th>\n",
       "      <th>volume</th>\n",
       "      <th>change</th>\n",
       "      <th>weekday</th>\n",
       "      <th>month_day</th>\n",
       "      <th>year_week</th>\n",
       "      <th>month</th>\n",
       "    </tr>\n",
       "    <tr>\n",
       "      <th>Datetime</th>\n",
       "      <th></th>\n",
       "      <th></th>\n",
       "      <th></th>\n",
       "      <th></th>\n",
       "      <th></th>\n",
       "      <th></th>\n",
       "      <th></th>\n",
       "      <th></th>\n",
       "      <th></th>\n",
       "      <th></th>\n",
       "      <th></th>\n",
       "    </tr>\n",
       "  </thead>\n",
       "  <tbody>\n",
       "    <tr>\n",
       "      <th>2022-12-25</th>\n",
       "      <td>16,846.72</td>\n",
       "      <td>16,846.72</td>\n",
       "      <td>16,846.72</td>\n",
       "      <td>16,846.72</td>\n",
       "      <td>16,846.72</td>\n",
       "      <td>0</td>\n",
       "      <td>-0.79</td>\n",
       "      <td>6</td>\n",
       "      <td>25</td>\n",
       "      <td>51</td>\n",
       "      <td>12</td>\n",
       "    </tr>\n",
       "    <tr>\n",
       "      <th>2022-12-25</th>\n",
       "      <td>16,846.70</td>\n",
       "      <td>16,846.70</td>\n",
       "      <td>16,846.70</td>\n",
       "      <td>16,846.70</td>\n",
       "      <td>16,846.70</td>\n",
       "      <td>0</td>\n",
       "      <td>-0.02</td>\n",
       "      <td>6</td>\n",
       "      <td>25</td>\n",
       "      <td>51</td>\n",
       "      <td>12</td>\n",
       "    </tr>\n",
       "    <tr>\n",
       "      <th>2022-12-25</th>\n",
       "      <td>16,846.54</td>\n",
       "      <td>16,846.54</td>\n",
       "      <td>16,846.54</td>\n",
       "      <td>16,846.54</td>\n",
       "      <td>16,846.54</td>\n",
       "      <td>0</td>\n",
       "      <td>-0.17</td>\n",
       "      <td>6</td>\n",
       "      <td>25</td>\n",
       "      <td>51</td>\n",
       "      <td>12</td>\n",
       "    </tr>\n",
       "  </tbody>\n",
       "</table>"
      ],
      "text/plain": [
       "<IPython.core.display.HTML object>"
      ]
     },
     "metadata": {},
     "output_type": "display_data"
    },
    {
     "name": "stdout",
     "output_type": "stream",
     "text": [
      "\n"
     ]
    },
    {
     "data": {
      "text/html": [
       "<span style = 'display: block; width: 310.0px; \t\t\t\t\t\tline-height: 2; background: #333333;\t\t\t\t\t\tmargin-left: auto; margin-right: auto;\t\t\t\t\t\tborder: 1px solid text_color;\t\t\t\t\t\tborder-radius: 3px; text-align: center;\t\t\t\t\t\tpadding: 3px 8px 3px 8px;'>\t\t\t\t\t\t<b><font size=4><text style=color:white>df with added features: tail(3)\t\t\t\t\t\t</text></font></b></style>"
      ],
      "text/plain": [
       "<IPython.core.display.HTML object>"
      ]
     },
     "metadata": {},
     "output_type": "display_data"
    },
    {
     "data": {
      "text/html": [
       "<center><table border=\"1\" class=\"dataframe\">\n",
       "  <thead>\n",
       "    <tr style=\"text-align: right;\">\n",
       "      <th></th>\n",
       "      <th>open</th>\n",
       "      <th>high</th>\n",
       "      <th>low</th>\n",
       "      <th>close</th>\n",
       "      <th>adj close</th>\n",
       "      <th>volume</th>\n",
       "      <th>change</th>\n",
       "      <th>weekday</th>\n",
       "      <th>month_day</th>\n",
       "      <th>year_week</th>\n",
       "      <th>month</th>\n",
       "    </tr>\n",
       "    <tr>\n",
       "      <th>Datetime</th>\n",
       "      <th></th>\n",
       "      <th></th>\n",
       "      <th></th>\n",
       "      <th></th>\n",
       "      <th></th>\n",
       "      <th></th>\n",
       "      <th></th>\n",
       "      <th></th>\n",
       "      <th></th>\n",
       "      <th></th>\n",
       "      <th></th>\n",
       "    </tr>\n",
       "  </thead>\n",
       "  <tbody>\n",
       "    <tr>\n",
       "      <th>2023-01-21</th>\n",
       "      <td>22,780.84</td>\n",
       "      <td>22,780.84</td>\n",
       "      <td>22,780.84</td>\n",
       "      <td>22,780.84</td>\n",
       "      <td>22,780.84</td>\n",
       "      <td>0</td>\n",
       "      <td>3.23</td>\n",
       "      <td>5</td>\n",
       "      <td>21</td>\n",
       "      <td>3</td>\n",
       "      <td>1</td>\n",
       "    </tr>\n",
       "    <tr>\n",
       "      <th>2023-01-21</th>\n",
       "      <td>22,784.79</td>\n",
       "      <td>22,784.79</td>\n",
       "      <td>22,784.79</td>\n",
       "      <td>22,784.79</td>\n",
       "      <td>22,784.79</td>\n",
       "      <td>0</td>\n",
       "      <td>3.95</td>\n",
       "      <td>5</td>\n",
       "      <td>21</td>\n",
       "      <td>3</td>\n",
       "      <td>1</td>\n",
       "    </tr>\n",
       "    <tr>\n",
       "      <th>2023-01-21</th>\n",
       "      <td>22,777.93</td>\n",
       "      <td>22,777.93</td>\n",
       "      <td>22,777.93</td>\n",
       "      <td>22,777.93</td>\n",
       "      <td>22,777.93</td>\n",
       "      <td>10856448</td>\n",
       "      <td>-6.87</td>\n",
       "      <td>5</td>\n",
       "      <td>21</td>\n",
       "      <td>3</td>\n",
       "      <td>1</td>\n",
       "    </tr>\n",
       "  </tbody>\n",
       "</table>"
      ],
      "text/plain": [
       "<IPython.core.display.HTML object>"
      ]
     },
     "metadata": {},
     "output_type": "display_data"
    },
    {
     "name": "stdout",
     "output_type": "stream",
     "text": [
      "\n"
     ]
    }
   ],
   "source": [
    "head_tail_vert(df, 3, 'df with added features')"
   ]
  },
  {
   "cell_type": "code",
   "execution_count": 21,
   "id": "09a5ae31-17db-46e1-b69f-a9b4463911f1",
   "metadata": {},
   "outputs": [
    {
     "data": {
      "text/html": [
       "<center><style type=\"text/css\">\n",
       "#T_51457 caption {\n",
       "  background: #333333;\n",
       "  border-radius: 3px;\n",
       "  padding: 5px;\n",
       "  color: white;\n",
       "  font-size: 15px;\n",
       "  font-weight: bold;\n",
       "}\n",
       "</style>\n",
       "<table id=\"T_51457\" style='display:inline-block'>\n",
       "  <caption>df.close</caption>\n",
       "  <thead>\n",
       "    <tr>\n",
       "      <th class=\"blank level0\" >&nbsp;</th>\n",
       "      <th id=\"T_51457_level0_col0\" class=\"col_heading level0 col0\" >close</th>\n",
       "    </tr>\n",
       "  </thead>\n",
       "  <tbody>\n",
       "    <tr>\n",
       "      <th id=\"T_51457_level0_row0\" class=\"row_heading level0 row0\" >count</th>\n",
       "      <td id=\"T_51457_row0_col0\" class=\"data row0 col0\" >40,073.00</td>\n",
       "    </tr>\n",
       "    <tr>\n",
       "      <th id=\"T_51457_level0_row1\" class=\"row_heading level0 row1\" >mean</th>\n",
       "      <td id=\"T_51457_row1_col0\" class=\"data row1 col0\" >18,235.33</td>\n",
       "    </tr>\n",
       "    <tr>\n",
       "      <th id=\"T_51457_level0_row2\" class=\"row_heading level0 row2\" >std</th>\n",
       "      <td id=\"T_51457_row2_col0\" class=\"data row2 col0\" >2,011.31</td>\n",
       "    </tr>\n",
       "    <tr>\n",
       "      <th id=\"T_51457_level0_row3\" class=\"row_heading level0 row3\" >min</th>\n",
       "      <td id=\"T_51457_row3_col0\" class=\"data row3 col0\" >16,408.47</td>\n",
       "    </tr>\n",
       "    <tr>\n",
       "      <th id=\"T_51457_level0_row4\" class=\"row_heading level0 row4\" >25%</th>\n",
       "      <td id=\"T_51457_row4_col0\" class=\"data row4 col0\" >16,735.81</td>\n",
       "    </tr>\n",
       "    <tr>\n",
       "      <th id=\"T_51457_level0_row5\" class=\"row_heading level0 row5\" >50%</th>\n",
       "      <td id=\"T_51457_row5_col0\" class=\"data row5 col0\" >16,944.59</td>\n",
       "    </tr>\n",
       "    <tr>\n",
       "      <th id=\"T_51457_level0_row6\" class=\"row_heading level0 row6\" >75%</th>\n",
       "      <td id=\"T_51457_row6_col0\" class=\"data row6 col0\" >20,756.78</td>\n",
       "    </tr>\n",
       "    <tr>\n",
       "      <th id=\"T_51457_level0_row7\" class=\"row_heading level0 row7\" >max</th>\n",
       "      <td id=\"T_51457_row7_col0\" class=\"data row7 col0\" >23,282.35</td>\n",
       "    </tr>\n",
       "  </tbody>\n",
       "</table>\n",
       "&nbsp;&nbsp;&nbsp;<style type=\"text/css\">\n",
       "#T_7f588 caption {\n",
       "  background: #333333;\n",
       "  border-radius: 3px;\n",
       "  padding: 5px;\n",
       "  color: white;\n",
       "  font-size: 15px;\n",
       "  font-weight: bold;\n",
       "}\n",
       "</style>\n",
       "<table id=\"T_7f588\" style='display:inline-block'>\n",
       "  <caption>df.volume</caption>\n",
       "  <thead>\n",
       "    <tr>\n",
       "      <th class=\"blank level0\" >&nbsp;</th>\n",
       "      <th id=\"T_7f588_level0_col0\" class=\"col_heading level0 col0\" >volume</th>\n",
       "    </tr>\n",
       "  </thead>\n",
       "  <tbody>\n",
       "    <tr>\n",
       "      <th id=\"T_7f588_level0_row0\" class=\"row_heading level0 row0\" >count</th>\n",
       "      <td id=\"T_7f588_row0_col0\" class=\"data row0 col0\" >40,073.00</td>\n",
       "    </tr>\n",
       "    <tr>\n",
       "      <th id=\"T_7f588_level0_row1\" class=\"row_heading level0 row1\" >mean</th>\n",
       "      <td id=\"T_7f588_row1_col0\" class=\"data row1 col0\" >5,432,733.62</td>\n",
       "    </tr>\n",
       "    <tr>\n",
       "      <th id=\"T_7f588_level0_row2\" class=\"row_heading level0 row2\" >std</th>\n",
       "      <td id=\"T_7f588_row2_col0\" class=\"data row2 col0\" >18,446,179.20</td>\n",
       "    </tr>\n",
       "    <tr>\n",
       "      <th id=\"T_7f588_level0_row3\" class=\"row_heading level0 row3\" >min</th>\n",
       "      <td id=\"T_7f588_row3_col0\" class=\"data row3 col0\" >0.00</td>\n",
       "    </tr>\n",
       "    <tr>\n",
       "      <th id=\"T_7f588_level0_row4\" class=\"row_heading level0 row4\" >25%</th>\n",
       "      <td id=\"T_7f588_row4_col0\" class=\"data row4 col0\" >0.00</td>\n",
       "    </tr>\n",
       "    <tr>\n",
       "      <th id=\"T_7f588_level0_row5\" class=\"row_heading level0 row5\" >50%</th>\n",
       "      <td id=\"T_7f588_row5_col0\" class=\"data row5 col0\" >501,760.00</td>\n",
       "    </tr>\n",
       "    <tr>\n",
       "      <th id=\"T_7f588_level0_row6\" class=\"row_heading level0 row6\" >75%</th>\n",
       "      <td id=\"T_7f588_row6_col0\" class=\"data row6 col0\" >4,270,080.00</td>\n",
       "    </tr>\n",
       "    <tr>\n",
       "      <th id=\"T_7f588_level0_row7\" class=\"row_heading level0 row7\" >max</th>\n",
       "      <td id=\"T_7f588_row7_col0\" class=\"data row7 col0\" >640,858,112.00</td>\n",
       "    </tr>\n",
       "  </tbody>\n",
       "</table>\n",
       "&nbsp;&nbsp;&nbsp;<style type=\"text/css\">\n",
       "#T_54009 caption {\n",
       "  background: #333333;\n",
       "  border-radius: 3px;\n",
       "  padding: 5px;\n",
       "  color: white;\n",
       "  font-size: 15px;\n",
       "  font-weight: bold;\n",
       "}\n",
       "</style>\n",
       "<table id=\"T_54009\" style='display:inline-block'>\n",
       "  <caption>df.change</caption>\n",
       "  <thead>\n",
       "    <tr>\n",
       "      <th class=\"blank level0\" >&nbsp;</th>\n",
       "      <th id=\"T_54009_level0_col0\" class=\"col_heading level0 col0\" >change</th>\n",
       "    </tr>\n",
       "  </thead>\n",
       "  <tbody>\n",
       "    <tr>\n",
       "      <th id=\"T_54009_level0_row0\" class=\"row_heading level0 row0\" >count</th>\n",
       "      <td id=\"T_54009_row0_col0\" class=\"data row0 col0\" >40,073.00</td>\n",
       "    </tr>\n",
       "    <tr>\n",
       "      <th id=\"T_54009_level0_row1\" class=\"row_heading level0 row1\" >mean</th>\n",
       "      <td id=\"T_54009_row1_col0\" class=\"data row1 col0\" >0.15</td>\n",
       "    </tr>\n",
       "    <tr>\n",
       "      <th id=\"T_54009_level0_row2\" class=\"row_heading level0 row2\" >std</th>\n",
       "      <td id=\"T_54009_row2_col0\" class=\"data row2 col0\" >6.17</td>\n",
       "    </tr>\n",
       "    <tr>\n",
       "      <th id=\"T_54009_level0_row3\" class=\"row_heading level0 row3\" >min</th>\n",
       "      <td id=\"T_54009_row3_col0\" class=\"data row3 col0\" >-233.53</td>\n",
       "    </tr>\n",
       "    <tr>\n",
       "      <th id=\"T_54009_level0_row4\" class=\"row_heading level0 row4\" >25%</th>\n",
       "      <td id=\"T_54009_row4_col0\" class=\"data row4 col0\" >-1.14</td>\n",
       "    </tr>\n",
       "    <tr>\n",
       "      <th id=\"T_54009_level0_row5\" class=\"row_heading level0 row5\" >50%</th>\n",
       "      <td id=\"T_54009_row5_col0\" class=\"data row5 col0\" >0.04</td>\n",
       "    </tr>\n",
       "    <tr>\n",
       "      <th id=\"T_54009_level0_row6\" class=\"row_heading level0 row6\" >75%</th>\n",
       "      <td id=\"T_54009_row6_col0\" class=\"data row6 col0\" >1.33</td>\n",
       "    </tr>\n",
       "    <tr>\n",
       "      <th id=\"T_54009_level0_row7\" class=\"row_heading level0 row7\" >max</th>\n",
       "      <td id=\"T_54009_row7_col0\" class=\"data row7 col0\" >251.79</td>\n",
       "    </tr>\n",
       "  </tbody>\n",
       "</table>\n",
       "&nbsp;&nbsp;&nbsp;"
      ]
     },
     "metadata": {},
     "output_type": "display_data"
    },
    {
     "name": "stdout",
     "output_type": "stream",
     "text": [
      "\n"
     ]
    }
   ],
   "source": [
    "describe_em(df, ['close', 'volume', 'change'])"
   ]
  },
  {
   "cell_type": "code",
   "execution_count": 22,
   "id": "cc67b7a7-7041-4461-9d80-8e01d52999f9",
   "metadata": {},
   "outputs": [
    {
     "data": {
      "text/plain": [
       "(40073, 11)"
      ]
     },
     "execution_count": 22,
     "metadata": {},
     "output_type": "execute_result"
    }
   ],
   "source": [
    "df.shape"
   ]
  },
  {
   "cell_type": "markdown",
   "id": "bddb92c3-c867-4d1b-8e8a-aee894b7836a",
   "metadata": {},
   "source": [
    "<font size = 4><span style = 'background-color: #ddddff; padding: 5px 5px 3px 5px; line-height: 1.5; color:black;border-radius: 3px;'>**Splitting the Data**"
   ]
  },
  {
   "cell_type": "code",
   "execution_count": 23,
   "id": "93b2d601-3e4e-4129-8c05-2f6f5ff85a1f",
   "metadata": {},
   "outputs": [
    {
     "data": {
      "text/html": [
       "<span style = 'line-height: 2;                                 background: #444444; width: None;                                 border: 1px solid text_color;                                border-radius: 0px; text-align: center;                                padding: 5px;'>                                <b><font size=3><text style=color:white>number of training inputs: 32,058.                                </text></font></b></style>"
      ],
      "text/plain": [
       "<IPython.core.display.HTML object>"
      ]
     },
     "metadata": {},
     "output_type": "display_data"
    },
    {
     "data": {
      "text/html": [
       "<span style = 'line-height: 2;                                 background: #444444; width: None;                                 border: 1px solid text_color;                                border-radius: 0px; text-align: center;                                padding: 5px;'>                                <b><font size=3><text style=color:white>number of testing inputs: 8,014.                                </text></font></b></style>"
      ],
      "text/plain": [
       "<IPython.core.display.HTML object>"
      ]
     },
     "metadata": {},
     "output_type": "display_data"
    }
   ],
   "source": [
    "train_size = int(len(df) * .8)\n",
    "pretty(f'number of training inputs: {train_size:,}.')\n",
    "test_size = int(len(df) * .2)\n",
    "pretty(f'number of testing inputs: {test_size:,}.')"
   ]
  },
  {
   "cell_type": "code",
   "execution_count": 24,
   "id": "7e9d3c1a-b927-4f8f-9025-fab7301ca490",
   "metadata": {},
   "outputs": [],
   "source": [
    "train_df, test_df = df[:train_size], df[train_size + 1:]"
   ]
  },
  {
   "cell_type": "code",
   "execution_count": 25,
   "id": "007ab405-407e-4bd2-8766-3a40e2dcb348",
   "metadata": {},
   "outputs": [
    {
     "data": {
      "text/html": [
       "<span style = 'line-height: 2;                                 background: #444444; width: None;                                 border: 1px solid text_color;                                border-radius: 0px; text-align: center;                                padding: 5px;'>                                <b><font size=3><text style=color:white>train_df.shape: (32058, 11)  |  test_df.shape: (8014, 11)                                </text></font></b></style>"
      ],
      "text/plain": [
       "<IPython.core.display.HTML object>"
      ]
     },
     "metadata": {},
     "output_type": "display_data"
    }
   ],
   "source": [
    "pretty(f'train_df.shape: {train_df.shape}  |  test_df.shape: {test_df.shape}')"
   ]
  },
  {
   "cell_type": "markdown",
   "id": "09508a9b-fb18-42a8-aa3f-09d1387d5704",
   "metadata": {},
   "source": [
    "<font size = 4><span style = 'background-color: #ddddff; padding: 5px 5px 3px 5px; line-height: 1.5; color:black;border-radius: 3px;'>**Scaling the data**"
   ]
  },
  {
   "cell_type": "code",
   "execution_count": 26,
   "id": "da5238ca-80fd-449c-a3a6-d052a5e45d05",
   "metadata": {},
   "outputs": [],
   "source": [
    "scaler = MinMaxScaler(feature_range = (-1, 1))\n",
    "scaler = scaler.fit(train_df)"
   ]
  },
  {
   "cell_type": "code",
   "execution_count": 27,
   "id": "c7cbe925-8513-402c-a5df-90724ca7aaa2",
   "metadata": {},
   "outputs": [],
   "source": [
    "train_df = pd.DataFrame(scaler.transform(train_df), \n",
    "\t\t\t\t\t\t\t\t\t\t  index = train_df.index, \n",
    "\t\t\t\t\t\t\t\t\t\t  columns = train_df.columns)\n",
    "\n",
    "test_df = pd.DataFrame(scaler.transform(test_df), \n",
    "\t\t\t\t\t\t\t\t\t\t index = test_df.index, \n",
    "\t\t\t\t\t\t\t\t\t\t columns = test_df.columns)"
   ]
  },
  {
   "cell_type": "markdown",
   "id": "8e031965-8071-407f-a3f9-965bf03b7955",
   "metadata": {},
   "source": [
    "<font size = 4><span style = 'background-color: #ddddff; padding: 5px 5px 3px 5px; line-height: 1.5; color:black;border-radius: 3px;'>**Viewing the scaled data**"
   ]
  },
  {
   "cell_type": "code",
   "execution_count": 29,
   "id": "2a678757-a77c-491f-a502-77ca05632295",
   "metadata": {},
   "outputs": [
    {
     "data": {
      "text/html": [
       "<center><style type=\"text/css\">\n",
       "#T_918fa caption {\n",
       "  background: #333333;\n",
       "  border-radius: 3px;\n",
       "  padding: 5px;\n",
       "  color: white;\n",
       "  font-size: 15px;\n",
       "  font-weight: bold;\n",
       "}\n",
       "</style>\n",
       "<table id=\"T_918fa\" style='display:inline-block'>\n",
       "  <caption>train_df.head(5)</caption>\n",
       "  <thead>\n",
       "    <tr>\n",
       "      <th class=\"blank level0\" >&nbsp;</th>\n",
       "      <th id=\"T_918fa_level0_col0\" class=\"col_heading level0 col0\" >open</th>\n",
       "      <th id=\"T_918fa_level0_col1\" class=\"col_heading level0 col1\" >high</th>\n",
       "      <th id=\"T_918fa_level0_col2\" class=\"col_heading level0 col2\" >low</th>\n",
       "      <th id=\"T_918fa_level0_col3\" class=\"col_heading level0 col3\" >close</th>\n",
       "      <th id=\"T_918fa_level0_col4\" class=\"col_heading level0 col4\" >adj close</th>\n",
       "      <th id=\"T_918fa_level0_col5\" class=\"col_heading level0 col5\" >volume</th>\n",
       "      <th id=\"T_918fa_level0_col6\" class=\"col_heading level0 col6\" >change</th>\n",
       "      <th id=\"T_918fa_level0_col7\" class=\"col_heading level0 col7\" >weekday</th>\n",
       "      <th id=\"T_918fa_level0_col8\" class=\"col_heading level0 col8\" >month_day</th>\n",
       "      <th id=\"T_918fa_level0_col9\" class=\"col_heading level0 col9\" >year_week</th>\n",
       "      <th id=\"T_918fa_level0_col10\" class=\"col_heading level0 col10\" >month</th>\n",
       "    </tr>\n",
       "    <tr>\n",
       "      <th class=\"index_name level0\" >Datetime</th>\n",
       "      <th class=\"blank col0\" >&nbsp;</th>\n",
       "      <th class=\"blank col1\" >&nbsp;</th>\n",
       "      <th class=\"blank col2\" >&nbsp;</th>\n",
       "      <th class=\"blank col3\" >&nbsp;</th>\n",
       "      <th class=\"blank col4\" >&nbsp;</th>\n",
       "      <th class=\"blank col5\" >&nbsp;</th>\n",
       "      <th class=\"blank col6\" >&nbsp;</th>\n",
       "      <th class=\"blank col7\" >&nbsp;</th>\n",
       "      <th class=\"blank col8\" >&nbsp;</th>\n",
       "      <th class=\"blank col9\" >&nbsp;</th>\n",
       "      <th class=\"blank col10\" >&nbsp;</th>\n",
       "    </tr>\n",
       "  </thead>\n",
       "  <tbody>\n",
       "    <tr>\n",
       "      <th id=\"T_918fa_level0_row0\" class=\"row_heading level0 row0\" >2022-12-25 00:01:00+00:00</th>\n",
       "      <td id=\"T_918fa_row0_col0\" class=\"data row0 col0\" >-0.82</td>\n",
       "      <td id=\"T_918fa_row0_col1\" class=\"data row0 col1\" >-0.82</td>\n",
       "      <td id=\"T_918fa_row0_col2\" class=\"data row0 col2\" >-0.82</td>\n",
       "      <td id=\"T_918fa_row0_col3\" class=\"data row0 col3\" >-0.82</td>\n",
       "      <td id=\"T_918fa_row0_col4\" class=\"data row0 col4\" >-0.82</td>\n",
       "      <td id=\"T_918fa_row0_col5\" class=\"data row0 col5\" >-1.00</td>\n",
       "      <td id=\"T_918fa_row0_col6\" class=\"data row0 col6\" >-0.22</td>\n",
       "      <td id=\"T_918fa_row0_col7\" class=\"data row0 col7\" >1.00</td>\n",
       "      <td id=\"T_918fa_row0_col8\" class=\"data row0 col8\" >0.60</td>\n",
       "      <td id=\"T_918fa_row0_col9\" class=\"data row0 col9\" >0.96</td>\n",
       "      <td id=\"T_918fa_row0_col10\" class=\"data row0 col10\" >1.00</td>\n",
       "    </tr>\n",
       "    <tr>\n",
       "      <th id=\"T_918fa_level0_row1\" class=\"row_heading level0 row1\" >2022-12-25 00:02:00+00:00</th>\n",
       "      <td id=\"T_918fa_row1_col0\" class=\"data row1 col0\" >-0.82</td>\n",
       "      <td id=\"T_918fa_row1_col1\" class=\"data row1 col1\" >-0.82</td>\n",
       "      <td id=\"T_918fa_row1_col2\" class=\"data row1 col2\" >-0.82</td>\n",
       "      <td id=\"T_918fa_row1_col3\" class=\"data row1 col3\" >-0.82</td>\n",
       "      <td id=\"T_918fa_row1_col4\" class=\"data row1 col4\" >-0.82</td>\n",
       "      <td id=\"T_918fa_row1_col5\" class=\"data row1 col5\" >-1.00</td>\n",
       "      <td id=\"T_918fa_row1_col6\" class=\"data row1 col6\" >-0.22</td>\n",
       "      <td id=\"T_918fa_row1_col7\" class=\"data row1 col7\" >1.00</td>\n",
       "      <td id=\"T_918fa_row1_col8\" class=\"data row1 col8\" >0.60</td>\n",
       "      <td id=\"T_918fa_row1_col9\" class=\"data row1 col9\" >0.96</td>\n",
       "      <td id=\"T_918fa_row1_col10\" class=\"data row1 col10\" >1.00</td>\n",
       "    </tr>\n",
       "    <tr>\n",
       "      <th id=\"T_918fa_level0_row2\" class=\"row_heading level0 row2\" >2022-12-25 00:03:00+00:00</th>\n",
       "      <td id=\"T_918fa_row2_col0\" class=\"data row2 col0\" >-0.82</td>\n",
       "      <td id=\"T_918fa_row2_col1\" class=\"data row2 col1\" >-0.82</td>\n",
       "      <td id=\"T_918fa_row2_col2\" class=\"data row2 col2\" >-0.82</td>\n",
       "      <td id=\"T_918fa_row2_col3\" class=\"data row2 col3\" >-0.82</td>\n",
       "      <td id=\"T_918fa_row2_col4\" class=\"data row2 col4\" >-0.82</td>\n",
       "      <td id=\"T_918fa_row2_col5\" class=\"data row2 col5\" >-1.00</td>\n",
       "      <td id=\"T_918fa_row2_col6\" class=\"data row2 col6\" >-0.22</td>\n",
       "      <td id=\"T_918fa_row2_col7\" class=\"data row2 col7\" >1.00</td>\n",
       "      <td id=\"T_918fa_row2_col8\" class=\"data row2 col8\" >0.60</td>\n",
       "      <td id=\"T_918fa_row2_col9\" class=\"data row2 col9\" >0.96</td>\n",
       "      <td id=\"T_918fa_row2_col10\" class=\"data row2 col10\" >1.00</td>\n",
       "    </tr>\n",
       "    <tr>\n",
       "      <th id=\"T_918fa_level0_row3\" class=\"row_heading level0 row3\" >2022-12-25 00:04:00+00:00</th>\n",
       "      <td id=\"T_918fa_row3_col0\" class=\"data row3 col0\" >-0.82</td>\n",
       "      <td id=\"T_918fa_row3_col1\" class=\"data row3 col1\" >-0.82</td>\n",
       "      <td id=\"T_918fa_row3_col2\" class=\"data row3 col2\" >-0.82</td>\n",
       "      <td id=\"T_918fa_row3_col3\" class=\"data row3 col3\" >-0.82</td>\n",
       "      <td id=\"T_918fa_row3_col4\" class=\"data row3 col4\" >-0.82</td>\n",
       "      <td id=\"T_918fa_row3_col5\" class=\"data row3 col5\" >-1.00</td>\n",
       "      <td id=\"T_918fa_row3_col6\" class=\"data row3 col6\" >-0.22</td>\n",
       "      <td id=\"T_918fa_row3_col7\" class=\"data row3 col7\" >1.00</td>\n",
       "      <td id=\"T_918fa_row3_col8\" class=\"data row3 col8\" >0.60</td>\n",
       "      <td id=\"T_918fa_row3_col9\" class=\"data row3 col9\" >0.96</td>\n",
       "      <td id=\"T_918fa_row3_col10\" class=\"data row3 col10\" >1.00</td>\n",
       "    </tr>\n",
       "    <tr>\n",
       "      <th id=\"T_918fa_level0_row4\" class=\"row_heading level0 row4\" >2022-12-25 00:05:00+00:00</th>\n",
       "      <td id=\"T_918fa_row4_col0\" class=\"data row4 col0\" >-0.82</td>\n",
       "      <td id=\"T_918fa_row4_col1\" class=\"data row4 col1\" >-0.82</td>\n",
       "      <td id=\"T_918fa_row4_col2\" class=\"data row4 col2\" >-0.82</td>\n",
       "      <td id=\"T_918fa_row4_col3\" class=\"data row4 col3\" >-0.82</td>\n",
       "      <td id=\"T_918fa_row4_col4\" class=\"data row4 col4\" >-0.82</td>\n",
       "      <td id=\"T_918fa_row4_col5\" class=\"data row4 col5\" >-1.00</td>\n",
       "      <td id=\"T_918fa_row4_col6\" class=\"data row4 col6\" >-0.22</td>\n",
       "      <td id=\"T_918fa_row4_col7\" class=\"data row4 col7\" >1.00</td>\n",
       "      <td id=\"T_918fa_row4_col8\" class=\"data row4 col8\" >0.60</td>\n",
       "      <td id=\"T_918fa_row4_col9\" class=\"data row4 col9\" >0.96</td>\n",
       "      <td id=\"T_918fa_row4_col10\" class=\"data row4 col10\" >1.00</td>\n",
       "    </tr>\n",
       "  </tbody>\n",
       "</table>\n",
       "&nbsp;&nbsp;&nbsp;<style type=\"text/css\">\n",
       "#T_c49a1 caption {\n",
       "  background: #333333;\n",
       "  border-radius: 3px;\n",
       "  padding: 5px;\n",
       "  color: white;\n",
       "  font-size: 15px;\n",
       "  font-weight: bold;\n",
       "}\n",
       "</style>\n",
       "<table id=\"T_c49a1\" style='display:inline-block'>\n",
       "  <caption>train_df.tail(5)</caption>\n",
       "  <thead>\n",
       "    <tr>\n",
       "      <th class=\"blank level0\" >&nbsp;</th>\n",
       "      <th id=\"T_c49a1_level0_col0\" class=\"col_heading level0 col0\" >open</th>\n",
       "      <th id=\"T_c49a1_level0_col1\" class=\"col_heading level0 col1\" >high</th>\n",
       "      <th id=\"T_c49a1_level0_col2\" class=\"col_heading level0 col2\" >low</th>\n",
       "      <th id=\"T_c49a1_level0_col3\" class=\"col_heading level0 col3\" >close</th>\n",
       "      <th id=\"T_c49a1_level0_col4\" class=\"col_heading level0 col4\" >adj close</th>\n",
       "      <th id=\"T_c49a1_level0_col5\" class=\"col_heading level0 col5\" >volume</th>\n",
       "      <th id=\"T_c49a1_level0_col6\" class=\"col_heading level0 col6\" >change</th>\n",
       "      <th id=\"T_c49a1_level0_col7\" class=\"col_heading level0 col7\" >weekday</th>\n",
       "      <th id=\"T_c49a1_level0_col8\" class=\"col_heading level0 col8\" >month_day</th>\n",
       "      <th id=\"T_c49a1_level0_col9\" class=\"col_heading level0 col9\" >year_week</th>\n",
       "      <th id=\"T_c49a1_level0_col10\" class=\"col_heading level0 col10\" >month</th>\n",
       "    </tr>\n",
       "    <tr>\n",
       "      <th class=\"index_name level0\" >Datetime</th>\n",
       "      <th class=\"blank col0\" >&nbsp;</th>\n",
       "      <th class=\"blank col1\" >&nbsp;</th>\n",
       "      <th class=\"blank col2\" >&nbsp;</th>\n",
       "      <th class=\"blank col3\" >&nbsp;</th>\n",
       "      <th class=\"blank col4\" >&nbsp;</th>\n",
       "      <th class=\"blank col5\" >&nbsp;</th>\n",
       "      <th class=\"blank col6\" >&nbsp;</th>\n",
       "      <th class=\"blank col7\" >&nbsp;</th>\n",
       "      <th class=\"blank col8\" >&nbsp;</th>\n",
       "      <th class=\"blank col9\" >&nbsp;</th>\n",
       "      <th class=\"blank col10\" >&nbsp;</th>\n",
       "    </tr>\n",
       "  </thead>\n",
       "  <tbody>\n",
       "    <tr>\n",
       "      <th id=\"T_c49a1_level0_row0\" class=\"row_heading level0 row0\" >2023-01-16 09:16:00+00:00</th>\n",
       "      <td id=\"T_c49a1_row0_col0\" class=\"data row0 col0\" >0.78</td>\n",
       "      <td id=\"T_c49a1_row0_col1\" class=\"data row0 col1\" >0.78</td>\n",
       "      <td id=\"T_c49a1_row0_col2\" class=\"data row0 col2\" >0.78</td>\n",
       "      <td id=\"T_c49a1_row0_col3\" class=\"data row0 col3\" >0.78</td>\n",
       "      <td id=\"T_c49a1_row0_col4\" class=\"data row0 col4\" >0.78</td>\n",
       "      <td id=\"T_c49a1_row0_col5\" class=\"data row0 col5\" >-0.97</td>\n",
       "      <td id=\"T_c49a1_row0_col6\" class=\"data row0 col6\" >-0.17</td>\n",
       "      <td id=\"T_c49a1_row0_col7\" class=\"data row0 col7\" >-1.00</td>\n",
       "      <td id=\"T_c49a1_row0_col8\" class=\"data row0 col8\" >0.00</td>\n",
       "      <td id=\"T_c49a1_row0_col9\" class=\"data row0 col9\" >-0.92</td>\n",
       "      <td id=\"T_c49a1_row0_col10\" class=\"data row0 col10\" >-1.00</td>\n",
       "    </tr>\n",
       "    <tr>\n",
       "      <th id=\"T_c49a1_level0_row1\" class=\"row_heading level0 row1\" >2023-01-16 09:17:00+00:00</th>\n",
       "      <td id=\"T_c49a1_row1_col0\" class=\"data row1 col0\" >0.78</td>\n",
       "      <td id=\"T_c49a1_row1_col1\" class=\"data row1 col1\" >0.78</td>\n",
       "      <td id=\"T_c49a1_row1_col2\" class=\"data row1 col2\" >0.78</td>\n",
       "      <td id=\"T_c49a1_row1_col3\" class=\"data row1 col3\" >0.78</td>\n",
       "      <td id=\"T_c49a1_row1_col4\" class=\"data row1 col4\" >0.78</td>\n",
       "      <td id=\"T_c49a1_row1_col5\" class=\"data row1 col5\" >-0.99</td>\n",
       "      <td id=\"T_c49a1_row1_col6\" class=\"data row1 col6\" >-0.22</td>\n",
       "      <td id=\"T_c49a1_row1_col7\" class=\"data row1 col7\" >-1.00</td>\n",
       "      <td id=\"T_c49a1_row1_col8\" class=\"data row1 col8\" >0.00</td>\n",
       "      <td id=\"T_c49a1_row1_col9\" class=\"data row1 col9\" >-0.92</td>\n",
       "      <td id=\"T_c49a1_row1_col10\" class=\"data row1 col10\" >-1.00</td>\n",
       "    </tr>\n",
       "    <tr>\n",
       "      <th id=\"T_c49a1_level0_row2\" class=\"row_heading level0 row2\" >2023-01-16 09:18:00+00:00</th>\n",
       "      <td id=\"T_c49a1_row2_col0\" class=\"data row2 col0\" >0.78</td>\n",
       "      <td id=\"T_c49a1_row2_col1\" class=\"data row2 col1\" >0.78</td>\n",
       "      <td id=\"T_c49a1_row2_col2\" class=\"data row2 col2\" >0.78</td>\n",
       "      <td id=\"T_c49a1_row2_col3\" class=\"data row2 col3\" >0.78</td>\n",
       "      <td id=\"T_c49a1_row2_col4\" class=\"data row2 col4\" >0.78</td>\n",
       "      <td id=\"T_c49a1_row2_col5\" class=\"data row2 col5\" >-0.98</td>\n",
       "      <td id=\"T_c49a1_row2_col6\" class=\"data row2 col6\" >-0.22</td>\n",
       "      <td id=\"T_c49a1_row2_col7\" class=\"data row2 col7\" >-1.00</td>\n",
       "      <td id=\"T_c49a1_row2_col8\" class=\"data row2 col8\" >0.00</td>\n",
       "      <td id=\"T_c49a1_row2_col9\" class=\"data row2 col9\" >-0.92</td>\n",
       "      <td id=\"T_c49a1_row2_col10\" class=\"data row2 col10\" >-1.00</td>\n",
       "    </tr>\n",
       "    <tr>\n",
       "      <th id=\"T_c49a1_level0_row3\" class=\"row_heading level0 row3\" >2023-01-16 09:19:00+00:00</th>\n",
       "      <td id=\"T_c49a1_row3_col0\" class=\"data row3 col0\" >0.78</td>\n",
       "      <td id=\"T_c49a1_row3_col1\" class=\"data row3 col1\" >0.78</td>\n",
       "      <td id=\"T_c49a1_row3_col2\" class=\"data row3 col2\" >0.78</td>\n",
       "      <td id=\"T_c49a1_row3_col3\" class=\"data row3 col3\" >0.78</td>\n",
       "      <td id=\"T_c49a1_row3_col4\" class=\"data row3 col4\" >0.78</td>\n",
       "      <td id=\"T_c49a1_row3_col5\" class=\"data row3 col5\" >-0.98</td>\n",
       "      <td id=\"T_c49a1_row3_col6\" class=\"data row3 col6\" >-0.21</td>\n",
       "      <td id=\"T_c49a1_row3_col7\" class=\"data row3 col7\" >-1.00</td>\n",
       "      <td id=\"T_c49a1_row3_col8\" class=\"data row3 col8\" >0.00</td>\n",
       "      <td id=\"T_c49a1_row3_col9\" class=\"data row3 col9\" >-0.92</td>\n",
       "      <td id=\"T_c49a1_row3_col10\" class=\"data row3 col10\" >-1.00</td>\n",
       "    </tr>\n",
       "    <tr>\n",
       "      <th id=\"T_c49a1_level0_row4\" class=\"row_heading level0 row4\" >2023-01-16 09:20:00+00:00</th>\n",
       "      <td id=\"T_c49a1_row4_col0\" class=\"data row4 col0\" >0.78</td>\n",
       "      <td id=\"T_c49a1_row4_col1\" class=\"data row4 col1\" >0.78</td>\n",
       "      <td id=\"T_c49a1_row4_col2\" class=\"data row4 col2\" >0.78</td>\n",
       "      <td id=\"T_c49a1_row4_col3\" class=\"data row4 col3\" >0.78</td>\n",
       "      <td id=\"T_c49a1_row4_col4\" class=\"data row4 col4\" >0.78</td>\n",
       "      <td id=\"T_c49a1_row4_col5\" class=\"data row4 col5\" >-1.00</td>\n",
       "      <td id=\"T_c49a1_row4_col6\" class=\"data row4 col6\" >-0.22</td>\n",
       "      <td id=\"T_c49a1_row4_col7\" class=\"data row4 col7\" >-1.00</td>\n",
       "      <td id=\"T_c49a1_row4_col8\" class=\"data row4 col8\" >0.00</td>\n",
       "      <td id=\"T_c49a1_row4_col9\" class=\"data row4 col9\" >-0.92</td>\n",
       "      <td id=\"T_c49a1_row4_col10\" class=\"data row4 col10\" >-1.00</td>\n",
       "    </tr>\n",
       "  </tbody>\n",
       "</table>\n",
       "&nbsp;&nbsp;&nbsp;<style type=\"text/css\">\n",
       "#T_440c1 caption {\n",
       "  background: #333333;\n",
       "  border-radius: 3px;\n",
       "  padding: 5px;\n",
       "  color: white;\n",
       "  font-size: 15px;\n",
       "  font-weight: bold;\n",
       "}\n",
       "</style>\n",
       "<table id=\"T_440c1\" style='display:inline-block'>\n",
       "  <caption>test_df.head(5)</caption>\n",
       "  <thead>\n",
       "    <tr>\n",
       "      <th class=\"blank level0\" >&nbsp;</th>\n",
       "      <th id=\"T_440c1_level0_col0\" class=\"col_heading level0 col0\" >open</th>\n",
       "      <th id=\"T_440c1_level0_col1\" class=\"col_heading level0 col1\" >high</th>\n",
       "      <th id=\"T_440c1_level0_col2\" class=\"col_heading level0 col2\" >low</th>\n",
       "      <th id=\"T_440c1_level0_col3\" class=\"col_heading level0 col3\" >close</th>\n",
       "      <th id=\"T_440c1_level0_col4\" class=\"col_heading level0 col4\" >adj close</th>\n",
       "      <th id=\"T_440c1_level0_col5\" class=\"col_heading level0 col5\" >volume</th>\n",
       "      <th id=\"T_440c1_level0_col6\" class=\"col_heading level0 col6\" >change</th>\n",
       "      <th id=\"T_440c1_level0_col7\" class=\"col_heading level0 col7\" >weekday</th>\n",
       "      <th id=\"T_440c1_level0_col8\" class=\"col_heading level0 col8\" >month_day</th>\n",
       "      <th id=\"T_440c1_level0_col9\" class=\"col_heading level0 col9\" >year_week</th>\n",
       "      <th id=\"T_440c1_level0_col10\" class=\"col_heading level0 col10\" >month</th>\n",
       "    </tr>\n",
       "    <tr>\n",
       "      <th class=\"index_name level0\" >Datetime</th>\n",
       "      <th class=\"blank col0\" >&nbsp;</th>\n",
       "      <th class=\"blank col1\" >&nbsp;</th>\n",
       "      <th class=\"blank col2\" >&nbsp;</th>\n",
       "      <th class=\"blank col3\" >&nbsp;</th>\n",
       "      <th class=\"blank col4\" >&nbsp;</th>\n",
       "      <th class=\"blank col5\" >&nbsp;</th>\n",
       "      <th class=\"blank col6\" >&nbsp;</th>\n",
       "      <th class=\"blank col7\" >&nbsp;</th>\n",
       "      <th class=\"blank col8\" >&nbsp;</th>\n",
       "      <th class=\"blank col9\" >&nbsp;</th>\n",
       "      <th class=\"blank col10\" >&nbsp;</th>\n",
       "    </tr>\n",
       "  </thead>\n",
       "  <tbody>\n",
       "    <tr>\n",
       "      <th id=\"T_440c1_level0_row0\" class=\"row_heading level0 row0\" >2023-01-16 09:22:00+00:00</th>\n",
       "      <td id=\"T_440c1_row0_col0\" class=\"data row0 col0\" >0.78</td>\n",
       "      <td id=\"T_440c1_row0_col1\" class=\"data row0 col1\" >0.78</td>\n",
       "      <td id=\"T_440c1_row0_col2\" class=\"data row0 col2\" >0.78</td>\n",
       "      <td id=\"T_440c1_row0_col3\" class=\"data row0 col3\" >0.78</td>\n",
       "      <td id=\"T_440c1_row0_col4\" class=\"data row0 col4\" >0.78</td>\n",
       "      <td id=\"T_440c1_row0_col5\" class=\"data row0 col5\" >-1.00</td>\n",
       "      <td id=\"T_440c1_row0_col6\" class=\"data row0 col6\" >-0.25</td>\n",
       "      <td id=\"T_440c1_row0_col7\" class=\"data row0 col7\" >-1.00</td>\n",
       "      <td id=\"T_440c1_row0_col8\" class=\"data row0 col8\" >0.00</td>\n",
       "      <td id=\"T_440c1_row0_col9\" class=\"data row0 col9\" >-0.92</td>\n",
       "      <td id=\"T_440c1_row0_col10\" class=\"data row0 col10\" >-1.00</td>\n",
       "    </tr>\n",
       "    <tr>\n",
       "      <th id=\"T_440c1_level0_row1\" class=\"row_heading level0 row1\" >2023-01-16 09:23:00+00:00</th>\n",
       "      <td id=\"T_440c1_row1_col0\" class=\"data row1 col0\" >0.78</td>\n",
       "      <td id=\"T_440c1_row1_col1\" class=\"data row1 col1\" >0.78</td>\n",
       "      <td id=\"T_440c1_row1_col2\" class=\"data row1 col2\" >0.78</td>\n",
       "      <td id=\"T_440c1_row1_col3\" class=\"data row1 col3\" >0.78</td>\n",
       "      <td id=\"T_440c1_row1_col4\" class=\"data row1 col4\" >0.78</td>\n",
       "      <td id=\"T_440c1_row1_col5\" class=\"data row1 col5\" >-0.97</td>\n",
       "      <td id=\"T_440c1_row1_col6\" class=\"data row1 col6\" >-0.18</td>\n",
       "      <td id=\"T_440c1_row1_col7\" class=\"data row1 col7\" >-1.00</td>\n",
       "      <td id=\"T_440c1_row1_col8\" class=\"data row1 col8\" >0.00</td>\n",
       "      <td id=\"T_440c1_row1_col9\" class=\"data row1 col9\" >-0.92</td>\n",
       "      <td id=\"T_440c1_row1_col10\" class=\"data row1 col10\" >-1.00</td>\n",
       "    </tr>\n",
       "    <tr>\n",
       "      <th id=\"T_440c1_level0_row2\" class=\"row_heading level0 row2\" >2023-01-16 09:24:00+00:00</th>\n",
       "      <td id=\"T_440c1_row2_col0\" class=\"data row2 col0\" >0.79</td>\n",
       "      <td id=\"T_440c1_row2_col1\" class=\"data row2 col1\" >0.79</td>\n",
       "      <td id=\"T_440c1_row2_col2\" class=\"data row2 col2\" >0.79</td>\n",
       "      <td id=\"T_440c1_row2_col3\" class=\"data row2 col3\" >0.79</td>\n",
       "      <td id=\"T_440c1_row2_col4\" class=\"data row2 col4\" >0.79</td>\n",
       "      <td id=\"T_440c1_row2_col5\" class=\"data row2 col5\" >-1.00</td>\n",
       "      <td id=\"T_440c1_row2_col6\" class=\"data row2 col6\" >-0.21</td>\n",
       "      <td id=\"T_440c1_row2_col7\" class=\"data row2 col7\" >-1.00</td>\n",
       "      <td id=\"T_440c1_row2_col8\" class=\"data row2 col8\" >0.00</td>\n",
       "      <td id=\"T_440c1_row2_col9\" class=\"data row2 col9\" >-0.92</td>\n",
       "      <td id=\"T_440c1_row2_col10\" class=\"data row2 col10\" >-1.00</td>\n",
       "    </tr>\n",
       "    <tr>\n",
       "      <th id=\"T_440c1_level0_row3\" class=\"row_heading level0 row3\" >2023-01-16 09:25:00+00:00</th>\n",
       "      <td id=\"T_440c1_row3_col0\" class=\"data row3 col0\" >0.79</td>\n",
       "      <td id=\"T_440c1_row3_col1\" class=\"data row3 col1\" >0.79</td>\n",
       "      <td id=\"T_440c1_row3_col2\" class=\"data row3 col2\" >0.79</td>\n",
       "      <td id=\"T_440c1_row3_col3\" class=\"data row3 col3\" >0.79</td>\n",
       "      <td id=\"T_440c1_row3_col4\" class=\"data row3 col4\" >0.79</td>\n",
       "      <td id=\"T_440c1_row3_col5\" class=\"data row3 col5\" >-0.95</td>\n",
       "      <td id=\"T_440c1_row3_col6\" class=\"data row3 col6\" >-0.19</td>\n",
       "      <td id=\"T_440c1_row3_col7\" class=\"data row3 col7\" >-1.00</td>\n",
       "      <td id=\"T_440c1_row3_col8\" class=\"data row3 col8\" >0.00</td>\n",
       "      <td id=\"T_440c1_row3_col9\" class=\"data row3 col9\" >-0.92</td>\n",
       "      <td id=\"T_440c1_row3_col10\" class=\"data row3 col10\" >-1.00</td>\n",
       "    </tr>\n",
       "    <tr>\n",
       "      <th id=\"T_440c1_level0_row4\" class=\"row_heading level0 row4\" >2023-01-16 09:26:00+00:00</th>\n",
       "      <td id=\"T_440c1_row4_col0\" class=\"data row4 col0\" >0.79</td>\n",
       "      <td id=\"T_440c1_row4_col1\" class=\"data row4 col1\" >0.79</td>\n",
       "      <td id=\"T_440c1_row4_col2\" class=\"data row4 col2\" >0.79</td>\n",
       "      <td id=\"T_440c1_row4_col3\" class=\"data row4 col3\" >0.79</td>\n",
       "      <td id=\"T_440c1_row4_col4\" class=\"data row4 col4\" >0.79</td>\n",
       "      <td id=\"T_440c1_row4_col5\" class=\"data row4 col5\" >-0.99</td>\n",
       "      <td id=\"T_440c1_row4_col6\" class=\"data row4 col6\" >-0.22</td>\n",
       "      <td id=\"T_440c1_row4_col7\" class=\"data row4 col7\" >-1.00</td>\n",
       "      <td id=\"T_440c1_row4_col8\" class=\"data row4 col8\" >0.00</td>\n",
       "      <td id=\"T_440c1_row4_col9\" class=\"data row4 col9\" >-0.92</td>\n",
       "      <td id=\"T_440c1_row4_col10\" class=\"data row4 col10\" >-1.00</td>\n",
       "    </tr>\n",
       "  </tbody>\n",
       "</table>\n",
       "&nbsp;&nbsp;&nbsp;<style type=\"text/css\">\n",
       "#T_219f5 caption {\n",
       "  background: #333333;\n",
       "  border-radius: 3px;\n",
       "  padding: 5px;\n",
       "  color: white;\n",
       "  font-size: 15px;\n",
       "  font-weight: bold;\n",
       "}\n",
       "</style>\n",
       "<table id=\"T_219f5\" style='display:inline-block'>\n",
       "  <caption>test_df.tail(5)</caption>\n",
       "  <thead>\n",
       "    <tr>\n",
       "      <th class=\"blank level0\" >&nbsp;</th>\n",
       "      <th id=\"T_219f5_level0_col0\" class=\"col_heading level0 col0\" >open</th>\n",
       "      <th id=\"T_219f5_level0_col1\" class=\"col_heading level0 col1\" >high</th>\n",
       "      <th id=\"T_219f5_level0_col2\" class=\"col_heading level0 col2\" >low</th>\n",
       "      <th id=\"T_219f5_level0_col3\" class=\"col_heading level0 col3\" >close</th>\n",
       "      <th id=\"T_219f5_level0_col4\" class=\"col_heading level0 col4\" >adj close</th>\n",
       "      <th id=\"T_219f5_level0_col5\" class=\"col_heading level0 col5\" >volume</th>\n",
       "      <th id=\"T_219f5_level0_col6\" class=\"col_heading level0 col6\" >change</th>\n",
       "      <th id=\"T_219f5_level0_col7\" class=\"col_heading level0 col7\" >weekday</th>\n",
       "      <th id=\"T_219f5_level0_col8\" class=\"col_heading level0 col8\" >month_day</th>\n",
       "      <th id=\"T_219f5_level0_col9\" class=\"col_heading level0 col9\" >year_week</th>\n",
       "      <th id=\"T_219f5_level0_col10\" class=\"col_heading level0 col10\" >month</th>\n",
       "    </tr>\n",
       "    <tr>\n",
       "      <th class=\"index_name level0\" >Datetime</th>\n",
       "      <th class=\"blank col0\" >&nbsp;</th>\n",
       "      <th class=\"blank col1\" >&nbsp;</th>\n",
       "      <th class=\"blank col2\" >&nbsp;</th>\n",
       "      <th class=\"blank col3\" >&nbsp;</th>\n",
       "      <th class=\"blank col4\" >&nbsp;</th>\n",
       "      <th class=\"blank col5\" >&nbsp;</th>\n",
       "      <th class=\"blank col6\" >&nbsp;</th>\n",
       "      <th class=\"blank col7\" >&nbsp;</th>\n",
       "      <th class=\"blank col8\" >&nbsp;</th>\n",
       "      <th class=\"blank col9\" >&nbsp;</th>\n",
       "      <th class=\"blank col10\" >&nbsp;</th>\n",
       "    </tr>\n",
       "  </thead>\n",
       "  <tbody>\n",
       "    <tr>\n",
       "      <th id=\"T_219f5_level0_row0\" class=\"row_heading level0 row0\" >2023-01-21 23:54:00+00:00</th>\n",
       "      <td id=\"T_219f5_row0_col0\" class=\"data row0 col0\" >1.59</td>\n",
       "      <td id=\"T_219f5_row0_col1\" class=\"data row0 col1\" >1.59</td>\n",
       "      <td id=\"T_219f5_row0_col2\" class=\"data row0 col2\" >1.59</td>\n",
       "      <td id=\"T_219f5_row0_col3\" class=\"data row0 col3\" >1.59</td>\n",
       "      <td id=\"T_219f5_row0_col4\" class=\"data row0 col4\" >1.59</td>\n",
       "      <td id=\"T_219f5_row0_col5\" class=\"data row0 col5\" >-0.99</td>\n",
       "      <td id=\"T_219f5_row0_col6\" class=\"data row0 col6\" >-0.24</td>\n",
       "      <td id=\"T_219f5_row0_col7\" class=\"data row0 col7\" >0.67</td>\n",
       "      <td id=\"T_219f5_row0_col8\" class=\"data row0 col8\" >0.33</td>\n",
       "      <td id=\"T_219f5_row0_col9\" class=\"data row0 col9\" >-0.92</td>\n",
       "      <td id=\"T_219f5_row0_col10\" class=\"data row0 col10\" >-1.00</td>\n",
       "    </tr>\n",
       "    <tr>\n",
       "      <th id=\"T_219f5_level0_row1\" class=\"row_heading level0 row1\" >2023-01-21 23:55:00+00:00</th>\n",
       "      <td id=\"T_219f5_row1_col0\" class=\"data row1 col0\" >1.58</td>\n",
       "      <td id=\"T_219f5_row1_col1\" class=\"data row1 col1\" >1.58</td>\n",
       "      <td id=\"T_219f5_row1_col2\" class=\"data row1 col2\" >1.58</td>\n",
       "      <td id=\"T_219f5_row1_col3\" class=\"data row1 col3\" >1.58</td>\n",
       "      <td id=\"T_219f5_row1_col4\" class=\"data row1 col4\" >1.58</td>\n",
       "      <td id=\"T_219f5_row1_col5\" class=\"data row1 col5\" >-0.91</td>\n",
       "      <td id=\"T_219f5_row1_col6\" class=\"data row1 col6\" >-0.28</td>\n",
       "      <td id=\"T_219f5_row1_col7\" class=\"data row1 col7\" >0.67</td>\n",
       "      <td id=\"T_219f5_row1_col8\" class=\"data row1 col8\" >0.33</td>\n",
       "      <td id=\"T_219f5_row1_col9\" class=\"data row1 col9\" >-0.92</td>\n",
       "      <td id=\"T_219f5_row1_col10\" class=\"data row1 col10\" >-1.00</td>\n",
       "    </tr>\n",
       "    <tr>\n",
       "      <th id=\"T_219f5_level0_row2\" class=\"row_heading level0 row2\" >2023-01-21 23:56:00+00:00</th>\n",
       "      <td id=\"T_219f5_row2_col0\" class=\"data row2 col0\" >1.58</td>\n",
       "      <td id=\"T_219f5_row2_col1\" class=\"data row2 col1\" >1.58</td>\n",
       "      <td id=\"T_219f5_row2_col2\" class=\"data row2 col2\" >1.58</td>\n",
       "      <td id=\"T_219f5_row2_col3\" class=\"data row2 col3\" >1.58</td>\n",
       "      <td id=\"T_219f5_row2_col4\" class=\"data row2 col4\" >1.58</td>\n",
       "      <td id=\"T_219f5_row2_col5\" class=\"data row2 col5\" >-1.00</td>\n",
       "      <td id=\"T_219f5_row2_col6\" class=\"data row2 col6\" >-0.20</td>\n",
       "      <td id=\"T_219f5_row2_col7\" class=\"data row2 col7\" >0.67</td>\n",
       "      <td id=\"T_219f5_row2_col8\" class=\"data row2 col8\" >0.33</td>\n",
       "      <td id=\"T_219f5_row2_col9\" class=\"data row2 col9\" >-0.92</td>\n",
       "      <td id=\"T_219f5_row2_col10\" class=\"data row2 col10\" >-1.00</td>\n",
       "    </tr>\n",
       "    <tr>\n",
       "      <th id=\"T_219f5_level0_row3\" class=\"row_heading level0 row3\" >2023-01-21 23:57:00+00:00</th>\n",
       "      <td id=\"T_219f5_row3_col0\" class=\"data row3 col0\" >1.58</td>\n",
       "      <td id=\"T_219f5_row3_col1\" class=\"data row3 col1\" >1.58</td>\n",
       "      <td id=\"T_219f5_row3_col2\" class=\"data row3 col2\" >1.58</td>\n",
       "      <td id=\"T_219f5_row3_col3\" class=\"data row3 col3\" >1.58</td>\n",
       "      <td id=\"T_219f5_row3_col4\" class=\"data row3 col4\" >1.58</td>\n",
       "      <td id=\"T_219f5_row3_col5\" class=\"data row3 col5\" >-1.00</td>\n",
       "      <td id=\"T_219f5_row3_col6\" class=\"data row3 col6\" >-0.20</td>\n",
       "      <td id=\"T_219f5_row3_col7\" class=\"data row3 col7\" >0.67</td>\n",
       "      <td id=\"T_219f5_row3_col8\" class=\"data row3 col8\" >0.33</td>\n",
       "      <td id=\"T_219f5_row3_col9\" class=\"data row3 col9\" >-0.92</td>\n",
       "      <td id=\"T_219f5_row3_col10\" class=\"data row3 col10\" >-1.00</td>\n",
       "    </tr>\n",
       "    <tr>\n",
       "      <th id=\"T_219f5_level0_row4\" class=\"row_heading level0 row4\" >2023-01-21 23:58:00+00:00</th>\n",
       "      <td id=\"T_219f5_row4_col0\" class=\"data row4 col0\" >1.58</td>\n",
       "      <td id=\"T_219f5_row4_col1\" class=\"data row4 col1\" >1.58</td>\n",
       "      <td id=\"T_219f5_row4_col2\" class=\"data row4 col2\" >1.58</td>\n",
       "      <td id=\"T_219f5_row4_col3\" class=\"data row4 col3\" >1.58</td>\n",
       "      <td id=\"T_219f5_row4_col4\" class=\"data row4 col4\" >1.58</td>\n",
       "      <td id=\"T_219f5_row4_col5\" class=\"data row4 col5\" >-0.97</td>\n",
       "      <td id=\"T_219f5_row4_col6\" class=\"data row4 col6\" >-0.25</td>\n",
       "      <td id=\"T_219f5_row4_col7\" class=\"data row4 col7\" >0.67</td>\n",
       "      <td id=\"T_219f5_row4_col8\" class=\"data row4 col8\" >0.33</td>\n",
       "      <td id=\"T_219f5_row4_col9\" class=\"data row4 col9\" >-0.92</td>\n",
       "      <td id=\"T_219f5_row4_col10\" class=\"data row4 col10\" >-1.00</td>\n",
       "    </tr>\n",
       "  </tbody>\n",
       "</table>\n",
       "&nbsp;&nbsp;&nbsp;"
      ]
     },
     "metadata": {},
     "output_type": "display_data"
    },
    {
     "name": "stdout",
     "output_type": "stream",
     "text": [
      "\n"
     ]
    }
   ],
   "source": [
    "multi([(train_df.head(5),'train_df.head(5)'),\n",
    "\t   (train_df.tail(5),'train_df.tail(5)'),\n",
    "\t   (test_df.head(5),'test_df.head(5)'),\n",
    "\t   (test_df.tail(5),'test_df.tail(5)')], intraday=True)"
   ]
  },
  {
   "cell_type": "markdown",
   "id": "ed701dc0-48a9-45ef-9d1b-825a0b780d98",
   "metadata": {},
   "source": [
    "<font size = 4><span style = 'background-color: #ddddff; padding: 5px 5px 3px 5px; line-height: 1.5; color:black;border-radius: 3px;'>**Creating sequences**"
   ]
  },
  {
   "cell_type": "code",
   "execution_count": null,
   "id": "7d1d0c40-175c-4820-8afa-e41a0dd9cad3",
   "metadata": {},
   "outputs": [],
   "source": []
  },
  {
   "cell_type": "code",
   "execution_count": null,
   "id": "81dde4b2-dbeb-4f1e-b181-5fd643a06a39",
   "metadata": {},
   "outputs": [],
   "source": []
  },
  {
   "cell_type": "markdown",
   "id": "909b5b3f-64cd-46fe-94b1-efcc195574dc",
   "metadata": {},
   "source": [
    "<font size = 4><span style = 'background-color: #ddddff; padding: 5px 5px 3px 5px; line-height: 1.5; color:black;border-radius: 3px;'>**Text**"
   ]
  },
  {
   "cell_type": "code",
   "execution_count": null,
   "id": "0ebf2b54-ec96-496e-9a5f-2d2f98a3cca3",
   "metadata": {},
   "outputs": [],
   "source": []
  },
  {
   "cell_type": "code",
   "execution_count": null,
   "id": "4f21e53d-9b86-4725-a26f-9b20ea846c74",
   "metadata": {},
   "outputs": [],
   "source": []
  },
  {
   "cell_type": "markdown",
   "id": "3df99eb1-4cb0-480a-b460-e8cc3cc5054f",
   "metadata": {},
   "source": [
    "<font size = 4><span style = 'background-color: #ddddff; padding: 5px 5px 3px 5px; line-height: 1.5; color:black;border-radius: 3px;'>**Text**"
   ]
  },
  {
   "cell_type": "code",
   "execution_count": null,
   "id": "09bea86a-59b3-4ab8-a33f-03d8e86b0b52",
   "metadata": {},
   "outputs": [],
   "source": []
  },
  {
   "cell_type": "code",
   "execution_count": null,
   "id": "3b72b9d8-1a8b-4d74-922c-528e8e27adab",
   "metadata": {},
   "outputs": [],
   "source": []
  },
  {
   "cell_type": "markdown",
   "id": "6533bf11-5cb3-401e-ab77-4b224bad2b4e",
   "metadata": {},
   "source": [
    "<font size = 4><span style = 'background-color: #ddddff; padding: 5px 5px 3px 5px; line-height: 1.5; color:black;border-radius: 3px;'>**Text**"
   ]
  },
  {
   "cell_type": "code",
   "execution_count": null,
   "id": "5a8eeda7-fac7-429b-ba55-d9427ca456f4",
   "metadata": {},
   "outputs": [],
   "source": []
  },
  {
   "cell_type": "code",
   "execution_count": null,
   "id": "364fff09-5791-45a3-92cc-98b9a74b5181",
   "metadata": {},
   "outputs": [],
   "source": []
  },
  {
   "cell_type": "markdown",
   "id": "bdb1f67c-c64b-4ace-b3ba-172d533d48dc",
   "metadata": {},
   "source": [
    "<font size = 4><span style = 'background-color: #ddddff; padding: 5px 5px 3px 5px; line-height: 1.5; color:black;border-radius: 3px;'>**Text**"
   ]
  },
  {
   "cell_type": "code",
   "execution_count": null,
   "id": "a7d49c40-6471-4370-add2-bec84bf8913d",
   "metadata": {},
   "outputs": [],
   "source": []
  },
  {
   "cell_type": "code",
   "execution_count": null,
   "id": "891b62fc-19a8-4929-92e6-b4127e1b0f03",
   "metadata": {},
   "outputs": [],
   "source": []
  }
 ],
 "metadata": {
  "kernelspec": {
   "display_name": "Python 3 (ipykernel)",
   "language": "python",
   "name": "python3"
  },
  "language_info": {
   "codemirror_mode": {
    "name": "ipython",
    "version": 3
   },
   "file_extension": ".py",
   "mimetype": "text/x-python",
   "name": "python",
   "nbconvert_exporter": "python",
   "pygments_lexer": "ipython3",
   "version": "3.10.9"
  }
 },
 "nbformat": 4,
 "nbformat_minor": 5
}
